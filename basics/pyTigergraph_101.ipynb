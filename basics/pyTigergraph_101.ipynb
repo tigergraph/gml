{
 "cells": [
  {
   "cell_type": "markdown",
   "metadata": {},
   "source": [
    "# pyTigerGraph 101"
   ]
  },
  {
   "cell_type": "markdown",
   "metadata": {
    "id": "fasbIIwatn8U"
   },
   "source": [
    "## Connecting to the Database with pyTigerGraph"
   ]
  },
  {
   "cell_type": "code",
   "execution_count": null,
   "metadata": {
    "id": "NoT2aRyWWPXB"
   },
   "outputs": [],
   "source": [
    "import pyTigerGraph as tg"
   ]
  },
  {
   "cell_type": "markdown",
   "metadata": {
    "id": "hut7BehHL-VL"
   },
   "source": [
    "Some additional imports to help the demo run smoothly"
   ]
  },
  {
   "cell_type": "code",
   "execution_count": null,
   "metadata": {
    "id": "wyvdQ7VlMC_B"
   },
   "outputs": [],
   "source": [
    "import json\n",
    "import pandas as pd"
   ]
  },
  {
   "cell_type": "code",
   "execution_count": null,
   "metadata": {
    "id": "DulZ7WC7vPzl"
   },
   "outputs": [],
   "source": [
    "from pyTigerGraph import TigerGraphConnection\n",
    "\n",
    "# Read in DB configs\n",
    "with open('../config.json', \"r\") as config_file:\n",
    "    config = json.load(config_file)\n",
    "    \n",
    "conn = TigerGraphConnection(\n",
    "    host=config[\"host\"],\n",
    "    username=config[\"username\"],\n",
    "    password=config[\"password\"]\n",
    ")"
   ]
  },
  {
   "cell_type": "markdown",
   "metadata": {},
   "source": [
    "## Load Example Dataset"
   ]
  },
  {
   "cell_type": "code",
   "execution_count": null,
   "metadata": {
    "tags": []
   },
   "outputs": [],
   "source": [
    "from pyTigerGraph.datasets import Datasets\n",
    "\n",
    "dataset = Datasets(\"movie\")\n",
    "\n",
    "conn.ingestDataset(dataset, getToken=True)"
   ]
  },
  {
   "cell_type": "markdown",
   "metadata": {
    "id": "XvZLaNlmxfVB"
   },
   "source": [
    "# The Basics\n"
   ]
  },
  {
   "cell_type": "markdown",
   "metadata": {
    "id": "1-0zDhxXyWO7"
   },
   "source": [
    "This first set of commands will help us get familiar with the schema of our graph and explore what we're working with."
   ]
  },
  {
   "cell_type": "markdown",
   "metadata": {
    "id": "As3iLj8ot11Y"
   },
   "source": [
    "## Getting the Schema\n",
    "Now let's take a peek at our schema to see what our graph looks like."
   ]
  },
  {
   "cell_type": "code",
   "execution_count": null,
   "metadata": {
    "id": "aWdU4PpszTm2"
   },
   "outputs": [],
   "source": [
    "results = conn.getSchema()\n",
    "print(json.dumps(results, indent=2))"
   ]
  },
  {
   "cell_type": "markdown",
   "metadata": {
    "id": "kCaZh0DO3HNP"
   },
   "source": [
    "### Reading the Output\n",
    "Woah, that's a lot of text! Let's break it down and see what we're really looking at. \n",
    "```\n",
    "\"GraphName\": \"movie\",\n",
    "```\n",
    "That one is easy, that's our graph name."
   ]
  },
  {
   "cell_type": "markdown",
   "metadata": {
    "id": "0qxdyuCzvH4_"
   },
   "source": [
    "#### Verticies\n",
    "```\n",
    "\"VertexTypes\": [\n",
    "    {\n",
    "      \"Config\": {\n",
    "        \"STATS\": \"OUTDEGREE_BY_EDGETYPE\"\n",
    "      },\n",
    "      \"IsLocal\": true,\n",
    "      \"Attributes\": [\n",
    "        {\n",
    "          \"AttributeType\": {\n",
    "            \"Name\": \"STRING\"\n",
    "          },\n",
    "          \"AttributeName\": \"name\"\n",
    "        },\n",
    "        {\n",
    "          \"AttributeType\": {\n",
    "            \"Name\": \"STRING\"\n",
    "          },\n",
    "          \"AttributeName\": \"known_label\"\n",
    "        },\n",
    "        {\n",
    "          \"AttributeType\": {\n",
    "            \"Name\": \"STRING\"\n",
    "          },\n",
    "          \"AttributeName\": \"predicted_label\"\n",
    "        }\n",
    "      ],\n",
    "      \"PrimaryId\": {\n",
    "        \"AttributeType\": {\n",
    "          \"Name\": \"STRING\"\n",
    "        },\n",
    "        \"AttributeName\": \"name\"\n",
    "      },\n",
    "      \"Name\": \"Person\"\n",
    "    },\n",
    "```\n",
    "This is our first vertex type. We can see via the **Name** property at the bottom that this is our **Person** vertex.\n",
    "Digging in a bit more, we can see that our **Person** vertex **has three attributes** (name, known_label, and predicted_label). \n",
    "\n",
    "\n",
    "Using this, can you figure out what our other vertex is and what its attributes are?\n"
   ]
  },
  {
   "cell_type": "markdown",
   "metadata": {
    "id": "Sbi3n9HdvD6x"
   },
   "source": [
    "#### Edges\n",
    "Next are our edge types\n",
    "```\n",
    "\"EdgeTypes\": [\n",
    "    {\n",
    "      \"IsDirected\": true,\n",
    "      \"ToVertexTypeName\": \"Movie\",\n",
    "      \"Config\": {\n",
    "        \"REVERSE_EDGE\": \"reverse_Likes\"\n",
    "      },\n",
    "      \"IsLocal\": true,\n",
    "      \"Attributes\": [\n",
    "        {\n",
    "          \"AttributeType\": {\n",
    "            \"Name\": \"FLOAT\"\n",
    "          },\n",
    "          \"AttributeName\": \"weight\"\n",
    "        }\n",
    "      ],\n",
    "      \"FromVertexTypeName\": \"Person\",\n",
    "      \"Name\": \"Likes\"\n",
    "    },\n",
    "```\n",
    "This follows the same idea as our verticies. \n",
    "We have an edge **Likes** with a reverse edge **reverse_Likes**. This edges goes **FromVertexTypeName**: **Person** to **ToVertexTypeName**: **Movie**. Additionally, this edge contains one attribute, **weight**.\n",
    "\n",
    "That's the gist of our graph. It's simple, but it's a great starting point. We have users and movies with an edge connecting them containing the rating that the user gave the movie and the time it was rated at."
   ]
  },
  {
   "cell_type": "markdown",
   "metadata": {
    "id": "FKUSWRig8DgL"
   },
   "source": [
    "## Getting the Schema II\n",
    "While the `getSchema()` command is great for giving you an overview of your whole graph, sometimes you want... less."
   ]
  },
  {
   "cell_type": "markdown",
   "metadata": {
    "id": "scTlTwQcKpM-"
   },
   "source": [
    "### Getting Types"
   ]
  },
  {
   "cell_type": "code",
   "execution_count": null,
   "metadata": {
    "colab": {
     "base_uri": "https://localhost:8080/"
    },
    "id": "BLdhrCsM8poP",
    "outputId": "0b786aaf-2172-4fe3-ad2e-fa6a4581d855"
   },
   "outputs": [],
   "source": [
    "results = conn.getVertexTypes()\n",
    "print(f\"Verticies: {results}\")\n",
    "\n",
    "results = conn.getEdgeTypes()\n",
    "print(f\"Edges: {results}\")"
   ]
  },
  {
   "cell_type": "markdown",
   "metadata": {
    "id": "SQ-HH5Ao9g-6"
   },
   "source": [
    "`getVertexTypes()` and `getEdgeTypes()` will both return a list of strings naming each type of requested graph component.\n",
    "\n",
    "Furthermore, you can use the output of those commands to individually inspect each vertex or edge type."
   ]
  },
  {
   "cell_type": "markdown",
   "metadata": {
    "id": "YSQObY1sKu4q"
   },
   "source": [
    "### Getting Info by Type"
   ]
  },
  {
   "cell_type": "code",
   "execution_count": null,
   "metadata": {
    "colab": {
     "base_uri": "https://localhost:8080/"
    },
    "id": "bv2od0m192m1",
    "outputId": "418aacd4-f5f4-41b0-a320-c26ff8fb69ac"
   },
   "outputs": [],
   "source": [
    "results = conn.getVertexType(\"Person\")\n",
    "print(f\"Person Vertex Attributes:\\n {json.dumps(results, indent=2)}\")\n",
    "print(\"---------------\")\n",
    "\n",
    "results = conn.getEdgeType(\"Likes\")\n",
    "print(f\"Rate Edge Attributes:\\n {json.dumps(results, indent=2)}\")"
   ]
  },
  {
   "cell_type": "markdown",
   "metadata": {
    "id": "7ubHW5yWIQnq"
   },
   "source": [
    "### Detailed Edge Info\n",
    "And going even further, you can deep dive into each edge endpoint like so:"
   ]
  },
  {
   "cell_type": "code",
   "execution_count": null,
   "metadata": {
    "colab": {
     "base_uri": "https://localhost:8080/"
    },
    "id": "q0nnaLupIWXB",
    "outputId": "c293a653-53fe-480e-d535-7a8c638f3ccb"
   },
   "outputs": [],
   "source": [
    "sourceVertex = conn.getEdgeSourceVertexType(\"Likes\")\n",
    "\n",
    "targetVertex = conn.getEdgeTargetVertexType(\"Likes\")\n",
    "\n",
    "directed = conn.isDirected(\"Likes\")\n",
    "directedText = \"is\" if directed==True else \"is not\"\n",
    "\n",
    "reverseEdge = conn.getReverseEdge(\"Likes\")\n",
    "\n",
    "print(f\"Edge 'Likes' '{directedText} directed' with a source vertex type '{sourceVertex}' and a target vertex type '{targetVertex}'\")\n",
    "if directed:\n",
    "  print(f\"The reverse edge is '{reverseEdge}'\")"
   ]
  },
  {
   "cell_type": "markdown",
   "metadata": {
    "id": "7FTPRmoA7BiO"
   },
   "source": [
    "## Looking at Data\n",
    "Next let's see what we have for data in our graph.\n",
    "\n",
    "These next commands will count the total number of verticies and edges we currently have data loaded for. We'll define these as a function called `getLoadedStats` so we can use it later on."
   ]
  },
  {
   "cell_type": "code",
   "execution_count": null,
   "metadata": {
    "colab": {
     "base_uri": "https://localhost:8080/"
    },
    "id": "hDI8ZIID7kk9",
    "outputId": "8494f492-7259-467d-83d2-304ca36775e4"
   },
   "outputs": [],
   "source": [
    "def getLoadedStats(limit=5):\n",
    "  numPeople = conn.getVertexCount(\"Person\")\n",
    "  numMovies = conn.getVertexCount(\"Movie\")\n",
    "  numEdges = conn.getEdgeCount(\"Likes\")\n",
    "\n",
    "  people = conn.getVertices(\"Person\", limit=limit)\n",
    "  movies = conn.getVertices(\"Movie\", limit=limit)\n",
    "  # edges = conn.getEdgesByType(\"rate\", limit=limit)\n",
    "\n",
    "  print(f\"There are currently {numPeople} people, {numMovies} movies, and {numEdges} edges connecting them\")\n",
    "  print(f\"Our people are: {json.dumps(people, indent=2)}\")\n",
    "  print(f\"Our movies are: {json.dumps(movies, indent=2)}\")\n",
    "  # print(f\"Our edges are: {json.dumps(edges, indent=2)}\")\n",
    "\n",
    "getLoadedStats()"
   ]
  },
  {
   "cell_type": "markdown",
   "metadata": {
    "id": "7sJXTRpCOJn6"
   },
   "source": [
    "# Adding Data\n",
    "Well, a graph without data is no fun, so let's get some data in here. \n",
    "\n",
    "I'll start off by showing you how to add data one datapoint at a time, then we'll move into bulk data loads via loading jobs."
   ]
  },
  {
   "cell_type": "markdown",
   "metadata": {
    "id": "s-5MLcbtRbgo"
   },
   "source": [
    "## Per-value Entry\n",
    "This is how to load a single vertex/edge at a time. This is useful for troubleshooting data and understanding your data format.\n",
    "\n",
    "Let's add a **person**, a **movie**, and a **review** to our graph."
   ]
  },
  {
   "cell_type": "markdown",
   "metadata": {
    "id": "j4QmkVhyUFae"
   },
   "source": [
    "### Adding a Person\n",
    "Our person will be our simplest datapoint to add because it doesn't have any attributes, just our **PrimaryId**. \n",
    "\n",
    "The inputs for our `upsertVertex` function are:\n",
    "- vertexType - \"person\" for this example\n",
    "- vertexId - an ID unique to our vertex, in this case the person's name\n",
    "- attributes - a json structure of the vertex's attributes\n",
    "\n",
    "It is important to realize here that this is an **upsert** meaning **update/insert**. If the vertexId is **not present** in the graph, a new vertex will be created with the included data. If that vertexId is **already present** in the graph, then the exiting vertex's attributes will be updated to match the current request. "
   ]
  },
  {
   "cell_type": "code",
   "execution_count": null,
   "metadata": {
    "colab": {
     "base_uri": "https://localhost:8080/"
    },
    "id": "5dmXU_KqSCu2",
    "outputId": "b56f3861-206b-4db0-e161-eacb88f4e9d6"
   },
   "outputs": [],
   "source": [
    "results = conn.upsertVertex(\"Person\", \"Dan\", {})\n",
    "print(results)"
   ]
  },
  {
   "cell_type": "markdown",
   "metadata": {
    "id": "a8bg7DozW8EG"
   },
   "source": [
    "A response of 1 means that our data has successfully been loaded!\n",
    "\n",
    "Let's check with our `getLoadedStats` function."
   ]
  },
  {
   "cell_type": "code",
   "execution_count": null,
   "metadata": {
    "colab": {
     "base_uri": "https://localhost:8080/"
    },
    "id": "Cc0d7gN-STWG",
    "outputId": "e03f0474-e199-4303-e3be-518067e54eef"
   },
   "outputs": [],
   "source": [
    "getLoadedStats()"
   ]
  },
  {
   "cell_type": "markdown",
   "metadata": {
    "id": "KYErOlX5XKC2"
   },
   "source": [
    "Sweet!\n",
    "\n",
    "Time to add a movie."
   ]
  },
  {
   "cell_type": "markdown",
   "metadata": {
    "id": "SDQyvuAjXQjr"
   },
   "source": [
    "### Adding a Movie\n",
    "If you remember from our schema, our **movie** vertex contains some attributes that we'll want to enter. These are the movie's **title** and **genres**. \n",
    "\n",
    "I'm a fan of brain-dead action movies, so let's get a movie loaded up."
   ]
  },
  {
   "cell_type": "code",
   "execution_count": null,
   "metadata": {
    "colab": {
     "base_uri": "https://localhost:8080/"
    },
    "id": "jeQLv6o9YFzN",
    "outputId": "53634ca8-4bf3-4a98-8c46-475e2f238f05"
   },
   "outputs": [],
   "source": [
    "attributes = {\"name\": \"Die Hard 4: Live Free or Die Hard\"}\n",
    "results = conn.upsertVertex(\"Movie\", \"1\", attributes)\n",
    "print(results)"
   ]
  },
  {
   "cell_type": "markdown",
   "metadata": {
    "id": "5hF7p36gZWIh"
   },
   "source": [
    "Time for the rewarding bit again"
   ]
  },
  {
   "cell_type": "code",
   "execution_count": null,
   "metadata": {
    "colab": {
     "base_uri": "https://localhost:8080/"
    },
    "id": "PBBXbUMzZYHg",
    "outputId": "8123731c-aa7c-4be7-d2ff-33b7a59ec46a"
   },
   "outputs": [],
   "source": [
    "getLoadedStats()"
   ]
  },
  {
   "cell_type": "markdown",
   "metadata": {
    "id": "9LFViDGrZcl7"
   },
   "source": [
    "Yay! More data!\n",
    "\n",
    "Time to make an edge!"
   ]
  },
  {
   "cell_type": "markdown",
   "metadata": {
    "id": "sT9riN2aake3"
   },
   "source": [
    "### Add a Like\n",
    "Adding an edge isn't all that different from adding a vertex. Main difference is that you need to point it at two existing vertices.\n",
    "\n",
    "Here's our inputs for `upsertEdge`:\n",
    "- sourceVertexType - \"Person\" for us\n",
    "- sourceVertexId - **PrimaryId** of our source Person\n",
    "- edgeType - \"rate\" for this example\n",
    "- targetVertexType - \"Movie\" here\n",
    "- targetVertexId - **PrimaryId** of the target Movie\n",
    "- attributes - json structured attributes and values\n",
    "\n",
    "Looks like a lot, but it's pretty simple in practice. Again, remember that this is an **upsert**."
   ]
  },
  {
   "cell_type": "code",
   "execution_count": null,
   "metadata": {
    "colab": {
     "base_uri": "https://localhost:8080/"
    },
    "id": "waURTNEDeezx",
    "outputId": "90187603-7051-4d07-a2f8-2f8da272ce06"
   },
   "outputs": [],
   "source": [
    "attributes = {\"weight\": 8.6}\n",
    "results = conn.upsertEdge(\"Person\", \"Dan\", \"Likes\", \"Movie\", \"1\", attributes)\n",
    "print(results)"
   ]
  },
  {
   "cell_type": "markdown",
   "metadata": {
    "id": "FnXOc2L4fSqW"
   },
   "source": [
    "You know what step is next"
   ]
  },
  {
   "cell_type": "code",
   "execution_count": null,
   "metadata": {
    "colab": {
     "base_uri": "https://localhost:8080/"
    },
    "id": "InCubiaIfUtE",
    "outputId": "af03b834-419c-4e2c-fb6e-fd4428b00362"
   },
   "outputs": [],
   "source": [
    "getLoadedStats()"
   ]
  },
  {
   "cell_type": "markdown",
   "metadata": {
    "id": "DR4CogIrfZBH"
   },
   "source": [
    "Boom! That's it, we're done here.\n",
    "\n",
    "Just kidding, one connection is good and all, but it really doesn't show off the power of graph. Also we're only through 1/4 of the functionality that pyTigerGraph offers, so let's pick things up a bit."
   ]
  },
  {
   "cell_type": "markdown",
   "metadata": {
    "id": "OpaZRg3Of1vk"
   },
   "source": [
    "## Load Multiple Vertices/Edges at Once\n",
    "Obviously adding data points one by one is a pain and really only useful for extremely small amounts of data. This next function will allow you to load multiple points of data all at once."
   ]
  },
  {
   "cell_type": "markdown",
   "metadata": {
    "id": "Q7AXPgk_jLdx"
   },
   "source": [
    "### Formatting the Data\n",
    "You'll need your data in a similar format to what was used in the above commands for these bulk commands. If your data is in a .csv or json format, we have loaders specifically for those types of files and you'll want to use those. For the sake of completeness, I'm going to show you this method in the event that your data is being generated from a script, or is already in this format."
   ]
  },
  {
   "cell_type": "code",
   "execution_count": null,
   "metadata": {
    "id": "nzg0e63jggRG"
   },
   "outputs": [],
   "source": [
    "# Vertex format [(PrimaryId, {attributes})]\n",
    "people = [\n",
    "          (\"Ben\", {}),\n",
    "          (\"Nick\", {}),\n",
    "          (\"Leena\", {})\n",
    "          ]\n",
    "movies = [\n",
    "          (2, {\"name\": \"Inception\"}),\n",
    "          (3, {\"name\": \"Her\"}),\n",
    "          (4, {\"name\": \"Ferris Bueller's Day Off\"})\n",
    "          ]\n",
    "# Edge format [(SourcePrimaryId, TargetPrimaryId, {attributes})]\n",
    "ratings = [\n",
    "           (\"Ben\", 2, {\"weight\": 7.3}),\n",
    "           (\"Nick\", 4, {\"weight\": 9.2}),\n",
    "           (\"Nick\", 3, {\"weight\": 8.7}),\n",
    "]"
   ]
  },
  {
   "cell_type": "markdown",
   "metadata": {
    "id": "ZhehhVkcjt-M"
   },
   "source": [
    "You can see that in the above data, the **vertexType** is not specified for the vertices and the **edgeType**, **SourceVertexType**, and **TargetVertexType** are not specified for the edges.\n",
    "\n",
    "This is because these will be specified when running the upsert command. The big thing to note here is that **only ONE type of vertex or edge can be loaded per upsert**. This means that I can't store both my **movies** and my **people** in the same array and expect the upsert to be able to work it out."
   ]
  },
  {
   "cell_type": "markdown",
   "metadata": {
    "id": "22cSaxQVo8MY"
   },
   "source": [
    "### Loading the Data"
   ]
  },
  {
   "cell_type": "code",
   "execution_count": null,
   "metadata": {
    "colab": {
     "base_uri": "https://localhost:8080/"
    },
    "id": "robzRTVYkX1l",
    "outputId": "e9bc8fa4-408f-4a2d-8766-67583b5d18f4"
   },
   "outputs": [],
   "source": [
    "results = conn.upsertVertices(\"Person\", people)\n",
    "print(results)\n",
    "results = conn.upsertVertices(\"Movie\", movies)\n",
    "print(results)\n",
    "\n",
    "results = conn.upsertEdges(\"Person\", \"Likes\", \"Movie\", ratings)\n",
    "print(results)"
   ]
  },
  {
   "cell_type": "markdown",
   "metadata": {
    "id": "ddGGObuFlKfE"
   },
   "source": [
    "Here you'll see our output number signifies the number of each vertices/edges loaded successfully.\n",
    "\n",
    "And if we run our good friend again..."
   ]
  },
  {
   "cell_type": "code",
   "execution_count": null,
   "metadata": {
    "colab": {
     "base_uri": "https://localhost:8080/"
    },
    "id": "jaf46p6RljPc",
    "outputId": "3e9fb9e8-3114-496e-fc91-a0d08a5477c1"
   },
   "outputs": [],
   "source": [
    "getLoadedStats()"
   ]
  },
  {
   "cell_type": "markdown",
   "metadata": {
    "id": "7cK3BJRGnw7J"
   },
   "source": [
    "Look at all that data!\n",
    "\n",
    "Let's look at a couple more ways we can explore it."
   ]
  },
  {
   "cell_type": "markdown",
   "metadata": {
    "id": "Fmvp7tjGpi3A"
   },
   "source": [
    "# Looking at Data II"
   ]
  },
  {
   "cell_type": "markdown",
   "metadata": {
    "id": "E2Bz4R9lpC0O"
   },
   "source": [
    "## Stats\n",
    "One helpful way to look at our data is to collect some overall stats for each vertex or edge type.\n",
    "\n",
    "Let's take a look at how to do that with the `getVertexStats` and `getEdgeStats` functions."
   ]
  },
  {
   "cell_type": "code",
   "execution_count": null,
   "metadata": {
    "colab": {
     "base_uri": "https://localhost:8080/"
    },
    "id": "c2MBi_q0n30H",
    "outputId": "f8f56104-cc16-4ca6-c283-54269e2c72a2"
   },
   "outputs": [],
   "source": [
    "results = conn.getVertexStats(\"Person\")\n",
    "print(json.dumps(results, indent=2))\n",
    "\n",
    "results = conn.getVertexStats(\"Movie\")\n",
    "print(json.dumps(results, indent=2))\n",
    "\n",
    "results = conn.getEdgeStats(\"Likes\")\n",
    "print(json.dumps(results, indent=2))\n",
    "print(\"----------\")\n",
    "\n",
    "results = conn.getVertexStats(\"*\", skipNA=True)\n",
    "print(json.dumps(results, indent=2))"
   ]
  },
  {
   "cell_type": "markdown",
   "metadata": {
    "id": "opCFCZZOo5HY"
   },
   "source": [
    "As we can see from the results, we only received stats from our edge. That might not seem right at first, but this is actually the expected behavior.\n",
    "\n",
    "If we look at what was returned from our edge stats, we can see we get a **MAX**, **MIN**, and **AVG**. This makes sense for our edge because our attribute types are **float** for the **weight**.\n",
    "\n",
    "Finally, in the last command, we used \"*\" as the vertex type. This is the **wildcard** operator and signifies all vertex types in this instance. Additionally, the **skipNA** flag will tell pytigerGraph not to return results for vertices which stats are not applicable. You can see that that command just returns an empty json without the vertex type names."
   ]
  },
  {
   "cell_type": "markdown",
   "metadata": {
    "id": "18FBqsdKrUky"
   },
   "source": [
    "## Specific Vertices\n",
    "We can use a vertex's **PrimaryId** to return all information that we have on that vertex. Let's try it now."
   ]
  },
  {
   "cell_type": "code",
   "execution_count": null,
   "metadata": {
    "colab": {
     "base_uri": "https://localhost:8080/"
    },
    "id": "Oo7VjVQSrikC",
    "outputId": "d2bae8f5-3340-4673-bbea-09596add89a8"
   },
   "outputs": [],
   "source": [
    "results = conn.getVerticesById(\"Person\", \"Dan\")\n",
    "print(json.dumps(results, indent=2))\n",
    "print(\"----------\")\n",
    "\n",
    "results = conn.getVerticesById(\"Movie\", [\"2\",\"4\"])\n",
    "print(json.dumps(results, indent=2))"
   ]
  },
  {
   "cell_type": "markdown",
   "metadata": {
    "id": "gFSV9WCksUBa"
   },
   "source": [
    "Note that we still need to provide the **vertexType** due to **PrimaryId** only being unique within each **vertexType**.\n",
    "\n",
    "Also note that we can provide a list of **PrimaryId**s in order to return multiple vertices at once."
   ]
  },
  {
   "cell_type": "markdown",
   "metadata": {
    "id": "iI8LrE0gotO6"
   },
   "source": [
    "## Edges\n",
    "In addition to being able to inspect vertices, we can do the same with edges."
   ]
  },
  {
   "cell_type": "code",
   "execution_count": null,
   "metadata": {
    "colab": {
     "base_uri": "https://localhost:8080/"
    },
    "id": "DtvLPvQltOJz",
    "outputId": "ea4f4ca7-adc3-4c88-b56f-df1b5e86ad60"
   },
   "outputs": [],
   "source": [
    "results = conn.getEdgeCountFrom(\"Person\", \"Nick\")\n",
    "print(\"Number of edges connected to person 'Nick'\")\n",
    "print(results)\n",
    "print(\"--------------\")\n",
    "# Can also specify edge type and/or target vertex type and target vertex id\n",
    "results = conn.getEdgeCountFrom(\"Person\", \"Nick\", edgeType=\"Likes\")\n",
    "print(\"Number of 'rate' edges connected to person 'Nick'\")\n",
    "print(results)\n",
    "print(\"--------------\")\n",
    "# Get all edges connected to a starting vertex\n",
    "results = conn.getEdges(\"Person\", \"Nick\")\n",
    "print(\"All edges connected to person 'Nick'\")\n",
    "print(json.dumps(results, indent=2))"
   ]
  },
  {
   "cell_type": "markdown",
   "metadata": {
    "id": "TtVQbtBTu86n"
   },
   "source": [
    "# Deleting Data\n",
    "Now that we know how to create data and view it in our graph, it's only logical that we learn how to delete it. \n",
    "\n",
    "There are three main ways to delete data via pyTigerGraph:\n",
    "- Per vertex\n",
    "- Multiple vertices/edges following a condition\n",
    "- All vertices/edges"
   ]
  },
  {
   "cell_type": "markdown",
   "metadata": {
    "id": "f7p7HHcDz9IM"
   },
   "source": [
    "Before we start deleting things, let's make sure we remember what the data in our graph currently looks like."
   ]
  },
  {
   "cell_type": "code",
   "execution_count": null,
   "metadata": {
    "colab": {
     "base_uri": "https://localhost:8080/"
    },
    "id": "ua1h60xB0E5I",
    "outputId": "6532e43d-9bc7-4d28-c034-d26ffd3ca433"
   },
   "outputs": [],
   "source": [
    "getLoadedStats()"
   ]
  },
  {
   "cell_type": "markdown",
   "metadata": {
    "id": "5HpUnUKQzoge"
   },
   "source": [
    "## Single Vertex"
   ]
  },
  {
   "cell_type": "markdown",
   "metadata": {
    "id": "RTifI5PT0mBl"
   },
   "source": [
    "Our \"Leena\" person hasn't rated any movies, so let's delete them from the graph."
   ]
  },
  {
   "cell_type": "code",
   "execution_count": null,
   "metadata": {
    "colab": {
     "base_uri": "https://localhost:8080/"
    },
    "id": "6chXMZU2z0Dv",
    "outputId": "74aa820e-29b7-4ae9-9697-42bf6b32eff6"
   },
   "outputs": [],
   "source": [
    "results = conn.delVerticesById(\"Person\", \"Leena\")\n",
    "print(results)"
   ]
  },
  {
   "cell_type": "markdown",
   "metadata": {
    "id": "v1Y8lBSH03tG"
   },
   "source": [
    "Our output will tell us the number of verteices that we deleted and we should see 1 representing Leena."
   ]
  },
  {
   "cell_type": "markdown",
   "metadata": {
    "id": "WApUm9dK1C1s"
   },
   "source": [
    "### Permenant Flag\n",
    "For each of our delete commands, we have the option of the `permanent` flag. While deleting with a false `permenant` flag (the default) **will** delete the data from your graph, you can still reinsert that data back into the graph. The `permenant` flag makes it so that any vertex id's that are being deleted from the graph **cannot** be re-inserted unless the graph is dropped or the graph store is cleared."
   ]
  },
  {
   "cell_type": "markdown",
   "metadata": {
    "id": "2Qe0KZ9o15Gp"
   },
   "source": [
    "## Multiple Vertices/edges\n",
    "We can use **WHERE**, **LIMIT**, and **SORT** conditions to filter vertices and edges that we want to delete. I'll be showing off **WHERE** here as we don't have enough data to really make use of the others. \n",
    "\n",
    "Documentation on each of the supported clauses can be found here:\n",
    "- [WHERE](https://docs.tigergraph.com/dev/restpp-api/built-in-endpoints#filter) \n",
    "- [LIMIT](https://docs.tigergraph.com/dev/restpp-api/built-in-endpoints#limit)\n",
    "- [SORT](https://docs.tigergraph.com/dev/restpp-api/built-in-endpoints#sort)"
   ]
  },
  {
   "cell_type": "markdown",
   "metadata": {
    "id": "LicFs96v4baF"
   },
   "source": [
    "Let's say that we don't want to retain any ratings that are less than a '9.0'. Whe can use a **WHERE** clause to filter and delete any edges where the rating is less than '9.0'"
   ]
  },
  {
   "cell_type": "code",
   "execution_count": null,
   "metadata": {
    "colab": {
     "base_uri": "https://localhost:8080/"
    },
    "id": "isi59H3B5f86",
    "outputId": "70d81eb5-b67f-4c50-c976-b77e1c2e2074"
   },
   "outputs": [],
   "source": [
    "# Stats before deleting ratings below 9.0\n",
    "results = conn.getEdgeStats(\"Likes\")\n",
    "edgeCnt = conn.getEdgeCount(edgeType=\"Likes\")\n",
    "print(\"Before deleting ratings less than '9.0'\")\n",
    "print(f\"{edgeCnt} 'Likes' edges\")\n",
    "print(json.dumps(results, indent=2))\n",
    "print(\"-------------\")\n",
    "\n",
    "results = conn.delEdges(\"Person\", \"Nick\", edgeType=\"Likes\", where=\"weight < 9.0\")\n",
    "print(results)\n",
    "print(\"-------------\")\n",
    "\n",
    "results = conn.getEdgeStats(\"Likes\")\n",
    "edgeCnt = conn.getEdgeCount(edgeType=\"Likes\")\n",
    "print(\"After deleting ratings less than '9.0' that Nick made\")\n",
    "print(f\"{edgeCnt} 'Likes' edges\")\n",
    "print(json.dumps(results, indent=2))"
   ]
  },
  {
   "cell_type": "markdown",
   "metadata": {
    "id": "_TLQhhgk8nBr"
   },
   "source": [
    "That didn't quite do what we wanted. As you can see, we still have edges with a rating below 9.0. This is because we could only check edges coming from one vertex at a time.\n",
    "\n",
    "Let's take a look at how we can use some of the commands that we learned earlier to take a more programatic approach to this."
   ]
  },
  {
   "cell_type": "code",
   "execution_count": null,
   "metadata": {
    "colab": {
     "base_uri": "https://localhost:8080/"
    },
    "id": "xZKeGN3g9AqC",
    "outputId": "bbdcd96a-f254-4808-861e-42eed1e9b492"
   },
   "outputs": [],
   "source": [
    "# Get all 'rate' edges\n",
    "edges = conn.getEdgesByType(\"Likes\")\n",
    "\n",
    "# Delete any edges with a rating less than 9.0\n",
    "for edge in edges:\n",
    "  if edge[\"attributes\"][\"weight\"] < 9.0:\n",
    "    rating = edge[\"attributes\"][\"weight\"]\n",
    "    fromPerson = edge[\"from_id\"]\n",
    "    deleted = conn.delEdges(\"Person\", edge[\"from_id\"])\n",
    "    print(f\"Deleting a rating of {rating} from {fromPerson}\")\n",
    "    \n",
    "print(\"-------------\")\n",
    "results = conn.getEdgeStats(\"Likes\")\n",
    "edgeCnt = conn.getEdgeCount(edgeType=\"Likes\")\n",
    "print(\"After deleting ratings less than '9.0'\")\n",
    "print(f\"{edgeCnt} 'rate' edges\")\n",
    "print(json.dumps(results, indent=2))"
   ]
  },
  {
   "cell_type": "markdown",
   "metadata": {
    "id": "l5TSU8-lIPQk"
   },
   "source": [
    "## Deleting all Vertices\n",
    "Here's the big one, time to delete all our vertices in the graph. We'll load in more data so we can continue later, but it's time to bring it all down now."
   ]
  },
  {
   "cell_type": "code",
   "execution_count": null,
   "metadata": {
    "colab": {
     "base_uri": "https://localhost:8080/"
    },
    "id": "hzPSWWZkIgQa",
    "outputId": "078397ad-6b49-49a8-ea69-8999fc502ba8"
   },
   "outputs": [],
   "source": [
    "results = conn.delVertices(\"Person\")\n",
    "print(f\"deleted {results} people\")\n",
    "results = conn.delVertices(\"Movie\")\n",
    "print(f\"deleted {results} movies\")"
   ]
  },
  {
   "cell_type": "code",
   "execution_count": null,
   "metadata": {
    "colab": {
     "base_uri": "https://localhost:8080/"
    },
    "id": "mp9xcaOnJAR-",
    "outputId": "ef616b4a-cb06-4b46-8358-7e52b0f7a441"
   },
   "outputs": [],
   "source": [
    "getLoadedStats()"
   ]
  },
  {
   "cell_type": "markdown",
   "metadata": {
    "id": "rjJ6Vp4AJNRw"
   },
   "source": [
    "# Bulk Data Upsertion\n",
    "We went over how to load data bit by bit, but if you wanted a graph database that could only handle small amounts of data, you'd be using Neo4j. Let's look at the two methods you can use for bulk data loading."
   ]
  },
  {
   "cell_type": "markdown",
   "metadata": {
    "id": "X5queaRmSnRH"
   },
   "source": [
    "## Loading Via JSON with `UpsertData`\n",
    "This method is useful if you have data that has been exported in a JSON format from another graph, or if you have a JSON formatted file that you want to upload.\n",
    "\n",
    "The format of this file does need to follow the format specified [in the documentation](https://docs.tigergraph.com/dev/restpp-api/built-in-endpoints#upsert-data-to-graph).\n",
    "\n",
    "I'll also list out the basic structure here\n",
    "```\n",
    "{\n",
    "  \"vertices\": {\n",
    "     \"<vertex_type>\": {\n",
    "        \"<vertex_id>\": {\n",
    "           \"<attribute>\": {\n",
    "              \"value\": <value>,\n",
    "              \"op\": <opcode>\n",
    "           }\n",
    "        }\n",
    "    }\n",
    "  },\n",
    "  \"edges\": {\n",
    "     \"<source_vertex_type>\": {\n",
    "        \"<source_vertex_id>\": {\n",
    "           \"<edge_type>\": {\n",
    "              \"<target_vertex_type>\": {\n",
    "                 \"<target_vertex_id>\": {\n",
    "                    \"<attribute>\": {\n",
    "                       \"value\": <value>,\n",
    "                       \"op\": <opcode>\n",
    "                    }\n",
    "                }\n",
    "              }\n",
    "          }\n",
    "        }\n",
    "    }\n",
    "  }\n",
    "}\n",
    "```\n",
    "Let's give it a shot with a JSON of our own."
   ]
  },
  {
   "cell_type": "code",
   "execution_count": null,
   "metadata": {
    "colab": {
     "base_uri": "https://localhost:8080/"
    },
    "id": "eA52Fp91UVBB",
    "outputId": "fb6b7bde-c394-45ef-a1b1-720b7ae698fc"
   },
   "outputs": [],
   "source": [
    "data = {\n",
    "    \"vertices\": {\n",
    "        \"Person\": {\n",
    "            \"Dan\": {\n",
    "            },\n",
    "            \"Ben\": {  \n",
    "            }\n",
    "          },\n",
    "          \"Movie\": {\n",
    "              \"1\": {\n",
    "                  \"name\": {\n",
    "                      \"value\": \"Up\"\n",
    "                  }\n",
    "              },\n",
    "              \"2\": {\n",
    "                  \"name\": {\n",
    "                      \"value\": \"Redline\"\n",
    "                  },\n",
    "              }\n",
    "          }\n",
    "        },\n",
    "        \"edges\": {\n",
    "            \"Person\": {\n",
    "                \"Dan\": {\n",
    "                    \"Likes\": {\n",
    "                        \"Movie\": {\n",
    "                            \"1\": {\n",
    "                                \"weight\": {\n",
    "                                    \"value\": 8.7\n",
    "                                },\n",
    "                            },\n",
    "                            \"2\": {\n",
    "                                \"weight\": {\n",
    "                                    \"value\": 9.1\n",
    "                                },\n",
    "                            }\n",
    "                        }\n",
    "                    }\n",
    "                },\n",
    "                \"Ben\": {\n",
    "                    \"Likes\": {\n",
    "                        \"Movie\": {\n",
    "                            \"1\": {\n",
    "                                \"weight\": {\n",
    "                                    \"value\": 8.2\n",
    "                                },\n",
    "                            },\n",
    "                            \"2\": {\n",
    "                                \"weight\": {\n",
    "                                    \"value\": 7.6\n",
    "                                }\n",
    "                            }\n",
    "                        }\n",
    "                    }\n",
    "                }\n",
    "            }\n",
    "        }\n",
    "    }\n",
    "    \n",
    "results = conn.upsertData(data)\n",
    "print(results)"
   ]
  },
  {
   "cell_type": "code",
   "execution_count": null,
   "metadata": {
    "colab": {
     "base_uri": "https://localhost:8080/"
    },
    "id": "ljJxxYSWCqCW",
    "outputId": "b3053cd3-5895-4aa2-b8d0-c503a560eae0"
   },
   "outputs": [],
   "source": [
    "getLoadedStats()"
   ]
  },
  {
   "cell_type": "markdown",
   "metadata": {
    "id": "pu5-mc7uZKRC"
   },
   "source": [
    "So that's not exactly the huge quantity of data that I promised, but it gives you the idea of how you could load a much larger JSON object or file. "
   ]
  },
  {
   "cell_type": "markdown",
   "metadata": {
    "id": "sX3fMgOOZctL"
   },
   "source": [
    "## Loading Jobs (your best bet)\n",
    "While JSON and individual loading are powerful, loading jobs really help TigerGraph shine. These jobs run off .csv files loaded onto your TigerGraph server and can rapidly load absolutely abusrd amounts of data onto your TigerGraph solution.\n",
    "\n",
    "As part of our demo solution, we already have a couple loading jobs created. You can view these through the **Load Data** tab in GraphStudio, or by using the `ls` command through a GSQL interface.\n",
    "\n",
    "Luckily pyTigerGraph can give us that GSQL interface. Let's have a look!"
   ]
  },
  {
   "cell_type": "code",
   "execution_count": null,
   "metadata": {
    "colab": {
     "base_uri": "https://localhost:8080/"
    },
    "id": "LUHA66LxbOyA",
    "outputId": "3214db37-e2e2-4e51-87ce-fa3c78d13fec"
   },
   "outputs": [],
   "source": [
    "print(conn.gsql('ls'))"
   ]
  },
  {
   "cell_type": "markdown",
   "metadata": {
    "id": "_SryVJTTlo1b"
   },
   "source": [
    "### GSQL"
   ]
  },
  {
   "cell_type": "code",
   "execution_count": null,
   "metadata": {
    "colab": {
     "base_uri": "https://localhost:8080/"
    },
    "id": "eyeFiaVIaEso",
    "outputId": "cafca703-617b-43b2-96d2-68ac807586cc"
   },
   "outputs": [],
   "source": [
    "results = conn.gsql('''\n",
    "USE GRAPH movie\n",
    "SHOW JOB *''')\n",
    "print(results)"
   ]
  },
  {
   "cell_type": "markdown",
   "metadata": {
    "id": "eQaoJCw6mANO"
   },
   "source": [
    "These are our **loading jobs**. **Loading Jobs** are mappings between data files and vertices/edges. They are how you take data in a .csv or .json and assign it to vertices and create edges. These **loading jobs** also correspond to our data mapping in the **Map Data to Graph** tab in GraphStudio.\n",
    "\n",
    "This was automatically generated and ran when we imported the `movie` dataset at the beginning of the notebook."
   ]
  },
  {
   "cell_type": "code",
   "execution_count": null,
   "metadata": {
    "colab": {
     "base_uri": "https://localhost:8080/"
    },
    "id": "trNSKg7SfJM_",
    "outputId": "aed96cb0-3c68-4a8b-c93e-b9dc8cb5c0ba"
   },
   "outputs": [],
   "source": [
    "getLoadedStats()"
   ]
  },
  {
   "cell_type": "markdown",
   "metadata": {
    "id": "csfvAwYK3iww"
   },
   "source": [
    "# Queries\n",
    "Now that all of our data is loaded, let's take a look at how to run some queries on it. \n",
    "\n",
    "We're going to need to start with creating a query, then we'll cover running them."
   ]
  },
  {
   "cell_type": "markdown",
   "metadata": {
    "id": "okY9wvTfr7E-"
   },
   "source": [
    "## Creating a new Query\n",
    "Once again, we can use the handy GSQL functionality built into pyTigerGraph to create a query on our TigerGraph solution.\n",
    "\n",
    "Query creation follows the rules outlined [here](https://docs.tigergraph.com/dev/gsql-ref/querying/query-operations#create-query) in the documentation.\n",
    "\n",
    "Here's a simple sample query."
   ]
  },
  {
   "cell_type": "code",
   "execution_count": null,
   "metadata": {
    "colab": {
     "base_uri": "https://localhost:8080/"
    },
    "id": "sjked-o0shLP",
    "outputId": "6d36ad21-395a-46fa-9d08-0f691079fdf4"
   },
   "outputs": [],
   "source": [
    "results = conn.gsql('''\n",
    "USE GRAPH movie\n",
    "CREATE QUERY testQuery() FOR GRAPH movie { PRINT \"testQuery works!\"; }''')\n",
    "print(results)"
   ]
  },
  {
   "cell_type": "markdown",
   "metadata": {
    "id": "zT-nnw7z4w95"
   },
   "source": [
    "## Running a Query in Interpreted Mode\n",
    "That test query that we just added has been **saved** on our TigerGraph solution. It's important to note that this qurey is **saved** not **installed**. [This link](https://docs.tigergraph.com/dev/gsql-ref/querying/query-operations#interpret-query) will help you understand the difference and what that means in terms of functionality and performance."
   ]
  },
  {
   "cell_type": "code",
   "execution_count": null,
   "metadata": {
    "colab": {
     "base_uri": "https://localhost:8080/"
    },
    "id": "9vaHfgPqxrLk",
    "outputId": "f1259013-64e2-45a8-e0be-6f78131c8150"
   },
   "outputs": [],
   "source": [
    "results = conn.gsql('''\n",
    "USE GRAPH movie\n",
    "INTERPRET QUERY testQuery ()''')\n",
    "print(results)"
   ]
  },
  {
   "cell_type": "markdown",
   "metadata": {
    "id": "jiafGWJJyOsF"
   },
   "source": [
    "While that command **saved** the 'testQuery' on our TigerGraph solution, we don't need to have a saved query in order to run it in interpreted mode.\n",
    "\n",
    "We can use the pyTigerGraph function `runInterpretedQuery` to run a one-off query in interpreted mode without saving or installing it. "
   ]
  },
  {
   "cell_type": "code",
   "execution_count": null,
   "metadata": {
    "colab": {
     "base_uri": "https://localhost:8080/",
     "height": 422
    },
    "id": "sElCAuYbys_5",
    "outputId": "cf4311df-4eb9-4a2b-a8d3-a691868d461e"
   },
   "outputs": [],
   "source": [
    "results = conn.runInterpretedQuery('''INTERPRET QUERY testQuery2() FOR GRAPH movie { PRINT \"testQuery2 works!\"; }''')\n",
    "print(results)"
   ]
  },
  {
   "cell_type": "markdown",
   "metadata": {
    "id": "Zf7iP867y65Z"
   },
   "source": [
    "Note here that we're using **INTERPRET QUERY** instead of the **RUN QUERY** that was used when saving the query."
   ]
  },
  {
   "cell_type": "markdown",
   "metadata": {
    "id": "p2KFIzhJzd1k"
   },
   "source": [
    "## Installing a Query\n",
    "Let's use GSQL again to **install** a more complicated query on our Solution.\n",
    "\n",
    "We'll install a query that uses cosine similarity to try to recommend movies to one person based on what movies people with similar movie interests to them have rated highly.\n",
    "\n",
    "I'll go over the query in more detail when we go to run it."
   ]
  },
  {
   "cell_type": "code",
   "execution_count": null,
   "metadata": {
    "colab": {
     "base_uri": "https://localhost:8080/"
    },
    "id": "AjSq4hrR0RXw",
    "outputId": "9114aac8-bfe1-46a3-eeeb-e28e7355787e"
   },
   "outputs": [],
   "source": [
    "result = conn.gsql('''USE GRAPH movie\n",
    "CREATE QUERY RecommendMovies(\n",
    " VERTEX<Person> p, int k1, int k2\n",
    ") FOR GRAPH movie {\n",
    " OrAccum @rated;\n",
    " SumAccum<double> @ratingByP;\n",
    " SumAccum<double> @lengthASqr, @lengthBSqr, @dotProductAB;\n",
    " SumAccum<double> @cosineSimilarity;\n",
    " AvgAccum @recommendScore;\n",
    "\n",
    " PSet = { p };\n",
    "\t\n",
    " PRatedMovies =\n",
    "    SELECT m\n",
    "    FROM PSet -(Likes:r)-> Movie:m\n",
    "    ACCUM m.@rated = true, m.@ratingByP = r.weight;\n",
    "\n",
    " PeopleRatedSameMovies =\n",
    "    SELECT tgt\n",
    "    FROM PRatedMovies:m -(:r)-> Person:tgt\n",
    "    WHERE tgt != p\n",
    "    ACCUM tgt.@lengthASqr += m.@ratingByP * m.@ratingByP,\n",
    "          tgt.@lengthBSqr += r.weight * r.weight,\n",
    "          tgt.@dotProductAB += m.@ratingByP * r.weight\n",
    "    POST-ACCUM\n",
    "          tgt.@cosineSimilarity =\n",
    "            tgt.@dotProductAB / (sqrt(tgt.@lengthASqr) * sqrt(tgt.@lengthBSqr))\n",
    "    ORDER BY tgt.@cosineSimilarity DESC\n",
    "    LIMIT k1;\n",
    "\n",
    "  RecommendedMovies =\n",
    "    SELECT m\n",
    "    FROM PeopleRatedSameMovies -(Likes:r)-> Movie:m\n",
    "    WHERE m.@rated == false\n",
    "    ACCUM m.@recommendScore += r.weight\n",
    "    ORDER BY m.@recommendScore DESC\n",
    "    LIMIT k2;\n",
    "\n",
    "  PRINT RecommendedMovies;\n",
    "}''')\n",
    "print(result)"
   ]
  },
  {
   "cell_type": "markdown",
   "metadata": {
    "id": "D-4-Z84K6q3c"
   },
   "source": [
    "Our query is saved, but not yet installed.\n",
    "\n",
    "Let's do that now. This **will** take 1-3 minutes, so sit tight."
   ]
  },
  {
   "cell_type": "code",
   "execution_count": null,
   "metadata": {
    "colab": {
     "base_uri": "https://localhost:8080/"
    },
    "id": "dSpVFA946vYN",
    "outputId": "680d43a8-d131-459b-b17b-4390d7273fe0"
   },
   "outputs": [],
   "source": [
    "print(conn.gsql('''\n",
    "USE GRAPH movie\n",
    "INSTALL QUERY RecommendMovies'''))"
   ]
  },
  {
   "cell_type": "markdown",
   "metadata": {
    "id": "UuYPXul_-aQu"
   },
   "source": [
    "## Running a Query\n",
    "Now we can run our installed query. Let's take a look at the input parameters for our query and what they do.\n",
    "\n",
    "Our RecommenedMovies query has 3 inputs:\n",
    "- p - person who we're looking to recommend movies to\n",
    "- k1 - number of people who rated the same movies as p to consider\n",
    "- k2 - number of movies to recommend"
   ]
  },
  {
   "cell_type": "code",
   "execution_count": null,
   "metadata": {
    "colab": {
     "base_uri": "https://localhost:8080/"
    },
    "id": "ZRh8BJcL_q-9",
    "outputId": "22d367c6-d896-4fd3-fcee-d21d6ac55dfa"
   },
   "outputs": [],
   "source": [
    "parameters = {\n",
    "    \"p\": \"Dan\",\n",
    "    \"k1\": 50,\n",
    "    \"k2\": 10\n",
    "}\n",
    "\n",
    "results = conn.runInstalledQuery(\"RecommendMovies\", params=parameters)\n",
    "parsed = conn.parseQueryOutput(results)\n",
    "print(json.dumps(parsed, indent=2))\n",
    "# print(json.dumps(results, indent=2))"
   ]
  },
  {
   "cell_type": "markdown",
   "metadata": {
    "id": "lOGuYrMbAT3q"
   },
   "source": [
    "Our query result will output 'k2'(10) movies that our input person 'p'(\"215\") has not seen and are similar to movies that they have rated highly.\n",
    "\n",
    "Go ahead and play around with those inputs to see what kind of results you can get.\n",
    "\n",
    "Additionally, we used the `parseQueryOutput` to separate out the vertices and edges in our result and present it in a more pleasant fashion."
   ]
  },
  {
   "cell_type": "markdown",
   "metadata": {
    "id": "vxTpCVisqEhq"
   },
   "source": [
    "# Path Finding\n",
    "We can traverse the edges of our graph to find unique connections between points of data.\n",
    "\n",
    "For this graph, we only have people and movies, but we can use that to find paths between people based on movies that they've rated. Let's take a look."
   ]
  },
  {
   "cell_type": "markdown",
   "metadata": {
    "id": "WXZqjRRNsKre"
   },
   "source": [
    "## Shortest Path\n",
    "This function finds the shortest path between two or more vertices."
   ]
  },
  {
   "cell_type": "code",
   "execution_count": null,
   "metadata": {
    "id": "US5x-V_Lqz6k"
   },
   "outputs": [],
   "source": [
    "results = conn.shortestPath([(\"Person\", \"Dan\")], [(\"Person\", \"Ben\")])\n",
    "print(json.dumps(results, indent=2))"
   ]
  },
  {
   "cell_type": "markdown",
   "metadata": {
    "id": "KUNk5nGirTBR"
   },
   "source": [
    "You can see that **person 215** and **person 777** are connected because they have both rated **American Splendor**.\n",
    "\n",
    "Another thing to note here is the inputs for the function. Our inputs can be either\n",
    "- vertex sets - JSON vertex set\n",
    "- list of vertex, type tuples - `[(VERTEX_TYPE, VERTEX_ID)]`"
   ]
  },
  {
   "cell_type": "markdown",
   "metadata": {
    "id": "ay_-IxLTsULO"
   },
   "source": [
    "## All Paths\n",
    "Get all paths between the selected vertices. In the case of our graph, this will return all common movies that two people have rated. It will also return a movie that person A has rated that person X has rated that person B has also rated. Needless to say, there are a lot of possible path combinations, so an upper limit to the number of edge traversals is required for this query."
   ]
  },
  {
   "cell_type": "code",
   "execution_count": null,
   "metadata": {
    "id": "XfoWrv9KsgVc"
   },
   "outputs": [],
   "source": [
    "results = conn.allPaths([(\"Person\", \"Dan\")], [(\"Person\", \"Ben\")], 4)\n",
    "print(json.dumps(results, indent=2))"
   ]
  },
  {
   "cell_type": "markdown",
   "metadata": {
    "id": "WEs0LzdfhplP"
   },
   "source": [
    "# Pandas\n",
    "pyTigerGraph includes many functions for integrating with Pandas Dataframes."
   ]
  },
  {
   "cell_type": "markdown",
   "metadata": {
    "id": "6jsAC1qIilmg"
   },
   "source": [
    "## Retrieve Data as Dataframe\n",
    "These functions allow you to query vertex and edge data from the graph and return a Pandas dataframe."
   ]
  },
  {
   "cell_type": "markdown",
   "metadata": {
    "id": "kUiNTJtFi44C"
   },
   "source": [
    "### Vertex Information"
   ]
  },
  {
   "cell_type": "code",
   "execution_count": null,
   "metadata": {
    "colab": {
     "base_uri": "https://localhost:8080/"
    },
    "id": "jO9vXNPAi_mI",
    "outputId": "8f7cef69-8fcb-4168-a26a-4934d6ea8001"
   },
   "outputs": [],
   "source": [
    "# Get multiple vertices of a type\n",
    "df1 = conn.getVertexDataFrame(\"Movie\")\n",
    "print(\"Movies Dataframe\")\n",
    "print(df1)\n",
    "print(\"---------------------\")\n",
    "\n",
    "# Specifically pick one or more vertex by id\n",
    "df2 = conn.getVertexDataFrameById(\"Movie\", [\"1\"])\n",
    "print(\"Specific Movies Dataframe\")\n",
    "print(df2)\n",
    "print(\"---------------------\")\n",
    "\n",
    "# Convert a vertex set to a dataframe\n",
    "result = conn.getVerticesById(\"Person\", \"Dan\")\n",
    "print(\"JSON Vertex Set\")\n",
    "print(json.dumps(result, indent=2))\n",
    "print(\"---------------------\")\n",
    "\n",
    "df3 = conn.vertexSetToDataFrame(result)\n",
    "print(\"Above Vertex Set converted to Pandas Dataframe\")\n",
    "print(df3)"
   ]
  },
  {
   "cell_type": "markdown",
   "metadata": {
    "id": "W9qVbwSzkOO-"
   },
   "source": [
    "### Edge Information"
   ]
  },
  {
   "cell_type": "code",
   "execution_count": null,
   "metadata": {
    "colab": {
     "base_uri": "https://localhost:8080/"
    },
    "id": "djs-nBO_kRts",
    "outputId": "bb11f0d7-62e6-47be-b2fd-18dc3d83b385"
   },
   "outputs": [],
   "source": [
    "# Get all edges from selected starting vertex\n",
    "df4 = conn.getEdgesDataframe(\"Person\", \"Dan\", limit=3)\n",
    "print(\"Edges Dataframe\")\n",
    "print(df4)\n",
    "print(\"---------------------\")\n",
    "\n",
    "result = conn.getEdges(\"Person\", \"Dan\", limit=3)\n",
    "print(\"JSON Edge Set\")\n",
    "print(json.dumps(result, indent=2))\n",
    "print(\"---------------------\")\n",
    "\n",
    "df5 = conn.edgeSetToDataFrame(result)\n",
    "print(\"Converted Edge Set as Dataframe\")\n",
    "print(df5)"
   ]
  },
  {
   "cell_type": "markdown",
   "metadata": {
    "id": "4CoLsLX4tJy8"
   },
   "source": [
    "# Other\n",
    "Useful functions of pyTigerGraph that may be used less frequently, or just other useful blocks of code when interacting with pyTigerGraph."
   ]
  },
  {
   "cell_type": "code",
   "execution_count": null,
   "metadata": {
    "colab": {
     "base_uri": "https://localhost:8080/"
    },
    "id": "ZFgvFM30ui9F",
    "outputId": "7e18cf3d-8264-4d64-9e9d-11eef217a7df"
   },
   "outputs": [],
   "source": [
    "def getLoadedStats(limit=5):\n",
    "  numPeople = conn.getVertexCount(\"person\")\n",
    "  numMovies = conn.getVertexCount(\"movie\")\n",
    "  numEdges = conn.getEdgeCount(\"rate\")\n",
    "\n",
    "  people = conn.getVertices(\"person\", limit=limit)\n",
    "  movies = conn.getVertices(\"movie\", limit=limit)\n",
    "\n",
    "  print(f\"There are currently {numPeople} people, {numMovies} movies, and {numEdges} edges connecting them\")\n",
    "  print(f\"Our people are: {json.dumps(people, indent=2)}\")\n",
    "  print(f\"Our movies are: {json.dumps(movies, indent=2)}\")\n",
    "  print(f\"Our edges are: {json.dumps(edges, indent=2)}\")\n",
    "\n",
    "print(\"function 'getLoadedStats()' created\")"
   ]
  },
  {
   "cell_type": "markdown",
   "metadata": {
    "id": "LDi2WNzBJHtK"
   },
   "source": [
    "## Secret Management\n",
    "When you **first** connect pyTigerGraph to a Solution, you will need to create the secret elsewhere (because if pyTigerGraph needs a secret to connect, it can't connect to create the first secret).\n",
    "\n",
    "You **can** however create additional secrets once you're connected and even view all the secrets that your user account has access to."
   ]
  },
  {
   "cell_type": "code",
   "execution_count": null,
   "metadata": {},
   "outputs": [],
   "source": [
    "secret = conn.createSecret(alias=\"testSecret2\")\n",
    "\n",
    "print(secret)\n",
    "print(\"---------------\")\n",
    "print(conn.getSecrets())"
   ]
  },
  {
   "cell_type": "markdown",
   "metadata": {
    "id": "QDf2YqRXCrRD"
   },
   "source": [
    "## Token Management\n",
    "These functions allow you to manage your connection tokens.\n",
    "\n",
    "Tokens can be given a lifespan with `lifetime=` where the value of lifetime is the token's lifespan in seconds."
   ]
  },
  {
   "cell_type": "code",
   "execution_count": null,
   "metadata": {
    "id": "WrJoFUeDC1C5"
   },
   "outputs": [],
   "source": [
    "# Will give you a new token\n",
    "print(conn.refreshToken(secret, lifetime=2592000)) # 2,592,000 is 30 days worth of seconds\n",
    "\n",
    "\n",
    "# Deletes an existing token\n",
    "# print(conn.deleteToken(secret))"
   ]
  },
  {
   "cell_type": "markdown",
   "metadata": {
    "id": "lHTkb9blD22X"
   },
   "source": [
    "## Solution Info\n",
    "You can view all sorts of stats and information about your TigerGraph solution as a whole."
   ]
  },
  {
   "cell_type": "markdown",
   "metadata": {
    "id": "clbJqXxhEBrd"
   },
   "source": [
    "### echo\n",
    "Check to see if Solution is online and responds with \"Hello GSQL\""
   ]
  },
  {
   "cell_type": "code",
   "execution_count": null,
   "metadata": {
    "colab": {
     "base_uri": "https://localhost:8080/"
    },
    "id": "anyebKN0ELo2",
    "outputId": "5b18e9dd-d8e2-4d64-b44d-a9d4083964dd"
   },
   "outputs": [],
   "source": [
    "print(conn.echo())"
   ]
  },
  {
   "cell_type": "markdown",
   "metadata": {
    "id": "LQjca7hWEOy-"
   },
   "source": [
    "### getEndpoints\n",
    "A lot of TigerGraph's functionality is exposed through REST endpoints. To see the endpoints available to you on your Solution, use `getEndpoints()`. \n",
    "\n",
    "Further documentation on these endpoints can be found [here](https://docs.tigergraph.com/dev/restpp-api/built-in-endpoints)."
   ]
  },
  {
   "cell_type": "code",
   "execution_count": null,
   "metadata": {
    "colab": {
     "base_uri": "https://localhost:8080/"
    },
    "id": "46Fk7y4mEess",
    "outputId": "15ba8e71-d2e1-4a2a-cd3e-905614c8a31a"
   },
   "outputs": [],
   "source": [
    "print(json.dumps(conn.getEndpoints(), indent=2))"
   ]
  },
  {
   "cell_type": "markdown",
   "metadata": {
    "id": "aYA9tU_dE2Vu"
   },
   "source": [
    "### getInstalledQueries\n",
    "This command is just and easier way of doing `GSQL SHOW QUERIES *`."
   ]
  },
  {
   "cell_type": "code",
   "execution_count": null,
   "metadata": {
    "colab": {
     "base_uri": "https://localhost:8080/"
    },
    "id": "QLLUtxQ-EkCo",
    "outputId": "bfb7f19d-19e5-4efa-e3b0-fcf03649c579"
   },
   "outputs": [],
   "source": [
    "print(json.dumps(conn.getInstalledQueries(),indent=2))"
   ]
  },
  {
   "cell_type": "markdown",
   "metadata": {
    "id": "b8MyhvYoFZp5"
   },
   "source": [
    "### getStatistics\n",
    "Returns statistics of query execution over the last timespan in seconds.\n",
    "\n",
    "Inputs:\n",
    "- seconds - duration of statistics to collect (T-seconds from execution time)\n",
    "- segments - segments of latency distribution (default is 10 max is 100, min is 1)"
   ]
  },
  {
   "cell_type": "code",
   "execution_count": null,
   "metadata": {
    "colab": {
     "base_uri": "https://localhost:8080/"
    },
    "id": "EJnh0Zl-FOy5",
    "outputId": "705dda01-f784-4776-f86b-6dff92c811f7"
   },
   "outputs": [],
   "source": [
    "print(json.dumps(conn.getStatistics(seconds=8640000), indent=2))"
   ]
  },
  {
   "cell_type": "markdown",
   "metadata": {
    "id": "icmbZIwgGj0e"
   },
   "source": [
    "### getVer and getVersion\n",
    "These commands return version information about the various services running on your TigerGraph Solution.\n",
    "\n",
    "**getVersion** will return the version of all components while **getVer** takes an input of a component name and will only return the version for that component."
   ]
  },
  {
   "cell_type": "code",
   "execution_count": null,
   "metadata": {
    "colab": {
     "base_uri": "https://localhost:8080/"
    },
    "id": "6h7VHuWqFp97",
    "outputId": "5757a9ca-f6cf-40e1-8c7b-841ccf609c0e"
   },
   "outputs": [],
   "source": [
    "print(json.dumps(conn.getVersion(), indent=2))\n",
    "print(\"-----------------\")\n",
    "try:\n",
    "    print(json.dumps(conn.getVer(\"gle\"), indent=2))\n",
    "except AttributeError:\n",
    "    print(\"Unknown version format\")"
   ]
  },
  {
   "cell_type": "markdown",
   "metadata": {
    "id": "oq0wzjsyLPES"
   },
   "source": [
    "### getUDT and getUDTs\n",
    "UDT's are User Defined Types. You can read about them [here](https://docs.tigergraph.com/dev/gsql-ref/querying/data-types#tuple).\n",
    "\n",
    "There aren't any in our current graph, so both commands should return empty.\n",
    "\n",
    "- getUDTs - returns all UDTs\n",
    "- getUDT - only returns UDT of the defined input type "
   ]
  },
  {
   "cell_type": "code",
   "execution_count": null,
   "metadata": {
    "colab": {
     "base_uri": "https://localhost:8080/"
    },
    "id": "QqqNXjsNS0r7",
    "outputId": "2d538388-ab05-4742-81e0-bcc048230c0b"
   },
   "outputs": [],
   "source": [
    "print(conn.getUDTs())\n",
    "print(conn.getUDT(udtName=\"\"))"
   ]
  },
  {
   "cell_type": "markdown",
   "metadata": {},
   "source": [
    "## Cleanup\n",
    "Since we altered the stock dataset graph, we are going to drop it so it can be re-loaded in other notebooks."
   ]
  },
  {
   "cell_type": "code",
   "execution_count": null,
   "metadata": {
    "id": "7ECJRkWlIT1K"
   },
   "outputs": [],
   "source": [
    "conn.gsql(\"USE GRAPH {}\\nDROP JOB ALL\\nDROP Query ALL\\nDROP GRAPH {}\".format(\n",
    "                 conn.graphname, conn.graphname\n",
    "            ))"
   ]
  }
 ],
 "metadata": {
  "colab": {
   "collapsed_sections": [],
   "provenance": []
  },
  "kernelspec": {
   "display_name": "PyTorch",
   "language": "python",
   "name": "python3"
  },
  "language_info": {
   "codemirror_mode": {
    "name": "ipython",
    "version": 3
   },
   "file_extension": ".py",
   "mimetype": "text/x-python",
   "name": "python",
   "nbconvert_exporter": "python",
   "pygments_lexer": "ipython3",
   "version": "3.9.13"
  },
  "vscode": {
   "interpreter": {
    "hash": "31f2aee4e71d21fbe5cf8b01ff0e069b9275f58929596ceb00d14d90e3e16cd6"
   }
  }
 },
 "nbformat": 4,
 "nbformat_minor": 4
}
