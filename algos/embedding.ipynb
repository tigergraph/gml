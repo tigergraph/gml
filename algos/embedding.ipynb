{
 "cells": [
  {
   "cell_type": "markdown",
   "metadata": {},
   "source": [
    "# TigerGraph Graph Data Science Library 101 - Graph Embedding \n",
    "\n",
    "This notebook shows the examples of using graph embedding algorithms in TigerGraph Graph Science Library. More detailed explanations of these algorithms can be four in the official documentation \n",
    "(https://docs.tigergraph.com/graph-ml/current/node-embeddings/).  "
   ]
  },
  {
   "cell_type": "markdown",
   "metadata": {},
   "source": [
    "## Step 1: Load Cora graph data"
   ]
  },
  {
   "cell_type": "code",
   "execution_count": 1,
   "metadata": {},
   "outputs": [],
   "source": [
    "import json\n",
    "config_file = open ('../config.json', \"r\")\n",
    "config = json.load(config_file)\n",
    "config_file.close()"
   ]
  },
  {
   "cell_type": "code",
   "execution_count": 2,
   "metadata": {},
   "outputs": [
    {
     "data": {
      "application/vnd.jupyter.widget-view+json": {
       "model_id": "8fc64711f3f74f9c8f437440248719de",
       "version_major": 2,
       "version_minor": 0
      },
      "text/plain": [
       "Downloading:   0%|          | 0/166537 [00:00<?, ?it/s]"
      ]
     },
     "metadata": {},
     "output_type": "display_data"
    }
   ],
   "source": [
    "from pyTigerGraph.datasets import Datasets\n",
    "\n",
    "dataset = Datasets(\"Cora\")"
   ]
  },
  {
   "cell_type": "code",
   "execution_count": 3,
   "metadata": {},
   "outputs": [],
   "source": [
    "from pyTigerGraph import TigerGraphConnection\n",
    "import json\n",
    "\n",
    "conn = TigerGraphConnection(\n",
    "    host=config[\"host\"],\n",
    "    username=config[\"username\"],\n",
    "    password=config[\"password\"],\n",
    ")"
   ]
  },
  {
   "cell_type": "code",
   "execution_count": 4,
   "metadata": {},
   "outputs": [
    {
     "name": "stdout",
     "output_type": "stream",
     "text": [
      "---- Checking database ----\n",
      "---- Creating graph ----\n",
      "The graph Cora is created.\n",
      "---- Creating schema ----\n",
      "Using graph 'Cora'\n",
      "Successfully created schema change jobs: [cora_schema].\n",
      "Kick off schema change job cora_schema\n",
      "Doing schema change on graph 'Cora' (current version: 0)\n",
      "Trying to add local vertex 'Paper' to the graph 'Cora'.\n",
      "Trying to add local edge 'Cite' to the graph 'Cora'.\n",
      "\n",
      "Graph Cora updated to new version 1\n",
      "The job cora_schema completes in 2.581 seconds!\n",
      "---- Creating loading job ----\n",
      "Using graph 'Cora'\n",
      "Successfully created loading jobs: [load_cora_data].\n",
      "---- Ingesting data ----\n",
      "Ingested 2708 objects into VERTEX Paper\n",
      "Ingested 10556 objects into EDGE Cite\n",
      "---- Cleaning ----\n",
      "---- Finished ingestion ----\n"
     ]
    }
   ],
   "source": [
    "conn.ingestDataset(dataset, getToken=config[\"getToken\"])"
   ]
  },
  {
   "cell_type": "code",
   "execution_count": 5,
   "metadata": {},
   "outputs": [
    {
     "data": {
      "application/vnd.jupyter.widget-view+json": {
       "model_id": "715b3df4877d4f2faa83d83c5dd8bd43",
       "version_major": 2,
       "version_minor": 0
      },
      "text/plain": [
       "CytoscapeWidget(cytoscape_layout={'name': 'circle', 'animate': True, 'padding': 1}, cytoscape_style=[{'selecto…"
      ]
     },
     "execution_count": 5,
     "metadata": {},
     "output_type": "execute_result"
    }
   ],
   "source": [
    "from pyTigerGraph.visualization import drawSchema\n",
    "\n",
    "drawSchema(conn.getSchema(force=True))"
   ]
  },
  {
   "cell_type": "markdown",
   "metadata": {},
   "source": [
    "## Step 2: Running Louvain Community Detection\n",
    "We are going to use the pyTigerGraph featurizer to run Louvain community detection on the citation network."
   ]
  },
  {
   "cell_type": "code",
   "execution_count": 20,
   "metadata": {},
   "outputs": [],
   "source": [
    "feat = conn.gds.featurizer()\n",
    "\n",
    "params = {\n",
    "    \"v_type_set\": \"Paper\",\n",
    "    \"e_type_set\": \"Cite\",\n",
    "    \"weight_attribute\": \"\",\n",
    "    \"maximum_iteration\": 10,\n",
    "    \"result_attribute\": \"community_id\",\n",
    "    \"file_path\": \"\",\n",
    "    \"print_stats\": True\n",
    "}"
   ]
  },
  {
   "cell_type": "code",
   "execution_count": 21,
   "metadata": {},
   "outputs": [
    {
     "name": "stdout",
     "output_type": "stream",
     "text": [
      "The memory_profiler extension is already loaded. To reload it, use:\n",
      "  %reload_ext memory_profiler\n",
      "peak memory: 383.54 MiB, increment: 0.08 MiB\n",
      "The CPU usage is:  28.0\n",
      "RAM Used (GB): 10.966151168\n",
      "tg_louvain executed successfully\n",
      "execution time: 0.7343027591705322 seconds\n",
      "\n"
     ]
    }
   ],
   "source": [
    "import csv\n",
    "import os\n",
    "import time\n",
    "import psutil\n",
    "!pip install memory_profiler\n",
    "%load_ext memory_profiler\n",
    "\n",
    "algo_performance_out = '/home/tigergraph/GraphML/output/algorithm_' + config[\"job_id\"] + '.csv'\n",
    "\n",
    "start_time = time.time()\n",
    "\n",
    "algo_memory = %memit -r 1 -o feat.runAlgorithm(\"tg_louvain\", params = params)\n",
    "\n",
    "algo_memory = str(algo_memory)\n",
    "\n",
    "start = algo_memory.find(\": \") + 1\n",
    "end = algo_memory.find(\"M\")\n",
    "\n",
    "algo_memory = algo_memory[start:end].strip()\n",
    "\n",
    "execution_time = time.time() - start_time\n",
    "\n",
    "cpu_usage = psutil.cpu_percent(4)\n",
    "\n",
    "print('The CPU usage is: ', cpu_usage)\n",
    "\n",
    "# print('RAM memory % used:', psutil.virtual_memory()[2])\n",
    "\n",
    "host_memory = psutil.virtual_memory()[3]/1000000000\n",
    "\n",
    "print('RAM Used (GB):', host_memory)\n",
    "\n",
    "print ('tg_louvain executed successfully')\n",
    "\n",
    "print ('execution time: ' + str(execution_time) + ' seconds\\n')\n",
    "\n",
    "algo_id = \"tg_louvain_embedding_\" + config[\"job_id\"]\n",
    "\n",
    "nb_id = \"embedding.ipynb_\" + config[\"job_id\"]\n",
    "\n",
    "keyword = \"tg_louvain_embedding\"\n",
    "\n",
    "data = [algo_id, \"false\" ,cpu_usage, algo_memory, execution_time, host_memory, \"3.8\", \"no error\", nb_id, keyword]\n",
    "\n",
    "with open(algo_performance_out, mode='a+', encoding='utf-8') as f:\n",
    "    writer = csv.writer(f) \n",
    "    writer.writerow(data)"
   ]
  },
  {
   "cell_type": "markdown",
   "metadata": {},
   "source": [
    "## Step 3: Leveraging pyTigerGraph’s featurizer to run embedding algorithms\n",
    "\n",
    "pyTIgerGraph provides a full suit of data science capabilities, and in this tutorial, we will showcase how to use featurizer to run a few popular algorithms as an example."
   ]
  },
  {
   "cell_type": "code",
   "execution_count": 8,
   "metadata": {},
   "outputs": [
    {
     "name": "stdout",
     "output_type": "stream",
     "text": [
      "Available algorithms for Embeddings:\n",
      "  FastRP:\n",
      "    01. name: tg_fastRP\n",
      "Call runAlgorithm() with the algorithm name to execute it\n"
     ]
    }
   ],
   "source": [
    "feat.listAlgorithms(\"Embeddings\")"
   ]
  },
  {
   "cell_type": "markdown",
   "metadata": {
    "tags": []
   },
   "source": [
    "### Install and run fastRP algorithm \n",
    "\n",
    "Fast Random Projection (FastRP) is a scalable and performant node-embedding algorithm. It generates node embeddings (vectors) of low dimensionality through random projections from the graph’s adjacency matrix (a high-dimensional matrix) to a low-dimensional matrix, significantly reducing the computing power required to process the data. (https://docs.tigergraph.com/graph-ml/current/node-embeddings/fast-random-projection)"
   ]
  },
  {
   "cell_type": "code",
   "execution_count": 9,
   "metadata": {
    "tags": []
   },
   "outputs": [],
   "source": [
    "params={\"v_type_set\": [\"Paper\"],\n",
    "        \"e_type_set\": [\"Cite\"],\n",
    "        \"output_v_type_set\": [\"Paper\"],\n",
    "        \"iteration_weights\": \"1,2,4\",\n",
    "        \"beta\": -0.1,\n",
    "        \"embedding_dimension\": 128,\n",
    "        \"embedding_dim_map\": [],\n",
    "        \"default_length\": 128,\n",
    "        \"sampling_constant\": 3,\n",
    "        \"random_seed\": 42,\n",
    "        \"component_attribute\": \"\",\n",
    "        \"result_attribute\": \"embedding\",\n",
    "        \"choose_k\": 0}"
   ]
  },
  {
   "cell_type": "code",
   "execution_count": 10,
   "metadata": {},
   "outputs": [
    {
     "name": "stdout",
     "output_type": "stream",
     "text": [
      "Altering graph schema to save results...\n",
      "The job add_VERTEX_attr_zNbluz completes in 25.035 seconds!\n",
      "Installing and optimizing the queries, it might take a minute...\n",
      "Queries installed successfully\n",
      "peak memory: 125.03 MiB, increment: 0.70 MiB\n",
      "The CPU usage is:  37.8\n",
      "RAM Used (GB): 10.806849536\n",
      "tg_fastRP executed successfully\n",
      "execution time: 72.01924395561218 seconds\n",
      "\n"
     ]
    }
   ],
   "source": [
    "start_time = time.time()\n",
    "\n",
    "algo_memory = %memit -r 1 -o feat.runAlgorithm(\"tg_fastRP\", params=params)\n",
    "\n",
    "algo_memory = str(algo_memory)\n",
    "\n",
    "start = algo_memory.find(\": \") + 1\n",
    "end = algo_memory.find(\"M\")\n",
    "\n",
    "algo_memory = algo_memory[start:end].strip()\n",
    "\n",
    "execution_time = time.time() - start_time\n",
    "\n",
    "cpu_usage = psutil.cpu_percent(4)\n",
    "\n",
    "print('The CPU usage is: ', cpu_usage)\n",
    "\n",
    "# print('RAM memory % used:', psutil.virtual_memory()[2])\n",
    "\n",
    "host_memory = psutil.virtual_memory()[3]/1000000000\n",
    "\n",
    "print('RAM Used (GB):', host_memory)\n",
    "\n",
    "print ('tg_fastRP executed successfully')\n",
    "\n",
    "print ('execution time: ' + str(execution_time) + ' seconds\\n')\n",
    "\n",
    "algo_id = \"tg_fastRP_\" + config[\"job_id\"]\n",
    "\n",
    "nb_id = \"embedding.ipynb_\" + config[\"job_id\"]\n",
    "\n",
    "keyword = \"tg_fastRP\"\n",
    "\n",
    "data = [algo_id, \"false\" ,cpu_usage, algo_memory, execution_time, host_memory, \"3.8\", \"no error\", nb_id, keyword]\n",
    "\n",
    "with open(algo_performance_out, mode='a+', encoding='utf-8') as f:\n",
    "    writer = csv.writer(f) \n",
    "    writer.writerow(data)"
   ]
  },
  {
   "cell_type": "code",
   "execution_count": 11,
   "metadata": {},
   "outputs": [],
   "source": [
    "df = conn.getVertexDataFrame(\"Paper\")"
   ]
  },
  {
   "cell_type": "code",
   "execution_count": 12,
   "metadata": {},
   "outputs": [
    {
     "data": {
      "text/html": [
       "<div>\n",
       "<style scoped>\n",
       "    .dataframe tbody tr th:only-of-type {\n",
       "        vertical-align: middle;\n",
       "    }\n",
       "\n",
       "    .dataframe tbody tr th {\n",
       "        vertical-align: top;\n",
       "    }\n",
       "\n",
       "    .dataframe thead th {\n",
       "        text-align: right;\n",
       "    }\n",
       "</style>\n",
       "<table border=\"1\" class=\"dataframe\">\n",
       "  <thead>\n",
       "    <tr style=\"text-align: right;\">\n",
       "      <th></th>\n",
       "      <th>v_id</th>\n",
       "      <th>id</th>\n",
       "      <th>x</th>\n",
       "      <th>y</th>\n",
       "      <th>train_mask</th>\n",
       "      <th>val_mask</th>\n",
       "      <th>test_mask</th>\n",
       "      <th>community_id</th>\n",
       "      <th>embedding</th>\n",
       "    </tr>\n",
       "  </thead>\n",
       "  <tbody>\n",
       "    <tr>\n",
       "      <th>0</th>\n",
       "      <td>2706</td>\n",
       "      <td>2706</td>\n",
       "      <td>[0, 0, 0, 0, 0, 0, 0, 0, 0, 0, 0, 0, 0, 0, 0, ...</td>\n",
       "      <td>3</td>\n",
       "      <td>False</td>\n",
       "      <td>False</td>\n",
       "      <td>True</td>\n",
       "      <td>434110464</td>\n",
       "      <td>[0.28447, 0.31007, -0.04838, 0.0147, -0.03486,...</td>\n",
       "    </tr>\n",
       "    <tr>\n",
       "      <th>1</th>\n",
       "      <td>2680</td>\n",
       "      <td>2680</td>\n",
       "      <td>[0, 0, 0, 0, 0, 0, 0, 0, 0, 0, 0, 0, 0, 0, 0, ...</td>\n",
       "      <td>4</td>\n",
       "      <td>False</td>\n",
       "      <td>False</td>\n",
       "      <td>True</td>\n",
       "      <td>434110465</td>\n",
       "      <td>[0.08188, 0.33518, -0.34322, -0.24893, 0.13559...</td>\n",
       "    </tr>\n",
       "    <tr>\n",
       "      <th>2</th>\n",
       "      <td>2482</td>\n",
       "      <td>2482</td>\n",
       "      <td>[0, 0, 0, 0, 0, 0, 0, 0, 0, 0, 0, 0, 0, 0, 0, ...</td>\n",
       "      <td>3</td>\n",
       "      <td>False</td>\n",
       "      <td>False</td>\n",
       "      <td>True</td>\n",
       "      <td>434110466</td>\n",
       "      <td>[-0.13238, -0.19143, -0.19143, 0.19143, -0.378...</td>\n",
       "    </tr>\n",
       "    <tr>\n",
       "      <th>3</th>\n",
       "      <td>2383</td>\n",
       "      <td>2383</td>\n",
       "      <td>[0, 0, 0, 0, 0, 0, 0, 0, 0, 0, 0, 0, 0, 0, 0, ...</td>\n",
       "      <td>4</td>\n",
       "      <td>False</td>\n",
       "      <td>False</td>\n",
       "      <td>True</td>\n",
       "      <td>434110467</td>\n",
       "      <td>[-0.00764, 0.24286, -0.056, 0.1696, -0.10296, ...</td>\n",
       "    </tr>\n",
       "    <tr>\n",
       "      <th>4</th>\n",
       "      <td>2374</td>\n",
       "      <td>2374</td>\n",
       "      <td>[0, 0, 0, 0, 1, 0, 0, 0, 0, 0, 0, 0, 0, 0, 0, ...</td>\n",
       "      <td>5</td>\n",
       "      <td>False</td>\n",
       "      <td>False</td>\n",
       "      <td>True</td>\n",
       "      <td>356515917</td>\n",
       "      <td>[0.22167, -0.13319, 0.29308, -0.18034, -0.1556...</td>\n",
       "    </tr>\n",
       "  </tbody>\n",
       "</table>\n",
       "</div>"
      ],
      "text/plain": [
       "   v_id    id                                                  x  y  \\\n",
       "0  2706  2706  [0, 0, 0, 0, 0, 0, 0, 0, 0, 0, 0, 0, 0, 0, 0, ...  3   \n",
       "1  2680  2680  [0, 0, 0, 0, 0, 0, 0, 0, 0, 0, 0, 0, 0, 0, 0, ...  4   \n",
       "2  2482  2482  [0, 0, 0, 0, 0, 0, 0, 0, 0, 0, 0, 0, 0, 0, 0, ...  3   \n",
       "3  2383  2383  [0, 0, 0, 0, 0, 0, 0, 0, 0, 0, 0, 0, 0, 0, 0, ...  4   \n",
       "4  2374  2374  [0, 0, 0, 0, 1, 0, 0, 0, 0, 0, 0, 0, 0, 0, 0, ...  5   \n",
       "\n",
       "   train_mask  val_mask  test_mask  community_id  \\\n",
       "0       False     False       True     434110464   \n",
       "1       False     False       True     434110465   \n",
       "2       False     False       True     434110466   \n",
       "3       False     False       True     434110467   \n",
       "4       False     False       True     356515917   \n",
       "\n",
       "                                           embedding  \n",
       "0  [0.28447, 0.31007, -0.04838, 0.0147, -0.03486,...  \n",
       "1  [0.08188, 0.33518, -0.34322, -0.24893, 0.13559...  \n",
       "2  [-0.13238, -0.19143, -0.19143, 0.19143, -0.378...  \n",
       "3  [-0.00764, 0.24286, -0.056, 0.1696, -0.10296, ...  \n",
       "4  [0.22167, -0.13319, 0.29308, -0.18034, -0.1556...  "
      ]
     },
     "execution_count": 12,
     "metadata": {},
     "output_type": "execute_result"
    }
   ],
   "source": [
    "df.head()"
   ]
  },
  {
   "cell_type": "code",
   "execution_count": 13,
   "metadata": {},
   "outputs": [
    {
     "data": {
      "text/plain": [
       "community_id\n",
       "1               1925\n",
       "2                314\n",
       "3                 29\n",
       "4                  7\n",
       "5                  3\n",
       "12                 1\n",
       "13                 1\n",
       "dtype: int64"
      ]
     },
     "execution_count": 13,
     "metadata": {},
     "output_type": "execute_result"
    }
   ],
   "source": [
    "import pandas as pd\n",
    "\n",
    "pd.DataFrame(df['community_id'].value_counts()).value_counts().sort_index()"
   ]
  },
  {
   "cell_type": "markdown",
   "metadata": {},
   "source": [
    "### Compute intra- and inter-communities similarities for FastRP embeddings using Louvain Communities"
   ]
  },
  {
   "cell_type": "code",
   "execution_count": 14,
   "metadata": {},
   "outputs": [
    {
     "name": "stdout",
     "output_type": "stream",
     "text": [
      "***Community Detection ID: community_id***\n",
      "\n",
      "Intra-community similarities:\n",
      "\n",
      "Community: 0\n",
      "Number of members in community: 13\n",
      "Mean intra-community similarity: 0.9965714170704697\n",
      "Std. Dev. of intra-community similarity: 0.00842738895698873\n",
      "\n",
      "Community: 1\n",
      "Number of members in community: 12\n",
      "Mean intra-community similarity: 0.9978979744962666\n",
      "Std. Dev. of intra-community similarity: 0.004950015466634065\n",
      "\n",
      "Community: 2\n",
      "Number of members in community: 5\n",
      "Mean intra-community similarity: 0.9954623831664924\n",
      "Std. Dev. of intra-community similarity: 0.006614656368356073\n",
      "\n",
      "Community: 3\n",
      "Number of members in community: 5\n",
      "Mean intra-community similarity: 0.9983262887331829\n",
      "Std. Dev. of intra-community similarity: 0.0024398324706672173\n",
      "\n",
      "Community: 4\n",
      "Number of members in community: 5\n",
      "Mean intra-community similarity: 0.9885478124522032\n",
      "Std. Dev. of intra-community similarity: 0.016694288670487428\n",
      "\n",
      "Inter-community similarities:\n",
      "\n",
      "Communities: 0-1\n",
      "Mean inter-community similarity: 0.016267563777136545\n",
      "Std. Dev. of intra-community similarity: 0.00795155191510506\n",
      "\n",
      "Communities: 1-2\n",
      "Mean inter-community similarity: -0.08983135339807681\n",
      "Std. Dev. of intra-community similarity: 0.0025482323738112217\n",
      "\n",
      "Communities: 2-3\n",
      "Mean inter-community similarity: 0.19583716480713292\n",
      "Std. Dev. of intra-community similarity: 0.011259379462170685\n",
      "\n",
      "Communities: 3-4\n",
      "Mean inter-community similarity: 0.00330812238861845\n",
      "Std. Dev. of intra-community similarity: 0.0021937332509694794\n",
      "\n"
     ]
    }
   ],
   "source": [
    "import numpy as np\n",
    "from sklearn.metrics.pairwise import cosine_similarity\n",
    "\n",
    "cnt = 5\n",
    "comms_list = ['community_id']\n",
    "\n",
    "for comm in comms_list:\n",
    "    print(f\"***Community Detection ID: {comm}***\\n\")\n",
    "    \n",
    "    comm_embs = None\n",
    "    print(\"Intra-community similarities:\\n\")\n",
    "\n",
    "    for i, c_id in enumerate(df[comm].value_counts().head(cnt).index):\n",
    "        community = df[df[comm] == c_id]\n",
    "        comm_embs = np.stack(community[\"embedding\"].values)\n",
    "        similarities = cosine_similarity(comm_embs)\n",
    "        print(f\"Community: {i}\")\n",
    "        print(f\"Number of members in community: {len(comm_embs)}\")\n",
    "        print(f\"Mean intra-community similarity: {similarities.mean()}\")\n",
    "        print(f\"Std. Dev. of intra-community similarity: {np.std(similarities)}\")\n",
    "        print()\n",
    "\n",
    "    print(\"Inter-community similarities:\\n\")\n",
    "\n",
    "    for i, c_id in enumerate(df[comm].value_counts().head(cnt).index):\n",
    "        community = df[df[comm] == c_id]\n",
    "        comm_embs_comp = comm_embs\n",
    "        comm_embs = np.stack(community[\"embedding\"].values)\n",
    "\n",
    "        if i >= 1:\n",
    "            similarities = cosine_similarity(comm_embs_comp, comm_embs)\n",
    "            print(f\"Communities: {i-1}-{i}\")\n",
    "            print(f\"Mean inter-community similarity: {similarities.mean()}\")\n",
    "            print(f\"Std. Dev. of intra-community similarity: {np.std(similarities)}\")\n",
    "            print()"
   ]
  },
  {
   "cell_type": "code",
   "execution_count": 15,
   "metadata": {},
   "outputs": [],
   "source": [
    "# Grab embeddings for Louvain Communities\n",
    "\n",
    "c_id0 = df[\"community_id\"].value_counts().head(25).index[0]\n",
    "c_id1 = df[\"community_id\"].value_counts().head(25).index[1]\n",
    "c_id2 = df[\"community_id\"].value_counts().head(25).index[2]\n",
    "c_id3 = df[\"community_id\"].value_counts().head(25).index[3]\n",
    "c_id4 = df[\"community_id\"].value_counts().head(25).index[4]\n",
    "\n",
    "community0 = df[df[\"community_id\"] == c_id0]\n",
    "comm_embs0 = np.stack(community0[\"embedding\"].values)\n",
    "\n",
    "community1 = df[df[\"community_id\"] == c_id1]\n",
    "comm_embs1 = np.stack(community1[\"embedding\"].values)\n",
    "\n",
    "community2 = df[df[\"community_id\"] == c_id2]\n",
    "comm_embs2 = np.stack(community2[\"embedding\"].values)\n",
    "\n",
    "community3 = df[df[\"community_id\"] == c_id3]\n",
    "comm_embs3 = np.stack(community3[\"embedding\"].values)\n",
    "\n",
    "community4 = df[df[\"community_id\"] == c_id4]\n",
    "comm_embs4 = np.stack(community4[\"embedding\"].values)\n",
    "\n",
    "X = np.vstack((comm_embs0, comm_embs1, comm_embs2, comm_embs3, comm_embs4))\n",
    "\n",
    "y0 = np.ones((comm_embs0.shape[0])) * 0\n",
    "y1 = np.ones((comm_embs1.shape[0])) * 1\n",
    "y2 = np.ones((comm_embs2.shape[0])) * 2\n",
    "y3 = np.ones((comm_embs3.shape[0])) * 3\n",
    "y4 = np.ones((comm_embs4.shape[0])) * 4\n",
    "y = np.hstack((y0,y1,y2,y3,y4))"
   ]
  },
  {
   "cell_type": "markdown",
   "metadata": {},
   "source": [
    "### Plot embeddings in 2D space"
   ]
  },
  {
   "cell_type": "code",
   "execution_count": 16,
   "metadata": {},
   "outputs": [
    {
     "name": "stdout",
     "output_type": "stream",
     "text": [
      "Requirement already satisfied: umap in /opt/conda/lib/python3.9/site-packages (0.1.1)\n",
      "Requirement already satisfied: umap-learn in /opt/conda/lib/python3.9/site-packages (0.5.3)\n",
      "Requirement already satisfied: pynndescent>=0.5 in /opt/conda/lib/python3.9/site-packages (from umap-learn) (0.5.8)\n",
      "Requirement already satisfied: scipy>=1.0 in /opt/conda/lib/python3.9/site-packages (from umap-learn) (1.9.1)\n",
      "Requirement already satisfied: tqdm in /opt/conda/lib/python3.9/site-packages (from umap-learn) (4.64.1)\n",
      "Requirement already satisfied: scikit-learn>=0.22 in /opt/conda/lib/python3.9/site-packages (from umap-learn) (1.1.2)\n",
      "Requirement already satisfied: numba>=0.49 in /opt/conda/lib/python3.9/site-packages (from umap-learn) (0.56.4)\n",
      "Requirement already satisfied: numpy>=1.17 in /opt/conda/lib/python3.9/site-packages (from umap-learn) (1.23.0)\n",
      "Requirement already satisfied: llvmlite<0.40,>=0.39.0dev0 in /opt/conda/lib/python3.9/site-packages (from numba>=0.49->umap-learn) (0.39.1)\n",
      "Requirement already satisfied: setuptools in /opt/conda/lib/python3.9/site-packages (from numba>=0.49->umap-learn) (65.5.1)\n",
      "Requirement already satisfied: joblib>=0.11 in /opt/conda/lib/python3.9/site-packages (from pynndescent>=0.5->umap-learn) (1.2.0)\n",
      "Requirement already satisfied: threadpoolctl>=2.0.0 in /opt/conda/lib/python3.9/site-packages (from scikit-learn>=0.22->umap-learn) (3.1.0)\n",
      "Requirement already satisfied: seaborn in /opt/conda/lib/python3.9/site-packages (0.12.0)\n",
      "Requirement already satisfied: numpy>=1.17 in /opt/conda/lib/python3.9/site-packages (from seaborn) (1.23.0)\n",
      "Requirement already satisfied: matplotlib>=3.1 in /opt/conda/lib/python3.9/site-packages (from seaborn) (3.5.3)\n",
      "Requirement already satisfied: pandas>=0.25 in /opt/conda/lib/python3.9/site-packages (from seaborn) (1.5.0)\n",
      "Requirement already satisfied: packaging>=20.0 in /opt/conda/lib/python3.9/site-packages (from matplotlib>=3.1->seaborn) (21.3)\n",
      "Requirement already satisfied: fonttools>=4.22.0 in /opt/conda/lib/python3.9/site-packages (from matplotlib>=3.1->seaborn) (4.38.0)\n",
      "Requirement already satisfied: pyparsing>=2.2.1 in /opt/conda/lib/python3.9/site-packages (from matplotlib>=3.1->seaborn) (3.0.9)\n",
      "Requirement already satisfied: python-dateutil>=2.7 in /opt/conda/lib/python3.9/site-packages (from matplotlib>=3.1->seaborn) (2.8.2)\n",
      "Requirement already satisfied: pillow>=6.2.0 in /opt/conda/lib/python3.9/site-packages (from matplotlib>=3.1->seaborn) (9.2.0)\n",
      "Requirement already satisfied: kiwisolver>=1.0.1 in /opt/conda/lib/python3.9/site-packages (from matplotlib>=3.1->seaborn) (1.4.4)\n",
      "Requirement already satisfied: cycler>=0.10 in /opt/conda/lib/python3.9/site-packages (from matplotlib>=3.1->seaborn) (0.11.0)\n",
      "Requirement already satisfied: pytz>=2020.1 in /opt/conda/lib/python3.9/site-packages (from pandas>=0.25->seaborn) (2022.6)\n",
      "Requirement already satisfied: six>=1.5 in /opt/conda/lib/python3.9/site-packages (from python-dateutil>=2.7->matplotlib>=3.1->seaborn) (1.16.0)\n"
     ]
    }
   ],
   "source": [
    "!pip install umap\n",
    "!pip install umap-learn\n",
    "!pip install seaborn"
   ]
  },
  {
   "cell_type": "code",
   "execution_count": 17,
   "metadata": {},
   "outputs": [],
   "source": [
    "import umap.umap_ as umap\n",
    "\n",
    "embd_x = umap.UMAP().fit_transform(X)"
   ]
  },
  {
   "cell_type": "code",
   "execution_count": 18,
   "metadata": {},
   "outputs": [
    {
     "data": {
      "image/png": "[encoded data removed]",
      "text/plain": [
       "<Figure size 800x800 with 1 Axes>"
      ]
     },
     "metadata": {},
     "output_type": "display_data"
    }
   ],
   "source": [
    "import matplotlib.pyplot as plt\n",
    "import seaborn as sns\n",
    "fig, axs = plt.subplots(nrows=1, ncols=1, figsize=(8,8))\n",
    "sns.set(font_scale=1)\n",
    "\n",
    "palette = {}\n",
    "for n, i in enumerate(set([0, 1, 2, 3, 4])):\n",
    "    palette[i] = f'C{n}'\n",
    "    \n",
    "sns.scatterplot(ax=axs, x=embd_x.T[0], y=embd_x.T[1], hue=y, palette=palette)\n",
    "axs.get_legend().remove()\n",
    "plt.title(\"FastRP Embeddings for 5 Largest Louvain Communities\", fontsize=18)\n",
    "\n",
    "plt.show()"
   ]
  }
 ],
 "metadata": {
  "kernelspec": {
   "display_name": "Python 3 (ipykernel)",
   "language": "python",
   "name": "python3"
  },
  "language_info": {
   "codemirror_mode": {
    "name": "ipython",
    "version": 3
   },
   "file_extension": ".py",
   "mimetype": "text/x-python",
   "name": "python",
   "nbconvert_exporter": "python",
   "pygments_lexer": "ipython3",
   "version": "3.9.6"
  },
  "vscode": {
   "interpreter": {
    "hash": "31f2aee4e71d21fbe5cf8b01ff0e069b9275f58929596ceb00d14d90e3e16cd6"
   }
  }
 },
 "nbformat": 4,
 "nbformat_minor": 4
}
