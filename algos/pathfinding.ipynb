{
 "cells": [
  {
   "cell_type": "markdown",
   "id": "0e0831b7-cce4-41de-8520-a48260ff4825",
   "metadata": {},
   "source": [
    "# TigerGraph Graph Data Science Library 101 - Path Finding Algorithm\n",
    "\n",
    "This notebook shows the examples of using the most common path finding algorithms in TigerGraph Graph Science Library. More detailed explanations of these algorithms can be four in the official documentation (https://docs.tigergraph.com/graph-ml/current/pathfinding-algorithms/).  "
   ]
  },
  {
   "cell_type": "markdown",
   "id": "ec177fb7-4d6b-4a5d-82c8-0ee3c0486e63",
   "metadata": {},
   "source": [
    "## Step 1: Setting things up\n",
    "- Connect and Load data"
   ]
  },
  {
   "cell_type": "code",
   "execution_count": 1,
   "id": "eb94a475-0005-4aa0-ae68-23a5f462dad0",
   "metadata": {},
   "outputs": [
    {
     "name": "stdout",
     "output_type": "stream",
     "text": [
      "A folder with name ldbc_snb already exists in ./tmp. Skip downloading.\n"
     ]
    }
   ],
   "source": [
    "from pyTigerGraph.datasets import Datasets\n",
    "\n",
    "dataset = Datasets(\"ldbc_snb\")"
   ]
  },
  {
   "cell_type": "code",
   "execution_count": 2,
   "id": "f5efa57a-06b3-4068-928c-4b977088641e",
   "metadata": {},
   "outputs": [],
   "source": [
    "from pyTigerGraph import TigerGraphConnection\n",
    "import json\n",
    "\n",
    "# Read in DB configs\n",
    "with open('../config.json', \"r\") as config_file:\n",
    "    config = json.load(config_file)\n",
    "\n",
    "conn = TigerGraphConnection(\n",
    "    host=config[\"host\"],\n",
    "    username=config[\"username\"],\n",
    "    password=config[\"password\"],\n",
    ")"
   ]
  },
  {
   "cell_type": "code",
   "execution_count": 3,
   "id": "f6125eb0-2879-4010-9178-870be4715349",
   "metadata": {},
   "outputs": [
    {
     "name": "stdout",
     "output_type": "stream",
     "text": [
      "---- Checking database ----\n",
      "A graph with name ldbc_snb already exists in the database. Skip ingestion.\n"
     ]
    }
   ],
   "source": [
    "conn.ingestDataset(dataset, getToken=config[\"getToken\"])"
   ]
  },
  {
   "cell_type": "markdown",
   "id": "baea2610-074a-44c4-a421-d1cc6bb253a5",
   "metadata": {},
   "source": [
    "- Visualize the graph schema "
   ]
  },
  {
   "cell_type": "code",
   "execution_count": 4,
   "id": "9104e0bd-f771-4598-8f6f-9f8ff2c7e87d",
   "metadata": {},
   "outputs": [
    {
     "data": {
      "application/vnd.jupyter.widget-view+json": {
       "model_id": "86ecb3cc514d4678b6f86ddaf6fd01d3",
       "version_major": 2,
       "version_minor": 0
      },
      "text/plain": [
       "CytoscapeWidget(cytoscape_layout={'name': 'circle', 'animate': True, 'padding': 1}, cytoscape_style=[{'selecto…"
      ]
     },
     "execution_count": 4,
     "metadata": {},
     "output_type": "execute_result"
    }
   ],
   "source": [
    "from pyTigerGraph.visualization import drawSchema\n",
    "\n",
    "drawSchema(conn.getSchema(force=True))"
   ]
  },
  {
   "cell_type": "markdown",
   "id": "793b7b8c-20aa-4c6e-a58e-69002d517dde",
   "metadata": {},
   "source": [
    "- Get basic stats, e.g., counts of nodes & edges"
   ]
  },
  {
   "cell_type": "code",
   "execution_count": 5,
   "id": "e95e5301-de9c-4aaf-ac10-ceae09d94d90",
   "metadata": {},
   "outputs": [
    {
     "name": "stdout",
     "output_type": "stream",
     "text": [
      "Node count: (Comment : 2052169) \n",
      "Node count: (Post : 1003605) \n",
      "Node count: (Company : 1575) \n",
      "Node count: (University : 6380) \n",
      "Node count: (City : 1343) \n",
      "Node count: (Country : 111) \n",
      "Node count: (Continent : 6) \n",
      "Node count: (Forum : 90492) \n",
      "Node count: (Person : 9892) \n",
      "Node count: (Tag : 16080) \n",
      "Node count: (Tag_Class : 71) \n"
     ]
    }
   ],
   "source": [
    "vertices = conn.getVertexTypes()\n",
    "for vertex in vertices:\n",
    "    print(\"Node count: ({} : {}) \".format(vertex, conn.getVertexCount(vertex)))"
   ]
  },
  {
   "cell_type": "code",
   "execution_count": 6,
   "id": "ab71a409-6782-437b-8ac9-b96d5149692e",
   "metadata": {},
   "outputs": [
    {
     "name": "stdout",
     "output_type": "stream",
     "text": [
      "Edges counts: \n",
      "{'Container_Of': 1003605,\n",
      " 'Container_Of_Reverse': 1003605,\n",
      " 'Has_Creator': 3055774,\n",
      " 'Has_Creator_Reverse': 3055774,\n",
      " 'Has_Interest': 229166,\n",
      " 'Has_Interest_Reverse': 229166,\n",
      " 'Has_Member': 1611869,\n",
      " 'Has_Member_Reverse': 1611869,\n",
      " 'Has_Moderator': 90492,\n",
      " 'Has_Moderator_Reverse': 90492,\n",
      " 'Has_Tag': 3721417,\n",
      " 'Has_Tag_Reverse': 3721417,\n",
      " 'Has_Type': 16080,\n",
      " 'Has_Type_Reverse': 16080,\n",
      " 'Is_Located_In': 3073621,\n",
      " 'Is_Located_In_Reverse': 3073621,\n",
      " 'Is_Part_Of': 1454,\n",
      " 'Is_Part_Of_Reverse': 1454,\n",
      " 'Is_Subclass_Of': 70,\n",
      " 'Is_Subclass_Of_Reverse': 70,\n",
      " 'Knows': 180623,\n",
      " 'Likes': 2190095,\n",
      " 'Likes_Reverse': 2190095,\n",
      " 'Reply_Of': 2052169,\n",
      " 'Reply_Of_Reverse': 2052169,\n",
      " 'Study_At': 7949,\n",
      " 'Study_At_Reverse': 7949,\n",
      " 'Work_At': 21654,\n",
      " 'Work_At_Reverse': 21654}\n"
     ]
    }
   ],
   "source": [
    "import pprint\n",
    "print(\"Edges counts: \")\n",
    "pprint.pprint(conn.getEdgeCount())"
   ]
  },
  {
   "cell_type": "markdown",
   "id": "4d6c0a1c-b6bf-4967-9d35-4e881407e3a7",
   "metadata": {},
   "source": [
    "## Step 2: Leveraging pyTigerGraph’s featurizer to run Path Finding algorithms\n"
   ]
  },
  {
   "cell_type": "code",
   "execution_count": 7,
   "id": "8170bb7e-e946-4687-9dc7-b37565078aa4",
   "metadata": {},
   "outputs": [],
   "source": [
    "feat = conn.gds.featurizer()"
   ]
  },
  {
   "cell_type": "code",
   "execution_count": 8,
   "id": "219d6423-7e09-4f26-89fa-66009fd515e5",
   "metadata": {},
   "outputs": [
    {
     "name": "stdout",
     "output_type": "stream",
     "text": [
      "Available algorithms for Path:\n",
      "  bfs:\n",
      "    01. name: tg_bfs\n",
      "  cycle_detection:\n",
      "    02. name: tg_cycle_detection_count\n",
      "  shortest_path:\n",
      "    03. name: tg_shortest_ss_no_wt\n",
      "Call runAlgorithm() with the algorithm name to execute it\n"
     ]
    }
   ],
   "source": [
    "feat.listAlgorithms(\"Path\")"
   ]
  },
  {
   "cell_type": "markdown",
   "id": "3722d88f-c38b-4ddc-aa08-22491315fca8",
   "metadata": {},
   "source": [
    "## tg_bfs\n",
    "Breadth-First Search Algorithm from a single source node"
   ]
  },
  {
   "cell_type": "code",
   "execution_count": 9,
   "id": "d38181ac-f4db-4fc7-bd5d-6a054f6ef593",
   "metadata": {},
   "outputs": [],
   "source": [
    "params = {\n",
    "    \"v_type_set\": [\"Person\"],\n",
    "    \"e_type_set\": [\"Knows\"],\n",
    "    \"max_hops\": 2,\n",
    "    \"v_start\": {\"id\": \"21990232556463\", \"type\": \"Person\"}, ##{\"id\": \"vertex_id\", \"type\": \"vertex_type\"}\n",
    "    \"print_results\": True,\n",
    "    \"result_attribute\": \"\",\n",
    "    \"file_path\": \"\",\n",
    "    \"display_edges\": False\n",
    "  }"
   ]
  },
  {
   "cell_type": "code",
   "execution_count": 10,
   "id": "69ec71f5-2a04-44c9-a6d2-8c8303fca93b",
   "metadata": {},
   "outputs": [
    {
     "name": "stderr",
     "output_type": "stream",
     "text": [
      "/opt/conda/lib/python3.9/site-packages/memory_profiler.py:1136: DeprecationWarning: distutils Version classes are deprecated. Use packaging.version instead.\n",
      "  ipython_version = LooseVersion(IPython.__version__)\n",
      "/opt/conda/lib/python3.9/site-packages/setuptools/_distutils/version.py:346: DeprecationWarning: distutils Version classes are deprecated. Use packaging.version instead.\n",
      "  other = LooseVersion(other)\n"
     ]
    },
    {
     "name": "stdout",
     "output_type": "stream",
     "text": [
      "Installing and optimizing the queries, it might take a minute...\n",
      "Queries installed successfully\n",
      "peak memory: 124.59 MiB, increment: 2.52 MiB\n",
      "The CPU usage is:  24.6\n",
      "RAM Used (GB): 11.079008256\n",
      "tg_bfs executed successfully\n",
      "execution time: 37.20045328140259 seconds\n",
      "\n"
     ]
    }
   ],
   "source": [
    "import csv\n",
    "import os\n",
    "import time\n",
    "import psutil\n",
    "!pip install memory_profiler\n",
    "%load_ext memory_profiler\n",
    "\n",
    "algo_performance_out = '/home/tigergraph/GraphML/output/algorithm_' + config[\"job_id\"] + '.csv'\n",
    "\n",
    "start_time = time.time()\n",
    "\n",
    "algo_memory = %memit -r 1 -o feat.runAlgorithm(\"tg_bfs\", params=params)\n",
    "\n",
    "algo_memory = str(algo_memory)\n",
    "\n",
    "start = algo_memory.find(\": \") + 1\n",
    "end = algo_memory.find(\"M\")\n",
    "\n",
    "algo_memory = algo_memory[start:end].strip()\n",
    "\n",
    "execution_time = time.time() - start_time\n",
    "\n",
    "cpu_usage = psutil.cpu_percent(4)\n",
    "\n",
    "print('The CPU usage is: ', cpu_usage)\n",
    "\n",
    "# print('RAM memory % used:', psutil.virtual_memory()[2])\n",
    "\n",
    "host_memory = psutil.virtual_memory()[3]/1000000000\n",
    "\n",
    "print('RAM Used (GB):', host_memory)\n",
    "\n",
    "print ('tg_bfs executed successfully')\n",
    "\n",
    "print ('execution time: ' + str(execution_time) + ' seconds\\n')\n",
    "\n",
    "algo_id = \"tg_bfs_\" + config[\"job_id\"]\n",
    "\n",
    "nb_id = \"pathfinding.ipynb_\" + config[\"job_id\"]\n",
    "\n",
    "keyword = \"tg_bfs\"\n",
    "\n",
    "data = [algo_id, \"false\" ,cpu_usage, algo_memory, execution_time, host_memory, \"3.8\", \"no error\", nb_id, keyword]\n",
    "\n",
    "with open(algo_performance_out, mode='a+', encoding='utf-8') as f:\n",
    "    writer = csv.writer(f) \n",
    "    writer.writerow(data)"
   ]
  },
  {
   "cell_type": "code",
   "execution_count": 12,
   "id": "3aa803ad-099c-449c-a65f-785f52c0eac8",
   "metadata": {},
   "outputs": [
    {
     "data": {
      "text/plain": [
       "(4069,\n",
       " [{'v_id': '30786325580605',\n",
       "   'v_type': 'Person',\n",
       "   'attributes': {'Start.@sum_step': 2}},\n",
       "  {'v_id': '13194139540951',\n",
       "   'v_type': 'Person',\n",
       "   'attributes': {'Start.@sum_step': 2}},\n",
       "  {'v_id': '6597069769055',\n",
       "   'v_type': 'Person',\n",
       "   'attributes': {'Start.@sum_step': 2}},\n",
       "  {'v_id': '15393162796423',\n",
       "   'v_type': 'Person',\n",
       "   'attributes': {'Start.@sum_step': 2}},\n",
       "  {'v_id': '15393162792715',\n",
       "   'v_type': 'Person',\n",
       "   'attributes': {'Start.@sum_step': 2}},\n",
       "  {'v_id': '28587302332123',\n",
       "   'v_type': 'Person',\n",
       "   'attributes': {'Start.@sum_step': 2}},\n",
       "  {'v_id': '6597069774914',\n",
       "   'v_type': 'Person',\n",
       "   'attributes': {'Start.@sum_step': 2}},\n",
       "  {'v_id': '9079', 'v_type': 'Person', 'attributes': {'Start.@sum_step': 2}},\n",
       "  {'v_id': '21990232561273',\n",
       "   'v_type': 'Person',\n",
       "   'attributes': {'Start.@sum_step': 2}},\n",
       "  {'v_id': '15393162792433',\n",
       "   'v_type': 'Person',\n",
       "   'attributes': {'Start.@sum_step': 2}}])"
      ]
     },
     "execution_count": 12,
     "metadata": {},
     "output_type": "execute_result"
    }
   ],
   "source": [
    "res = feat.runAlgorithm(\"tg_bfs\", params=params)\n",
    "len(res[0]['Start']), res[0]['Start'][:10]"
   ]
  },
  {
   "cell_type": "markdown",
   "id": "47a2bf5d-f177-4c77-a9d0-b2938b5c8506",
   "metadata": {},
   "source": [
    "## tg_shortest_path\n",
    "Single-source shortest path algorithm, with unweighted edges."
   ]
  },
  {
   "cell_type": "code",
   "execution_count": 13,
   "id": "878e31c3-4d1b-4f4a-9479-415182c00042",
   "metadata": {},
   "outputs": [],
   "source": [
    "params = {\n",
    "    \"source\": {\"id\": \"21990232556463\", \"type\": \"Person\"}, ##{\"id\": \"vertex_id\", \"type\": \"vertex_type\"}\n",
    "    \"v_type_set\": [\"Person\"],\n",
    "    \"e_type_set\": [\"Knows\"],\n",
    "    \"print_limit\": 20,\n",
    "    \"print_results\": True,\n",
    "    \"result_attribute\": \"\",\n",
    "    \"file_path\": \"\",\n",
    "    \"display_edges\": False\n",
    "}"
   ]
  },
  {
   "cell_type": "code",
   "execution_count": 14,
   "id": "caa2bac5-7852-46fc-9bb3-684af9c53e1a",
   "metadata": {},
   "outputs": [
    {
     "name": "stdout",
     "output_type": "stream",
     "text": [
      "Installing and optimizing the queries, it might take a minute...\n",
      "Queries installed successfully\n",
      "peak memory: 131.82 MiB, increment: 0.40 MiB\n",
      "The CPU usage is:  24.1\n",
      "RAM Used (GB): 11.09198848\n",
      "tg_shortest_ss_no_wt executed successfully\n",
      "execution time: 40.10139513015747 seconds\n",
      "\n"
     ]
    }
   ],
   "source": [
    "start_time = time.time()\n",
    "\n",
    "algo_memory = %memit -r 1 -o feat.runAlgorithm(\"tg_shortest_ss_no_wt\", params=params)\n",
    "\n",
    "algo_memory = str(algo_memory)\n",
    "\n",
    "start = algo_memory.find(\": \") + 1\n",
    "end = algo_memory.find(\"M\")\n",
    "\n",
    "algo_memory = algo_memory[start:end].strip()\n",
    "\n",
    "execution_time = time.time() - start_time\n",
    "\n",
    "cpu_usage = psutil.cpu_percent(4)\n",
    "\n",
    "print('The CPU usage is: ', cpu_usage)\n",
    "\n",
    "# print('RAM memory % used:', psutil.virtual_memory()[2])\n",
    "\n",
    "host_memory = psutil.virtual_memory()[3]/1000000000\n",
    "\n",
    "print('RAM Used (GB):', host_memory)\n",
    "\n",
    "print ('tg_shortest_ss_no_wt executed successfully')\n",
    "\n",
    "print ('execution time: ' + str(execution_time) + ' seconds\\n')\n",
    "\n",
    "algo_id = \"tg_shortest_ss_no_wt_\" + config[\"job_id\"]\n",
    "\n",
    "nb_id = \"pathfinding.ipynb_\" + config[\"job_id\"]\n",
    "\n",
    "keyword = \"tg_shortest_ss_no_wt\"\n",
    "\n",
    "data = [algo_id, \"false\" ,cpu_usage, algo_memory, execution_time, host_memory, \"3.8\", \"no error\", nb_id, keyword]\n",
    "\n",
    "with open(algo_performance_out, mode='a+', encoding='utf-8') as f:\n",
    "    writer = csv.writer(f) \n",
    "    writer.writerow(data)"
   ]
  },
  {
   "cell_type": "code",
   "execution_count": 15,
   "id": "17538494-4b5e-4f9d-b256-609d2d8b9eda",
   "metadata": {},
   "outputs": [
    {
     "name": "stdout",
     "output_type": "stream",
     "text": [
      "20\n"
     ]
    },
    {
     "data": {
      "text/plain": [
       "[{'v_id': '15393162794623',\n",
       "  'v_type': 'Person',\n",
       "  'attributes': {'ResultSet.@min_dis': 3,\n",
       "   'ResultSet.@path_list': ['21990232556463',\n",
       "    '10995116278291',\n",
       "    '19791209304170',\n",
       "    '15393162794623']}},\n",
       " {'v_id': '13194139540583',\n",
       "  'v_type': 'Person',\n",
       "  'attributes': {'ResultSet.@min_dis': 3,\n",
       "   'ResultSet.@path_list': ['21990232556463',\n",
       "    '15393162795439',\n",
       "    '24189255821300',\n",
       "    '13194139540583']}},\n",
       " {'v_id': '30786325580605',\n",
       "  'v_type': 'Person',\n",
       "  'attributes': {'ResultSet.@min_dis': 2,\n",
       "   'ResultSet.@path_list': ['21990232556463',\n",
       "    '17592186045238',\n",
       "    '30786325580605']}},\n",
       " {'v_id': '13194139540951',\n",
       "  'v_type': 'Person',\n",
       "  'attributes': {'ResultSet.@min_dis': 2,\n",
       "   'ResultSet.@path_list': ['21990232556463',\n",
       "    '26388279075075',\n",
       "    '13194139540951']}},\n",
       " {'v_id': '6597069769055',\n",
       "  'v_type': 'Person',\n",
       "  'attributes': {'ResultSet.@min_dis': 2,\n",
       "   'ResultSet.@path_list': ['21990232556463',\n",
       "    '10995116286685',\n",
       "    '6597069769055']}}]"
      ]
     },
     "execution_count": 15,
     "metadata": {},
     "output_type": "execute_result"
    }
   ],
   "source": [
    "res = feat.runAlgorithm(\"tg_shortest_ss_no_wt\", params=params)\n",
    "print(len(res[0]['ResultSet']))\n",
    "res[0]['ResultSet'][:5]"
   ]
  },
  {
   "cell_type": "markdown",
   "id": "26e00437-44b9-4f70-9be4-490f0cbaaf2a",
   "metadata": {},
   "source": [
    "## tg_cycle_detection_count\n",
    "This is a distributed algorithm for detecting all the cycles on large-scale directed graphs."
   ]
  },
  {
   "cell_type": "code",
   "execution_count": 16,
   "id": "26cbe2a8-e48c-44bf-bd43-6b6d03b6f51e",
   "metadata": {},
   "outputs": [],
   "source": [
    "params =  {\n",
    "    \"v_type_set\": [\"Person\"],\n",
    "    \"e_type_set\": [\"Knows\"],\n",
    "    \"depth\": 2,\n",
    "    \"batches\": 2,\n",
    "    \"print_results\": True\n",
    "}"
   ]
  },
  {
   "cell_type": "code",
   "execution_count": 17,
   "id": "b69385cd-b0da-4031-9cad-2d8829eb7d9b",
   "metadata": {},
   "outputs": [
    {
     "name": "stdout",
     "output_type": "stream",
     "text": [
      "Installing and optimizing the queries, it might take a minute...\n",
      "Queries installed successfully\n",
      "peak memory: 130.04 MiB, increment: 0.08 MiB\n",
      "The CPU usage is:  26.7\n",
      "RAM Used (GB): 11.811397632\n",
      "tg_cycle_detection_count executed successfully\n",
      "execution time: 46.2645218372345 seconds\n",
      "\n"
     ]
    }
   ],
   "source": [
    "start_time = time.time()\n",
    "\n",
    "algo_memory = %memit -r 1 -o feat.runAlgorithm(\"tg_cycle_detection_count\", params=params)\n",
    "\n",
    "algo_memory = str(algo_memory)\n",
    "\n",
    "start = algo_memory.find(\": \") + 1\n",
    "end = algo_memory.find(\"M\")\n",
    "\n",
    "algo_memory = algo_memory[start:end].strip()\n",
    "\n",
    "execution_time = time.time() - start_time\n",
    "\n",
    "cpu_usage = psutil.cpu_percent(4)\n",
    "\n",
    "print('The CPU usage is: ', cpu_usage)\n",
    "\n",
    "# print('RAM memory % used:', psutil.virtual_memory()[2])\n",
    "\n",
    "host_memory = psutil.virtual_memory()[3]/1000000000\n",
    "\n",
    "print('RAM Used (GB):', host_memory)\n",
    "\n",
    "print ('tg_cycle_detection_count executed successfully')\n",
    "\n",
    "print ('execution time: ' + str(execution_time) + ' seconds\\n')\n",
    "\n",
    "algo_id = \"tg_cycle_detection_count_\" + config[\"job_id\"]\n",
    "\n",
    "nb_id = \"pathfinding.ipynb_\" + config[\"job_id\"]\n",
    "\n",
    "keyword = \"tg_cycle_detection_count\"\n",
    "\n",
    "data = [algo_id, \"false\" ,cpu_usage, algo_memory, execution_time, host_memory, \"3.8\", \"no error\", nb_id, keyword]\n",
    "\n",
    "with open(algo_performance_out, mode='a+', encoding='utf-8') as f:\n",
    "    writer = csv.writer(f) \n",
    "    writer.writerow(data)"
   ]
  },
  {
   "cell_type": "code",
   "execution_count": 18,
   "id": "7c3d28f6-c9ee-4271-bef6-0eadc29d85a0",
   "metadata": {},
   "outputs": [
    {
     "data": {
      "text/plain": [
       "[{'cycles': 180623}]"
      ]
     },
     "execution_count": 18,
     "metadata": {},
     "output_type": "execute_result"
    }
   ],
   "source": [
    "# Display Results\n",
    "res = feat.runAlgorithm(\"tg_cycle_detection_count\", params=params)\n",
    "res"
   ]
  }
 ],
 "metadata": {
  "kernelspec": {
   "display_name": "Python 3 (ipykernel)",
   "language": "python",
   "name": "python3"
  },
  "language_info": {
   "codemirror_mode": {
    "name": "ipython",
    "version": 3
   },
   "file_extension": ".py",
   "mimetype": "text/x-python",
   "name": "python",
   "nbconvert_exporter": "python",
   "pygments_lexer": "ipython3",
   "version": "3.9.6"
  },
  "vscode": {
   "interpreter": {
    "hash": "31f2aee4e71d21fbe5cf8b01ff0e069b9275f58929596ceb00d14d90e3e16cd6"
   }
  }
 },
 "nbformat": 4,
 "nbformat_minor": 5
}
