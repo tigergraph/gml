{
 "cells": [
  {
   "cell_type": "markdown",
   "id": "2b1447d8-e5be-41fc-9cee-a11d5f5c0ec9",
   "metadata": {},
   "source": [
    "# TigerGraph Data Science Library 101 - Similarity Algorithm\n",
    "This notebook shows the examples of using the most common similarity algorithms in TigerGraph Graph Science Library. More detailed explanations of these algorithms can be found in the official documentation (https://docs.tigergraph.com/graph-ml/current/similarity-algorithms/).\n",
    "\n",
    "\n",
    "## Step1: Setting things up\n",
    "- Connect and Load data\n",
    "- Visualize the graph schema \n",
    "- Get basic stats, e.g., counts of nodes & edges"
   ]
  },
  {
   "cell_type": "markdown",
   "id": "fa893321-7248-487b-8942-692bf6888ed0",
   "metadata": {},
   "source": [
    "### Create connection"
   ]
  },
  {
   "cell_type": "code",
   "execution_count": 1,
   "id": "6ddec0b6-2429-4e15-aa98-2fe0a128c43f",
   "metadata": {},
   "outputs": [],
   "source": [
    "import json\n",
    "import pandas as pd\n",
    "from pyTigerGraph import TigerGraphConnection\n",
    "\n",
    "# Read in DB configs\n",
    "with open('../config.json', \"r\") as config_file:\n",
    "    config = json.load(config_file)\n",
    "\n",
    "conn = TigerGraphConnection(\n",
    "    host=config[\"host\"],\n",
    "    username=config[\"username\"],\n",
    "    password=config[\"password\"],\n",
    ")"
   ]
  },
  {
   "cell_type": "markdown",
   "id": "cf9d528e-62c1-46a1-9e1d-011ecf266e2d",
   "metadata": {},
   "source": [
    "### Download movie dataset"
   ]
  },
  {
   "cell_type": "code",
   "execution_count": 2,
   "id": "2a4555e9-d9ab-4d8c-ad0c-226afec10e90",
   "metadata": {},
   "outputs": [
    {
     "data": {
      "application/vnd.jupyter.widget-view+json": {
       "model_id": "e6f2fd1869134adf8175e0a73373ada1",
       "version_major": 2,
       "version_minor": 0
      },
      "text/plain": [
       "Downloading:   0%|          | 0/2623 [00:00<?, ?it/s]"
      ]
     },
     "metadata": {},
     "output_type": "display_data"
    }
   ],
   "source": [
    "from pyTigerGraph.datasets import Datasets\n",
    "dataset_movie = Datasets(\"movie\")"
   ]
  },
  {
   "cell_type": "markdown",
   "id": "b41b68e5-8511-4cc7-8d8f-62913db2122f",
   "metadata": {
    "tags": []
   },
   "source": [
    "### Ingest data"
   ]
  },
  {
   "cell_type": "code",
   "execution_count": 3,
   "id": "b59d2ede-fd5a-4f25-bdd6-aaf2db778dcd",
   "metadata": {},
   "outputs": [
    {
     "name": "stdout",
     "output_type": "stream",
     "text": [
      "---- Checking database ----\n",
      "A graph with name movie already exists in the database. Skip ingestion.\n"
     ]
    }
   ],
   "source": [
    "conn.ingestDataset(dataset_movie, getToken=config[\"getToken\"])"
   ]
  },
  {
   "cell_type": "markdown",
   "id": "00092ce3-8b32-4134-a22f-3af5c35613cb",
   "metadata": {
    "tags": []
   },
   "source": [
    "### Visualize schema"
   ]
  },
  {
   "cell_type": "code",
   "execution_count": 4,
   "id": "bd0b5747-1753-4e05-b579-b3d93c2cc8cc",
   "metadata": {},
   "outputs": [
    {
     "data": {
      "application/vnd.jupyter.widget-view+json": {
       "model_id": "2d7aa0dd401b49f1a56b1481b862af0d",
       "version_major": 2,
       "version_minor": 0
      },
      "text/plain": [
       "CytoscapeWidget(cytoscape_layout={'name': 'circle', 'animate': True, 'padding': 1}, cytoscape_style=[{'selecto…"
      ]
     },
     "execution_count": 4,
     "metadata": {},
     "output_type": "execute_result"
    }
   ],
   "source": [
    "from pyTigerGraph.visualization import drawSchema\n",
    "drawSchema(conn.getSchema(force=True))"
   ]
  },
  {
   "cell_type": "markdown",
   "id": "d9aeca35-3f5e-4431-864d-0b1b927a3187",
   "metadata": {},
   "source": [
    "### Print graph stats"
   ]
  },
  {
   "cell_type": "code",
   "execution_count": 5,
   "id": "0c8910fc-01e9-4be3-a6f0-19c5c1b4f142",
   "metadata": {},
   "outputs": [
    {
     "name": "stdout",
     "output_type": "stream",
     "text": [
      "Node count: (Person : 7) \n",
      "Node count: (Movie : 9) \n",
      "Total node count:  16\n"
     ]
    }
   ],
   "source": [
    "vertices = conn.getVertexTypes()\n",
    "total_count = 0\n",
    "for vertex in vertices:\n",
    "    vertex_cnt = conn.getVertexCount(vertex)\n",
    "    total_count += vertex_cnt\n",
    "    print(\"Node count: ({} : {}) \".format(vertex, vertex_cnt))\n",
    "print(\"Total node count: \", total_count)"
   ]
  },
  {
   "cell_type": "code",
   "execution_count": 6,
   "id": "3b594d82-c048-49d8-9e8f-95a89ec3afeb",
   "metadata": {},
   "outputs": [
    {
     "name": "stdout",
     "output_type": "stream",
     "text": [
      "Edges count: total  30\n",
      "{'Likes': 15, 'Similarity': 0, 'reverse_Likes': 15}\n"
     ]
    }
   ],
   "source": [
    "import pprint\n",
    "edge_count = conn.getEdgeCount()\n",
    "print(\"Edges count: total \", sum(edge_count.values()))\n",
    "pprint.pprint(edge_count) "
   ]
  },
  {
   "cell_type": "markdown",
   "id": "84646c7e-f4fa-42a8-b7ea-d3ef3289d0e7",
   "metadata": {},
   "source": [
    "## Step 2: Leveraging pyTigerGraph’s featurizer to run Similarity algorithms\n",
    "\n",
    "pyTIgerGraph provides a full suit of data science capabilities, and in this tutorial, we will showcase how to use featurizer to list out all available Similarity algorithms in our GDS library, and to run a few popular algorithms as an example."
   ]
  },
  {
   "cell_type": "code",
   "execution_count": 7,
   "id": "c0ac95b2-3106-426e-b2ec-5de210368eb5",
   "metadata": {},
   "outputs": [],
   "source": [
    "feat = conn.gds.featurizer()"
   ]
  },
  {
   "cell_type": "code",
   "execution_count": 8,
   "id": "5f29ac28-bc35-40d8-b3dd-7517cf813c0e",
   "metadata": {},
   "outputs": [
    {
     "name": "stdout",
     "output_type": "stream",
     "text": [
      "Available algorithms for Similarity:\n",
      "  cosine:\n",
      "    single_source:\n",
      "      01. name: tg_cosine_nbor_ss\n",
      "  jaccard:\n",
      "    all_pairs:\n",
      "      02. name: tg_jaccard_nbor_ap_batch\n",
      "    single_source:\n",
      "      03. name: tg_jaccard_nbor_ss\n",
      "Call runAlgorithm() with the algorithm name to execute it\n"
     ]
    }
   ],
   "source": [
    "feat.listAlgorithms(\"Similarity\")"
   ]
  },
  {
   "cell_type": "markdown",
   "id": "1d13c2be-269d-4202-a284-5d9259e66ab2",
   "metadata": {},
   "source": [
    "## tg_cosine_nbor_ss\n",
    "This algorithm calculates the similarity between a given vertex and every other vertex in the graph using cosine similarity (https://docs.tigergraph.com/graph-ml/current/similarity-algorithms/cosine-similarity-of-neighborhoods-single-source)."
   ]
  },
  {
   "cell_type": "markdown",
   "id": "7bb56ba8-2562-416d-b9f6-f15e457bdd7e",
   "metadata": {},
   "source": [
    "## Input Parameters\n",
    "\n",
    "* VERTEX source: Source vertex {\"id\": \"vertex_id\", \"type\": \"vertex_type\"}\n",
    "* SET<STRING> e_type_set: Edge type to traverse\n",
    "* SET<STRING> reverse_e_type_set: Reverse edge type to traverse\n",
    "* STRING weight_attribute: The edge attribute to use as the weight of the edge.\n",
    "* INT top_k: The number of vertices to return\n",
    "* INT print_limit: The maximum number of vertices to return\n",
    "* BOOL print_results: Whether to output the final results to the console in JSON format\n",
    "* STRING filepath: If provided, the algorithm will save the output in CSV format to this file\n",
    "* STRING similarity_edge: If provided, the similarity score will be saved to this edge"
   ]
  },
  {
   "cell_type": "code",
   "execution_count": 15,
   "id": "9ea085b8-f2c5-4d12-ae3e-01c409e772de",
   "metadata": {},
   "outputs": [],
   "source": [
    "params = {\n",
    "    \"source\": {\"id\": \"Alex\", \"type\": \"Person\"},\n",
    "    \"e_type_set\": [\"Likes\"],\n",
    "    \"reverse_e_type_set\": [\"reverse_Likes\"],\n",
    "    \"weight_attribute\": \"weight\",\n",
    "    \"top_k\": 5,\n",
    "    \"print_limit\": 5,\n",
    "    \"print_results\": True,\n",
    "    \"file_path\": \"\",\n",
    "    \"similarity_edge\": \"Similarity\"\n",
    "}"
   ]
  },
  {
   "cell_type": "code",
   "execution_count": 16,
   "id": "e9224f33-2289-440e-9057-66105edf1847",
   "metadata": {},
   "outputs": [
    {
     "name": "stdout",
     "output_type": "stream",
     "text": [
      "The memory_profiler extension is already loaded. To reload it, use:\n",
      "  %reload_ext memory_profiler\n",
      "peak memory: 135.39 MiB, increment: 0.43 MiB\n",
      "The CPU usage is:  34.8\n",
      "RAM Used (GB): 11.187646464\n",
      "tg_cosine_nbor_ss executed successfully\n",
      "execution time: 0.36521410942077637 seconds\n",
      "\n"
     ]
    }
   ],
   "source": [
    "import csv\n",
    "import os\n",
    "import time\n",
    "import psutil\n",
    "!pip install memory_profiler\n",
    "%load_ext memory_profiler\n",
    "\n",
    "algo_performance_out = '/home/tigergraph/GraphML/output/algorithm_' + config[\"job_id\"] + '.csv'\n",
    "\n",
    "start_time = time.time()\n",
    "\n",
    "algo_memory = %memit -r 1 -o feat.runAlgorithm(\"tg_cosine_nbor_ss\", params=params)\n",
    "\n",
    "algo_memory = str(algo_memory)\n",
    "\n",
    "start = algo_memory.find(\": \") + 1\n",
    "end = algo_memory.find(\"M\")\n",
    "\n",
    "algo_memory = algo_memory[start:end].strip()\n",
    "\n",
    "execution_time = time.time() - start_time\n",
    "\n",
    "cpu_usage = psutil.cpu_percent(4)\n",
    "\n",
    "print('The CPU usage is: ', cpu_usage)\n",
    "\n",
    "# print('RAM memory % used:', psutil.virtual_memory()[2])\n",
    "\n",
    "host_memory = psutil.virtual_memory()[3]/1000000000\n",
    "\n",
    "print('RAM Used (GB):', host_memory)\n",
    "\n",
    "print ('tg_cosine_nbor_ss executed successfully')\n",
    "\n",
    "print ('execution time: ' + str(execution_time) + ' seconds\\n')\n",
    "\n",
    "algo_id = \"tg_cosine_nbor_ss_\" + config[\"job_id\"]\n",
    "\n",
    "nb_id = \"similarity.ipynb_\" + config[\"job_id\"]\n",
    "\n",
    "keyword = \"tg_cosine_nbor_ss\"\n",
    "\n",
    "data = [algo_id, \"false\" ,cpu_usage, algo_memory, execution_time, host_memory, \"3.8\", \"no error\", nb_id, keyword]\n",
    "\n",
    "with open(algo_performance_out, mode='a+', encoding='utf-8') as f:\n",
    "    writer = csv.writer(f) \n",
    "    writer.writerow(data)"
   ]
  },
  {
   "cell_type": "markdown",
   "id": "d06b0363-2940-4ce4-9678-f1599196bb20",
   "metadata": {
    "tags": []
   },
   "source": [
    "## Results\n",
    "\n",
    "The output size is almost always 𝑘, except in cases where the number of total vertices is lower than 𝑘. The algorithm may arbitrarily choose to output one vertex over another if there are tied similarity scores.\n",
    "\n",
    "using Movie graph, one way to calculate similarity between two people would be to see which movies they both rated similarly. Starting from one person’s name, this algorithm calculates the cosine similarity between the given person and every other person in the graph, as long as there is at least one movie they have both rated.\n",
    "\n",
    "Given the source vertex \"Alex\", and top_k is set to 5, then we calculate the cosine similarity between him and two other persons, Jing and Kevin (since the example graph does not have enough data to return 5 Person vertices). The output shows the most similar vertices and their similarity scores in descending order."
   ]
  },
  {
   "cell_type": "code",
   "execution_count": 17,
   "id": "efe96905-c8a6-418c-9379-943aec9c732d",
   "metadata": {},
   "outputs": [],
   "source": [
    "results = feat.runAlgorithm(\"tg_cosine_nbor_ss\", params=params)"
   ]
  },
  {
   "cell_type": "code",
   "execution_count": 18,
   "id": "6bdeea5f-9df7-468a-aa42-4bd32c8ea412",
   "metadata": {},
   "outputs": [
    {
     "data": {
      "text/html": [
       "<div>\n",
       "<style scoped>\n",
       "    .dataframe tbody tr th:only-of-type {\n",
       "        vertical-align: middle;\n",
       "    }\n",
       "\n",
       "    .dataframe tbody tr th {\n",
       "        vertical-align: top;\n",
       "    }\n",
       "\n",
       "    .dataframe thead th {\n",
       "        text-align: right;\n",
       "    }\n",
       "</style>\n",
       "<table border=\"1\" class=\"dataframe\">\n",
       "  <thead>\n",
       "    <tr style=\"text-align: right;\">\n",
       "      <th></th>\n",
       "      <th>v_id</th>\n",
       "      <th>v_type</th>\n",
       "      <th>attributes.neighbours.@sum_similarity</th>\n",
       "    </tr>\n",
       "  </thead>\n",
       "  <tbody>\n",
       "    <tr>\n",
       "      <th>0</th>\n",
       "      <td>Jing</td>\n",
       "      <td>Person</td>\n",
       "      <td>0.42173</td>\n",
       "    </tr>\n",
       "    <tr>\n",
       "      <th>1</th>\n",
       "      <td>Kevin</td>\n",
       "      <td>Person</td>\n",
       "      <td>0.14248</td>\n",
       "    </tr>\n",
       "  </tbody>\n",
       "</table>\n",
       "</div>"
      ],
      "text/plain": [
       "    v_id  v_type  attributes.neighbours.@sum_similarity\n",
       "0   Jing  Person                                0.42173\n",
       "1  Kevin  Person                                0.14248"
      ]
     },
     "metadata": {},
     "output_type": "display_data"
    }
   ],
   "source": [
    "df_cosine_nbor_ss = pd.json_normalize(results, record_path =['neighbours'])\n",
    "\n",
    "# display(df_cosine_nbor_ss.columns)\n",
    "\n",
    "display(df_cosine_nbor_ss.sort_values(by='attributes.neighbours.@sum_similarity', ascending=False))"
   ]
  },
  {
   "cell_type": "markdown",
   "id": "d318d305-ef63-4326-a997-f884bf86aa9e",
   "metadata": {},
   "source": [
    "## tg_jaccard_nbor_ss\n",
    "The Jaccard index measures the relative overlap between two sets. To compare two vertices by Jaccard similarity, first select a set of attribute values for each vertex (https://docs.tigergraph.com/graph-ml/current/similarity-algorithms/jaccard-similarity-of-neighborhoods-single-source)."
   ]
  },
  {
   "cell_type": "markdown",
   "id": "261230a9-505b-4076-a244-7708abd02187",
   "metadata": {},
   "source": [
    "## Input Parameters\n",
    "\n",
    "* VERTEX source: Source vertex {\"id\": \"vertex_id\", \"type\": \"vertex_type\"}\n",
    "* STRING e_type: Edge type to traverse\n",
    "* STRING reverse_e_type: Reverse edge type to traverse\n",
    "* INT top_k: The number of vertices to return\n",
    "* BOOL print_results: Whether to output the final results to the console in JSON format\n",
    "* STRING similarity_edge_type: If provided, the similarity score will be saved to this edge\n",
    "* STRING filepath: If provided, the algorithm will save the output in CSV format to this file"
   ]
  },
  {
   "cell_type": "code",
   "execution_count": 19,
   "id": "a1a29abb-945f-4ccf-8534-b609d3116250",
   "metadata": {},
   "outputs": [],
   "source": [
    "params = {\n",
    "    \"source\": {\"id\": \"Neil\", \"type\": \"Person\"},\n",
    "    \"e_type\": \"Likes\",\n",
    "    \"reverse_e_type\": \"reverse_Likes\",\n",
    "    \"top_k\": 5,\n",
    "    \"print_results\": True,\n",
    "    \"similarity_edge_type\": \"Similarity\",\n",
    "    \"file_path\": \"\",\n",
    "}"
   ]
  },
  {
   "cell_type": "code",
   "execution_count": 20,
   "id": "aac0dc7b-5998-445a-bdce-3eb504af4892",
   "metadata": {},
   "outputs": [
    {
     "name": "stdout",
     "output_type": "stream",
     "text": [
      "Installing and optimizing the queries, it might take a minute...\n",
      "Queries installed successfully\n",
      "peak memory: 135.49 MiB, increment: 0.08 MiB\n",
      "The CPU usage is:  37.5\n",
      "RAM Used (GB): 11.238305792\n",
      "tg_jaccard_nbor_ss executed successfully\n",
      "execution time: 36.686015605926514 seconds\n",
      "\n"
     ]
    }
   ],
   "source": [
    "start_time = time.time()\n",
    "\n",
    "algo_memory = %memit -r 1 -o feat.runAlgorithm(\"tg_jaccard_nbor_ss\", params=params)\n",
    "\n",
    "algo_memory = str(algo_memory)\n",
    "\n",
    "start = algo_memory.find(\": \") + 1\n",
    "end = algo_memory.find(\"M\")\n",
    "\n",
    "algo_memory = algo_memory[start:end].strip()\n",
    "\n",
    "execution_time = time.time() - start_time\n",
    "\n",
    "cpu_usage = psutil.cpu_percent(4)\n",
    "\n",
    "print('The CPU usage is: ', cpu_usage)\n",
    "\n",
    "# print('RAM memory % used:', psutil.virtual_memory()[2])\n",
    "\n",
    "host_memory = psutil.virtual_memory()[3]/1000000000\n",
    "\n",
    "print('RAM Used (GB):', host_memory)\n",
    "\n",
    "print ('tg_jaccard_nbor_ss executed successfully')\n",
    "\n",
    "print ('execution time: ' + str(execution_time) + ' seconds\\n')\n",
    "\n",
    "algo_id = \"tg_jaccard_nbor_ss_\" + config[\"job_id\"]\n",
    "\n",
    "nb_id = \"similarity.ipynb_\" + config[\"job_id\"]\n",
    "\n",
    "keyword = \"tg_jaccard_nbor_ss\"\n",
    "\n",
    "data = [algo_id, \"false\" ,cpu_usage, algo_memory, execution_time, host_memory, \"3.8\", \"no error\", nb_id, keyword]\n",
    "\n",
    "with open(algo_performance_out, mode='a+', encoding='utf-8') as f:\n",
    "    writer = csv.writer(f) \n",
    "    writer.writerow(data)"
   ]
  },
  {
   "cell_type": "markdown",
   "id": "1c3104e4-bf78-4e29-b2c6-1d576637fe2b",
   "metadata": {
    "tags": []
   },
   "source": [
    "## Results\n",
    "\n",
    "This example uses Movie graph consisting of Person and Movie vertices. There are Likes edges that are weighted according to how much the person liked the movie. Each person in the dataset liked at least one movie, but not all movies were liked by all people.\n",
    "\n",
    "When comparing similarity to Neil, Kat is ranked higher than Kevin. This makes intuitive sense, because Kat likes two movies, both of which were also liked by Neil. Kevin also likes two movies that Neil likes. However, Kevin also likes a third movie that Neil doesn’t like, and is therefore less similar than Kat was.\n",
    "\n",
    "Although we set top_k to 5, only three vertices were returned because neither Alex nor Elena likes any movies that Kevin likes.\n",
    "\n",
    "If the source vertex (Person) doesn’t have any common neighbors (Movie) with any other vertex (Person), such as Elena in our example, the result is an empty list."
   ]
  },
  {
   "cell_type": "code",
   "execution_count": 23,
   "id": "9e17eba6-65e5-4ab0-9548-7d11955093f2",
   "metadata": {},
   "outputs": [],
   "source": [
    "results = feat.runAlgorithm(\"tg_jaccard_nbor_ss\", params=params)"
   ]
  },
  {
   "cell_type": "code",
   "execution_count": 24,
   "id": "db9a50a8-2b10-4839-b891-18d63a154ec5",
   "metadata": {},
   "outputs": [
    {
     "data": {
      "text/html": [
       "<div>\n",
       "<style scoped>\n",
       "    .dataframe tbody tr th:only-of-type {\n",
       "        vertical-align: middle;\n",
       "    }\n",
       "\n",
       "    .dataframe tbody tr th {\n",
       "        vertical-align: top;\n",
       "    }\n",
       "\n",
       "    .dataframe thead th {\n",
       "        text-align: right;\n",
       "    }\n",
       "</style>\n",
       "<table border=\"1\" class=\"dataframe\">\n",
       "  <thead>\n",
       "    <tr style=\"text-align: right;\">\n",
       "      <th></th>\n",
       "      <th>v_id</th>\n",
       "      <th>v_type</th>\n",
       "      <th>attributes.Others.@sum_similarity</th>\n",
       "    </tr>\n",
       "  </thead>\n",
       "  <tbody>\n",
       "    <tr>\n",
       "      <th>1</th>\n",
       "      <td>Kat</td>\n",
       "      <td>Person</td>\n",
       "      <td>0.5</td>\n",
       "    </tr>\n",
       "    <tr>\n",
       "      <th>2</th>\n",
       "      <td>Kevin</td>\n",
       "      <td>Person</td>\n",
       "      <td>0.4</td>\n",
       "    </tr>\n",
       "    <tr>\n",
       "      <th>0</th>\n",
       "      <td>Jing</td>\n",
       "      <td>Person</td>\n",
       "      <td>0.2</td>\n",
       "    </tr>\n",
       "  </tbody>\n",
       "</table>\n",
       "</div>"
      ],
      "text/plain": [
       "    v_id  v_type  attributes.Others.@sum_similarity\n",
       "1    Kat  Person                                0.5\n",
       "2  Kevin  Person                                0.4\n",
       "0   Jing  Person                                0.2"
      ]
     },
     "metadata": {},
     "output_type": "display_data"
    }
   ],
   "source": [
    "df_jaccard_nbor_ss = pd.json_normalize(results, record_path =['Others'])\n",
    "\n",
    "display(df_jaccard_nbor_ss.sort_values(by='attributes.Others.@sum_similarity', ascending=False))"
   ]
  },
  {
   "cell_type": "markdown",
   "id": "37cf00ad-865d-44e4-9a08-cfd7fe697141",
   "metadata": {},
   "source": [
    "## tg_jaccard_nbor_ap_batch\n",
    "This algorithm computes the same similarity scores as the Jaccard similarity of neighborhoods, single source. Instead of selecting a single source vertex, however, it calculates similarity scores for all vertex pairs in the graph in parallel. Since this is a memory-intensive operation, it is split into batches to reduce peak memory usage. The user can specify how many batches it is to be split into. (https://docs.tigergraph.com/graph-ml/current/similarity-algorithms/jaccard-similarity-of-neighborhoods-batch)"
   ]
  },
  {
   "cell_type": "markdown",
   "id": "70f5e6d6-f828-4a67-a66b-0f8a1ce8459d",
   "metadata": {},
   "source": [
    "## Input Parameters\n",
    "\n",
    "* INT top_k: The number of vertices to return\n",
    "* SET<STRING> v_type_set: Vertex type used to calculate similarity score\n",
    "* SET<STRING> feat_v_type: Feature vertex type\n",
    "* SET<STRING> e_type_set: Edge type to traverse\n",
    "* SET<STRING> reverse_e_type_set: Reverse edge type to traverse\n",
    "* STRING similarity_edge: If provided, the similarity score will be saved to this edge\n",
    "* INT src_batch_num: The number of batches to split the source vertices into\n",
    "* INT nbor_batch_num: The number of batches to split the 2-hop neighbor vertices into\n",
    "* BOOL print_accum: Whether to output the final results to the console in JSON format\n",
    "* INT print_limit: The number of source vertices to print, -1 to print all\n",
    "* STRING filepath: If provided, the algorithm will save the output in CSV format to this file"
   ]
  },
  {
   "cell_type": "code",
   "execution_count": 25,
   "id": "aea0ca3d-61b0-4b78-9fcb-8663ea3c4a47",
   "metadata": {},
   "outputs": [],
   "source": [
    "params = {\n",
    "    \"top_k\": 10,\n",
    "    \"v_type_set\": [\"Person\"],\n",
    "    \"feat_v_type\": [\"Movie\"],\n",
    "    \"e_type_set\": [\"Likes\"],\n",
    "    \"reverse_e_type_set\": [\"reverse_Likes\"],\n",
    "    \"similarity_edge\": \"Similarity\",\n",
    "    \"src_batch_num\": 50,\n",
    "    \"nbor_batch_num\": 10,\n",
    "    \"print_results\": True,\n",
    "    \"print_limit\": 50,\n",
    "    \"file_path\": \"\"\n",
    "}"
   ]
  },
  {
   "cell_type": "code",
   "execution_count": 26,
   "id": "b6b9e02e-2c48-4cdd-b54b-6682ada3f478",
   "metadata": {},
   "outputs": [
    {
     "name": "stdout",
     "output_type": "stream",
     "text": [
      "Installing and optimizing the queries, it might take a minute...\n",
      "Queries installed successfully\n",
      "peak memory: 135.75 MiB, increment: 0.49 MiB\n",
      "The CPU usage is:  30.7\n",
      "RAM Used (GB): 11.342086144\n",
      "tg_jaccard_nbor_ap_batch executed successfully\n",
      "execution time: 41.26648306846619 seconds\n",
      "\n"
     ]
    }
   ],
   "source": [
    "start_time = time.time()\n",
    "\n",
    "algo_memory = %memit -r 1 -o feat.runAlgorithm(\"tg_jaccard_nbor_ap_batch\", params=params)\n",
    "\n",
    "algo_memory = str(algo_memory)\n",
    "\n",
    "start = algo_memory.find(\": \") + 1\n",
    "end = algo_memory.find(\"M\")\n",
    "\n",
    "algo_memory = algo_memory[start:end].strip()\n",
    "\n",
    "execution_time = time.time() - start_time\n",
    "\n",
    "cpu_usage = psutil.cpu_percent(4)\n",
    "\n",
    "print('The CPU usage is: ', cpu_usage)\n",
    "\n",
    "# print('RAM memory % used:', psutil.virtual_memory()[2])\n",
    "\n",
    "host_memory = psutil.virtual_memory()[3]/1000000000\n",
    "\n",
    "print('RAM Used (GB):', host_memory)\n",
    "\n",
    "print ('tg_jaccard_nbor_ap_batch executed successfully')\n",
    "\n",
    "print ('execution time: ' + str(execution_time) + ' seconds\\n')\n",
    "\n",
    "algo_id = \"tg_jaccard_nbor_ap_batch_\" + config[\"job_id\"]\n",
    "\n",
    "nb_id = \"similarity.ipynb_\" + config[\"job_id\"]\n",
    "\n",
    "keyword = \"tg_jaccard_nbor_ap_batch\"\n",
    "\n",
    "data = [algo_id, \"false\" ,cpu_usage, algo_memory, execution_time, host_memory, \"3.8\", \"no error\", nb_id, keyword]\n",
    "\n",
    "with open(algo_performance_out, mode='a+', encoding='utf-8') as f:\n",
    "    writer = csv.writer(f) \n",
    "    writer.writerow(data)"
   ]
  },
  {
   "cell_type": "markdown",
   "id": "2adde08d-c110-4949-856f-bad747f8aa2c",
   "metadata": {},
   "source": [
    "## Results\n",
    "\n",
    "The result contains the top k Jaccard similarity scores for each vertex and its corresponding pair. A pair is only included if its similarity is greater than 0, meaning there is at least one common neighbor between the pair."
   ]
  },
  {
   "cell_type": "code",
   "execution_count": 27,
   "id": "0b35f991-b4c4-4ace-83cc-b165ad5e92c7",
   "metadata": {},
   "outputs": [],
   "source": [
    "results = feat.runAlgorithm(\"tg_jaccard_nbor_ap_batch\", params=params)"
   ]
  },
  {
   "cell_type": "code",
   "execution_count": 28,
   "id": "941aa887-d4e1-41f3-be52-3cde41feff74",
   "metadata": {},
   "outputs": [
    {
     "name": "stdout",
     "output_type": "stream",
     "text": [
      "Elena Person\n",
      "Neil Person\n",
      "{'ver': 'Kat', 'val': 0.5}\n",
      "{'ver': 'Kevin', 'val': 0.4}\n",
      "{'ver': 'Jing', 'val': 0.2}\n",
      "Jing Person\n",
      "{'ver': 'Alex', 'val': 0.25}\n",
      "{'ver': 'Neil', 'val': 0.2}\n",
      "Kat Person\n",
      "{'ver': 'Neil', 'val': 0.5}\n",
      "{'ver': 'Kevin', 'val': 0.25}\n",
      "Alex Person\n",
      "{'ver': 'Jing', 'val': 0.25}\n",
      "{'ver': 'Kevin', 'val': 0.2}\n",
      "Kevin Person\n",
      "{'ver': 'Neil', 'val': 0.4}\n",
      "{'ver': 'Kat', 'val': 0.25}\n",
      "{'ver': 'Alex', 'val': 0.2}\n"
     ]
    }
   ],
   "source": [
    "df_jaccard_nbor_ap_batch = pd.json_normalize(results, record_path =['print_batch'])\n",
    "\n",
    "df_jaccard_nbor_ap_batch.columns = ['v_id', 'v_type', 'sim_heap']\n",
    "\n",
    "df_jaccard_nbor_ap_batch = df_jaccard_nbor_ap_batch.reset_index()\n",
    "\n",
    "for index, row in df_jaccard_nbor_ap_batch.iterrows():\n",
    "    print(row['v_id'], row['v_type'])\n",
    "    for p in row['sim_heap']:\n",
    "        print(p)"
   ]
  }
 ],
 "metadata": {
  "kernelspec": {
   "display_name": "Python 3",
   "language": "python",
   "name": "python3"
  },
  "language_info": {
   "codemirror_mode": {
    "name": "ipython",
    "version": 3
   },
   "file_extension": ".py",
   "mimetype": "text/x-python",
   "name": "python",
   "nbconvert_exporter": "python",
   "pygments_lexer": "ipython3",
   "version": "3.9.6 (default, Oct 18 2022, 12:41:40) \n[Clang 14.0.0 (clang-1400.0.29.202)]"
  },
  "vscode": {
   "interpreter": {
    "hash": "31f2aee4e71d21fbe5cf8b01ff0e069b9275f58929596ceb00d14d90e3e16cd6"
   }
  }
 },
 "nbformat": 4,
 "nbformat_minor": 5
}
