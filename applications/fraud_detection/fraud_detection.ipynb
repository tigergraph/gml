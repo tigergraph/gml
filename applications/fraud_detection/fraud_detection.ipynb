{
 "cells": [
  {
   "attachments": {},
   "cell_type": "markdown",
   "id": "4cbb8325-7d5b-4e6d-aaf9-040961c7fa4b",
   "metadata": {
    "tags": []
   },
   "source": [
    "# Detecting Fraudulent Accounts on the Ethereum Blockchain\n",
    "### A Comprehensive Tutorial Using Graph Features and Machine Learning"
   ]
  },
  {
   "attachments": {},
   "cell_type": "markdown",
   "id": "2cdc9404-be58-401a-be8a-3dca48822d65",
   "metadata": {},
   "source": [
    "## Overview:\n",
    "In this tutorial, we delve into the exciting world of fraud detection on the Ethereum platform, focusing on transactions between accounts. Leveraging powerful tools like the `featurizer` in [pyTigerGraph](https://docs.tigergraph.com/pytigergraph/current/intro/), we engineer essential graph features from the transaction graph. To facilitate data retrieval, we employ the data loaders in pyTigerGraph, extracting valuable information from the TigerGraph database.\n",
    "\n",
    "Our approach further incorporates [xgboost](https://xgboost.readthedocs.io/en/stable/), a gradient boost tree model, and [PyTorch Geometric](https://pytorch-geometric.readthedocs.io/en/latest/), enabling us to build powerful GNN (Graph Neural Network) models.\n",
    "\n",
    "The dataset under study comprises transactions on the Ethereum platform, forming a transaction graph for Ether, the second-largest cryptocurrency. Wallets (i.e., accounts) on the platform serve as vertices in the graph, while edges represent transactions between these accounts. With 32,168 vertices and 84,088 edges, the dataset is derived from the publicly available Ethereum dataset from [XBlock](https://xblock.pro/ethereum#/dataset/13).\n",
    "\n",
    "In this tutorial, we will explore various implementations of XGBoost and Graph Neural Networks (GNN) to achieve specific results. The covered topics include:\n",
    "\n",
    "1. XGBoost without Graph Features\n",
    "2. XGBoost with Graph Features\n",
    "3. XGBoost with Graph Features and FastRP embeddings\n",
    "4. GNN with Graph Features and GraphSAGE\n",
    "\n",
    "By following the step-by-step instructions provided for each method, we aim to obtain the desired outcomes:\n",
    "\n",
    "| Model Type                                        | Accuracy        | Precision | Recall | Accuracy Improvement from Baseline |\n",
    "|---------------------------------------------------|-----------------|-----------|--------|------------------------------------|\n",
    "| XGBoost without Graph Features                    | 0.7531 (75.31%) | 0.1326    | 0.9959 | -                                  |\n",
    "| XGBoost with Graph Features                       | 0.7746 (76.46%) | 0.1435    | 0.9959 | + 2.15%                            |\n",
    "| XGBoost with Graph Features and FastRP embeddings | 0.8956 (89.56%) | 0.2647    | 0.9876 | + 14.25%                           |\n",
    "| GNN with Graph Features and GraphSAGE             | 0.9662 (96.62%) | 0.5468    | 0.6307 | + 21.31%                           |\n",
    "\n",
    "Join us on this captivating journey as we explore the intricacies of detecting fraudulent accounts on the Ethereum blockchain using cutting-edge graph features and machine learning techniques."
   ]
  },
  {
   "attachments": {},
   "cell_type": "markdown",
   "id": "ba321ab4-50db-4e5d-a177-44714142b6f5",
   "metadata": {},
   "source": [
    "## Database Preparation\n",
    "### Establishing a Connection to the TigerGraph Database\n",
    "To interact with the TigerGraph database, we will utilize the `TigerGraphConnection` class, which serves as the gateway for communication. This class encapsulates all the essential information required to establish and maintain a connection with the database. For more in-depth information on its functionalities, you can refer to the official [documentation](https://docs.tigergraph.com/pytigergraph/current/intro/).\n",
    "\n",
    "To connect to your specific database, kindly make the necessary modifications in the `config.json` file that accompanies this notebook. In particular, ensure you set the value of `getToken` appropriately, depending on whether token authentication is enabled for your database. Note that token authentication is always enabled for tgcloud databases.\n",
    "\n",
    "Let's proceed with the code implementation:"
   ]
  },
  {
   "cell_type": "code",
   "execution_count": 1,
   "id": "21d25e93-beaa-4b28-aa49-1e96f3f9a667",
   "metadata": {},
   "outputs": [],
   "source": [
    "from pyTigerGraph import TigerGraphConnection\n",
    "import json\n",
    "\n",
    "# Read in DB configs\n",
    "with open('../../config.json', \"r\") as config_file:\n",
    "    config = json.load(config_file)\n",
    "    \n",
    "conn = TigerGraphConnection(\n",
    "    host=config[\"host\"],\n",
    "    username=config[\"username\"],\n",
    "    password=config[\"password\"]\n",
    ")"
   ]
  },
  {
   "attachments": {},
   "cell_type": "markdown",
   "id": "cf098c3a",
   "metadata": {},
   "source": [
    "The provided Python code establishes a connection to the TigerGraph database. It reads the necessary configuration details from the `config.json` file and uses them to initialize the `TigerGraphConnection`. Once the connection is successfully established, we will be ready to perform various database tasks and interact with the data seamlessly."
   ]
  },
  {
   "attachments": {},
   "cell_type": "markdown",
   "id": "d84e1c1d",
   "metadata": {},
   "source": [
    "### Download Ethereum dataset and ingest it to the database.\n",
    "To enrich our analysis, we begin by downloading the Ethereum dataset, a crucial step in our project. Leveraging the `pyTigerGraph` library, we make use of the `Datasets` module to access the Ethereum dataset seamlessly. By instantiating the `Datasets` class with the parameter \"Ethereum,\" we ensure that we obtain the appropriate dataset for our study. Subsequently, we proceed to ingest this dataset into the TigerGraph database through the `conn.ingestDataset()` function. To ensure a secure and authenticated ingestion process, we pass the required token using `getToken=config[\"getToken\"]`. This essential operation forms the foundation for our subsequent analysis, enabling us to explore the Ethereum transaction graph and derive valuable insights for our fraud detection project."
   ]
  },
  {
   "cell_type": "code",
   "execution_count": null,
   "id": "abb4d783",
   "metadata": {},
   "outputs": [],
   "source": [
    "from pyTigerGraph.datasets import Datasets\n",
    "dataset = Datasets(\"Ethereum\")\n",
    "conn.ingestDataset(dataset, getToken=config[\"getToken\"])"
   ]
  },
  {
   "attachments": {},
   "cell_type": "markdown",
   "id": "925034ad-9181-45d6-a7fd-4c5b04fbe633",
   "metadata": {},
   "source": [
    "### Visualize schema\n",
    "The next step in our project involves visualizing the schema of the TigerGraph database. To achieve this, we leverage the `pyTigerGraph` library's powerful visualization capabilities. By utilizing the `drawSchema` function from the `visualization` module, we obtain a clear and comprehensive representation of the database schema."
   ]
  },
  {
   "cell_type": "code",
   "execution_count": 3,
   "id": "35b90386-358d-44e2-988f-9b78d0fd9bbe",
   "metadata": {},
   "outputs": [
    {
     "data": {
      "application/vnd.jupyter.widget-view+json": {
       "model_id": "c5b3f4ceb9c24d64acd610b50ff67100",
       "version_major": 2,
       "version_minor": 0
      },
      "text/plain": [
       "CytoscapeWidget(cytoscape_layout={'name': 'circle', 'animate': True, 'padding': 1}, cytoscape_style=[{'selecto…"
      ]
     },
     "execution_count": 3,
     "metadata": {},
     "output_type": "execute_result"
    }
   ],
   "source": [
    "from pyTigerGraph.visualization import drawSchema\n",
    "drawSchema(conn.getSchema(force=True))"
   ]
  },
  {
   "attachments": {},
   "cell_type": "markdown",
   "id": "af206419-7b1b-4ca6-bb16-b5fbe8d589a1",
   "metadata": {},
   "source": [
    "## Graph Feature Engineering\n",
    "\n",
    "pyTigerGraph's featurizer empowers us with over 30 graph algorithms for essential feature calculations. Combining built-in **pagerank** and **FastRP** algorithms with **custom queries**, we derive valuable insights from the Ethereum transaction graph, laying the groundwork for our fraud detection analysis."
   ]
  },
  {
   "attachments": {},
   "cell_type": "markdown",
   "id": "c69ad849-cb1c-47fc-a9fe-51590a006c45",
   "metadata": {},
   "source": [
    "### Initializing Featurizer Class\n",
    "The Python code `f = conn.gds.featurizer()` creates an instance of the `Featurizer` class from the `gds` module in the `pyTigerGraph` library. This line of code initializes a variable `f` that represents the featurizer object, allowing you to access and utilize the various graph algorithms and features provided by the `Featurizer` class.\n",
    "\n",
    "With this instance, you gain the ability to apply a wide range of graph algorithms and feature calculations to the data within the TigerGraph database. These features can be used for further analysis, machine learning, or any other tasks that require insightful graph feature engineering."
   ]
  },
  {
   "cell_type": "code",
   "execution_count": null,
   "id": "f5d8a995-6d20-4bdc-a985-b68730abc2d7",
   "metadata": {},
   "outputs": [
    {
     "ename": "",
     "evalue": "",
     "output_type": "error",
     "traceback": [
      "\u001b[1;31mRunning cells with '/usr/local/bin/python3' requires ipykernel package.\n",
      "\u001b[1;31mRun the following command to install 'ipykernel' into the Python environment. \n",
      "\u001b[1;31mCommand: '/usr/local/bin/python3 -m pip install ipykernel -U --user --force-reinstall'"
     ]
    }
   ],
   "source": [
    "f = conn.gds.featurizer()"
   ]
  },
  {
   "attachments": {},
   "cell_type": "markdown",
   "id": "bed10d38-a617-419d-994f-6d98c7d43258",
   "metadata": {},
   "source": [
    "### PageRank\n",
    "The algorithm used in this code is [PageRank](https://docs.tigergraph.com/graph-ml/current/centrality-algorithms/pagerank), a classic graph algorithm that plays a crucial role in network analysis. In this particular implementation, `PageRank` is employed to rank and identify the most influential vertices (accounts) within the transaction graph (edges) of the Ethereum dataset. The algorithm takes parameters, such as the vertex type `(\"Account\")`, edge type `(\"Transaction\"`), and the desired result attribute `(\"pagerank\")`, which indicates the specific attribute representing the `PageRank` score for each account. Additionally, the parameter `\"top_k\"` is set to 5, meaning the algorithm will return the top 5 accounts with the highest `PageRank` scores.\n",
    "\n",
    "Upon executing the algorithm with these parameters, the results are stored in the variable `\"results.\"` The code then uses the pandas library to normalize the results and create a tabular representation, allowing for easy analysis and interpretation of the top scores (highest PageRank) and their corresponding accounts. The output provides valuable insights into the most influential accounts in the Ethereum transaction graph, which can be instrumental in various analyses, including fraud detection and network analysis."
   ]
  },
  {
   "cell_type": "code",
   "execution_count": 4,
   "id": "b2fc73a9-fc10-494f-9c75-59b0dcc80474",
   "metadata": {},
   "outputs": [
    {
     "data": {
      "text/html": [
       "<div>\n",
       "<style scoped>\n",
       "    .dataframe tbody tr th:only-of-type {\n",
       "        vertical-align: middle;\n",
       "    }\n",
       "\n",
       "    .dataframe tbody tr th {\n",
       "        vertical-align: top;\n",
       "    }\n",
       "\n",
       "    .dataframe thead th {\n",
       "        text-align: right;\n",
       "    }\n",
       "</style>\n",
       "<table border=\"1\" class=\"dataframe\">\n",
       "  <thead>\n",
       "    <tr style=\"text-align: right;\">\n",
       "      <th></th>\n",
       "      <th>Vertex_ID</th>\n",
       "      <th>score</th>\n",
       "    </tr>\n",
       "  </thead>\n",
       "  <tbody>\n",
       "    <tr>\n",
       "      <th>0</th>\n",
       "      <td>0x903bb9cd3a276d8f18fa6efed49b9bc52ccf06e5</td>\n",
       "      <td>741.65002</td>\n",
       "    </tr>\n",
       "    <tr>\n",
       "      <th>1</th>\n",
       "      <td>0x47779ea9849c7eec04197b21f9554931b8fcd5f4</td>\n",
       "      <td>607.40936</td>\n",
       "    </tr>\n",
       "    <tr>\n",
       "      <th>2</th>\n",
       "      <td>0xbfa82fbe0e66d8e2b7dcc16328db9ecd70533d13</td>\n",
       "      <td>212.12219</td>\n",
       "    </tr>\n",
       "    <tr>\n",
       "      <th>3</th>\n",
       "      <td>0x3cbd2e6143f057bd49ffb4c7058217a5900c35d3</td>\n",
       "      <td>179.57889</td>\n",
       "    </tr>\n",
       "    <tr>\n",
       "      <th>4</th>\n",
       "      <td>0x5df65e16d6ec1a8090ffa11c8185ad372a8786cd</td>\n",
       "      <td>173.81006</td>\n",
       "    </tr>\n",
       "  </tbody>\n",
       "</table>\n",
       "</div>"
      ],
      "text/plain": [
       "                                    Vertex_ID      score\n",
       "0  0x903bb9cd3a276d8f18fa6efed49b9bc52ccf06e5  741.65002\n",
       "1  0x47779ea9849c7eec04197b21f9554931b8fcd5f4  607.40936\n",
       "2  0xbfa82fbe0e66d8e2b7dcc16328db9ecd70533d13  212.12219\n",
       "3  0x3cbd2e6143f057bd49ffb4c7058217a5900c35d3  179.57889\n",
       "4  0x5df65e16d6ec1a8090ffa11c8185ad372a8786cd  173.81006"
      ]
     },
     "execution_count": 4,
     "metadata": {},
     "output_type": "execute_result"
    }
   ],
   "source": [
    "import pandas as pd\n",
    "\n",
    "tg_pagerank_params = {\n",
    "  \"v_type\": \"Account\",\n",
    "  \"e_type\": \"Transaction\",\n",
    "  \"result_attribute\": \"pagerank\",\n",
    "  \"top_k\":5  \n",
    "}\n",
    "results = f.runAlgorithm(\"tg_pagerank\", tg_pagerank_params)\n",
    "\n",
    "pd.json_normalize(results[0]['@@top_scores_heap'])"
   ]
  },
  {
   "attachments": {},
   "cell_type": "markdown",
   "id": "bb54f582",
   "metadata": {},
   "source": [
    "### Betweeness Centraility\n",
    "Next, lets utilized the algorithim [Betweenness Centrality](https://docs.tigergraph.com/graph-ml/current/centrality-algorithms/betweenness-centrality), a fundamental measure in graph theory that quantifies the importance of a vertex (account) within a network. Specifically, it calculates the number of shortest paths that pass through a given vertex, representing its influence in controlling the flow of information or transactions in the graph. \n",
    "\n",
    "In this implementation, `Betweenness Centrality` is applied to the Ethereum dataset's transaction graph to identify the most critical accounts that act as essential intermediaries in the flow of transactions. The algorithm's parameters are specified, including the vertex type set `(\"Account\")`, the edge type set `(\"Transaction\")`, and the reverse edge type `(\"reverse_Transaction\")`, which allows for bi-directional traversal. The `\"result_attribute\"` is set to \"betweenness,\" signifying that the algorithm will compute the betweenness centrality score for each account. Additionally, `\"top_k\"` is set to 5, indicating that the algorithm will return the top 5 accounts with the highest betweenness centrality scores. The results are stored in the variable \"results\" and are further presented in tabular format using pandas for easy analysis and interpretation, "
   ]
  },
  {
   "cell_type": "code",
   "execution_count": 5,
   "id": "134ef93b-0b21-42e3-b995-2c93415c4a52",
   "metadata": {},
   "outputs": [
    {
     "data": {
      "text/html": [
       "<div>\n",
       "<style scoped>\n",
       "    .dataframe tbody tr th:only-of-type {\n",
       "        vertical-align: middle;\n",
       "    }\n",
       "\n",
       "    .dataframe tbody tr th {\n",
       "        vertical-align: top;\n",
       "    }\n",
       "\n",
       "    .dataframe thead th {\n",
       "        text-align: right;\n",
       "    }\n",
       "</style>\n",
       "<table border=\"1\" class=\"dataframe\">\n",
       "  <thead>\n",
       "    <tr style=\"text-align: right;\">\n",
       "      <th></th>\n",
       "      <th>Vertex_ID</th>\n",
       "      <th>score</th>\n",
       "    </tr>\n",
       "  </thead>\n",
       "  <tbody>\n",
       "    <tr>\n",
       "      <th>0</th>\n",
       "      <td>0x3cbd2e6143f057bd49ffb4c7058217a5900c35d3</td>\n",
       "      <td>890086.31250</td>\n",
       "    </tr>\n",
       "    <tr>\n",
       "      <th>1</th>\n",
       "      <td>0x9ef89d10d8c77755bfe263903966eebb73f721e8</td>\n",
       "      <td>234812.15625</td>\n",
       "    </tr>\n",
       "    <tr>\n",
       "      <th>2</th>\n",
       "      <td>0x89474953d6bc8275b88e331fdf1a92d552563712</td>\n",
       "      <td>210731.98438</td>\n",
       "    </tr>\n",
       "    <tr>\n",
       "      <th>3</th>\n",
       "      <td>0xa0bf76c8de60a1089fbb8567b2beeca6ec01ca32</td>\n",
       "      <td>138044.75000</td>\n",
       "    </tr>\n",
       "    <tr>\n",
       "      <th>4</th>\n",
       "      <td>0x4121cc82607ebab3f334e067f37fe2709c403bf6</td>\n",
       "      <td>91200.25781</td>\n",
       "    </tr>\n",
       "  </tbody>\n",
       "</table>\n",
       "</div>"
      ],
      "text/plain": [
       "                                    Vertex_ID         score\n",
       "0  0x3cbd2e6143f057bd49ffb4c7058217a5900c35d3  890086.31250\n",
       "1  0x9ef89d10d8c77755bfe263903966eebb73f721e8  234812.15625\n",
       "2  0x89474953d6bc8275b88e331fdf1a92d552563712  210731.98438\n",
       "3  0xa0bf76c8de60a1089fbb8567b2beeca6ec01ca32  138044.75000\n",
       "4  0x4121cc82607ebab3f334e067f37fe2709c403bf6   91200.25781"
      ]
     },
     "execution_count": 5,
     "metadata": {},
     "output_type": "execute_result"
    }
   ],
   "source": [
    "import pandas as pd\n",
    "\n",
    "tg_pagerank_params = {\n",
    "  \"v_type_set\": [\"Account\"],\n",
    "  \"e_type_set\": [\"Transaction\"],\n",
    "  \"reverse_e_type\": \"reverse_Transaction\",\n",
    "  \"result_attribute\": \"betweenness\",\n",
    "  \"top_k\":5  \n",
    "}\n",
    "results = f.runAlgorithm(\"tg_betweenness_cent\", tg_pagerank_params)\n",
    "\n",
    "pd.json_normalize(results[0]['top_scores'])"
   ]
  },
  {
   "attachments": {},
   "cell_type": "markdown",
   "id": "5fb9766e-3304-4d85-b8fa-a9a5327309ce",
   "metadata": {},
   "source": [
    "### Degree Features\n",
    "\n",
    "The following code demonstrates the computation of Degree Features within the graph structure. Firstly, it installs the \"degrees\" algorithm using `f.installAlgorithm(\"degrees\", query_path=\"./gsql/degrees.gsql\")`, which prepares the algorithm for execution. Next, it runs the \"degrees\" algorithm through `f.runAlgorithm(\"degrees\", custom_query=True)`, triggering the computation process."
   ]
  },
  {
   "cell_type": "code",
   "execution_count": null,
   "id": "8faf664a-2d7a-4246-b67e-aaf9ff213727",
   "metadata": {},
   "outputs": [],
   "source": [
    "f.installAlgorithm(\"degrees\", query_path=\"./gsql/degrees.gsql\")\n",
    "f.runAlgorithm(\"degrees\", custom_query=True)"
   ]
  },
  {
   "attachments": {},
   "cell_type": "markdown",
   "id": "a6874f56",
   "metadata": {},
   "source": [
    "#### Additional information about degrees.gsql\n",
    "The algorithm's core logic is described within the custom GSQL query titled \"degrees.\" This query calculates both the in-degree and out-degree of each vertex (account) in the graph. The algorithm utilizes the `SumAccum` function to accumulate the in-degree and out-degree values for each vertex. The query traverses the graph, identifying all the incoming and outgoing edges for each vertex, and increments the corresponding degree counters accordingly.\n",
    "\n",
    "Upon calculating the degree values, the algorithm sets the attributes \"in_degree\" and \"out_degree\" for each vertex, capturing the calculated values. Finally, the algorithm prints a success message, indicating the successful computation of the Degree Features.\n",
    "\n",
    "In summary, the code `degrees.gsql` prepares, executes, and computes Degree Features within the graph, effectively capturing the in-degree and out-degree values for each vertex, providing valuable insights into the connections and influence of each account in the Ethereum transaction graph."
   ]
  },
  {
   "attachments": {},
   "cell_type": "markdown",
   "id": "661ee45d-9ac8-47c5-89da-011da456ec58",
   "metadata": {},
   "source": [
    "### Amount Features\n",
    "\n",
    "The provided code pertains to the computation of Amounts Features within the graph. Firstly, it installs the \"amounts\" algorithm using `f.installAlgorithm(\"amounts\", query_path=\"./gsql/amounts.gsql\")`, ensuring the algorithm is prepared for execution. Subsequently, the \"amounts\" algorithm is run through `f.runAlgorithm(\"amounts\", custom_query=True)`, initiating the process of calculating Amounts Features."
   ]
  },
  {
   "cell_type": "code",
   "execution_count": 7,
   "id": "f0cb6260-6b61-46fe-85de-86e6597fc35f",
   "metadata": {},
   "outputs": [
    {
     "data": {
      "text/plain": [
       "[{'Status': 'Amounts computed successfully'}]"
      ]
     },
     "execution_count": 7,
     "metadata": {},
     "output_type": "execute_result"
    }
   ],
   "source": [
    "f.installAlgorithm(\"amounts\", query_path=\"./gsql/amounts.gsql\")\n",
    "f.runAlgorithm(\"amounts\", custom_query=True)"
   ]
  },
  {
   "attachments": {},
   "cell_type": "markdown",
   "id": "c9a64c53",
   "metadata": {},
   "source": [
    "#### Additional Information about amount.gsql\n",
    "The algorithm's core logic is defined within the custom GSQL query titled \"amounts.gsql.\" This query performs calculations related to sending and receiving amounts for each vertex (account) in the graph. Four accumulators are employed, namely `@send_min`, `@send_amount`, `@recv_min`, and `@recv_amount`, to store the minimum and sum of amounts sent and received.\n",
    "\n",
    "The query traverses the graph and identifies all transactions between accounts, considering both outgoing and incoming edges. It accumulates the amounts of transactions, updating the corresponding accumulators for each vertex.\n",
    "\n",
    "Upon computing the amounts, the algorithm sets the attributes \"recv_min,\" \"recv_amount,\" \"send_min,\" and \"send_amount\" for each vertex, capturing the calculated values. Additionally, it handles the special case where a vertex has no incoming or outgoing edges (i.e., in_degree or out_degree equals zero), setting the corresponding \"recv_min\" or \"send_min\" to zero in such cases.\n",
    "\n",
    "Finally, the algorithm prints a success message, confirming the successful computation of the Amounts Features.\n",
    "\n",
    "In summary, the `amounts.gsql` code prepares, executes, and computes Amounts Features within the graph, calculating the minimum and sum of amounts sent and received for each account in the Ethereum transaction graph. This process allows for a detailed understanding of the transaction patterns and amounts associated with each vertex, contributing to further analysis and insights in various applications, including fraud detection and network analysis."
   ]
  },
  {
   "cell_type": "markdown",
   "id": "8e972b4f",
   "metadata": {},
   "source": [
    "### FastRP Embeddings"
   ]
  },
  {
   "cell_type": "code",
   "execution_count": 9,
   "id": "12299281-6a94-48f7-a33d-67f88d16c83b",
   "metadata": {},
   "outputs": [
    {
     "data": {
      "text/plain": [
       "[{'@@embedding_dim_map': {'default': {'min_dim': 0,\n",
       "    'max_dim': 128,\n",
       "    'weight': 1}}}]"
      ]
     },
     "execution_count": 9,
     "metadata": {},
     "output_type": "execute_result"
    }
   ],
   "source": [
    "params={\"v_type_set\": [\"Account\"],\n",
    "        \"e_type_set\": [\"Transaction\", \"reverse_Transaction\"],\n",
    "        \"output_v_type_set\": [\"Account\"],\n",
    "        \"iteration_weights\": \"1,2,4\",\n",
    "        \"beta\": -0.1,\n",
    "        \"embedding_dimension\": 128,\n",
    "        \"embedding_dim_map\": [],\n",
    "        \"default_length\": 128,\n",
    "        \"sampling_constant\": 3,\n",
    "        \"random_seed\": 42,\n",
    "        \"component_attribute\": \"\",\n",
    "        \"result_attribute\": \"embedding\",\n",
    "        \"choose_k\": 0}\n",
    "\n",
    "f.runAlgorithm(\"tg_fastRP\", params=params)"
   ]
  },
  {
   "attachments": {},
   "cell_type": "markdown",
   "id": "41029516-5e7b-41cf-925c-a1034319c118",
   "metadata": {},
   "source": [
    "### Check Labels\n",
    "Next, lets check and analyze the labels of accounts in a database. Firstwe will use the connection object named \"conn\" to interact with the database. The code first queries the database to count the number of accounts labeled as frauds (with \"is_fraud = 1\") and the number of accounts labeled as non-frauds (with \"is_fraud = 0\"). It then calculates the percentage of fraud and non-fraud accounts out of the total number of accounts and prints the results. The output displays the count and percentage of both fraud accounts and normal accounts in the database, providing valuable insights into the distribution of labeled accounts."
   ]
  },
  {
   "cell_type": "code",
   "execution_count": 10,
   "id": "f95353ec-a52b-43f1-b916-4750f544429a",
   "metadata": {},
   "outputs": [
    {
     "name": "stdout",
     "output_type": "stream",
     "text": [
      "Fraud accounts: 1165 (3.62%%)\n",
      "Normal accounts: 31003 (96.38%%)\n"
     ]
    }
   ],
   "source": [
    "frauds = conn.getVertexCount(\"Account\", \"is_fraud = 1\") \n",
    "nonfrauds = conn.getVertexCount(\"Account\", \"is_fraud = 0\") \n",
    "print(\"Fraud accounts: {} ({:.2f}%%)\".format(frauds, frauds/(frauds+nonfrauds)*100))\n",
    "print(\"Normal accounts: {} ({:.2f}%%)\".format(nonfrauds, nonfrauds/(frauds+nonfrauds)*100))"
   ]
  },
  {
   "cell_type": "markdown",
   "id": "1e614112-f187-43b9-a4ce-bf7b0853ea51",
   "metadata": {},
   "source": [
    "## Traditional ML with Graph Features"
   ]
  },
  {
   "attachments": {},
   "cell_type": "markdown",
   "id": "6c65c3b5-ceb4-431d-891b-b479419c6e62",
   "metadata": {},
   "source": [
    "### Train/Test Split\n",
    "By utilizing the \"vertexSplitter\" function from the GDS (Graph Data Science) library through the \"conn\" object, which represents a connection to a graph database. The function is being used to split the graph's vertices (nodes) into different subsets based on a specific criterion.\n",
    "\n",
    "The function is invoked with two arguments: \"is_training=0.8\" and \"is_validation=0.2\". These arguments indicate that the graph's vertices will be split into two sets – a training set and a validation set. The \"is_training=0.8\" parameter means that approximately 80% of the vertices will be assigned to the training set, and \"is_validation=0.2\" indicates that the remaining 20% of vertices will be assigned to the validation set.\n",
    "\n",
    "Typically, this type of vertex splitting is used in machine learning tasks, where the training set is used to train a model, and the validation set is used to evaluate the model's performance and make adjustments if necessary. By dividing the graph's vertices into these subsets, the code enables the development and testing of machine learning algorithms or other graph-based models."
   ]
  },
  {
   "cell_type": "code",
   "execution_count": 11,
   "id": "b7fad407-8ce1-4b0d-b5a2-448d0f861e34",
   "metadata": {},
   "outputs": [],
   "source": [
    "split = conn.gds.vertexSplitter(is_training=0.8, is_validation=0.2)"
   ]
  },
  {
   "cell_type": "code",
   "execution_count": 12,
   "id": "aded6448-a0e4-432c-9366-6e11d7210a18",
   "metadata": {},
   "outputs": [
    {
     "name": "stdout",
     "output_type": "stream",
     "text": [
      "Splitting vertices...\n",
      "Vertex split finished successfully.\n"
     ]
    }
   ],
   "source": [
    "split.run()"
   ]
  },
  {
   "attachments": {},
   "cell_type": "markdown",
   "id": "4661b7e8-479f-48dd-b299-e93cbcb8c68f",
   "metadata": {},
   "source": [
    "### Load data"
   ]
  },
  {
   "attachments": {},
   "cell_type": "markdown",
   "id": "34961d9d-1e92-43c4-b318-f49ae649c8b3",
   "metadata": {},
   "source": [
    "### Create Vertex Loaders\n",
    "Next, we will be moving on to the loading and processing of data, particularly for graph-based datasets. The main focus is on handling vertex embeddings, which are numerical representations of the vertices in the graph.\n",
    "\n",
    "1. The function `process_embedding(df)` takes a DataFrame \"df\" as input, likely containing information about vertices and their corresponding \"embedding\" data.\n",
    "\n",
    "2. The nested function `helper(x)` extracts the numerical embeddings from the DataFrame. If some vertices lack valid embeddings (unconnected vertices), it returns an array of 128 zeros.\n",
    "\n",
    "3. The `helper` function is applied to each row of the DataFrame \"df\" using the `apply` method, converting the embedding strings into numeric arrays.\n",
    "\n",
    "4. The processed embeddings are expanded into separate columns, and a new DataFrame \"emb_df\" is created, with columns named \"emb0\", \"emb1\", etc.\n",
    "\n",
    "5. The original \"embedding\" column is dropped from the DataFrame \"df\" to remove redundancy.\n",
    "\n",
    "6. The processed embedding columns are joined with the original DataFrame \"df,\" resulting in a new DataFrame with both the original vertex data and expanded embedding columns.\n",
    "\n",
    "7. The function returns the updated DataFrame, which is now ready for further graph-related analysis, such as machine learning algorithms or network analyses.\n"
   ]
  },
  {
   "cell_type": "code",
   "execution_count": 13,
   "id": "b8cf8c49-17c6-414a-905d-c76a8b6e9fdd",
   "metadata": {},
   "outputs": [],
   "source": [
    "import numpy as np\n",
    "\n",
    "def process_embedding(df):\n",
    "    def helper(x):\n",
    "        try:  # some unconnected vertices will not have a valid embedding, fill with 0s if that is the case.\n",
    "            return np.array(x[\"embedding\"].split(\" \")[:-1], dtype=np.float64)\n",
    "        except:\n",
    "            return np.zeros(128)\n",
    "    df[\"embedding\"] = df.apply(lambda x: helper(x), axis=1)\n",
    "    emb_df = pd.DataFrame(df[\"embedding\"].tolist()).add_prefix(\"emb\")\n",
    "    df.drop(columns=[\"embedding\"], inplace=True)\n",
    "    df = df.join(emb_df)\n",
    "    return df"
   ]
  },
  {
   "attachments": {},
   "cell_type": "markdown",
   "id": "826de9f1",
   "metadata": {},
   "source": [
    "Next we will initialize two data loaders, \"train_loader\" and \"valid_loader,\" using the \"vertexLoader\" function from the GDS (Graph Data Science) library through the \"conn\" object, representing a graph database connection. These loaders are designed for machine learning tasks involving graph data. The \"vertexLoader\" function specifies the attributes to be loaded for each graph vertex, including in-degree, out-degree, send_amount, send_min, recv_amount, recv_min, pagerank, is_fraud label, embedding, and betweenness. It splits the vertices into training and validation sets based on the \"is_training\" and \"is_validation\" filters. Additionally, a custom function named \"process_embedding\" is applied to process the vertex embeddings during the loading process, preparing the data for further machine learning analyses on graph-based datasets."
   ]
  },
  {
   "cell_type": "code",
   "execution_count": 14,
   "id": "e0b6895e-78eb-40e3-9e41-8774cf5c58df",
   "metadata": {},
   "outputs": [],
   "source": [
    "train_loader, valid_loader = conn.gds.vertexLoader(\n",
    "    attributes=[\"in_degree\",\"out_degree\",\"send_amount\",\"send_min\",\n",
    "                \"recv_amount\",\"recv_min\",\"pagerank\", \"is_fraud\", \"embedding\", \"betweenness\"],\n",
    "    num_batches=1,\n",
    "    filter_by=[\"is_training\", \"is_validation\"],\n",
    "    callback_fn = lambda x: process_embedding(x)\n",
    ")"
   ]
  },
  {
   "attachments": {},
   "cell_type": "markdown",
   "id": "8484d20a-e7bf-44bd-bce6-e063d14b7d75",
   "metadata": {},
   "source": [
    "#### Get train/valid data\n",
    "Next, we extract the data from the \"train_loader\" data loader and assigns it to the variable \"train_data.\" The \"train_data.head()\" function is then used to display the first few rows of the training data, providing a glimpse of the dataset's structure and contents."
   ]
  },
  {
   "cell_type": "code",
   "execution_count": 15,
   "id": "20da4479-e3bd-42af-bff6-77bb14ed9fe3",
   "metadata": {},
   "outputs": [
    {
     "data": {
      "text/html": [
       "<div>\n",
       "<style scoped>\n",
       "    .dataframe tbody tr th:only-of-type {\n",
       "        vertical-align: middle;\n",
       "    }\n",
       "\n",
       "    .dataframe tbody tr th {\n",
       "        vertical-align: top;\n",
       "    }\n",
       "\n",
       "    .dataframe thead th {\n",
       "        text-align: right;\n",
       "    }\n",
       "</style>\n",
       "<table border=\"1\" class=\"dataframe\">\n",
       "  <thead>\n",
       "    <tr style=\"text-align: right;\">\n",
       "      <th></th>\n",
       "      <th>vid</th>\n",
       "      <th>in_degree</th>\n",
       "      <th>out_degree</th>\n",
       "      <th>send_amount</th>\n",
       "      <th>send_min</th>\n",
       "      <th>recv_amount</th>\n",
       "      <th>recv_min</th>\n",
       "      <th>pagerank</th>\n",
       "      <th>is_fraud</th>\n",
       "      <th>betweenness</th>\n",
       "      <th>...</th>\n",
       "      <th>emb118</th>\n",
       "      <th>emb119</th>\n",
       "      <th>emb120</th>\n",
       "      <th>emb121</th>\n",
       "      <th>emb122</th>\n",
       "      <th>emb123</th>\n",
       "      <th>emb124</th>\n",
       "      <th>emb125</th>\n",
       "      <th>emb126</th>\n",
       "      <th>emb127</th>\n",
       "    </tr>\n",
       "  </thead>\n",
       "  <tbody>\n",
       "    <tr>\n",
       "      <th>0</th>\n",
       "      <td>0</td>\n",
       "      <td>1</td>\n",
       "      <td>0</td>\n",
       "      <td>0.00000</td>\n",
       "      <td>0.00000</td>\n",
       "      <td>0.38852</td>\n",
       "      <td>0.38852</td>\n",
       "      <td>1.000000</td>\n",
       "      <td>1</td>\n",
       "      <td>0.0</td>\n",
       "      <td>...</td>\n",
       "      <td>0.052829</td>\n",
       "      <td>-0.157285</td>\n",
       "      <td>-0.018352</td>\n",
       "      <td>0.024433</td>\n",
       "      <td>-0.124456</td>\n",
       "      <td>-0.011065</td>\n",
       "      <td>-0.027739</td>\n",
       "      <td>-0.176561</td>\n",
       "      <td>0.041287</td>\n",
       "      <td>0.139897</td>\n",
       "    </tr>\n",
       "    <tr>\n",
       "      <th>1</th>\n",
       "      <td>1</td>\n",
       "      <td>1</td>\n",
       "      <td>1</td>\n",
       "      <td>0.51914</td>\n",
       "      <td>0.51914</td>\n",
       "      <td>0.52000</td>\n",
       "      <td>0.52000</td>\n",
       "      <td>0.155100</td>\n",
       "      <td>1</td>\n",
       "      <td>0.0</td>\n",
       "      <td>...</td>\n",
       "      <td>-0.376620</td>\n",
       "      <td>0.130983</td>\n",
       "      <td>-0.040375</td>\n",
       "      <td>0.212981</td>\n",
       "      <td>-0.074507</td>\n",
       "      <td>-0.073289</td>\n",
       "      <td>-0.124726</td>\n",
       "      <td>0.106060</td>\n",
       "      <td>0.083866</td>\n",
       "      <td>0.019584</td>\n",
       "    </tr>\n",
       "    <tr>\n",
       "      <th>2</th>\n",
       "      <td>2</td>\n",
       "      <td>9</td>\n",
       "      <td>1</td>\n",
       "      <td>4.17173</td>\n",
       "      <td>4.17173</td>\n",
       "      <td>4.17221</td>\n",
       "      <td>0.00895</td>\n",
       "      <td>1.279060</td>\n",
       "      <td>1</td>\n",
       "      <td>0.0</td>\n",
       "      <td>...</td>\n",
       "      <td>0.070694</td>\n",
       "      <td>-0.101858</td>\n",
       "      <td>0.024377</td>\n",
       "      <td>-0.047496</td>\n",
       "      <td>-0.036047</td>\n",
       "      <td>0.307423</td>\n",
       "      <td>0.198519</td>\n",
       "      <td>-0.119483</td>\n",
       "      <td>0.227318</td>\n",
       "      <td>0.045997</td>\n",
       "    </tr>\n",
       "    <tr>\n",
       "      <th>3</th>\n",
       "      <td>4</td>\n",
       "      <td>1</td>\n",
       "      <td>1</td>\n",
       "      <td>0.71020</td>\n",
       "      <td>0.71020</td>\n",
       "      <td>0.71120</td>\n",
       "      <td>0.71120</td>\n",
       "      <td>0.277500</td>\n",
       "      <td>1</td>\n",
       "      <td>0.0</td>\n",
       "      <td>...</td>\n",
       "      <td>0.000000</td>\n",
       "      <td>0.253459</td>\n",
       "      <td>0.193492</td>\n",
       "      <td>0.000000</td>\n",
       "      <td>0.000000</td>\n",
       "      <td>0.000000</td>\n",
       "      <td>0.000000</td>\n",
       "      <td>-0.253459</td>\n",
       "      <td>0.000000</td>\n",
       "      <td>-0.446950</td>\n",
       "    </tr>\n",
       "    <tr>\n",
       "      <th>4</th>\n",
       "      <td>5</td>\n",
       "      <td>4</td>\n",
       "      <td>1</td>\n",
       "      <td>7.68433</td>\n",
       "      <td>7.68433</td>\n",
       "      <td>7.68519</td>\n",
       "      <td>0.50000</td>\n",
       "      <td>0.445214</td>\n",
       "      <td>1</td>\n",
       "      <td>0.0</td>\n",
       "      <td>...</td>\n",
       "      <td>0.057700</td>\n",
       "      <td>-0.219031</td>\n",
       "      <td>-0.280856</td>\n",
       "      <td>-0.066135</td>\n",
       "      <td>-0.154009</td>\n",
       "      <td>0.138276</td>\n",
       "      <td>0.127145</td>\n",
       "      <td>-0.069007</td>\n",
       "      <td>-0.032480</td>\n",
       "      <td>-0.016283</td>\n",
       "    </tr>\n",
       "  </tbody>\n",
       "</table>\n",
       "<p>5 rows × 138 columns</p>\n",
       "</div>"
      ],
      "text/plain": [
       "   vid  in_degree  out_degree  send_amount  send_min  recv_amount  recv_min   \n",
       "0    0          1           0      0.00000   0.00000      0.38852   0.38852  \\\n",
       "1    1          1           1      0.51914   0.51914      0.52000   0.52000   \n",
       "2    2          9           1      4.17173   4.17173      4.17221   0.00895   \n",
       "3    4          1           1      0.71020   0.71020      0.71120   0.71120   \n",
       "4    5          4           1      7.68433   7.68433      7.68519   0.50000   \n",
       "\n",
       "   pagerank  is_fraud  betweenness  ...    emb118    emb119    emb120   \n",
       "0  1.000000         1          0.0  ...  0.052829 -0.157285 -0.018352  \\\n",
       "1  0.155100         1          0.0  ... -0.376620  0.130983 -0.040375   \n",
       "2  1.279060         1          0.0  ...  0.070694 -0.101858  0.024377   \n",
       "3  0.277500         1          0.0  ...  0.000000  0.253459  0.193492   \n",
       "4  0.445214         1          0.0  ...  0.057700 -0.219031 -0.280856   \n",
       "\n",
       "     emb121    emb122    emb123    emb124    emb125    emb126    emb127  \n",
       "0  0.024433 -0.124456 -0.011065 -0.027739 -0.176561  0.041287  0.139897  \n",
       "1  0.212981 -0.074507 -0.073289 -0.124726  0.106060  0.083866  0.019584  \n",
       "2 -0.047496 -0.036047  0.307423  0.198519 -0.119483  0.227318  0.045997  \n",
       "3  0.000000  0.000000  0.000000  0.000000 -0.253459  0.000000 -0.446950  \n",
       "4 -0.066135 -0.154009  0.138276  0.127145 -0.069007 -0.032480 -0.016283  \n",
       "\n",
       "[5 rows x 138 columns]"
      ]
     },
     "execution_count": 15,
     "metadata": {},
     "output_type": "execute_result"
    }
   ],
   "source": [
    "train_data = train_loader.data\n",
    "train_data.head()"
   ]
  },
  {
   "attachments": {},
   "cell_type": "markdown",
   "id": "eec45016",
   "metadata": {},
   "source": [
    "Next, let's validate by retrieving the data from the \"valid_loader\" data loader and stores it in the variable \"valid_data.\" Using the \"valid_data.head()\" function, the code displays the initial rows of the validation dataset, offering a preview of its structure and contents."
   ]
  },
  {
   "cell_type": "code",
   "execution_count": 16,
   "id": "cb619e88-3c61-4d51-9da8-21e223dbb8ba",
   "metadata": {},
   "outputs": [
    {
     "data": {
      "text/html": [
       "<div>\n",
       "<style scoped>\n",
       "    .dataframe tbody tr th:only-of-type {\n",
       "        vertical-align: middle;\n",
       "    }\n",
       "\n",
       "    .dataframe tbody tr th {\n",
       "        vertical-align: top;\n",
       "    }\n",
       "\n",
       "    .dataframe thead th {\n",
       "        text-align: right;\n",
       "    }\n",
       "</style>\n",
       "<table border=\"1\" class=\"dataframe\">\n",
       "  <thead>\n",
       "    <tr style=\"text-align: right;\">\n",
       "      <th></th>\n",
       "      <th>vid</th>\n",
       "      <th>in_degree</th>\n",
       "      <th>out_degree</th>\n",
       "      <th>send_amount</th>\n",
       "      <th>send_min</th>\n",
       "      <th>recv_amount</th>\n",
       "      <th>recv_min</th>\n",
       "      <th>pagerank</th>\n",
       "      <th>is_fraud</th>\n",
       "      <th>betweenness</th>\n",
       "      <th>...</th>\n",
       "      <th>emb118</th>\n",
       "      <th>emb119</th>\n",
       "      <th>emb120</th>\n",
       "      <th>emb121</th>\n",
       "      <th>emb122</th>\n",
       "      <th>emb123</th>\n",
       "      <th>emb124</th>\n",
       "      <th>emb125</th>\n",
       "      <th>emb126</th>\n",
       "      <th>emb127</th>\n",
       "    </tr>\n",
       "  </thead>\n",
       "  <tbody>\n",
       "    <tr>\n",
       "      <th>0</th>\n",
       "      <td>3</td>\n",
       "      <td>21</td>\n",
       "      <td>0</td>\n",
       "      <td>0.00000</td>\n",
       "      <td>0.00000</td>\n",
       "      <td>22.23430</td>\n",
       "      <td>0.00000</td>\n",
       "      <td>1.000000</td>\n",
       "      <td>1</td>\n",
       "      <td>0.000000</td>\n",
       "      <td>...</td>\n",
       "      <td>0.147023</td>\n",
       "      <td>0.149224</td>\n",
       "      <td>-0.065911</td>\n",
       "      <td>-0.025627</td>\n",
       "      <td>0.177867</td>\n",
       "      <td>-0.017973</td>\n",
       "      <td>0.176549</td>\n",
       "      <td>-0.007724</td>\n",
       "      <td>0.087621</td>\n",
       "      <td>0.235913</td>\n",
       "    </tr>\n",
       "    <tr>\n",
       "      <th>1</th>\n",
       "      <td>10</td>\n",
       "      <td>8</td>\n",
       "      <td>1</td>\n",
       "      <td>0.19912</td>\n",
       "      <td>0.19912</td>\n",
       "      <td>0.71332</td>\n",
       "      <td>0.00426</td>\n",
       "      <td>1.051000</td>\n",
       "      <td>1</td>\n",
       "      <td>0.000000</td>\n",
       "      <td>...</td>\n",
       "      <td>-0.104787</td>\n",
       "      <td>-0.109156</td>\n",
       "      <td>0.062849</td>\n",
       "      <td>0.046072</td>\n",
       "      <td>-0.062387</td>\n",
       "      <td>0.060613</td>\n",
       "      <td>0.217197</td>\n",
       "      <td>0.072533</td>\n",
       "      <td>-0.001381</td>\n",
       "      <td>0.064292</td>\n",
       "    </tr>\n",
       "    <tr>\n",
       "      <th>2</th>\n",
       "      <td>11</td>\n",
       "      <td>8</td>\n",
       "      <td>5</td>\n",
       "      <td>3.56824</td>\n",
       "      <td>0.01000</td>\n",
       "      <td>4.13316</td>\n",
       "      <td>0.02000</td>\n",
       "      <td>0.899117</td>\n",
       "      <td>1</td>\n",
       "      <td>0.000396</td>\n",
       "      <td>...</td>\n",
       "      <td>-0.081333</td>\n",
       "      <td>0.129663</td>\n",
       "      <td>-0.095163</td>\n",
       "      <td>0.093037</td>\n",
       "      <td>0.235565</td>\n",
       "      <td>0.173729</td>\n",
       "      <td>0.000022</td>\n",
       "      <td>-0.372415</td>\n",
       "      <td>0.094716</td>\n",
       "      <td>-0.052996</td>\n",
       "    </tr>\n",
       "    <tr>\n",
       "      <th>3</th>\n",
       "      <td>12</td>\n",
       "      <td>1</td>\n",
       "      <td>0</td>\n",
       "      <td>0.00000</td>\n",
       "      <td>0.00000</td>\n",
       "      <td>0.00500</td>\n",
       "      <td>0.00500</td>\n",
       "      <td>1.000000</td>\n",
       "      <td>1</td>\n",
       "      <td>0.000000</td>\n",
       "      <td>...</td>\n",
       "      <td>0.019270</td>\n",
       "      <td>0.522108</td>\n",
       "      <td>-0.089329</td>\n",
       "      <td>-0.174942</td>\n",
       "      <td>0.164790</td>\n",
       "      <td>-0.089329</td>\n",
       "      <td>0.000000</td>\n",
       "      <td>0.178659</td>\n",
       "      <td>-0.178659</td>\n",
       "      <td>0.250403</td>\n",
       "    </tr>\n",
       "    <tr>\n",
       "      <th>4</th>\n",
       "      <td>14</td>\n",
       "      <td>10</td>\n",
       "      <td>9</td>\n",
       "      <td>441.30000</td>\n",
       "      <td>0.05000</td>\n",
       "      <td>188.48900</td>\n",
       "      <td>0.37828</td>\n",
       "      <td>0.867988</td>\n",
       "      <td>1</td>\n",
       "      <td>0.000000</td>\n",
       "      <td>...</td>\n",
       "      <td>-0.164058</td>\n",
       "      <td>0.087453</td>\n",
       "      <td>0.026537</td>\n",
       "      <td>0.009199</td>\n",
       "      <td>0.019351</td>\n",
       "      <td>-0.203851</td>\n",
       "      <td>-0.319667</td>\n",
       "      <td>0.315121</td>\n",
       "      <td>-0.120425</td>\n",
       "      <td>-0.190729</td>\n",
       "    </tr>\n",
       "  </tbody>\n",
       "</table>\n",
       "<p>5 rows × 138 columns</p>\n",
       "</div>"
      ],
      "text/plain": [
       "   vid  in_degree  out_degree  send_amount  send_min  recv_amount  recv_min   \n",
       "0    3         21           0      0.00000   0.00000     22.23430   0.00000  \\\n",
       "1   10          8           1      0.19912   0.19912      0.71332   0.00426   \n",
       "2   11          8           5      3.56824   0.01000      4.13316   0.02000   \n",
       "3   12          1           0      0.00000   0.00000      0.00500   0.00500   \n",
       "4   14         10           9    441.30000   0.05000    188.48900   0.37828   \n",
       "\n",
       "   pagerank  is_fraud  betweenness  ...    emb118    emb119    emb120   \n",
       "0  1.000000         1     0.000000  ...  0.147023  0.149224 -0.065911  \\\n",
       "1  1.051000         1     0.000000  ... -0.104787 -0.109156  0.062849   \n",
       "2  0.899117         1     0.000396  ... -0.081333  0.129663 -0.095163   \n",
       "3  1.000000         1     0.000000  ...  0.019270  0.522108 -0.089329   \n",
       "4  0.867988         1     0.000000  ... -0.164058  0.087453  0.026537   \n",
       "\n",
       "     emb121    emb122    emb123    emb124    emb125    emb126    emb127  \n",
       "0 -0.025627  0.177867 -0.017973  0.176549 -0.007724  0.087621  0.235913  \n",
       "1  0.046072 -0.062387  0.060613  0.217197  0.072533 -0.001381  0.064292  \n",
       "2  0.093037  0.235565  0.173729  0.000022 -0.372415  0.094716 -0.052996  \n",
       "3 -0.174942  0.164790 -0.089329  0.000000  0.178659 -0.178659  0.250403  \n",
       "4  0.009199  0.019351 -0.203851 -0.319667  0.315121 -0.120425 -0.190729  \n",
       "\n",
       "[5 rows x 138 columns]"
      ]
     },
     "execution_count": 16,
     "metadata": {},
     "output_type": "execute_result"
    }
   ],
   "source": [
    "valid_data = valid_loader.data\n",
    "valid_data.head()"
   ]
  },
  {
   "attachments": {},
   "cell_type": "markdown",
   "id": "6f951935-6d3c-4c51-9756-d17797c26f8b",
   "metadata": {},
   "source": [
    "### Create xgboost model\n",
    "\n",
    "Next, we will be implementing an XGBoost classifier, a popular machine learning algorithm known for its effectiveness in various tasks. The classifier is being instantiated with specific hyperparameters to control its behavior during training. The hyperparameters include setting the number of threads to use for parallel computation (nthread=-1), the number of decision trees in the ensemble (n_estimators=100), the learning rate (learning_rate=0.1), the objective function for binary classification (objective='binary:logistic'), the maximum depth of each decision tree (max_depth=2), the scale of the positive class weight to handle imbalanced data (scale_pos_weight=400), the minimum sum of instance weight needed to create a new node (min_child_weight=80), the regularization term gamma (gamma=10), and the maximum delta step allowed for each tree's weight estimation (max_delta_step=2). These hyperparameters will influence the XGBoost classifier's performance and behavior during the training process, making it suitable for binary classification tasks with specific data characteristics."
   ]
  },
  {
   "cell_type": "code",
   "execution_count": 17,
   "id": "62e65f88-fd43-4206-b38e-386a075e107a",
   "metadata": {},
   "outputs": [],
   "source": [
    "from xgboost import XGBClassifier\n",
    "\n",
    "tree_model = XGBClassifier(\n",
    "    nthread=-1, n_estimators=100, learning_rate=0.1, \n",
    "    objective='binary:logistic', max_depth=2, scale_pos_weight=400, \n",
    "    min_child_weight=80, gamma = 10, max_delta_step=2) "
   ]
  },
  {
   "attachments": {},
   "cell_type": "markdown",
   "id": "80cf477e-e44d-4a26-8b47-daa82c2cb512",
   "metadata": {},
   "source": [
    "### Train xgboost model - No graph feature\n",
    "Next, we will focus on training an XGBoost model **without utilizing any graph features**. The specified features, including in-degree, out-degree, send_amount, send_min, recv_amount, and recv_min, are used as input variables for the model. The \"tree_model\" instance, previously defined as an XGBoost classifier with specific hyperparameters, is trained using the \"fit\" function on the training data. The input features from \"train_data\" are used to predict the \"is_fraud\" label, which serves as the target variable for binary classification. By training on these selected features, the model aims to make accurate predictions on whether a particular instance is associated with fraudulent behavior or not."
   ]
  },
  {
   "cell_type": "code",
   "execution_count": 18,
   "id": "6c05e3a3-9444-417a-87fe-dc86cb7551c7",
   "metadata": {},
   "outputs": [
    {
     "data": {
      "text/html": [
       "<style>#sk-container-id-1 {color: black;background-color: white;}#sk-container-id-1 pre{padding: 0;}#sk-container-id-1 div.sk-toggleable {background-color: white;}#sk-container-id-1 label.sk-toggleable__label {cursor: pointer;display: block;width: 100%;margin-bottom: 0;padding: 0.3em;box-sizing: border-box;text-align: center;}#sk-container-id-1 label.sk-toggleable__label-arrow:before {content: \"▸\";float: left;margin-right: 0.25em;color: #696969;}#sk-container-id-1 label.sk-toggleable__label-arrow:hover:before {color: black;}#sk-container-id-1 div.sk-estimator:hover label.sk-toggleable__label-arrow:before {color: black;}#sk-container-id-1 div.sk-toggleable__content {max-height: 0;max-width: 0;overflow: hidden;text-align: left;background-color: #f0f8ff;}#sk-container-id-1 div.sk-toggleable__content pre {margin: 0.2em;color: black;border-radius: 0.25em;background-color: #f0f8ff;}#sk-container-id-1 input.sk-toggleable__control:checked~div.sk-toggleable__content {max-height: 200px;max-width: 100%;overflow: auto;}#sk-container-id-1 input.sk-toggleable__control:checked~label.sk-toggleable__label-arrow:before {content: \"▾\";}#sk-container-id-1 div.sk-estimator input.sk-toggleable__control:checked~label.sk-toggleable__label {background-color: #d4ebff;}#sk-container-id-1 div.sk-label input.sk-toggleable__control:checked~label.sk-toggleable__label {background-color: #d4ebff;}#sk-container-id-1 input.sk-hidden--visually {border: 0;clip: rect(1px 1px 1px 1px);clip: rect(1px, 1px, 1px, 1px);height: 1px;margin: -1px;overflow: hidden;padding: 0;position: absolute;width: 1px;}#sk-container-id-1 div.sk-estimator {font-family: monospace;background-color: #f0f8ff;border: 1px dotted black;border-radius: 0.25em;box-sizing: border-box;margin-bottom: 0.5em;}#sk-container-id-1 div.sk-estimator:hover {background-color: #d4ebff;}#sk-container-id-1 div.sk-parallel-item::after {content: \"\";width: 100%;border-bottom: 1px solid gray;flex-grow: 1;}#sk-container-id-1 div.sk-label:hover label.sk-toggleable__label {background-color: #d4ebff;}#sk-container-id-1 div.sk-serial::before {content: \"\";position: absolute;border-left: 1px solid gray;box-sizing: border-box;top: 0;bottom: 0;left: 50%;z-index: 0;}#sk-container-id-1 div.sk-serial {display: flex;flex-direction: column;align-items: center;background-color: white;padding-right: 0.2em;padding-left: 0.2em;position: relative;}#sk-container-id-1 div.sk-item {position: relative;z-index: 1;}#sk-container-id-1 div.sk-parallel {display: flex;align-items: stretch;justify-content: center;background-color: white;position: relative;}#sk-container-id-1 div.sk-item::before, #sk-container-id-1 div.sk-parallel-item::before {content: \"\";position: absolute;border-left: 1px solid gray;box-sizing: border-box;top: 0;bottom: 0;left: 50%;z-index: -1;}#sk-container-id-1 div.sk-parallel-item {display: flex;flex-direction: column;z-index: 1;position: relative;background-color: white;}#sk-container-id-1 div.sk-parallel-item:first-child::after {align-self: flex-end;width: 50%;}#sk-container-id-1 div.sk-parallel-item:last-child::after {align-self: flex-start;width: 50%;}#sk-container-id-1 div.sk-parallel-item:only-child::after {width: 0;}#sk-container-id-1 div.sk-dashed-wrapped {border: 1px dashed gray;margin: 0 0.4em 0.5em 0.4em;box-sizing: border-box;padding-bottom: 0.4em;background-color: white;}#sk-container-id-1 div.sk-label label {font-family: monospace;font-weight: bold;display: inline-block;line-height: 1.2em;}#sk-container-id-1 div.sk-label-container {text-align: center;}#sk-container-id-1 div.sk-container {/* jupyter's `normalize.less` sets `[hidden] { display: none; }` but bootstrap.min.css set `[hidden] { display: none !important; }` so we also need the `!important` here to be able to override the default hidden behavior on the sphinx rendered scikit-learn.org. See: https://github.com/scikit-learn/scikit-learn/issues/21755 */display: inline-block !important;position: relative;}#sk-container-id-1 div.sk-text-repr-fallback {display: none;}</style><div id=\"sk-container-id-1\" class=\"sk-top-container\"><div class=\"sk-text-repr-fallback\"><pre>XGBClassifier(base_score=None, booster=None, callbacks=None,\n",
       "              colsample_bylevel=None, colsample_bynode=None,\n",
       "              colsample_bytree=None, early_stopping_rounds=None,\n",
       "              enable_categorical=False, eval_metric=None, feature_types=None,\n",
       "              gamma=10, gpu_id=None, grow_policy=None, importance_type=None,\n",
       "              interaction_constraints=None, learning_rate=0.1, max_bin=None,\n",
       "              max_cat_threshold=None, max_cat_to_onehot=None, max_delta_step=2,\n",
       "              max_depth=2, max_leaves=None, min_child_weight=80, missing=nan,\n",
       "              monotone_constraints=None, n_estimators=100, n_jobs=None,\n",
       "              nthread=-1, num_parallel_tree=None, predictor=None, ...)</pre><b>In a Jupyter environment, please rerun this cell to show the HTML representation or trust the notebook. <br />On GitHub, the HTML representation is unable to render, please try loading this page with nbviewer.org.</b></div><div class=\"sk-container\" hidden><div class=\"sk-item\"><div class=\"sk-estimator sk-toggleable\"><input class=\"sk-toggleable__control sk-hidden--visually\" id=\"sk-estimator-id-1\" type=\"checkbox\" checked><label for=\"sk-estimator-id-1\" class=\"sk-toggleable__label sk-toggleable__label-arrow\">XGBClassifier</label><div class=\"sk-toggleable__content\"><pre>XGBClassifier(base_score=None, booster=None, callbacks=None,\n",
       "              colsample_bylevel=None, colsample_bynode=None,\n",
       "              colsample_bytree=None, early_stopping_rounds=None,\n",
       "              enable_categorical=False, eval_metric=None, feature_types=None,\n",
       "              gamma=10, gpu_id=None, grow_policy=None, importance_type=None,\n",
       "              interaction_constraints=None, learning_rate=0.1, max_bin=None,\n",
       "              max_cat_threshold=None, max_cat_to_onehot=None, max_delta_step=2,\n",
       "              max_depth=2, max_leaves=None, min_child_weight=80, missing=nan,\n",
       "              monotone_constraints=None, n_estimators=100, n_jobs=None,\n",
       "              nthread=-1, num_parallel_tree=None, predictor=None, ...)</pre></div></div></div></div></div>"
      ],
      "text/plain": [
       "XGBClassifier(base_score=None, booster=None, callbacks=None,\n",
       "              colsample_bylevel=None, colsample_bynode=None,\n",
       "              colsample_bytree=None, early_stopping_rounds=None,\n",
       "              enable_categorical=False, eval_metric=None, feature_types=None,\n",
       "              gamma=10, gpu_id=None, grow_policy=None, importance_type=None,\n",
       "              interaction_constraints=None, learning_rate=0.1, max_bin=None,\n",
       "              max_cat_threshold=None, max_cat_to_onehot=None, max_delta_step=2,\n",
       "              max_depth=2, max_leaves=None, min_child_weight=80, missing=nan,\n",
       "              monotone_constraints=None, n_estimators=100, n_jobs=None,\n",
       "              nthread=-1, num_parallel_tree=None, predictor=None, ...)"
      ]
     },
     "execution_count": 18,
     "metadata": {},
     "output_type": "execute_result"
    }
   ],
   "source": [
    "features = [\"in_degree\",\"out_degree\", \"send_amount\",\"send_min\", \n",
    "            \"recv_amount\",\"recv_min\"]\n",
    "# Train model\n",
    "tree_model.fit(train_data[features], train_data[\"is_fraud\"])"
   ]
  },
  {
   "attachments": {},
   "cell_type": "markdown",
   "id": "19e54e75-0663-47a6-b77f-e0572f4aff5b",
   "metadata": {},
   "source": [
    "#### Evaluate model\n",
    "\n",
    "Next, let's evaluate the performance of a trained XGBoost model using validation data that lacks graph features. The code imports necessary evaluation metrics such as Accuracy, BinaryPrecision, and BinaryRecall from the pyTigerGraph library. The model's predictions are obtained by applying it to the selected features of the validation data. The prediction scores are then recorded for future use. The code calculates and prints the evaluation metrics, showing an accuracy of 0.7531, precision of 0.1326, and a remarkably high recall of 0.9959. The results indicate that the model is reasonably accurate in its overall predictions (**accuracy of 75.31%**), but the precision is low, meaning it has a higher number of false positives. However, the recall is extremely high (99.59%), suggesting that the model is proficient in correctly identifying true positive instances, particularly fraudulent cases. Further analysis and tuning may be required to address the low precision and improve the overall performance of the model."
   ]
  },
  {
   "cell_type": "code",
   "execution_count": 19,
   "id": "54257430-34e8-4b41-9ed9-ab827a4862a6",
   "metadata": {},
   "outputs": [
    {
     "name": "stdout",
     "output_type": "stream",
     "text": [
      "Accuracy 0.7531, Precision 0.1326, Recall 0.9959\n"
     ]
    },
    {
     "name": "stderr",
     "output_type": "stream",
     "text": [
      "/opt/anaconda3/envs/pytg_dev/lib/python3.9/site-packages/pyTigerGraph/gds/metrics.py:238: DeprecationWarning: The `BinaryPrecision` metric is deprecated; use `Precision` metric instead.\n",
      "  warnings.warn(\n",
      "/opt/anaconda3/envs/pytg_dev/lib/python3.9/site-packages/pyTigerGraph/gds/metrics.py:116: DeprecationWarning: The `BinaryRecall` metric is deprecated; use `Recall` metric instead.\n",
      "  warnings.warn(\n"
     ]
    }
   ],
   "source": [
    "from pyTigerGraph.gds.metrics import Accuracy, BinaryPrecision, BinaryRecall\n",
    "from collections import defaultdict\n",
    "\n",
    "# Get predictions\n",
    "pred = tree_model.predict(valid_data[features].values)\n",
    "# Get prediction scores for later use\n",
    "yhat_tree = tree_model.predict_proba(valid_data[features].values)[:,1]\n",
    "ytrue_tree = valid_data[\"is_fraud\"].values\n",
    "\n",
    "metrics = defaultdict(list)\n",
    "m = Accuracy()\n",
    "m.update(pred, ytrue_tree)\n",
    "metrics[\"acc_tree_base\"].append(m.value)\n",
    "\n",
    "m = BinaryPrecision()\n",
    "m.update(pred, ytrue_tree)\n",
    "metrics[\"prec_tree_base\"].append(m.value)\n",
    "\n",
    "m = BinaryRecall()\n",
    "m.update(pred, ytrue_tree)\n",
    "metrics[\"rec_tree_base\"].append(m.value)\n",
    "\n",
    "print(\"Accuracy {:.4f}, Precision {:.4f}, Recall {:.4f}\".format(\n",
    "    metrics[\"acc_tree_base\"][-1], metrics[\"prec_tree_base\"][-1], metrics[\"rec_tree_base\"][-1]))"
   ]
  },
  {
   "attachments": {},
   "cell_type": "markdown",
   "id": "a191f817-3fd0-4b22-8b43-d1cc2789bcf4",
   "metadata": {},
   "source": [
    "### Train xgboost model - Graph feature\n",
    "Next, let's create a XGBoost model that is trained with the inclusion of graph features. The \"features\" list includes attributes such as in-degree, out-degree, send_amount, send_min, recv_amount, recv_min, **pagerank (graph feature)**, and **betweenness(graph feature)**. These graph-specific features provide valuable information about the relationships and behaviors of vertices within the graph. The XGBoost classifier, denoted as \"tree_model,\" is then fitted using the training data with the specified graph features and the corresponding \"is_fraud\" labels. By incorporating the graph features into the model, it gains additional context and insight from the graph structure, potentially leading to improved performance in detecting fraudulent instances. The trained model can now be evaluated on validation data to assess its effectiveness in distinguishing between fraudulent and non-fraudulent cases."
   ]
  },
  {
   "cell_type": "code",
   "execution_count": 20,
   "id": "1d921d2c-af32-40ac-9a5c-3d6d1a83ad53",
   "metadata": {},
   "outputs": [
    {
     "data": {
      "text/html": [
       "<style>#sk-container-id-2 {color: black;background-color: white;}#sk-container-id-2 pre{padding: 0;}#sk-container-id-2 div.sk-toggleable {background-color: white;}#sk-container-id-2 label.sk-toggleable__label {cursor: pointer;display: block;width: 100%;margin-bottom: 0;padding: 0.3em;box-sizing: border-box;text-align: center;}#sk-container-id-2 label.sk-toggleable__label-arrow:before {content: \"▸\";float: left;margin-right: 0.25em;color: #696969;}#sk-container-id-2 label.sk-toggleable__label-arrow:hover:before {color: black;}#sk-container-id-2 div.sk-estimator:hover label.sk-toggleable__label-arrow:before {color: black;}#sk-container-id-2 div.sk-toggleable__content {max-height: 0;max-width: 0;overflow: hidden;text-align: left;background-color: #f0f8ff;}#sk-container-id-2 div.sk-toggleable__content pre {margin: 0.2em;color: black;border-radius: 0.25em;background-color: #f0f8ff;}#sk-container-id-2 input.sk-toggleable__control:checked~div.sk-toggleable__content {max-height: 200px;max-width: 100%;overflow: auto;}#sk-container-id-2 input.sk-toggleable__control:checked~label.sk-toggleable__label-arrow:before {content: \"▾\";}#sk-container-id-2 div.sk-estimator input.sk-toggleable__control:checked~label.sk-toggleable__label {background-color: #d4ebff;}#sk-container-id-2 div.sk-label input.sk-toggleable__control:checked~label.sk-toggleable__label {background-color: #d4ebff;}#sk-container-id-2 input.sk-hidden--visually {border: 0;clip: rect(1px 1px 1px 1px);clip: rect(1px, 1px, 1px, 1px);height: 1px;margin: -1px;overflow: hidden;padding: 0;position: absolute;width: 1px;}#sk-container-id-2 div.sk-estimator {font-family: monospace;background-color: #f0f8ff;border: 1px dotted black;border-radius: 0.25em;box-sizing: border-box;margin-bottom: 0.5em;}#sk-container-id-2 div.sk-estimator:hover {background-color: #d4ebff;}#sk-container-id-2 div.sk-parallel-item::after {content: \"\";width: 100%;border-bottom: 1px solid gray;flex-grow: 1;}#sk-container-id-2 div.sk-label:hover label.sk-toggleable__label {background-color: #d4ebff;}#sk-container-id-2 div.sk-serial::before {content: \"\";position: absolute;border-left: 1px solid gray;box-sizing: border-box;top: 0;bottom: 0;left: 50%;z-index: 0;}#sk-container-id-2 div.sk-serial {display: flex;flex-direction: column;align-items: center;background-color: white;padding-right: 0.2em;padding-left: 0.2em;position: relative;}#sk-container-id-2 div.sk-item {position: relative;z-index: 1;}#sk-container-id-2 div.sk-parallel {display: flex;align-items: stretch;justify-content: center;background-color: white;position: relative;}#sk-container-id-2 div.sk-item::before, #sk-container-id-2 div.sk-parallel-item::before {content: \"\";position: absolute;border-left: 1px solid gray;box-sizing: border-box;top: 0;bottom: 0;left: 50%;z-index: -1;}#sk-container-id-2 div.sk-parallel-item {display: flex;flex-direction: column;z-index: 1;position: relative;background-color: white;}#sk-container-id-2 div.sk-parallel-item:first-child::after {align-self: flex-end;width: 50%;}#sk-container-id-2 div.sk-parallel-item:last-child::after {align-self: flex-start;width: 50%;}#sk-container-id-2 div.sk-parallel-item:only-child::after {width: 0;}#sk-container-id-2 div.sk-dashed-wrapped {border: 1px dashed gray;margin: 0 0.4em 0.5em 0.4em;box-sizing: border-box;padding-bottom: 0.4em;background-color: white;}#sk-container-id-2 div.sk-label label {font-family: monospace;font-weight: bold;display: inline-block;line-height: 1.2em;}#sk-container-id-2 div.sk-label-container {text-align: center;}#sk-container-id-2 div.sk-container {/* jupyter's `normalize.less` sets `[hidden] { display: none; }` but bootstrap.min.css set `[hidden] { display: none !important; }` so we also need the `!important` here to be able to override the default hidden behavior on the sphinx rendered scikit-learn.org. See: https://github.com/scikit-learn/scikit-learn/issues/21755 */display: inline-block !important;position: relative;}#sk-container-id-2 div.sk-text-repr-fallback {display: none;}</style><div id=\"sk-container-id-2\" class=\"sk-top-container\"><div class=\"sk-text-repr-fallback\"><pre>XGBClassifier(base_score=None, booster=None, callbacks=None,\n",
       "              colsample_bylevel=None, colsample_bynode=None,\n",
       "              colsample_bytree=None, early_stopping_rounds=None,\n",
       "              enable_categorical=False, eval_metric=None, feature_types=None,\n",
       "              gamma=10, gpu_id=None, grow_policy=None, importance_type=None,\n",
       "              interaction_constraints=None, learning_rate=0.1, max_bin=None,\n",
       "              max_cat_threshold=None, max_cat_to_onehot=None, max_delta_step=2,\n",
       "              max_depth=2, max_leaves=None, min_child_weight=80, missing=nan,\n",
       "              monotone_constraints=None, n_estimators=100, n_jobs=None,\n",
       "              nthread=-1, num_parallel_tree=None, predictor=None, ...)</pre><b>In a Jupyter environment, please rerun this cell to show the HTML representation or trust the notebook. <br />On GitHub, the HTML representation is unable to render, please try loading this page with nbviewer.org.</b></div><div class=\"sk-container\" hidden><div class=\"sk-item\"><div class=\"sk-estimator sk-toggleable\"><input class=\"sk-toggleable__control sk-hidden--visually\" id=\"sk-estimator-id-2\" type=\"checkbox\" checked><label for=\"sk-estimator-id-2\" class=\"sk-toggleable__label sk-toggleable__label-arrow\">XGBClassifier</label><div class=\"sk-toggleable__content\"><pre>XGBClassifier(base_score=None, booster=None, callbacks=None,\n",
       "              colsample_bylevel=None, colsample_bynode=None,\n",
       "              colsample_bytree=None, early_stopping_rounds=None,\n",
       "              enable_categorical=False, eval_metric=None, feature_types=None,\n",
       "              gamma=10, gpu_id=None, grow_policy=None, importance_type=None,\n",
       "              interaction_constraints=None, learning_rate=0.1, max_bin=None,\n",
       "              max_cat_threshold=None, max_cat_to_onehot=None, max_delta_step=2,\n",
       "              max_depth=2, max_leaves=None, min_child_weight=80, missing=nan,\n",
       "              monotone_constraints=None, n_estimators=100, n_jobs=None,\n",
       "              nthread=-1, num_parallel_tree=None, predictor=None, ...)</pre></div></div></div></div></div>"
      ],
      "text/plain": [
       "XGBClassifier(base_score=None, booster=None, callbacks=None,\n",
       "              colsample_bylevel=None, colsample_bynode=None,\n",
       "              colsample_bytree=None, early_stopping_rounds=None,\n",
       "              enable_categorical=False, eval_metric=None, feature_types=None,\n",
       "              gamma=10, gpu_id=None, grow_policy=None, importance_type=None,\n",
       "              interaction_constraints=None, learning_rate=0.1, max_bin=None,\n",
       "              max_cat_threshold=None, max_cat_to_onehot=None, max_delta_step=2,\n",
       "              max_depth=2, max_leaves=None, min_child_weight=80, missing=nan,\n",
       "              monotone_constraints=None, n_estimators=100, n_jobs=None,\n",
       "              nthread=-1, num_parallel_tree=None, predictor=None, ...)"
      ]
     },
     "execution_count": 20,
     "metadata": {},
     "output_type": "execute_result"
    }
   ],
   "source": [
    "features = [\"in_degree\",\"out_degree\",\"send_amount\",\"send_min\",\n",
    "            \"recv_amount\",\"recv_min\",\"pagerank\",\"betweenness\"]\n",
    "# Train model\n",
    "tree_model.fit(train_data[features], train_data[\"is_fraud\"])"
   ]
  },
  {
   "attachments": {},
   "cell_type": "markdown",
   "id": "a9b9ceec-7220-4c34-8ca1-0ce7c9af8e22",
   "metadata": {},
   "source": [
    "### Evaluate model\n",
    "Next let's evaluate the model performance of the XGBoost model that was trained using graph-specific features. It imports the required evaluation metrics, such as Accuracy, BinaryPrecision, and BinaryRecall, from the pyTigerGraph library and initializes the metrics container. The model's predictions are obtained by applying it to the selected graph features of the validation data, while prediction scores are also recorded for future reference. The code then calculates and prints the evaluation metrics, revealing an accuracy of 0.7746 **(77.46% accuracy)**, precision of 0.1435, and a high recall of 0.9959. The results indicate that the model's performance has improved compared to the previous evaluation (without graph features). The accuracy and precision have increased, and the model still shows exceptional recall in identifying true positive instances, particularly fraudulent cases. Incorporating graph features in the model has enhanced its ability to leverage the graph structure and relationships, resulting in better predictions and a more effective detection of fraudulent behavior. However, further analysis and fine-tuning may be necessary to optimize the model's precision further and ensure reliable and accurate fraud detection."
   ]
  },
  {
   "cell_type": "code",
   "execution_count": 21,
   "id": "9f4c697b-da4a-4d20-a3a4-684b8cd4bfd4",
   "metadata": {},
   "outputs": [
    {
     "name": "stdout",
     "output_type": "stream",
     "text": [
      "Accuracy 0.7746, Precision 0.1435, Recall 0.9959\n"
     ]
    },
    {
     "name": "stderr",
     "output_type": "stream",
     "text": [
      "/opt/anaconda3/envs/pytg_dev/lib/python3.9/site-packages/pyTigerGraph/gds/metrics.py:238: DeprecationWarning: The `BinaryPrecision` metric is deprecated; use `Precision` metric instead.\n",
      "  warnings.warn(\n",
      "/opt/anaconda3/envs/pytg_dev/lib/python3.9/site-packages/pyTigerGraph/gds/metrics.py:116: DeprecationWarning: The `BinaryRecall` metric is deprecated; use `Recall` metric instead.\n",
      "  warnings.warn(\n"
     ]
    }
   ],
   "source": [
    "from pyTigerGraph.gds.metrics import Accuracy, BinaryPrecision, BinaryRecall\n",
    "from collections import defaultdict\n",
    "\n",
    "# Get predictions\n",
    "pred = tree_model.predict(valid_data[features].values)\n",
    "# Get prediction scores for later use\n",
    "yhat_tree = tree_model.predict_proba(valid_data[features].values)[:,1]\n",
    "ytrue_tree = valid_data[\"is_fraud\"].values\n",
    "\n",
    "m = Accuracy()\n",
    "m.update(pred, ytrue_tree)\n",
    "metrics[\"acc_tree_graph\"].append(m.value)\n",
    "\n",
    "m = BinaryPrecision()\n",
    "m.update(pred, ytrue_tree)\n",
    "metrics[\"prec_tree_graph\"].append(m.value)\n",
    "\n",
    "m = BinaryRecall()\n",
    "m.update(pred, ytrue_tree)\n",
    "metrics[\"rec_tree_graph\"].append(m.value)\n",
    "\n",
    "print(\"Accuracy {:.4f}, Precision {:.4f}, Recall {:.4f}\".format(\n",
    "    metrics[\"acc_tree_graph\"][-1], metrics[\"prec_tree_graph\"][-1], metrics[\"rec_tree_graph\"][-1]))"
   ]
  },
  {
   "attachments": {},
   "cell_type": "markdown",
   "id": "92ae98fc-ab8b-4f46-b464-bdd93071f98f",
   "metadata": {},
   "source": [
    "### Train xgboost model - FastRP Embeddings \n",
    "\n",
    "Next, let's create a new XGBoost model, \"emb_tree_model,\" which is trained using FastRP embeddings. FastRP is a dimensionality reduction technique that helps capture essential graph features by embedding the vertices into lower-dimensional vectors. The model is instantiated with specific hyperparameters, similar to the previous models. Additionally, the training features include not only the standard graph features, such as in-degree, out-degree, send_amount, send_min, recv_amount, recv_min, pagerank, and betweenness but also the embedded features represented as \"emb\" in the column names. This way, the model is provided with valuable graph embeddings as input to leverage the graph structure effectively. Once trained on the combined feature set, the model is expected to demonstrate improved performance in detecting fraudulent instances due to the enriched representation obtained from the FastRP embeddings. The trained \"emb_tree_model\" can now be evaluated on validation data to assess its effectiveness and compare its results with the previously trained models."
   ]
  },
  {
   "cell_type": "code",
   "execution_count": 22,
   "id": "cfa17370-c74d-4be1-9f6a-49a2469197da",
   "metadata": {},
   "outputs": [
    {
     "data": {
      "text/html": [
       "<style>#sk-container-id-3 {color: black;background-color: white;}#sk-container-id-3 pre{padding: 0;}#sk-container-id-3 div.sk-toggleable {background-color: white;}#sk-container-id-3 label.sk-toggleable__label {cursor: pointer;display: block;width: 100%;margin-bottom: 0;padding: 0.3em;box-sizing: border-box;text-align: center;}#sk-container-id-3 label.sk-toggleable__label-arrow:before {content: \"▸\";float: left;margin-right: 0.25em;color: #696969;}#sk-container-id-3 label.sk-toggleable__label-arrow:hover:before {color: black;}#sk-container-id-3 div.sk-estimator:hover label.sk-toggleable__label-arrow:before {color: black;}#sk-container-id-3 div.sk-toggleable__content {max-height: 0;max-width: 0;overflow: hidden;text-align: left;background-color: #f0f8ff;}#sk-container-id-3 div.sk-toggleable__content pre {margin: 0.2em;color: black;border-radius: 0.25em;background-color: #f0f8ff;}#sk-container-id-3 input.sk-toggleable__control:checked~div.sk-toggleable__content {max-height: 200px;max-width: 100%;overflow: auto;}#sk-container-id-3 input.sk-toggleable__control:checked~label.sk-toggleable__label-arrow:before {content: \"▾\";}#sk-container-id-3 div.sk-estimator input.sk-toggleable__control:checked~label.sk-toggleable__label {background-color: #d4ebff;}#sk-container-id-3 div.sk-label input.sk-toggleable__control:checked~label.sk-toggleable__label {background-color: #d4ebff;}#sk-container-id-3 input.sk-hidden--visually {border: 0;clip: rect(1px 1px 1px 1px);clip: rect(1px, 1px, 1px, 1px);height: 1px;margin: -1px;overflow: hidden;padding: 0;position: absolute;width: 1px;}#sk-container-id-3 div.sk-estimator {font-family: monospace;background-color: #f0f8ff;border: 1px dotted black;border-radius: 0.25em;box-sizing: border-box;margin-bottom: 0.5em;}#sk-container-id-3 div.sk-estimator:hover {background-color: #d4ebff;}#sk-container-id-3 div.sk-parallel-item::after {content: \"\";width: 100%;border-bottom: 1px solid gray;flex-grow: 1;}#sk-container-id-3 div.sk-label:hover label.sk-toggleable__label {background-color: #d4ebff;}#sk-container-id-3 div.sk-serial::before {content: \"\";position: absolute;border-left: 1px solid gray;box-sizing: border-box;top: 0;bottom: 0;left: 50%;z-index: 0;}#sk-container-id-3 div.sk-serial {display: flex;flex-direction: column;align-items: center;background-color: white;padding-right: 0.2em;padding-left: 0.2em;position: relative;}#sk-container-id-3 div.sk-item {position: relative;z-index: 1;}#sk-container-id-3 div.sk-parallel {display: flex;align-items: stretch;justify-content: center;background-color: white;position: relative;}#sk-container-id-3 div.sk-item::before, #sk-container-id-3 div.sk-parallel-item::before {content: \"\";position: absolute;border-left: 1px solid gray;box-sizing: border-box;top: 0;bottom: 0;left: 50%;z-index: -1;}#sk-container-id-3 div.sk-parallel-item {display: flex;flex-direction: column;z-index: 1;position: relative;background-color: white;}#sk-container-id-3 div.sk-parallel-item:first-child::after {align-self: flex-end;width: 50%;}#sk-container-id-3 div.sk-parallel-item:last-child::after {align-self: flex-start;width: 50%;}#sk-container-id-3 div.sk-parallel-item:only-child::after {width: 0;}#sk-container-id-3 div.sk-dashed-wrapped {border: 1px dashed gray;margin: 0 0.4em 0.5em 0.4em;box-sizing: border-box;padding-bottom: 0.4em;background-color: white;}#sk-container-id-3 div.sk-label label {font-family: monospace;font-weight: bold;display: inline-block;line-height: 1.2em;}#sk-container-id-3 div.sk-label-container {text-align: center;}#sk-container-id-3 div.sk-container {/* jupyter's `normalize.less` sets `[hidden] { display: none; }` but bootstrap.min.css set `[hidden] { display: none !important; }` so we also need the `!important` here to be able to override the default hidden behavior on the sphinx rendered scikit-learn.org. See: https://github.com/scikit-learn/scikit-learn/issues/21755 */display: inline-block !important;position: relative;}#sk-container-id-3 div.sk-text-repr-fallback {display: none;}</style><div id=\"sk-container-id-3\" class=\"sk-top-container\"><div class=\"sk-text-repr-fallback\"><pre>XGBClassifier(base_score=None, booster=None, callbacks=None,\n",
       "              colsample_bylevel=None, colsample_bynode=None,\n",
       "              colsample_bytree=None, early_stopping_rounds=None,\n",
       "              enable_categorical=False, eval_metric=None, feature_types=None,\n",
       "              gamma=10, gpu_id=None, grow_policy=None, importance_type=None,\n",
       "              interaction_constraints=None, learning_rate=0.1, max_bin=None,\n",
       "              max_cat_threshold=None, max_cat_to_onehot=None, max_delta_step=2,\n",
       "              max_depth=2, max_leaves=None, min_child_weight=80, missing=nan,\n",
       "              monotone_constraints=None, n_estimators=100, n_jobs=None,\n",
       "              nthread=-1, num_parallel_tree=None, predictor=None, ...)</pre><b>In a Jupyter environment, please rerun this cell to show the HTML representation or trust the notebook. <br />On GitHub, the HTML representation is unable to render, please try loading this page with nbviewer.org.</b></div><div class=\"sk-container\" hidden><div class=\"sk-item\"><div class=\"sk-estimator sk-toggleable\"><input class=\"sk-toggleable__control sk-hidden--visually\" id=\"sk-estimator-id-3\" type=\"checkbox\" checked><label for=\"sk-estimator-id-3\" class=\"sk-toggleable__label sk-toggleable__label-arrow\">XGBClassifier</label><div class=\"sk-toggleable__content\"><pre>XGBClassifier(base_score=None, booster=None, callbacks=None,\n",
       "              colsample_bylevel=None, colsample_bynode=None,\n",
       "              colsample_bytree=None, early_stopping_rounds=None,\n",
       "              enable_categorical=False, eval_metric=None, feature_types=None,\n",
       "              gamma=10, gpu_id=None, grow_policy=None, importance_type=None,\n",
       "              interaction_constraints=None, learning_rate=0.1, max_bin=None,\n",
       "              max_cat_threshold=None, max_cat_to_onehot=None, max_delta_step=2,\n",
       "              max_depth=2, max_leaves=None, min_child_weight=80, missing=nan,\n",
       "              monotone_constraints=None, n_estimators=100, n_jobs=None,\n",
       "              nthread=-1, num_parallel_tree=None, predictor=None, ...)</pre></div></div></div></div></div>"
      ],
      "text/plain": [
       "XGBClassifier(base_score=None, booster=None, callbacks=None,\n",
       "              colsample_bylevel=None, colsample_bynode=None,\n",
       "              colsample_bytree=None, early_stopping_rounds=None,\n",
       "              enable_categorical=False, eval_metric=None, feature_types=None,\n",
       "              gamma=10, gpu_id=None, grow_policy=None, importance_type=None,\n",
       "              interaction_constraints=None, learning_rate=0.1, max_bin=None,\n",
       "              max_cat_threshold=None, max_cat_to_onehot=None, max_delta_step=2,\n",
       "              max_depth=2, max_leaves=None, min_child_weight=80, missing=nan,\n",
       "              monotone_constraints=None, n_estimators=100, n_jobs=None,\n",
       "              nthread=-1, num_parallel_tree=None, predictor=None, ...)"
      ]
     },
     "execution_count": 22,
     "metadata": {},
     "output_type": "execute_result"
    }
   ],
   "source": [
    "emb_tree_model = XGBClassifier(\n",
    "    nthread=-1, n_estimators=100, learning_rate=0.1, \n",
    "    objective='binary:logistic', max_depth=2, scale_pos_weight=400, \n",
    "    min_child_weight=80, gamma = 10, max_delta_step=2) \n",
    "\n",
    "features = [\"in_degree\",\"out_degree\",\"send_amount\",\"send_min\",\n",
    "            \"recv_amount\",\"recv_min\",\"pagerank\",\"betweenness\"] + [x for x in train_data.columns if \"emb\" in x]\n",
    "# Train model\n",
    "emb_tree_model.fit(train_data[features], train_data[\"is_fraud\"])"
   ]
  },
  {
   "attachments": {},
   "cell_type": "markdown",
   "id": "850a1644",
   "metadata": {},
   "source": [
    "### Evaluate Model\n",
    "Next, let's evaluate the performance of the XGBoost model trained using FastRP embeddings. To accomplish this, the code imports the necessary evaluation metrics, such as Accuracy, BinaryPrecision, and BinaryRecall, and initializes a metrics container. The model's predictions are obtained by applying it to the selected features, which include both traditional graph features (in-degree, out-degree, send_amount, send_min, recv_amount, recv_min, pagerank, and betweenness) and graph embeddings generated using FastRP. The code calculates and records the evaluation metrics for the model's predictions against the true \"is_fraud\" labels of the validation data. The results reveal an accuracy of 0.8956 **(89.56% accuracy)**, a precision of 0.2647, and a high recall of 0.9876. Compared to the previous models, this model demonstrates significant improvement in accuracy, precision, and recall. Incorporating FastRP embeddings has enabled the model to better leverage the graph structure and relationships, leading to a more accurate and effective detection of fraudulent instances. The high recall indicates the model's proficiency in correctly identifying true positive cases, while the relatively low precision suggests there might still be room for optimization to reduce false positives. Nevertheless, the results demonstrate the effectiveness of FastRP embeddings in enhancing the model's performance and detecting fraudulent behavior more reliably."
   ]
  },
  {
   "cell_type": "code",
   "execution_count": 23,
   "id": "d226f65b-29a0-448b-b283-abf06ceb8d84",
   "metadata": {},
   "outputs": [
    {
     "name": "stdout",
     "output_type": "stream",
     "text": [
      "Accuracy 0.8956, Precision 0.2647, Recall 0.9876\n"
     ]
    },
    {
     "name": "stderr",
     "output_type": "stream",
     "text": [
      "/opt/anaconda3/envs/pytg_dev/lib/python3.9/site-packages/pyTigerGraph/gds/metrics.py:238: DeprecationWarning: The `BinaryPrecision` metric is deprecated; use `Precision` metric instead.\n",
      "  warnings.warn(\n",
      "/opt/anaconda3/envs/pytg_dev/lib/python3.9/site-packages/pyTigerGraph/gds/metrics.py:116: DeprecationWarning: The `BinaryRecall` metric is deprecated; use `Recall` metric instead.\n",
      "  warnings.warn(\n"
     ]
    }
   ],
   "source": [
    "from pyTigerGraph.gds.metrics import Accuracy, BinaryPrecision, BinaryRecall\n",
    "from collections import defaultdict\n",
    "\n",
    "# Get predictions\n",
    "pred = emb_tree_model.predict(valid_data[features].values)\n",
    "# Get prediction scores for later use\n",
    "yhat_tree = emb_tree_model.predict_proba(valid_data[features].values)[:,1]\n",
    "ytrue_tree = valid_data[\"is_fraud\"].values\n",
    "\n",
    "m = Accuracy()\n",
    "m.update(pred, ytrue_tree)\n",
    "metrics[\"acc_fastrp_tree\"].append(m.value)\n",
    "\n",
    "m = BinaryPrecision()\n",
    "m.update(pred, ytrue_tree)\n",
    "metrics[\"prec_fastrp_tree\"].append(m.value)\n",
    "\n",
    "m = BinaryRecall()\n",
    "m.update(pred, ytrue_tree)\n",
    "metrics[\"rec_fastrp_tree\"].append(m.value)\n",
    "\n",
    "print(\"Accuracy {:.4f}, Precision {:.4f}, Recall {:.4f}\".format(\n",
    "    metrics[\"acc_fastrp_tree\"][-1], metrics[\"prec_fastrp_tree\"][-1], metrics[\"rec_fastrp_tree\"][-1]))"
   ]
  },
  {
   "attachments": {},
   "cell_type": "markdown",
   "id": "36a39d08-3b14-409d-91c7-440d950a6426",
   "metadata": {},
   "source": [
    "### Explain models\n",
    "In this analysis, we will examine the feature importance values of both XGBoost models. For the model trained with FastRP embeddings, we combined all dimensions of the embeddings into a single feature importance score. It is evident that the embeddings play a significant role in influencing the model's performance, as indicated by their high feature importance scores."
   ]
  },
  {
   "cell_type": "code",
   "execution_count": 24,
   "id": "de1d3541-5fa1-479f-9234-b68b265d427d",
   "metadata": {},
   "outputs": [
    {
     "data": {
      "text/plain": [
       "Text(0.5, 0, 'feature importance score')"
      ]
     },
     "execution_count": 24,
     "metadata": {},
     "output_type": "execute_result"
    },
    {
     "data": {
      "image/png": "[encoded data removed]",
      "text/plain": [
       "<Figure size 640x480 with 1 Axes>"
      ]
     },
     "metadata": {},
     "output_type": "display_data"
    }
   ],
   "source": [
    "import matplotlib.pyplot as plt\n",
    "\n",
    "feature_importance = tree_model.get_booster().get_fscore()\n",
    "plt.barh(range(len(feature_importance)), feature_importance.values())\n",
    "plt.yticks(range(len(feature_importance)), feature_importance.keys())\n",
    "plt.xlabel(\"feature importance score\")"
   ]
  },
  {
   "attachments": {},
   "cell_type": "markdown",
   "id": "c7e33b07",
   "metadata": {},
   "source": [
    "Next, we will be looking at the feature importance scores of the \"emb_tree_model\" XGBoost model trained with FastRP embeddings. It condenses the importance scores by combining all embedding dimensions into a single score labeled \"embedding.\" The resulting scores are plotted as a horizontal bar chart, providing insights into the model's decision-making process and emphasizing the significance of individual features and embeddings on the model's performance."
   ]
  },
  {
   "cell_type": "code",
   "execution_count": 25,
   "id": "d4604309-3ea3-407c-b7cd-b1f2546545c4",
   "metadata": {},
   "outputs": [
    {
     "data": {
      "image/png": "[encoded data removed]",
      "text/plain": [
       "<Figure size 640x480 with 1 Axes>"
      ]
     },
     "metadata": {},
     "output_type": "display_data"
    }
   ],
   "source": [
    "import matplotlib.pyplot as plt\n",
    "\n",
    "feature_importance = emb_tree_model.get_booster().get_fscore()\n",
    "\n",
    "condensed_feat_imp = {\"embedding\": 0}\n",
    "for feat in feature_importance.keys():\n",
    "    if \"emb\" in feat:\n",
    "        condensed_feat_imp[\"embedding\"] += feature_importance[feat]\n",
    "    else:\n",
    "        condensed_feat_imp[feat] = feature_importance[feat]\n",
    "\n",
    "plt.barh(range(len(condensed_feat_imp)), condensed_feat_imp.values());\n",
    "plt.yticks(range(len(condensed_feat_imp)), condensed_feat_imp.keys());\n",
    "plt.xlabel(\"feature importance score\");"
   ]
  },
  {
   "attachments": {},
   "cell_type": "markdown",
   "id": "22727e65-2956-4df8-afcc-b4f221121a01",
   "metadata": {},
   "source": [
    "## Graph Neural Network\n",
    "\n",
    "Moving on let's define the hyperparameters for a Graph Neural Network (GNN) model and its corresponding training environment. The hyperparameters include a batch size of 1024, the number of neighbors to consider (num_neighbors) during message passing, the number of hops (num_hops) for message propagation in the graph, a hidden dimension of 256 for the GNN layers, two GNN layers (num_layers), and a dropout rate of 0.25 for regularization. These hyperparameters play a crucial role in shaping the GNN's architecture and controlling its training process. Properly tuning these hyperparameters can significantly impact the model's performance on graph-related tasks, such as node classification or link prediction."
   ]
  },
  {
   "cell_type": "code",
   "execution_count": 26,
   "id": "690b9e45-726a-4d20-b79b-a84961145d50",
   "metadata": {},
   "outputs": [],
   "source": [
    "hp = {\n",
    "    \"batch_size\": 1024, \n",
    "    \"num_neighbors\": 200, \n",
    "    \"num_hops\": 2, \n",
    "    \"hidden_dim\": 256, \n",
    "    \"num_layers\": 2, \n",
    "    \"dropout\": 0.25\n",
    "}"
   ]
  },
  {
   "attachments": {},
   "cell_type": "markdown",
   "id": "e5193703-e0e1-421d-bb2b-4d79f5eaee07",
   "metadata": {},
   "source": [
    "### Create Neighbor Loaders\n",
    "\n",
    "Next, let's create the Neighbor Loaders used for training and validation in the context of a Graph Neural Network (GNN) model. The neighbor loaders are an essential component in graph-based machine learning tasks as they handle the efficient retrieval of neighboring node information for each target node during training and validation. The `conn.gds.neighborLoader` function is used to create these loaders, specifying various parameters. The \"v_in_feats\" parameter lists the input features of the target nodes, such as in-degree, out-degree, send_amount, send_min, recv_amount, recv_min, pagerank, and betweenness. The \"v_out_labels\" parameter designates the output labels for the target nodes, specifically \"is_fraud\" in this case. The \"v_extra_feats\" parameter includes additional features related to the target nodes, namely \"is_training\" and \"is_validation\" labels. The \"output_format\" is set to \"PyG\" to align the data format with the popular PyTorch Geometric (PyG) library. Other parameters, such as batch size, number of neighbors, number of hops, filtering, shuffling, and timeout, are specified to control the data loading process. By creating these Neighbor Loaders, the GNN model can efficiently access and utilize neighboring node information during its training and validation phases, significantly enhancing its performance in graph-related tasks."
   ]
  },
  {
   "cell_type": "code",
   "execution_count": 46,
   "id": "17c31955-8824-40a1-9c62-966d99fe60e6",
   "metadata": {},
   "outputs": [],
   "source": [
    "train_loader, valid_loader = conn.gds.neighborLoader(\n",
    "    v_in_feats=[\"in_degree\",\"out_degree\",\"send_amount\",\"send_min\",\"recv_amount\",\"recv_min\",\"pagerank\",\"betweenness\"],\n",
    "    v_out_labels=[\"is_fraud\"],\n",
    "    v_extra_feats=[\"is_training\", \"is_validation\"],\n",
    "    output_format=\"PyG\",\n",
    "    batch_size=hp[\"batch_size\"],\n",
    "    num_neighbors=hp[\"num_neighbors\"],\n",
    "    num_hops=hp[\"num_hops\"],\n",
    "    filter_by = [\"is_training\", \"is_validation\"],\n",
    "    shuffle=True,\n",
    "    timeout=600000\n",
    ")"
   ]
  },
  {
   "attachments": {},
   "cell_type": "markdown",
   "id": "6c5e0368-0902-4d95-b60c-1a217b9fd0bc",
   "metadata": {},
   "source": [
    "### Create Graph Attention Network\n",
    "\n",
    "Next, a Graph Attention Network (GAN) is created for vertex classification using the GraphSAGE model. The GAN is designed to perform vertex classification, where each vertex in the graph is assigned to one of two classes. The code imports the required GraphSAGE module from the pyTigerGraph library and initializes the GAN with specific hyperparameters. The \"num_layers\" parameter controls the number of layers in the GAN, while the \"out_dim\" parameter sets the output dimension of the GAN's classification layer, which is two in this case, representing the two classes. The \"hidden_dim\" parameter determines the dimension of the hidden layers in the model. The \"dropout\" parameter introduces dropout regularization to prevent overfitting during training. Additionally, the \"class_weights\" parameter is used to address class imbalance, setting a higher weight for the minority class (class 1) with a weight ratio of 1:15. By creating this Graph Attention Network, the model can effectively learn to classify vertices in the graph, particularly in tasks with imbalanced class distributions."
   ]
  },
  {
   "cell_type": "code",
   "execution_count": null,
   "id": "4f6d90e9-9c40-4758-b19d-dd883817d7da",
   "metadata": {},
   "outputs": [
    {
     "ename": "",
     "evalue": "",
     "output_type": "error",
     "traceback": [
      "\u001b[1;31mRunning cells with '/usr/local/bin/python3' requires ipykernel package.\n",
      "\u001b[1;31mRun the following command to install 'ipykernel' into the Python environment. \n",
      "\u001b[1;31mCommand: '/usr/local/bin/python3 -m pip install ipykernel -U --user --force-reinstall'"
     ]
    }
   ],
   "source": [
    "from pyTigerGraph.gds.models.GraphSAGE import GraphSAGEForVertexClassification\n",
    "import torch\n",
    "\n",
    "gs = GraphSAGEForVertexClassification(num_layers = hp[\"num_layers\"],\n",
    "                                      out_dim = 2,\n",
    "                                      hidden_dim = hp[\"hidden_dim\"],\n",
    "                                      dropout = hp[\"dropout\"],\n",
    "                                      class_weights = torch.FloatTensor([1, 15]))"
   ]
  },
  {
   "attachments": {},
   "cell_type": "markdown",
   "id": "f6a76a1a-719d-49ef-bb08-5f2b3052142b",
   "metadata": {},
   "source": [
    "### Train Model\n",
    "Now we will train the previously defined Graph Attention Network (GAN) using the \"gs.fit\" method. The GAN is being trained on the provided \"train_loader\" and validated using the \"valid_loader\" for a total of 10 epochs. This process involves optimizing the model's parameters and learning the best representation to classify vertices in the graph accurately."
   ]
  },
  {
   "cell_type": "code",
   "execution_count": 48,
   "id": "fea32d40-93a7-418f-ab53-966197106f3c",
   "metadata": {},
   "outputs": [
    {
     "name": "stderr",
     "output_type": "stream",
     "text": [
      "\n",
      "Epochs: 100%|██████████| 10/10 [57:04<00:00, 342.45s/it]\n",
      "\n",
      "\u001b[A\n",
      "\u001b[A\n",
      "\u001b[A\n",
      "\u001b[A\n",
      "\u001b[A\n",
      "\u001b[A\n",
      "\u001b[A\n",
      "\u001b[A\n",
      "\u001b[A\n",
      "\u001b[A\n",
      "\u001b[A\n",
      "\u001b[A\n",
      "\u001b[A\n",
      "\u001b[A\n",
      "\u001b[A\n",
      "\u001b[A\n",
      "\u001b[A\n",
      "\u001b[A\n",
      "\u001b[A\n",
      "\u001b[A\n",
      "\u001b[A\n",
      "\u001b[A\n",
      "Training Batches: 100%|██████████| 26/26 [01:59<00:00,  4.61s/it]\n",
      "Eval Batches: 100%|██████████| 7/7 [00:33<00:00,  4.77s/it]\n",
      "Training Batches: 100%|██████████| 26/26 [01:58<00:00,  4.57s/it]\n",
      "Eval Batches: 100%|██████████| 7/7 [00:32<00:00,  4.65s/it]\n",
      "Training Batches: 100%|██████████| 26/26 [01:54<00:00,  4.42s/it]\n",
      "Eval Batches: 100%|██████████| 7/7 [00:31<00:00,  4.54s/it]\n",
      "Training Batches: 100%|██████████| 26/26 [01:56<00:00,  4.47s/it]\n",
      "Eval Batches: 100%|██████████| 7/7 [00:31<00:00,  4.50s/it]\n",
      "Training Batches: 100%|██████████| 26/26 [01:53<00:00,  4.38s/it]\n",
      "Eval Batches: 100%|██████████| 7/7 [00:31<00:00,  4.49s/it]\n",
      "Training Batches: 100%|██████████| 26/26 [02:03<00:00,  4.74s/it]\n",
      "Eval Batches: 100%|██████████| 7/7 [00:33<00:00,  4.74s/it]\n",
      "Training Batches: 100%|██████████| 26/26 [02:02<00:00,  4.72s/it]\n",
      "Eval Batches: 100%|██████████| 7/7 [00:35<00:00,  5.07s/it]\n",
      "Training Batches: 100%|██████████| 26/26 [01:59<00:00,  4.59s/it]\n",
      "Eval Batches: 100%|██████████| 7/7 [00:31<00:00,  4.53s/it]\n",
      "Training Batches: 100%|██████████| 26/26 [01:59<00:00,  4.58s/it]\n",
      "Eval Batches: 100%|██████████| 7/7 [00:31<00:00,  4.49s/it]\n",
      "Training Batches: 100%|██████████| 26/26 [01:59<00:00,  4.59s/it]\n",
      "Eval Batches: 100%|██████████| 7/7 [00:32<00:00,  4.65s/it]\n"
     ]
    }
   ],
   "source": [
    "gs.fit(train_loader, valid_loader, number_epochs=10)"
   ]
  },
  {
   "cell_type": "code",
   "execution_count": 49,
   "id": "94690a70",
   "metadata": {},
   "outputs": [],
   "source": [
    "final_metrics = gs.trainer.get_eval_metrics()"
   ]
  },
  {
   "attachments": {},
   "cell_type": "markdown",
   "id": "61b65881",
   "metadata": {},
   "source": [
    "### Model Evaluation\n",
    "The final evaluation metrics of the trained Graph Attention Network (GAN) are obtained and presented as a dictionary. The evaluation results include an **accuracy of 96.62%**, precision of 54.68%, and recall of 63.07%. Additionally, the confusion matrix showcases the number of true positive (152), false positive (126), true negative (5996), and false negative (89) instances. The calculated loss for the GAN is 26.59. These metrics provide insights into the GAN's performance in accurately classifying vertices in the graph and highlight the effectiveness of the model in handling imbalanced class distributions."
   ]
  },
  {
   "cell_type": "code",
   "execution_count": 50,
   "id": "9934ab2e",
   "metadata": {},
   "outputs": [
    {
     "data": {
      "text/plain": [
       "{'accuracy': 0.9662109068049662,\n",
       " 'precision': 0.5467625899280576,\n",
       " 'recall': 0.6307053941908713,\n",
       " 'confusion_matrix':          predicted_0  predicted_1\n",
       " label_0       5996.0        126.0\n",
       " label_1         89.0        152.0,\n",
       " 'loss': 26.588702065604075}"
      ]
     },
     "execution_count": 50,
     "metadata": {},
     "output_type": "execute_result"
    }
   ],
   "source": [
    "final_metrics"
   ]
  },
  {
   "attachments": {},
   "cell_type": "markdown",
   "id": "5ed9e841",
   "metadata": {},
   "source": [
    "Let's print the final evaluation metrics (accuracy, precision, and recall) for the Graph Attention Network (GNN) model, providing a clear and concise summary of its performance in vertex classification."
   ]
  },
  {
   "cell_type": "code",
   "execution_count": 51,
   "id": "da6f3e12",
   "metadata": {},
   "outputs": [
    {
     "name": "stdout",
     "output_type": "stream",
     "text": [
      "Accuracy 0.9662, Precision 0.5468, Recall 0.6307\n"
     ]
    }
   ],
   "source": [
    "# Print the final performance metric for the GNN model\n",
    "print(\"Accuracy {:.4f}, Precision {:.4f}, Recall {:.4f}\".format(\n",
    "    final_metrics[\"accuracy\"], final_metrics[\"precision\"], final_metrics[\"recall\"]))"
   ]
  },
  {
   "attachments": {},
   "cell_type": "markdown",
   "id": "c6627357",
   "metadata": {},
   "source": [
    "### Visualize Results with Confusion Matrix\n",
    "\n",
    "We will create visual representation of the confusion matrix based on the evaluation metrics. The confusion matrix is displayed as a heatmap using the \"matshow\" function from Matplotlib, where different colors represent the number of true positive, false positive, true negative, and false negative instances. The values within the heatmap are annotated using \"text\" to show the exact counts of each class prediction. The plot is accompanied by labeled axes, and the title \"Confusion Matrix\" is added to provide a clear understanding of the model's performance in distinguishing between actual and predicted classes. The visualization of the confusion matrix aids in assessing the model's classification accuracy and identifying any potential misclassifications."
   ]
  },
  {
   "cell_type": "code",
   "execution_count": 52,
   "id": "eb808e12-3b6b-438a-9979-9edff9604f74",
   "metadata": {},
   "outputs": [
    {
     "data": {
      "image/png": "[encoded data removed]",
      "text/plain": [
       "<Figure size 750x750 with 1 Axes>"
      ]
     },
     "metadata": {},
     "output_type": "display_data"
    }
   ],
   "source": [
    "import matplotlib.pyplot as plt\n",
    "\n",
    "fig, ax = plt.subplots(figsize=(7.5, 7.5))\n",
    "ax.matshow(final_metrics[\"confusion_matrix\"], cmap=plt.cm.Blues, alpha=0.8)\n",
    "\n",
    "for i in range(final_metrics[\"confusion_matrix\"].shape[0]):\n",
    "    for j in range(final_metrics[\"confusion_matrix\"].shape[1]):\n",
    "        ax.text(x=j, y=i,s=final_metrics[\"confusion_matrix\"].values[i, j], va='center', ha='center', size='xx-large')\n",
    " \n",
    "plt.xlabel('Predictions', fontsize=18)\n",
    "plt.ylabel('Actuals', fontsize=18)\n",
    "plt.title('Confusion Matrix', fontsize=18)\n",
    "plt.show()"
   ]
  },
  {
   "cell_type": "markdown",
   "id": "ca51b8a6-d9d9-42a3-a0ca-e2d768106ef0",
   "metadata": {},
   "source": [
    "### Explain Model"
   ]
  },
  {
   "attachments": {},
   "cell_type": "markdown",
   "id": "50c74381-2354-4521-8c62-2ac212c7806d",
   "metadata": {},
   "source": [
    "Let's sample a random vertex that the model predicts to be fraudulent and retrieve the data representing the subgraph surrounding that vertex. The data is fetched from the \"train_loader\" using the \"fetch\" method with specific attributes, such as the vertex type \"Account\" and the primary ID \"0x5093c4029acab3aff80140023099f5ec6ca7d52f.\" This process allows for a closer examination of the subgraph and gaining insights into the model's predictions and the underlying patterns associated with fraudulent vertices."
   ]
  },
  {
   "cell_type": "code",
   "execution_count": 85,
   "id": "f30d0260",
   "metadata": {},
   "outputs": [],
   "source": [
    "from torch_geometric.explain import Explainer, GNNExplainer\n",
    "\n",
    "data = train_loader.fetch([{\"type\": \"Account\", \"primary_id\": \"0x5093c4029acab3aff80140023099f5ec6ca7d52f\"}])\n",
    "\n",
    "explainer = Explainer(\n",
    "    model=gs.model,\n",
    "    algorithm=GNNExplainer(epochs=200),\n",
    "    explanation_type='model',\n",
    "    node_mask_type='attributes',\n",
    "    edge_mask_type='object',\n",
    "    model_config=dict(\n",
    "        mode='binary_classification',\n",
    "        task_level='node',\n",
    "        return_type='raw',  # Model returns log probabilities.\n",
    "    ),\n",
    ")"
   ]
  },
  {
   "cell_type": "code",
   "execution_count": 86,
   "id": "c5d43b55",
   "metadata": {},
   "outputs": [
    {
     "data": {
      "text/plain": [
       "Data(edge_index=[2, 21], x=[21, 8], y=[21], is_training=[21], is_validation=[21], is_seed=[21], primary_id=[21])"
      ]
     },
     "execution_count": 86,
     "metadata": {},
     "output_type": "execute_result"
    }
   ],
   "source": [
    "data"
   ]
  },
  {
   "attachments": {},
   "cell_type": "markdown",
   "id": "6a4454f0",
   "metadata": {},
   "source": [
    "Next let's us an \"explainer\" object to generate explanations for a Graph Attention Network (GAN) model's predictions in vertex classification. It visualizes the feature importance scores of the input features and creates a graphical representation of the subgraph around a sampled vertex to gain insights into the model's decision-making process. The explanations help in understanding critical features and validating the model's performance."
   ]
  },
  {
   "cell_type": "code",
   "execution_count": 87,
   "id": "ca99a6f0",
   "metadata": {},
   "outputs": [
    {
     "data": {
      "image/png": "[encoded data removed]",
      "text/plain": [
       "<Figure size 1000x700 with 1 Axes>"
      ]
     },
     "metadata": {},
     "output_type": "display_data"
    },
    {
     "data": {
      "image/png": "[encoded data removed]",
      "text/plain": [
       "<Figure size 640x480 with 1 Axes>"
      ]
     },
     "metadata": {},
     "output_type": "display_data"
    }
   ],
   "source": [
    "explanation = explainer(data.x.float(), data.edge_index)\n",
    "\n",
    "explanation.visualize_feature_importance(top_k=len(train_loader.v_in_feats), feat_labels=train_loader.v_in_feats)\n",
    "\n",
    "explanation.visualize_graph()"
   ]
  },
  {
   "cell_type": "markdown",
   "id": "7d8427d8-2d10-427c-aaea-fc8c602d54a5",
   "metadata": {},
   "source": [
    "## Conclusion"
   ]
  },
  {
   "attachments": {},
   "cell_type": "markdown",
   "id": "2066e580-428f-4f80-a7ef-cd06f5c226b5",
   "metadata": {},
   "source": [
    "* Graph features significantly enhance the performance of traditional ML models, as observed in the XGBoost example, where PageRank emerges with a high feature importance score.\n",
    "* The Graph Attention Network (GAT) outperforms XGBoost in terms of accuracy and precision, demonstrating its superiority in vertex classification tasks.\n",
    "* Although GAT achieves slightly lower recall compared to XGBoost, it still maintains a good level of performance, making it a promising choice for various graph-related applications, particularly in scenarios with imbalanced class distributions.\n",
    "\n",
    "### Accuracy Improvement\n",
    "The machine learning model performance shows significant improvements when incorporating graph features and advanced techniques. Comparing the different models, the XGBoost model with graph features demonstrates a notable accuracy increase from 0.7531 **(75.31% accuracy)** to 0.7746 **(77.46% accuracy)**, while the addition of FastRP embeddings further boosts the accuracy to 0.8956 **(89.56% accuracy)**. However, the Graph Neural Network (GNN) model with GraphSAGE surpasses all XGBoost variations, achieving an impressive accuracy of 0.9662 **(96.62% accuracy)** . Although the GNN model shows slightly lower recall compared to some XGBoost variants, its overall performance, especially in accuracy and precision, makes it a superior choice for vertex classification tasks involving complex graph data. The results underscore the benefits of leveraging graph features and GNNs to achieve more accurate and sophisticated predictions in graph-based machine learning tasks."
   ]
  },
  {
   "cell_type": "code",
   "execution_count": 88,
   "id": "f799aeb3-5799-432d-a9b8-e19ccaddc42f",
   "metadata": {},
   "outputs": [
    {
     "data": {
      "text/plain": [
       "Text(0.5, 0, 'Metric value')"
      ]
     },
     "execution_count": 88,
     "metadata": {},
     "output_type": "execute_result"
    },
    {
     "data": {
      "image/png": "[encoded data removed]",
      "text/plain": [
       "<Figure size 640x480 with 1 Axes>"
      ]
     },
     "metadata": {},
     "output_type": "display_data"
    }
   ],
   "source": [
    "tick_labels = [\"Accuracy\", \"Precision\", \"Recall\"]\n",
    "x_tree_base = [metrics['acc_tree_base'][-1], metrics['prec_tree_base'][-1], metrics['rec_tree_base'][-1]]\n",
    "x_tree_graph = [metrics['acc_tree_graph'][-1], metrics['prec_tree_graph'][-1], metrics['rec_tree_graph'][-1]]\n",
    "x_gat = [final_metrics['accuracy'], final_metrics['precision'], final_metrics['recall']]\n",
    "x_fastrp_tree = [metrics['acc_fastrp_tree'][-1], metrics['prec_fastrp_tree'][-1], metrics['rec_fastrp_tree'][-1]]\n",
    "y = np.arange(len(tick_labels))\n",
    "bar_width = 0.2\n",
    "plt.barh(y-bar_width*1.5, x_tree_base, bar_width, label=\"Baseline\")\n",
    "plt.barh(y-bar_width/2, x_tree_graph, bar_width, label=\"+Graph features\")\n",
    "plt.barh(y+bar_width/2, x_fastrp_tree, bar_width, label=\"+FastRP\")\n",
    "plt.barh(y+bar_width*1.5, x_gat, bar_width, label=\"GAT\")\n",
    "plt.yticks(y, tick_labels)\n",
    "plt.legend()\n",
    "plt.gca().invert_yaxis()\n",
    "plt.xlabel(\"Metric value\")"
   ]
  }
 ],
 "metadata": {
  "kernelspec": {
   "display_name": "Python 3.9.16 ('pytg_dev')",
   "language": "python",
   "name": "python3"
  },
  "language_info": {
   "codemirror_mode": {
    "name": "ipython",
    "version": 3
   },
   "file_extension": ".py",
   "mimetype": "text/x-python",
   "name": "python",
   "nbconvert_exporter": "python",
   "pygments_lexer": "ipython3",
   "version": "3.9.16"
  },
  "vscode": {
   "interpreter": {
    "hash": "1c3872f25492526ae0a7ed66aa11b82cc2d33aacfd3b6e5e18da7e09a4c57038"
   }
  }
 },
 "nbformat": 4,
 "nbformat_minor": 5
}
