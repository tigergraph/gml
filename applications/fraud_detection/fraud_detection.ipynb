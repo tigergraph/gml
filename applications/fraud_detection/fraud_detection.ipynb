{
 "cells": [
  {
   "cell_type": "markdown",
   "id": "4cbb8325-7d5b-4e6d-aaf9-040961c7fa4b",
   "metadata": {
    "tags": []
   },
   "source": [
    "# Detecting Fraudulent Accounts on the Ethereum Blockchain\n",
    "### A Comprehensive Tutorial Using Graph Features and Machine Learning"
   ]
  },
  {
   "cell_type": "markdown",
   "id": "2cdc9404-be58-401a-be8a-3dca48822d65",
   "metadata": {},
   "source": [
    "## Overview:\n",
    "In this tutorial, we delve into the exciting world of fraud detection on the Ethereum platform, focusing on transactions between accounts. Leveraging powerful tools like the `featurizer` in [pyTigerGraph](https://docs.tigergraph.com/pytigergraph/current/intro/), we engineer essential graph features from the transaction graph. To facilitate data retrieval, we employ the data loaders in pyTigerGraph, extracting valuable information from the TigerGraph database.\n",
    "\n",
    "Our approach further incorporates [xgboost](https://xgboost.readthedocs.io/en/stable/), a gradient boost tree model, and [PyTorch Geometric](https://pytorch-geometric.readthedocs.io/en/latest/), enabling us to build powerful GNN (Graph Neural Network) models.\n",
    "\n",
    "The dataset under study comprises transactions on the Ethereum platform, forming a transaction graph for Ether, the second-largest cryptocurrency. Wallets (i.e., accounts) on the platform serve as vertices in the graph, while edges represent transactions between these accounts. With 32,168 vertices and 84,088 edges, the dataset is derived from the publicly available Ethereum dataset from [XBlock](https://xblock.pro/ethereum#/dataset/13).\n",
    "\n",
    "In this tutorial, we will explore various implementations of XGBoost and Graph Neural Networks (GNN) to achieve specific results. The covered topics include:\n",
    "\n",
    "1. XGBoost without Graph Features\n",
    "2. XGBoost with Graph Features\n",
    "3. XGBoost with Graph Features and FastRP embeddings\n",
    "4. GNN with Graph Features and GraphSAGE\n",
    "\n",
    "By following the step-by-step instructions provided for each method, we aim to obtain the desired outcomes:\n",
    "\n",
    "| Model Type                                        | Accuracy        | Precision | Recall | Accuracy Improvement from Baseline |\n",
    "|---------------------------------------------------|-----------------|-----------|--------|------------------------------------|\n",
    "| XGBoost without Graph Features                    | 0.7737 (77.37%) | 0.1310    | 0.9865 | -                                  |\n",
    "| XGBoost with Graph Features                       | 0.9145 (91.45%) | 0.2846    | 0.9776 | + 14.08%                            |\n",
    "| XGBoost with Graph Features and FastRP embeddings | 0.9426 (94.26%) | 0.3737    | 0.9821 | + 2.81%                           |\n",
    "| GNN with Graph Features and GraphSAGE             | 0.9658 (96.58%) | 0.5035    | 0.6457 | + 2.32%                           |\n",
    "\n",
    "Join us on this captivating journey as we explore the intricacies of detecting fraudulent accounts on the Ethereum blockchain using cutting-edge graph features and machine learning techniques."
   ]
  },
  {
   "cell_type": "markdown",
   "id": "ba321ab4-50db-4e5d-a177-44714142b6f5",
   "metadata": {},
   "source": [
    "## Database Preparation\n",
    "### Establishing a Connection to the TigerGraph Database\n",
    "To interact with the TigerGraph database, we will utilize the `TigerGraphConnection` class, which serves as the gateway for communication. This class encapsulates all the essential information required to establish and maintain a connection with the database. For more in-depth information on its functionalities, you can refer to the official [documentation](https://docs.tigergraph.com/pytigergraph/current/intro/).\n",
    "\n",
    "To connect to your specific database, kindly make the necessary modifications in the `config.json` file that accompanies this notebook. In particular, ensure you set the value of `getToken` appropriately, depending on whether token authentication is enabled for your database. Note that token authentication is always enabled for tgcloud databases.\n",
    "\n",
    "Let's proceed with the code implementation:"
   ]
  },
  {
   "cell_type": "code",
   "execution_count": 1,
   "id": "21d25e93-beaa-4b28-aa49-1e96f3f9a667",
   "metadata": {},
   "outputs": [],
   "source": [
    "from pyTigerGraph import TigerGraphConnection\n",
    "import json\n",
    "\n",
    "# Read in DB configs\n",
    "with open('../../config.json', \"r\") as config_file:\n",
    "    config = json.load(config_file)\n",
    "    \n",
    "conn = TigerGraphConnection(\n",
    "    host=config[\"host\"],\n",
    "    username=config[\"username\"],\n",
    "    password=config[\"password\"]\n",
    ")"
   ]
  },
  {
   "cell_type": "markdown",
   "id": "cf098c3a",
   "metadata": {},
   "source": [
    "The provided Python code establishes a connection to the TigerGraph database. It reads the necessary configuration details from the `config.json` file and uses them to initialize the `TigerGraphConnection`. Once the connection is successfully established, we will be ready to perform various database tasks and interact with the data seamlessly."
   ]
  },
  {
   "cell_type": "markdown",
   "id": "d84e1c1d",
   "metadata": {},
   "source": [
    "### Download Ethereum dataset and ingest it to the database.\n",
    "To enrich our analysis, we begin by downloading the Ethereum dataset, a crucial step in our project. Leveraging the `pyTigerGraph` library, we make use of the `Datasets` module to access the Ethereum dataset seamlessly. By instantiating the `Datasets` class with the parameter \"Ethereum,\" we ensure that we obtain the appropriate dataset for our study. Subsequently, we proceed to ingest this dataset into the TigerGraph database through the `conn.ingestDataset()` function. To ensure a secure and authenticated ingestion process, we pass the required token using `getToken=config[\"getToken\"]`. This essential operation forms the foundation for our subsequent analysis, enabling us to explore the Ethereum transaction graph and derive valuable insights for our fraud detection project."
   ]
  },
  {
   "cell_type": "code",
   "execution_count": 2,
   "id": "abb4d783",
   "metadata": {},
   "outputs": [
    {
     "name": "stdout",
     "output_type": "stream",
     "text": [
      "A folder with name Ethereum already exists in ./tmp. Skip downloading.\n",
      "---- Checking database ----\n",
      "---- Creating graph ----\n",
      "The graph Ethereum is created.\n",
      "---- Creating schema ----\n",
      "Using graph 'Ethereum'\n",
      "Successfully created schema change jobs: [ethereum_schema].\n",
      "Kick off schema change job ethereum_schema\n",
      "Doing schema change on graph 'Ethereum' (current version: 0)\n",
      "Trying to add local vertex 'Account' to the graph 'Ethereum'.\n",
      "Trying to add local edge 'Transaction' and its reverse edge 'reverse_Transaction' to the graph 'Ethereum'.\n",
      "\n",
      "Graph Ethereum updated to new version 1\n",
      "The job ethereum_schema completes in 2.091 seconds!\n",
      "Local schema change succeeded.\n",
      "---- Creating loading job ----\n",
      "Using graph 'Ethereum'\n",
      "Successfully created loading jobs: [load_ethereum].\n",
      "---- Ingesting data ----\n",
      "---- Cleaning ----\n",
      "---- Finished ingestion ----\n"
     ]
    }
   ],
   "source": [
    "from pyTigerGraph.datasets import Datasets\n",
    "dataset = Datasets(\"Ethereum\")\n",
    "conn.ingestDataset(dataset, getToken=config[\"getToken\"])"
   ]
  },
  {
   "cell_type": "markdown",
   "id": "925034ad-9181-45d6-a7fd-4c5b04fbe633",
   "metadata": {},
   "source": [
    "### Visualize schema\n",
    "The next step in our project involves visualizing the schema of the TigerGraph database. To achieve this, we leverage the `pyTigerGraph` library's powerful visualization capabilities. By utilizing the `drawSchema` function from the `visualization` module, we obtain a clear and comprehensive representation of the database schema."
   ]
  },
  {
   "cell_type": "code",
   "execution_count": 3,
   "id": "35b90386-358d-44e2-988f-9b78d0fd9bbe",
   "metadata": {},
   "outputs": [
    {
     "data": {
      "application/vnd.jupyter.widget-view+json": {
       "model_id": "1cf932fdaf6f439b8939c8817b84d5b9",
       "version_major": 2,
       "version_minor": 0
      },
      "text/plain": [
       "CytoscapeWidget(cytoscape_layout={'name': 'circle', 'animate': True, 'padding': 1}, cytoscape_style=[{'selecto…"
      ]
     },
     "execution_count": 3,
     "metadata": {},
     "output_type": "execute_result"
    }
   ],
   "source": [
    "from pyTigerGraph.visualization import drawSchema\n",
    "drawSchema(conn.getSchema(force=True))"
   ]
  },
  {
   "cell_type": "markdown",
   "id": "af206419-7b1b-4ca6-bb16-b5fbe8d589a1",
   "metadata": {},
   "source": [
    "## Graph Feature Engineering\n",
    "\n",
    "pyTigerGraph's featurizer empowers us with over 30 graph algorithms for essential feature calculations. Combining built-in **pagerank** and **FastRP** algorithms with **custom queries**, we derive valuable insights from the Ethereum transaction graph, laying the groundwork for our fraud detection analysis."
   ]
  },
  {
   "cell_type": "markdown",
   "id": "c69ad849-cb1c-47fc-a9fe-51590a006c45",
   "metadata": {},
   "source": [
    "### Initializing Featurizer Class\n",
    "The Python code `f = conn.gds.featurizer()` creates an instance of the `Featurizer` class from the `gds` module in the `pyTigerGraph` library. This line of code initializes a variable `f` that represents the featurizer object, allowing you to access and utilize the various graph algorithms and features provided by the `Featurizer` class.\n",
    "\n",
    "With this instance, you gain the ability to apply a wide range of graph algorithms and feature calculations to the data within the TigerGraph database. These features can be used for further analysis, machine learning, or any other tasks that require insightful graph feature engineering."
   ]
  },
  {
   "cell_type": "code",
   "execution_count": 4,
   "id": "f5d8a995-6d20-4bdc-a985-b68730abc2d7",
   "metadata": {},
   "outputs": [],
   "source": [
    "f = conn.gds.featurizer()"
   ]
  },
  {
   "cell_type": "markdown",
   "id": "bed10d38-a617-419d-994f-6d98c7d43258",
   "metadata": {},
   "source": [
    "### PageRank\n",
    "The algorithm used in this code is [PageRank](https://docs.tigergraph.com/graph-ml/current/centrality-algorithms/pagerank), a classic graph algorithm that plays a crucial role in network analysis. In this particular implementation, `PageRank` is employed to rank and identify the most influential vertices (accounts) within the transaction graph (edges) of the Ethereum dataset. The algorithm takes parameters, such as the vertex type `(\"Account\")`, edge type `(\"Transaction\"`), and the desired result attribute `(\"pagerank\")`, which indicates the specific attribute representing the `PageRank` score for each account. Additionally, the parameter `\"top_k\"` is set to 5, meaning the algorithm will return the top 5 accounts with the highest `PageRank` scores.\n",
    "\n",
    "Upon executing the algorithm with these parameters, the results are stored in the variable `\"results.\"` The code then uses the pandas library to normalize the results and create a tabular representation, allowing for easy analysis and interpretation of the top scores (highest PageRank) and their corresponding accounts. The output provides valuable insights into the most influential accounts in the Ethereum transaction graph, which can be instrumental in various analyses, including fraud detection and network analysis."
   ]
  },
  {
   "cell_type": "code",
   "execution_count": 5,
   "id": "b2fc73a9-fc10-494f-9c75-59b0dcc80474",
   "metadata": {},
   "outputs": [
    {
     "name": "stdout",
     "output_type": "stream",
     "text": [
      "Installing and optimizing the queries, it might take a minute...\n",
      "Queries installed successfully\n"
     ]
    },
    {
     "data": {
      "text/html": [
       "<div>\n",
       "<style scoped>\n",
       "    .dataframe tbody tr th:only-of-type {\n",
       "        vertical-align: middle;\n",
       "    }\n",
       "\n",
       "    .dataframe tbody tr th {\n",
       "        vertical-align: top;\n",
       "    }\n",
       "\n",
       "    .dataframe thead th {\n",
       "        text-align: right;\n",
       "    }\n",
       "</style>\n",
       "<table border=\"1\" class=\"dataframe\">\n",
       "  <thead>\n",
       "    <tr style=\"text-align: right;\">\n",
       "      <th></th>\n",
       "      <th>Vertex_ID</th>\n",
       "      <th>score</th>\n",
       "    </tr>\n",
       "  </thead>\n",
       "  <tbody>\n",
       "    <tr>\n",
       "      <th>0</th>\n",
       "      <td>0x903bb9cd3a276d8f18fa6efed49b9bc52ccf06e5</td>\n",
       "      <td>741.6516</td>\n",
       "    </tr>\n",
       "    <tr>\n",
       "      <th>1</th>\n",
       "      <td>0x47779ea9849c7eec04197b21f9554931b8fcd5f4</td>\n",
       "      <td>607.4119</td>\n",
       "    </tr>\n",
       "    <tr>\n",
       "      <th>2</th>\n",
       "      <td>0xbfa82fbe0e66d8e2b7dcc16328db9ecd70533d13</td>\n",
       "      <td>212.1229</td>\n",
       "    </tr>\n",
       "    <tr>\n",
       "      <th>3</th>\n",
       "      <td>0x3cbd2e6143f057bd49ffb4c7058217a5900c35d3</td>\n",
       "      <td>179.5789</td>\n",
       "    </tr>\n",
       "    <tr>\n",
       "      <th>4</th>\n",
       "      <td>0x5df65e16d6ec1a8090ffa11c8185ad372a8786cd</td>\n",
       "      <td>173.8101</td>\n",
       "    </tr>\n",
       "  </tbody>\n",
       "</table>\n",
       "</div>"
      ],
      "text/plain": [
       "                                    Vertex_ID     score\n",
       "0  0x903bb9cd3a276d8f18fa6efed49b9bc52ccf06e5  741.6516\n",
       "1  0x47779ea9849c7eec04197b21f9554931b8fcd5f4  607.4119\n",
       "2  0xbfa82fbe0e66d8e2b7dcc16328db9ecd70533d13  212.1229\n",
       "3  0x3cbd2e6143f057bd49ffb4c7058217a5900c35d3  179.5789\n",
       "4  0x5df65e16d6ec1a8090ffa11c8185ad372a8786cd  173.8101"
      ]
     },
     "execution_count": 5,
     "metadata": {},
     "output_type": "execute_result"
    }
   ],
   "source": [
    "import pandas as pd\n",
    "\n",
    "tg_pagerank_params = {\n",
    "  \"v_type\": \"Account\",\n",
    "  \"e_type\": \"Transaction\",\n",
    "  \"result_attribute\": \"pagerank\",\n",
    "  \"top_k\":5  \n",
    "}\n",
    "results = f.runAlgorithm(\"tg_pagerank\", tg_pagerank_params)\n",
    "\n",
    "pd.json_normalize(results[0]['@@top_scores_heap'])"
   ]
  },
  {
   "cell_type": "markdown",
   "id": "bb54f582",
   "metadata": {},
   "source": [
    "### Betweeness Centraility\n",
    "Next, lets utilize the algorithim [Betweenness Centrality](https://docs.tigergraph.com/graph-ml/current/centrality-algorithms/betweenness-centrality), a fundamental measure in graph theory that quantifies the importance of a vertex (account) within a network. Specifically, it calculates the number of shortest paths that pass through a given vertex, representing its influence in controlling the flow of information or transactions in the graph. \n",
    "\n",
    "In this implementation, `Betweenness Centrality` is applied to the Ethereum dataset's transaction graph to identify the most critical accounts that act as essential intermediaries in the flow of transactions. The algorithm's parameters are specified, including the vertex type set `(\"Account\")`, the edge type set `(\"Transaction\")`, and the reverse edge type `(\"reverse_Transaction\")`, which allows for bi-directional traversal. The `\"result_attribute\"` is set to \"betweenness,\" signifying that the algorithm will compute the betweenness centrality score for each account. Additionally, `\"top_k\"` is set to 5, indicating that the algorithm will return the top 5 accounts with the highest betweenness centrality scores. The results are stored in the variable \"results\" and are further presented in tabular format using pandas for easy analysis and interpretation, "
   ]
  },
  {
   "cell_type": "code",
   "execution_count": 6,
   "id": "134ef93b-0b21-42e3-b995-2c93415c4a52",
   "metadata": {},
   "outputs": [
    {
     "name": "stdout",
     "output_type": "stream",
     "text": [
      "Installing and optimizing the queries, it might take a minute...\n",
      "Queries installed successfully\n",
      "Changing schema to save results...\n",
      "Local schema change succeeded.\n"
     ]
    },
    {
     "data": {
      "text/html": [
       "<div>\n",
       "<style scoped>\n",
       "    .dataframe tbody tr th:only-of-type {\n",
       "        vertical-align: middle;\n",
       "    }\n",
       "\n",
       "    .dataframe tbody tr th {\n",
       "        vertical-align: top;\n",
       "    }\n",
       "\n",
       "    .dataframe thead th {\n",
       "        text-align: right;\n",
       "    }\n",
       "</style>\n",
       "<table border=\"1\" class=\"dataframe\">\n",
       "  <thead>\n",
       "    <tr style=\"text-align: right;\">\n",
       "      <th></th>\n",
       "      <th>Vertex_ID</th>\n",
       "      <th>score</th>\n",
       "    </tr>\n",
       "  </thead>\n",
       "  <tbody>\n",
       "    <tr>\n",
       "      <th>0</th>\n",
       "      <td>0x3cbd2e6143f057bd49ffb4c7058217a5900c35d3</td>\n",
       "      <td>896747.60</td>\n",
       "    </tr>\n",
       "    <tr>\n",
       "      <th>1</th>\n",
       "      <td>0x9ef89d10d8c77755bfe263903966eebb73f721e8</td>\n",
       "      <td>236094.80</td>\n",
       "    </tr>\n",
       "    <tr>\n",
       "      <th>2</th>\n",
       "      <td>0x89474953d6bc8275b88e331fdf1a92d552563712</td>\n",
       "      <td>210731.80</td>\n",
       "    </tr>\n",
       "    <tr>\n",
       "      <th>3</th>\n",
       "      <td>0xa0bf76c8de60a1089fbb8567b2beeca6ec01ca32</td>\n",
       "      <td>138747.40</td>\n",
       "    </tr>\n",
       "    <tr>\n",
       "      <th>4</th>\n",
       "      <td>0x4121cc82607ebab3f334e067f37fe2709c403bf6</td>\n",
       "      <td>91289.03</td>\n",
       "    </tr>\n",
       "  </tbody>\n",
       "</table>\n",
       "</div>"
      ],
      "text/plain": [
       "                                    Vertex_ID      score\n",
       "0  0x3cbd2e6143f057bd49ffb4c7058217a5900c35d3  896747.60\n",
       "1  0x9ef89d10d8c77755bfe263903966eebb73f721e8  236094.80\n",
       "2  0x89474953d6bc8275b88e331fdf1a92d552563712  210731.80\n",
       "3  0xa0bf76c8de60a1089fbb8567b2beeca6ec01ca32  138747.40\n",
       "4  0x4121cc82607ebab3f334e067f37fe2709c403bf6   91289.03"
      ]
     },
     "execution_count": 6,
     "metadata": {},
     "output_type": "execute_result"
    }
   ],
   "source": [
    "import pandas as pd\n",
    "\n",
    "tg_pagerank_params = {\n",
    "  \"v_type_set\": [\"Account\"],\n",
    "  \"e_type_set\": [\"Transaction\"],\n",
    "  \"reverse_e_type\": \"reverse_Transaction\",\n",
    "  \"result_attribute\": \"betweenness\",\n",
    "  \"top_k\":5  \n",
    "}\n",
    "results = f.runAlgorithm(\"tg_betweenness_cent\", tg_pagerank_params)\n",
    "\n",
    "pd.json_normalize(results[0]['top_scores'])"
   ]
  },
  {
   "cell_type": "markdown",
   "id": "5c1d5a6a-8f08-48f9-9502-673b26fccc5e",
   "metadata": {},
   "source": [
    "### Weakly Connected Components\n",
    "Next, lets utilize the algorithim [Weakly Connected Components](https://docs.tigergraph.com/graph-ml/current/community-algorithms/connected-components), a fundamental algorithm in graph theory that determins communities of vertices (accounts) within a network. \n",
    "\n",
    "A connected component is the maximal set of connected vertices inside a graph, plus their connecting edges. Inside a connected component, you can reach each vertex from each other vertex.\n",
    "\n",
    "Graph theory distinguishes between strong and weak connections:\n",
    "\n",
    "* A subgraph is strongly connected if it is directed and if every vertex is reachable from every other following the edge directions.\n",
    "\n",
    "* A subgraph is weakly connected if it is undirected or if the only connections that exist for some vertex pairs go against the edge directions.\n",
    "\n",
    "\n",
    "\n",
    "In this implementation, `Weakly Connected Components` is applied to the Ethereum dataset's transaction graph to identify the most critical accounts that act as essential intermediaries in the flow of transactions. The algorithm's parameters are specified, including the vertex type set `(\"Account\")`, the edge type set `(\"Transaction\")`, and the reverse edge type `(\"reverse_Transaction\")`, which allows for bi-directional traversal. The `\"result_attribute\"` is set to \"wcc_id\", which will store the results as an attribute on each Account vertex.\n",
    "\n",
    "We will then use the `component_size` query to compute the feature we will use - the size of the connected component that each Account belongs to."
   ]
  },
  {
   "cell_type": "code",
   "execution_count": 7,
   "id": "8e30d1f4-4c83-4d72-b8c4-5954f2078c96",
   "metadata": {},
   "outputs": [
    {
     "name": "stdout",
     "output_type": "stream",
     "text": [
      "Installing and optimizing the queries, it might take a minute...\n",
      "Queries installed successfully\n",
      "Changing schema to save results...\n",
      "Local schema change succeeded.\n"
     ]
    }
   ],
   "source": [
    "tg_wcc_params = {\n",
    "    \"v_type_set\": [\"Account\"],\n",
    "    \"e_type_set\": [\"Transaction\", \"reverse_Transaction\"],\n",
    "    \"result_attribute\": \"wcc_id\"\n",
    "}\n",
    "\n",
    "results = f.runAlgorithm(\"tg_wcc\", params=tg_wcc_params)"
   ]
  },
  {
   "cell_type": "code",
   "execution_count": 9,
   "id": "15a2af71-a535-4b19-bc7d-597a8ad888dc",
   "metadata": {},
   "outputs": [
    {
     "name": "stdout",
     "output_type": "stream",
     "text": [
      "Changing schema to save results...\n",
      "Local schema change succeeded.\n"
     ]
    },
    {
     "data": {
      "text/plain": [
       "[]"
      ]
     },
     "execution_count": 9,
     "metadata": {},
     "output_type": "execute_result"
    }
   ],
   "source": [
    "f.installAlgorithm(\"component_size\", query_path=\"./gsql/component_size.gsql\")\n",
    "f.runAlgorithm(\"component_size\", params={\"result_attr\": \"wcc_size\"}, custom_query=True, schema_name=[\"Account\"], feat_type=\"INT\", feat_name=\"wcc_size\")"
   ]
  },
  {
   "cell_type": "markdown",
   "id": "5fb9766e-3304-4d85-b8fa-a9a5327309ce",
   "metadata": {},
   "source": [
    "### Degree Features\n",
    "\n",
    "The following code demonstrates the computation of Degree Features within the graph structure. Firstly, it installs the \"degrees\" algorithm using `f.installAlgorithm(\"degrees\", query_path=\"./gsql/degrees.gsql\")`, which prepares the algorithm for execution. Next, it runs the \"degrees\" algorithm through `f.runAlgorithm(\"degrees\", custom_query=True)`, triggering the computation process."
   ]
  },
  {
   "cell_type": "code",
   "execution_count": 10,
   "id": "8faf664a-2d7a-4246-b67e-aaf9ff213727",
   "metadata": {},
   "outputs": [
    {
     "name": "stdout",
     "output_type": "stream",
     "text": [
      "Installing and optimizing the queries, it might take a minute...\n",
      "Queries installed successfully\n"
     ]
    },
    {
     "data": {
      "text/plain": [
       "[{'Status': 'Degrees computed Successfully'}]"
      ]
     },
     "execution_count": 10,
     "metadata": {},
     "output_type": "execute_result"
    }
   ],
   "source": [
    "f.installAlgorithm(\"degrees\", query_path=\"./gsql/degrees.gsql\")\n",
    "f.runAlgorithm(\"degrees\", custom_query=True)"
   ]
  },
  {
   "cell_type": "markdown",
   "id": "a6874f56",
   "metadata": {},
   "source": [
    "#### Additional information about degrees.gsql\n",
    "The algorithm's core logic is described within the custom GSQL query titled \"degrees.\" This query calculates both the in-degree and out-degree of each vertex (account) in the graph. The algorithm utilizes the `SumAccum` function to accumulate the in-degree and out-degree values for each vertex. The query traverses the graph, identifying all the incoming and outgoing edges for each vertex, and increments the corresponding degree counters accordingly.\n",
    "\n",
    "Upon calculating the degree values, the algorithm sets the attributes \"in_degree\" and \"out_degree\" for each vertex, capturing the calculated values. Finally, the algorithm prints a success message, indicating the successful computation of the Degree Features.\n",
    "\n",
    "In summary, the code `degrees.gsql` prepares, executes, and computes Degree Features within the graph, effectively capturing the in-degree and out-degree values for each vertex, providing valuable insights into the connections and influence of each account in the Ethereum transaction graph."
   ]
  },
  {
   "cell_type": "markdown",
   "id": "661ee45d-9ac8-47c5-89da-011da456ec58",
   "metadata": {},
   "source": [
    "### Amount Features\n",
    "\n",
    "The provided code pertains to the computation of Amounts Features within the graph. Firstly, it installs the \"amounts\" algorithm using `f.installAlgorithm(\"amounts\", query_path=\"./gsql/amounts.gsql\")`, ensuring the algorithm is prepared for execution. Subsequently, the \"amounts\" algorithm is run through `f.runAlgorithm(\"amounts\", custom_query=True)`, initiating the process of calculating Amounts Features."
   ]
  },
  {
   "cell_type": "code",
   "execution_count": 11,
   "id": "f0cb6260-6b61-46fe-85de-86e6597fc35f",
   "metadata": {},
   "outputs": [
    {
     "name": "stdout",
     "output_type": "stream",
     "text": [
      "Installing and optimizing the queries, it might take a minute...\n",
      "Queries installed successfully\n"
     ]
    },
    {
     "data": {
      "text/plain": [
       "[{'Status': 'Amounts computed successfully'}]"
      ]
     },
     "execution_count": 11,
     "metadata": {},
     "output_type": "execute_result"
    }
   ],
   "source": [
    "f.installAlgorithm(\"amounts\", query_path=\"./gsql/amounts.gsql\")\n",
    "f.runAlgorithm(\"amounts\", custom_query=True)"
   ]
  },
  {
   "cell_type": "markdown",
   "id": "c9a64c53",
   "metadata": {},
   "source": [
    "#### Additional Information about amount.gsql\n",
    "The algorithm's core logic is defined within the custom GSQL query titled \"amounts.gsql.\" This query performs calculations related to sending and receiving amounts for each vertex (account) in the graph. Four accumulators are employed, namely `@send_min`, `@send_amount`, `@recv_min`, and `@recv_amount`, to store the minimum and sum of amounts sent and received.\n",
    "\n",
    "The query traverses the graph and identifies all transactions between accounts, considering both outgoing and incoming edges. It accumulates the amounts of transactions, updating the corresponding accumulators for each vertex.\n",
    "\n",
    "Upon computing the amounts, the algorithm sets the attributes \"recv_min,\" \"recv_amount,\" \"send_min,\" and \"send_amount\" for each vertex, capturing the calculated values. Additionally, it handles the special case where a vertex has no incoming or outgoing edges (i.e., in_degree or out_degree equals zero), setting the corresponding \"recv_min\" or \"send_min\" to zero in such cases.\n",
    "\n",
    "Finally, the algorithm prints a success message, confirming the successful computation of the Amounts Features.\n",
    "\n",
    "In summary, the `amounts.gsql` code prepares, executes, and computes Amounts Features within the graph, calculating the minimum and sum of amounts sent and received for each account in the Ethereum transaction graph. This process allows for a detailed understanding of the transaction patterns and amounts associated with each vertex, contributing to further analysis and insights in various applications, including fraud detection and network analysis."
   ]
  },
  {
   "cell_type": "markdown",
   "id": "8e972b4f",
   "metadata": {},
   "source": [
    "### FastRP Embeddings"
   ]
  },
  {
   "cell_type": "code",
   "execution_count": 12,
   "id": "12299281-6a94-48f7-a33d-67f88d16c83b",
   "metadata": {},
   "outputs": [
    {
     "name": "stdout",
     "output_type": "stream",
     "text": [
      "Installing and optimizing the queries, it might take a minute...\n",
      "Queries installed successfully\n",
      "Changing schema to save results...\n",
      "Local schema change succeeded.\n"
     ]
    },
    {
     "data": {
      "text/plain": [
       "[{'@@embedding_dim_map': {'default': {'min_dim': 0,\n",
       "    'max_dim': 128,\n",
       "    'weight': 1}}}]"
      ]
     },
     "execution_count": 12,
     "metadata": {},
     "output_type": "execute_result"
    }
   ],
   "source": [
    "params={\"v_type_set\": [\"Account\"],\n",
    "        \"e_type_set\": [\"Transaction\", \"reverse_Transaction\"],\n",
    "        \"output_v_type_set\": [\"Account\"],\n",
    "        \"iteration_weights\": \"1,2,4\",\n",
    "        \"beta\": -0.1,\n",
    "        \"embedding_dimension\": 128,\n",
    "        \"embedding_dim_map\": [],\n",
    "        \"default_length\": 128,\n",
    "        \"sampling_constant\": 3,\n",
    "        \"random_seed\": 42,\n",
    "        \"component_attribute\": \"\",\n",
    "        \"result_attribute\": \"embedding\",\n",
    "        \"choose_k\": 0}\n",
    "\n",
    "f.runAlgorithm(\"tg_fastRP\", params=params)"
   ]
  },
  {
   "cell_type": "markdown",
   "id": "41029516-5e7b-41cf-925c-a1034319c118",
   "metadata": {},
   "source": [
    "### Check Labels\n",
    "Next, lets check and analyze the labels of accounts in a database. Firstwe will use the connection object named \"conn\" to interact with the database. The code first queries the database to count the number of accounts labeled as frauds (with \"is_fraud = 1\") and the number of accounts labeled as non-frauds (with \"is_fraud = 0\"). It then calculates the percentage of fraud and non-fraud accounts out of the total number of accounts and prints the results. The output displays the count and percentage of both fraud accounts and normal accounts in the database, providing valuable insights into the distribution of labeled accounts."
   ]
  },
  {
   "cell_type": "code",
   "execution_count": 13,
   "id": "f95353ec-a52b-43f1-b916-4750f544429a",
   "metadata": {},
   "outputs": [
    {
     "name": "stdout",
     "output_type": "stream",
     "text": [
      "Fraud accounts: 1165 (3.62%%)\n",
      "Normal accounts: 31003 (96.38%%)\n"
     ]
    }
   ],
   "source": [
    "frauds = conn.getVertexCount(\"Account\", \"is_fraud = 1\") \n",
    "nonfrauds = conn.getVertexCount(\"Account\", \"is_fraud = 0\") \n",
    "print(\"Fraud accounts: {} ({:.2f}%%)\".format(frauds, frauds/(frauds+nonfrauds)*100))\n",
    "print(\"Normal accounts: {} ({:.2f}%%)\".format(nonfrauds, nonfrauds/(frauds+nonfrauds)*100))"
   ]
  },
  {
   "cell_type": "markdown",
   "id": "1e614112-f187-43b9-a4ce-bf7b0853ea51",
   "metadata": {},
   "source": [
    "## Traditional ML with Graph Features"
   ]
  },
  {
   "cell_type": "markdown",
   "id": "6c65c3b5-ceb4-431d-891b-b479419c6e62",
   "metadata": {},
   "source": [
    "### Train/Test Split\n",
    "By utilizing the \"vertexSplitter\" function from the GDS (Graph Data Science) library through the \"conn\" object, which represents a connection to a graph database. The function is being used to split the graph's vertices (nodes) into different subsets based on a specific criterion.\n",
    "\n",
    "The function is invoked with two arguments: \"is_training=0.8\" and \"is_validation=0.2\". These arguments indicate that the graph's vertices will be split into two sets – a training set and a validation set. The \"is_training=0.8\" parameter means that approximately 80% of the vertices will be assigned to the training set, and \"is_validation=0.2\" indicates that the remaining 20% of vertices will be assigned to the validation set.\n",
    "\n",
    "Typically, this type of vertex splitting is used in machine learning tasks, where the training set is used to train a model, and the validation set is used to evaluate the model's performance and make adjustments if necessary. By dividing the graph's vertices into these subsets, the code enables the development and testing of machine learning algorithms or other graph-based models."
   ]
  },
  {
   "cell_type": "code",
   "execution_count": 14,
   "id": "b7fad407-8ce1-4b0d-b5a2-448d0f861e34",
   "metadata": {},
   "outputs": [
    {
     "name": "stdout",
     "output_type": "stream",
     "text": [
      "Installing and optimizing queries. It might take a minute or two.\n",
      "Query installation finished.\n"
     ]
    }
   ],
   "source": [
    "split = conn.gds.vertexSplitter(is_training=0.8, is_validation=0.2)"
   ]
  },
  {
   "cell_type": "code",
   "execution_count": 15,
   "id": "aded6448-a0e4-432c-9366-6e11d7210a18",
   "metadata": {},
   "outputs": [
    {
     "name": "stdout",
     "output_type": "stream",
     "text": [
      "Splitting vertices...\n",
      "Vertex split finished successfully.\n"
     ]
    }
   ],
   "source": [
    "split.run()"
   ]
  },
  {
   "cell_type": "markdown",
   "id": "4661b7e8-479f-48dd-b299-e93cbcb8c68f",
   "metadata": {},
   "source": [
    "### Load data"
   ]
  },
  {
   "cell_type": "markdown",
   "id": "34961d9d-1e92-43c4-b318-f49ae649c8b3",
   "metadata": {},
   "source": [
    "### Create Vertex Loaders\n",
    "Next, we will be moving on to the loading and processing of data, particularly for graph-based datasets. The main focus is on handling vertex embeddings, which are numerical representations of the vertices in the graph.\n",
    "\n",
    "1. The function `process_embedding(df)` takes a DataFrame \"df\" as input, likely containing information about vertices and their corresponding \"embedding\" data.\n",
    "\n",
    "2. The nested function `helper(x)` extracts the numerical embeddings from the DataFrame. If some vertices lack valid embeddings (unconnected vertices), it returns an array of 128 zeros.\n",
    "\n",
    "3. The `helper` function is applied to each row of the DataFrame \"df\" using the `apply` method, converting the embedding strings into numeric arrays.\n",
    "\n",
    "4. The processed embeddings are expanded into separate columns, and a new DataFrame \"emb_df\" is created, with columns named \"emb0\", \"emb1\", etc.\n",
    "\n",
    "5. The original \"embedding\" column is dropped from the DataFrame \"df\" to remove redundancy.\n",
    "\n",
    "6. The processed embedding columns are joined with the original DataFrame \"df,\" resulting in a new DataFrame with both the original vertex data and expanded embedding columns.\n",
    "\n",
    "7. The function returns the updated DataFrame, which is now ready for further graph-related analysis, such as machine learning algorithms or network analyses.\n"
   ]
  },
  {
   "cell_type": "code",
   "execution_count": 16,
   "id": "b8cf8c49-17c6-414a-905d-c76a8b6e9fdd",
   "metadata": {},
   "outputs": [],
   "source": [
    "import numpy as np\n",
    "\n",
    "def process_embedding(df):\n",
    "    def helper(x):\n",
    "        try:  # some unconnected vertices will not have a valid embedding, fill with 0s if that is the case.\n",
    "            return np.array(x[\"embedding\"].split(\" \")[:-1], dtype=np.float64)\n",
    "        except:\n",
    "            return np.zeros(128)\n",
    "    df[\"embedding\"] = df.apply(lambda x: helper(x), axis=1)\n",
    "    emb_df = pd.DataFrame(df[\"embedding\"].tolist()).add_prefix(\"emb\")\n",
    "    df.drop(columns=[\"embedding\"], inplace=True)\n",
    "    df = df.join(emb_df)\n",
    "    return df"
   ]
  },
  {
   "cell_type": "markdown",
   "id": "826de9f1",
   "metadata": {},
   "source": [
    "Next we will initialize two data loaders, \"train_loader\" and \"valid_loader,\" using the \"vertexLoader\" function from the GDS (Graph Data Science) library through the \"conn\" object, representing a graph database connection. These loaders are designed for machine learning tasks involving graph data. The \"vertexLoader\" function specifies the attributes to be loaded for each graph vertex, including in-degree, out-degree, send_amount, send_min, recv_amount, recv_min, pagerank, is_fraud label, embedding, and betweenness. It splits the vertices into training and validation sets based on the \"is_training\" and \"is_validation\" filters. Additionally, a custom function named \"process_embedding\" is applied to process the vertex embeddings during the loading process, preparing the data for further machine learning analyses on graph-based datasets."
   ]
  },
  {
   "cell_type": "code",
   "execution_count": 17,
   "id": "e0b6895e-78eb-40e3-9e41-8774cf5c58df",
   "metadata": {},
   "outputs": [
    {
     "name": "stdout",
     "output_type": "stream",
     "text": [
      "Installing and optimizing queries. It might take a minute or two.\n",
      "Query installation finished.\n"
     ]
    }
   ],
   "source": [
    "train_loader, valid_loader = conn.gds.vertexLoader(\n",
    "    attributes=[\"in_degree\",\"out_degree\",\"send_amount\",\"send_min\", \"wcc_size\",\n",
    "                \"recv_amount\",\"recv_min\",\"pagerank\", \"is_fraud\", \"embedding\", \"betweenness\"],\n",
    "    num_batches=1,\n",
    "    filter_by=[\"is_training\", \"is_validation\"],\n",
    "    callback_fn = lambda x: process_embedding(x)\n",
    ")"
   ]
  },
  {
   "cell_type": "markdown",
   "id": "8484d20a-e7bf-44bd-bce6-e063d14b7d75",
   "metadata": {},
   "source": [
    "#### Get train/valid data\n",
    "Next, we extract the data from the \"train_loader\" data loader and assigns it to the variable \"train_data.\" The \"train_data.head()\" function is then used to display the first few rows of the training data, providing a glimpse of the dataset's structure and contents."
   ]
  },
  {
   "cell_type": "code",
   "execution_count": 18,
   "id": "20da4479-e3bd-42af-bff6-77bb14ed9fe3",
   "metadata": {},
   "outputs": [
    {
     "data": {
      "text/html": [
       "<div>\n",
       "<style scoped>\n",
       "    .dataframe tbody tr th:only-of-type {\n",
       "        vertical-align: middle;\n",
       "    }\n",
       "\n",
       "    .dataframe tbody tr th {\n",
       "        vertical-align: top;\n",
       "    }\n",
       "\n",
       "    .dataframe thead th {\n",
       "        text-align: right;\n",
       "    }\n",
       "</style>\n",
       "<table border=\"1\" class=\"dataframe\">\n",
       "  <thead>\n",
       "    <tr style=\"text-align: right;\">\n",
       "      <th></th>\n",
       "      <th>vid</th>\n",
       "      <th>in_degree</th>\n",
       "      <th>out_degree</th>\n",
       "      <th>send_amount</th>\n",
       "      <th>send_min</th>\n",
       "      <th>wcc_size</th>\n",
       "      <th>recv_amount</th>\n",
       "      <th>recv_min</th>\n",
       "      <th>pagerank</th>\n",
       "      <th>is_fraud</th>\n",
       "      <th>...</th>\n",
       "      <th>emb118</th>\n",
       "      <th>emb119</th>\n",
       "      <th>emb120</th>\n",
       "      <th>emb121</th>\n",
       "      <th>emb122</th>\n",
       "      <th>emb123</th>\n",
       "      <th>emb124</th>\n",
       "      <th>emb125</th>\n",
       "      <th>emb126</th>\n",
       "      <th>emb127</th>\n",
       "    </tr>\n",
       "  </thead>\n",
       "  <tbody>\n",
       "    <tr>\n",
       "      <th>0</th>\n",
       "      <td>570425344</td>\n",
       "      <td>5</td>\n",
       "      <td>2</td>\n",
       "      <td>10.69120</td>\n",
       "      <td>3.69118</td>\n",
       "      <td>30701</td>\n",
       "      <td>9.99248</td>\n",
       "      <td>0.50000</td>\n",
       "      <td>0.667945</td>\n",
       "      <td>1</td>\n",
       "      <td>...</td>\n",
       "      <td>-0.181459</td>\n",
       "      <td>0.225539</td>\n",
       "      <td>0.096496</td>\n",
       "      <td>-0.148801</td>\n",
       "      <td>-0.024189</td>\n",
       "      <td>-0.115963</td>\n",
       "      <td>-0.171173</td>\n",
       "      <td>-0.335663</td>\n",
       "      <td>0.022047</td>\n",
       "      <td>0.195303</td>\n",
       "    </tr>\n",
       "    <tr>\n",
       "      <th>1</th>\n",
       "      <td>570425345</td>\n",
       "      <td>55</td>\n",
       "      <td>5</td>\n",
       "      <td>15.08850</td>\n",
       "      <td>0.01615</td>\n",
       "      <td>30701</td>\n",
       "      <td>79.08280</td>\n",
       "      <td>0.00044</td>\n",
       "      <td>5.963620</td>\n",
       "      <td>1</td>\n",
       "      <td>...</td>\n",
       "      <td>0.135340</td>\n",
       "      <td>0.089233</td>\n",
       "      <td>0.236521</td>\n",
       "      <td>-0.266504</td>\n",
       "      <td>0.113750</td>\n",
       "      <td>0.023992</td>\n",
       "      <td>0.038188</td>\n",
       "      <td>0.089673</td>\n",
       "      <td>0.122220</td>\n",
       "      <td>-0.082075</td>\n",
       "    </tr>\n",
       "    <tr>\n",
       "      <th>2</th>\n",
       "      <td>570425346</td>\n",
       "      <td>54</td>\n",
       "      <td>109</td>\n",
       "      <td>168.19900</td>\n",
       "      <td>0.00000</td>\n",
       "      <td>30701</td>\n",
       "      <td>4.58864</td>\n",
       "      <td>0.00252</td>\n",
       "      <td>7.708460</td>\n",
       "      <td>1</td>\n",
       "      <td>...</td>\n",
       "      <td>0.213731</td>\n",
       "      <td>0.124456</td>\n",
       "      <td>0.047076</td>\n",
       "      <td>0.176520</td>\n",
       "      <td>0.154954</td>\n",
       "      <td>0.172007</td>\n",
       "      <td>0.370850</td>\n",
       "      <td>0.224821</td>\n",
       "      <td>-0.107246</td>\n",
       "      <td>-0.017875</td>\n",
       "    </tr>\n",
       "    <tr>\n",
       "      <th>3</th>\n",
       "      <td>570425347</td>\n",
       "      <td>9</td>\n",
       "      <td>1</td>\n",
       "      <td>4.17173</td>\n",
       "      <td>4.17173</td>\n",
       "      <td>30701</td>\n",
       "      <td>4.17221</td>\n",
       "      <td>0.00895</td>\n",
       "      <td>1.279060</td>\n",
       "      <td>1</td>\n",
       "      <td>...</td>\n",
       "      <td>-0.016998</td>\n",
       "      <td>0.055369</td>\n",
       "      <td>-0.038338</td>\n",
       "      <td>0.011160</td>\n",
       "      <td>0.001852</td>\n",
       "      <td>0.053142</td>\n",
       "      <td>0.009461</td>\n",
       "      <td>0.294845</td>\n",
       "      <td>-0.297902</td>\n",
       "      <td>0.313224</td>\n",
       "    </tr>\n",
       "    <tr>\n",
       "      <th>4</th>\n",
       "      <td>570425349</td>\n",
       "      <td>13</td>\n",
       "      <td>1</td>\n",
       "      <td>26.07140</td>\n",
       "      <td>26.07140</td>\n",
       "      <td>30701</td>\n",
       "      <td>25.57350</td>\n",
       "      <td>0.04689</td>\n",
       "      <td>1.469950</td>\n",
       "      <td>1</td>\n",
       "      <td>...</td>\n",
       "      <td>0.253485</td>\n",
       "      <td>-0.032812</td>\n",
       "      <td>-0.214045</td>\n",
       "      <td>0.189749</td>\n",
       "      <td>-0.349748</td>\n",
       "      <td>-0.047230</td>\n",
       "      <td>-0.058555</td>\n",
       "      <td>0.071926</td>\n",
       "      <td>-0.325238</td>\n",
       "      <td>-0.189549</td>\n",
       "    </tr>\n",
       "  </tbody>\n",
       "</table>\n",
       "<p>5 rows × 139 columns</p>\n",
       "</div>"
      ],
      "text/plain": [
       "         vid  in_degree  out_degree  send_amount  send_min  wcc_size  \\\n",
       "0  570425344          5           2     10.69120   3.69118     30701   \n",
       "1  570425345         55           5     15.08850   0.01615     30701   \n",
       "2  570425346         54         109    168.19900   0.00000     30701   \n",
       "3  570425347          9           1      4.17173   4.17173     30701   \n",
       "4  570425349         13           1     26.07140  26.07140     30701   \n",
       "\n",
       "   recv_amount  recv_min  pagerank  is_fraud  ...    emb118    emb119  \\\n",
       "0      9.99248   0.50000  0.667945         1  ... -0.181459  0.225539   \n",
       "1     79.08280   0.00044  5.963620         1  ...  0.135340  0.089233   \n",
       "2      4.58864   0.00252  7.708460         1  ...  0.213731  0.124456   \n",
       "3      4.17221   0.00895  1.279060         1  ... -0.016998  0.055369   \n",
       "4     25.57350   0.04689  1.469950         1  ...  0.253485 -0.032812   \n",
       "\n",
       "     emb120    emb121    emb122    emb123    emb124    emb125    emb126  \\\n",
       "0  0.096496 -0.148801 -0.024189 -0.115963 -0.171173 -0.335663  0.022047   \n",
       "1  0.236521 -0.266504  0.113750  0.023992  0.038188  0.089673  0.122220   \n",
       "2  0.047076  0.176520  0.154954  0.172007  0.370850  0.224821 -0.107246   \n",
       "3 -0.038338  0.011160  0.001852  0.053142  0.009461  0.294845 -0.297902   \n",
       "4 -0.214045  0.189749 -0.349748 -0.047230 -0.058555  0.071926 -0.325238   \n",
       "\n",
       "     emb127  \n",
       "0  0.195303  \n",
       "1 -0.082075  \n",
       "2 -0.017875  \n",
       "3  0.313224  \n",
       "4 -0.189549  \n",
       "\n",
       "[5 rows x 139 columns]"
      ]
     },
     "execution_count": 18,
     "metadata": {},
     "output_type": "execute_result"
    }
   ],
   "source": [
    "train_data = train_loader.data\n",
    "train_data.head()"
   ]
  },
  {
   "cell_type": "markdown",
   "id": "eec45016",
   "metadata": {},
   "source": [
    "Next, let's validate by retrieving the data from the \"valid_loader\" data loader and stores it in the variable \"valid_data.\" Using the \"valid_data.head()\" function, the code displays the initial rows of the validation dataset, offering a preview of its structure and contents."
   ]
  },
  {
   "cell_type": "code",
   "execution_count": 19,
   "id": "cb619e88-3c61-4d51-9da8-21e223dbb8ba",
   "metadata": {},
   "outputs": [
    {
     "data": {
      "text/html": [
       "<div>\n",
       "<style scoped>\n",
       "    .dataframe tbody tr th:only-of-type {\n",
       "        vertical-align: middle;\n",
       "    }\n",
       "\n",
       "    .dataframe tbody tr th {\n",
       "        vertical-align: top;\n",
       "    }\n",
       "\n",
       "    .dataframe thead th {\n",
       "        text-align: right;\n",
       "    }\n",
       "</style>\n",
       "<table border=\"1\" class=\"dataframe\">\n",
       "  <thead>\n",
       "    <tr style=\"text-align: right;\">\n",
       "      <th></th>\n",
       "      <th>vid</th>\n",
       "      <th>in_degree</th>\n",
       "      <th>out_degree</th>\n",
       "      <th>send_amount</th>\n",
       "      <th>send_min</th>\n",
       "      <th>wcc_size</th>\n",
       "      <th>recv_amount</th>\n",
       "      <th>recv_min</th>\n",
       "      <th>pagerank</th>\n",
       "      <th>is_fraud</th>\n",
       "      <th>...</th>\n",
       "      <th>emb118</th>\n",
       "      <th>emb119</th>\n",
       "      <th>emb120</th>\n",
       "      <th>emb121</th>\n",
       "      <th>emb122</th>\n",
       "      <th>emb123</th>\n",
       "      <th>emb124</th>\n",
       "      <th>emb125</th>\n",
       "      <th>emb126</th>\n",
       "      <th>emb127</th>\n",
       "    </tr>\n",
       "  </thead>\n",
       "  <tbody>\n",
       "    <tr>\n",
       "      <th>0</th>\n",
       "      <td>577765378</td>\n",
       "      <td>5</td>\n",
       "      <td>6</td>\n",
       "      <td>4.48900</td>\n",
       "      <td>0.20000</td>\n",
       "      <td>30701</td>\n",
       "      <td>4.49197</td>\n",
       "      <td>0.09763</td>\n",
       "      <td>0.533813</td>\n",
       "      <td>1</td>\n",
       "      <td>...</td>\n",
       "      <td>-0.023257</td>\n",
       "      <td>0.225843</td>\n",
       "      <td>-0.049169</td>\n",
       "      <td>0.173290</td>\n",
       "      <td>-0.125949</td>\n",
       "      <td>-0.113357</td>\n",
       "      <td>0.064186</td>\n",
       "      <td>0.177994</td>\n",
       "      <td>-0.081593</td>\n",
       "      <td>0.232941</td>\n",
       "    </tr>\n",
       "    <tr>\n",
       "      <th>1</th>\n",
       "      <td>577765380</td>\n",
       "      <td>3</td>\n",
       "      <td>0</td>\n",
       "      <td>0.00000</td>\n",
       "      <td>0.00000</td>\n",
       "      <td>4</td>\n",
       "      <td>1.01500</td>\n",
       "      <td>0.00500</td>\n",
       "      <td>1.000000</td>\n",
       "      <td>1</td>\n",
       "      <td>...</td>\n",
       "      <td>0.581809</td>\n",
       "      <td>-0.252620</td>\n",
       "      <td>-0.252620</td>\n",
       "      <td>0.417214</td>\n",
       "      <td>0.164595</td>\n",
       "      <td>-0.088025</td>\n",
       "      <td>0.000000</td>\n",
       "      <td>0.088025</td>\n",
       "      <td>-0.164595</td>\n",
       "      <td>-0.417214</td>\n",
       "    </tr>\n",
       "    <tr>\n",
       "      <th>2</th>\n",
       "      <td>577765382</td>\n",
       "      <td>1</td>\n",
       "      <td>1</td>\n",
       "      <td>9.99963</td>\n",
       "      <td>9.99963</td>\n",
       "      <td>30701</td>\n",
       "      <td>10.00000</td>\n",
       "      <td>10.00000</td>\n",
       "      <td>0.277500</td>\n",
       "      <td>1</td>\n",
       "      <td>...</td>\n",
       "      <td>-0.001978</td>\n",
       "      <td>0.021548</td>\n",
       "      <td>0.292203</td>\n",
       "      <td>-0.108887</td>\n",
       "      <td>0.319122</td>\n",
       "      <td>-0.008263</td>\n",
       "      <td>0.051936</td>\n",
       "      <td>-0.210840</td>\n",
       "      <td>-0.187087</td>\n",
       "      <td>-0.168386</td>\n",
       "    </tr>\n",
       "    <tr>\n",
       "      <th>3</th>\n",
       "      <td>577765383</td>\n",
       "      <td>84</td>\n",
       "      <td>5</td>\n",
       "      <td>418.10100</td>\n",
       "      <td>0.00345</td>\n",
       "      <td>30701</td>\n",
       "      <td>409.07400</td>\n",
       "      <td>0.00361</td>\n",
       "      <td>10.822500</td>\n",
       "      <td>1</td>\n",
       "      <td>...</td>\n",
       "      <td>-0.109398</td>\n",
       "      <td>0.340962</td>\n",
       "      <td>0.182128</td>\n",
       "      <td>0.127373</td>\n",
       "      <td>0.217441</td>\n",
       "      <td>0.074434</td>\n",
       "      <td>0.084954</td>\n",
       "      <td>-0.046284</td>\n",
       "      <td>-0.078617</td>\n",
       "      <td>-0.079010</td>\n",
       "    </tr>\n",
       "    <tr>\n",
       "      <th>4</th>\n",
       "      <td>577765385</td>\n",
       "      <td>1</td>\n",
       "      <td>1</td>\n",
       "      <td>0.00708</td>\n",
       "      <td>0.00708</td>\n",
       "      <td>30701</td>\n",
       "      <td>1.65967</td>\n",
       "      <td>1.65967</td>\n",
       "      <td>0.150628</td>\n",
       "      <td>1</td>\n",
       "      <td>...</td>\n",
       "      <td>-0.080225</td>\n",
       "      <td>0.051542</td>\n",
       "      <td>0.169931</td>\n",
       "      <td>-0.146682</td>\n",
       "      <td>-0.075910</td>\n",
       "      <td>-0.012699</td>\n",
       "      <td>-0.038688</td>\n",
       "      <td>-0.003142</td>\n",
       "      <td>0.176288</td>\n",
       "      <td>-0.272995</td>\n",
       "    </tr>\n",
       "  </tbody>\n",
       "</table>\n",
       "<p>5 rows × 139 columns</p>\n",
       "</div>"
      ],
      "text/plain": [
       "         vid  in_degree  out_degree  send_amount  send_min  wcc_size  \\\n",
       "0  577765378          5           6      4.48900   0.20000     30701   \n",
       "1  577765380          3           0      0.00000   0.00000         4   \n",
       "2  577765382          1           1      9.99963   9.99963     30701   \n",
       "3  577765383         84           5    418.10100   0.00345     30701   \n",
       "4  577765385          1           1      0.00708   0.00708     30701   \n",
       "\n",
       "   recv_amount  recv_min   pagerank  is_fraud  ...    emb118    emb119  \\\n",
       "0      4.49197   0.09763   0.533813         1  ... -0.023257  0.225843   \n",
       "1      1.01500   0.00500   1.000000         1  ...  0.581809 -0.252620   \n",
       "2     10.00000  10.00000   0.277500         1  ... -0.001978  0.021548   \n",
       "3    409.07400   0.00361  10.822500         1  ... -0.109398  0.340962   \n",
       "4      1.65967   1.65967   0.150628         1  ... -0.080225  0.051542   \n",
       "\n",
       "     emb120    emb121    emb122    emb123    emb124    emb125    emb126  \\\n",
       "0 -0.049169  0.173290 -0.125949 -0.113357  0.064186  0.177994 -0.081593   \n",
       "1 -0.252620  0.417214  0.164595 -0.088025  0.000000  0.088025 -0.164595   \n",
       "2  0.292203 -0.108887  0.319122 -0.008263  0.051936 -0.210840 -0.187087   \n",
       "3  0.182128  0.127373  0.217441  0.074434  0.084954 -0.046284 -0.078617   \n",
       "4  0.169931 -0.146682 -0.075910 -0.012699 -0.038688 -0.003142  0.176288   \n",
       "\n",
       "     emb127  \n",
       "0  0.232941  \n",
       "1 -0.417214  \n",
       "2 -0.168386  \n",
       "3 -0.079010  \n",
       "4 -0.272995  \n",
       "\n",
       "[5 rows x 139 columns]"
      ]
     },
     "execution_count": 19,
     "metadata": {},
     "output_type": "execute_result"
    }
   ],
   "source": [
    "valid_data = valid_loader.data\n",
    "valid_data.head()"
   ]
  },
  {
   "cell_type": "markdown",
   "id": "6f951935-6d3c-4c51-9756-d17797c26f8b",
   "metadata": {},
   "source": [
    "### Create xgboost model\n",
    "\n",
    "Next, we will be implementing an XGBoost classifier, a popular machine learning algorithm known for its effectiveness in various tasks. The classifier is being instantiated with specific hyperparameters to control its behavior during training. The hyperparameters include setting the number of threads to use for parallel computation (nthread=-1), the number of decision trees in the ensemble (n_estimators=100), the learning rate (learning_rate=0.1), the objective function for binary classification (objective='binary:logistic'), the maximum depth of each decision tree (max_depth=2), the scale of the positive class weight to handle imbalanced data (scale_pos_weight=400), the minimum sum of instance weight needed to create a new node (min_child_weight=80), the regularization term gamma (gamma=10), and the maximum delta step allowed for each tree's weight estimation (max_delta_step=2). These hyperparameters will influence the XGBoost classifier's performance and behavior during the training process, making it suitable for binary classification tasks with specific data characteristics."
   ]
  },
  {
   "cell_type": "code",
   "execution_count": 20,
   "id": "62e65f88-fd43-4206-b38e-386a075e107a",
   "metadata": {},
   "outputs": [],
   "source": [
    "from xgboost import XGBClassifier\n",
    "\n",
    "tree_model = XGBClassifier(\n",
    "    nthread=-1, n_estimators=100, learning_rate=0.1, \n",
    "    objective='binary:logistic', max_depth=2, scale_pos_weight=400, \n",
    "    min_child_weight=80, gamma = 10, max_delta_step=2) "
   ]
  },
  {
   "cell_type": "markdown",
   "id": "80cf477e-e44d-4a26-8b47-daa82c2cb512",
   "metadata": {},
   "source": [
    "### Train xgboost model - No graph feature\n",
    "Next, we will focus on training an XGBoost model **without utilizing any graph features**. The specified features, including in-degree, out-degree, send_amount, send_min, recv_amount, and recv_min, are used as input variables for the model. The \"tree_model\" instance, previously defined as an XGBoost classifier with specific hyperparameters, is trained using the \"fit\" function on the training data. The input features from \"train_data\" are used to predict the \"is_fraud\" label, which serves as the target variable for binary classification. By training on these selected features, the model aims to make accurate predictions on whether a particular instance is associated with fraudulent behavior or not."
   ]
  },
  {
   "cell_type": "code",
   "execution_count": 21,
   "id": "6c05e3a3-9444-417a-87fe-dc86cb7551c7",
   "metadata": {},
   "outputs": [
    {
     "data": {
      "text/html": [
       "<style>#sk-container-id-1 {color: black;background-color: white;}#sk-container-id-1 pre{padding: 0;}#sk-container-id-1 div.sk-toggleable {background-color: white;}#sk-container-id-1 label.sk-toggleable__label {cursor: pointer;display: block;width: 100%;margin-bottom: 0;padding: 0.3em;box-sizing: border-box;text-align: center;}#sk-container-id-1 label.sk-toggleable__label-arrow:before {content: \"▸\";float: left;margin-right: 0.25em;color: #696969;}#sk-container-id-1 label.sk-toggleable__label-arrow:hover:before {color: black;}#sk-container-id-1 div.sk-estimator:hover label.sk-toggleable__label-arrow:before {color: black;}#sk-container-id-1 div.sk-toggleable__content {max-height: 0;max-width: 0;overflow: hidden;text-align: left;background-color: #f0f8ff;}#sk-container-id-1 div.sk-toggleable__content pre {margin: 0.2em;color: black;border-radius: 0.25em;background-color: #f0f8ff;}#sk-container-id-1 input.sk-toggleable__control:checked~div.sk-toggleable__content {max-height: 200px;max-width: 100%;overflow: auto;}#sk-container-id-1 input.sk-toggleable__control:checked~label.sk-toggleable__label-arrow:before {content: \"▾\";}#sk-container-id-1 div.sk-estimator input.sk-toggleable__control:checked~label.sk-toggleable__label {background-color: #d4ebff;}#sk-container-id-1 div.sk-label input.sk-toggleable__control:checked~label.sk-toggleable__label {background-color: #d4ebff;}#sk-container-id-1 input.sk-hidden--visually {border: 0;clip: rect(1px 1px 1px 1px);clip: rect(1px, 1px, 1px, 1px);height: 1px;margin: -1px;overflow: hidden;padding: 0;position: absolute;width: 1px;}#sk-container-id-1 div.sk-estimator {font-family: monospace;background-color: #f0f8ff;border: 1px dotted black;border-radius: 0.25em;box-sizing: border-box;margin-bottom: 0.5em;}#sk-container-id-1 div.sk-estimator:hover {background-color: #d4ebff;}#sk-container-id-1 div.sk-parallel-item::after {content: \"\";width: 100%;border-bottom: 1px solid gray;flex-grow: 1;}#sk-container-id-1 div.sk-label:hover label.sk-toggleable__label {background-color: #d4ebff;}#sk-container-id-1 div.sk-serial::before {content: \"\";position: absolute;border-left: 1px solid gray;box-sizing: border-box;top: 0;bottom: 0;left: 50%;z-index: 0;}#sk-container-id-1 div.sk-serial {display: flex;flex-direction: column;align-items: center;background-color: white;padding-right: 0.2em;padding-left: 0.2em;position: relative;}#sk-container-id-1 div.sk-item {position: relative;z-index: 1;}#sk-container-id-1 div.sk-parallel {display: flex;align-items: stretch;justify-content: center;background-color: white;position: relative;}#sk-container-id-1 div.sk-item::before, #sk-container-id-1 div.sk-parallel-item::before {content: \"\";position: absolute;border-left: 1px solid gray;box-sizing: border-box;top: 0;bottom: 0;left: 50%;z-index: -1;}#sk-container-id-1 div.sk-parallel-item {display: flex;flex-direction: column;z-index: 1;position: relative;background-color: white;}#sk-container-id-1 div.sk-parallel-item:first-child::after {align-self: flex-end;width: 50%;}#sk-container-id-1 div.sk-parallel-item:last-child::after {align-self: flex-start;width: 50%;}#sk-container-id-1 div.sk-parallel-item:only-child::after {width: 0;}#sk-container-id-1 div.sk-dashed-wrapped {border: 1px dashed gray;margin: 0 0.4em 0.5em 0.4em;box-sizing: border-box;padding-bottom: 0.4em;background-color: white;}#sk-container-id-1 div.sk-label label {font-family: monospace;font-weight: bold;display: inline-block;line-height: 1.2em;}#sk-container-id-1 div.sk-label-container {text-align: center;}#sk-container-id-1 div.sk-container {/* jupyter's `normalize.less` sets `[hidden] { display: none; }` but bootstrap.min.css set `[hidden] { display: none !important; }` so we also need the `!important` here to be able to override the default hidden behavior on the sphinx rendered scikit-learn.org. See: https://github.com/scikit-learn/scikit-learn/issues/21755 */display: inline-block !important;position: relative;}#sk-container-id-1 div.sk-text-repr-fallback {display: none;}</style><div id=\"sk-container-id-1\" class=\"sk-top-container\"><div class=\"sk-text-repr-fallback\"><pre>XGBClassifier(base_score=0.5, booster=&#x27;gbtree&#x27;, callbacks=None,\n",
       "              colsample_bylevel=1, colsample_bynode=1, colsample_bytree=1,\n",
       "              early_stopping_rounds=None, enable_categorical=False,\n",
       "              eval_metric=None, feature_types=None, gamma=10, gpu_id=-1,\n",
       "              grow_policy=&#x27;depthwise&#x27;, importance_type=None,\n",
       "              interaction_constraints=&#x27;&#x27;, learning_rate=0.1, max_bin=256,\n",
       "              max_cat_threshold=64, max_cat_to_onehot=4, max_delta_step=2,\n",
       "              max_depth=2, max_leaves=0, min_child_weight=80, missing=nan,\n",
       "              monotone_constraints=&#x27;()&#x27;, n_estimators=100, n_jobs=-1,\n",
       "              nthread=-1, num_parallel_tree=1, predictor=&#x27;auto&#x27;, ...)</pre><b>In a Jupyter environment, please rerun this cell to show the HTML representation or trust the notebook. <br />On GitHub, the HTML representation is unable to render, please try loading this page with nbviewer.org.</b></div><div class=\"sk-container\" hidden><div class=\"sk-item\"><div class=\"sk-estimator sk-toggleable\"><input class=\"sk-toggleable__control sk-hidden--visually\" id=\"sk-estimator-id-1\" type=\"checkbox\" checked><label for=\"sk-estimator-id-1\" class=\"sk-toggleable__label sk-toggleable__label-arrow\">XGBClassifier</label><div class=\"sk-toggleable__content\"><pre>XGBClassifier(base_score=0.5, booster=&#x27;gbtree&#x27;, callbacks=None,\n",
       "              colsample_bylevel=1, colsample_bynode=1, colsample_bytree=1,\n",
       "              early_stopping_rounds=None, enable_categorical=False,\n",
       "              eval_metric=None, feature_types=None, gamma=10, gpu_id=-1,\n",
       "              grow_policy=&#x27;depthwise&#x27;, importance_type=None,\n",
       "              interaction_constraints=&#x27;&#x27;, learning_rate=0.1, max_bin=256,\n",
       "              max_cat_threshold=64, max_cat_to_onehot=4, max_delta_step=2,\n",
       "              max_depth=2, max_leaves=0, min_child_weight=80, missing=nan,\n",
       "              monotone_constraints=&#x27;()&#x27;, n_estimators=100, n_jobs=-1,\n",
       "              nthread=-1, num_parallel_tree=1, predictor=&#x27;auto&#x27;, ...)</pre></div></div></div></div></div>"
      ],
      "text/plain": [
       "XGBClassifier(base_score=0.5, booster='gbtree', callbacks=None,\n",
       "              colsample_bylevel=1, colsample_bynode=1, colsample_bytree=1,\n",
       "              early_stopping_rounds=None, enable_categorical=False,\n",
       "              eval_metric=None, feature_types=None, gamma=10, gpu_id=-1,\n",
       "              grow_policy='depthwise', importance_type=None,\n",
       "              interaction_constraints='', learning_rate=0.1, max_bin=256,\n",
       "              max_cat_threshold=64, max_cat_to_onehot=4, max_delta_step=2,\n",
       "              max_depth=2, max_leaves=0, min_child_weight=80, missing=nan,\n",
       "              monotone_constraints='()', n_estimators=100, n_jobs=-1,\n",
       "              nthread=-1, num_parallel_tree=1, predictor='auto', ...)"
      ]
     },
     "execution_count": 21,
     "metadata": {},
     "output_type": "execute_result"
    }
   ],
   "source": [
    "features = [\"in_degree\",\"out_degree\", \"send_amount\",\"send_min\", \n",
    "            \"recv_amount\",\"recv_min\"]\n",
    "# Train model\n",
    "tree_model.fit(train_data[features], train_data[\"is_fraud\"])"
   ]
  },
  {
   "cell_type": "markdown",
   "id": "19e54e75-0663-47a6-b77f-e0572f4aff5b",
   "metadata": {},
   "source": [
    "#### Evaluate model\n",
    "\n",
    "Next, let's evaluate the performance of a trained XGBoost model using validation data that lacks graph features. The code imports necessary evaluation metrics such as Accuracy, BinaryPrecision, and BinaryRecall from the pyTigerGraph library. The model's predictions are obtained by applying it to the selected features of the validation data. The prediction scores are then recorded for future use. The code calculates and prints the evaluation metrics, showing an accuracy of 0.7531, precision of 0.1326, and a remarkably high recall of 0.9959. The results indicate that the model is reasonably accurate in its overall predictions (**accuracy of 75.31%**), but the precision is low, meaning it has a higher number of false positives. However, the recall is extremely high (99.59%), suggesting that the model is proficient in correctly identifying true positive instances, particularly fraudulent cases. Further analysis and tuning may be required to address the low precision and improve the overall performance of the model."
   ]
  },
  {
   "cell_type": "code",
   "execution_count": 22,
   "id": "54257430-34e8-4b41-9ed9-ab827a4862a6",
   "metadata": {},
   "outputs": [
    {
     "name": "stdout",
     "output_type": "stream",
     "text": [
      "Accuracy 0.7737, Precision 0.1310, Recall 0.9865\n"
     ]
    },
    {
     "name": "stderr",
     "output_type": "stream",
     "text": [
      "/opt/conda/lib/python3.9/site-packages/pyTigerGraph/gds/metrics.py:247: DeprecationWarning: The `BinaryPrecision` metric is deprecated; use `Precision` metric instead.\n",
      "  warnings.warn(\n",
      "/opt/conda/lib/python3.9/site-packages/pyTigerGraph/gds/metrics.py:118: DeprecationWarning: The `BinaryRecall` metric is deprecated; use `Recall` metric instead.\n",
      "  warnings.warn(\n"
     ]
    }
   ],
   "source": [
    "from pyTigerGraph.gds.metrics import Accuracy, BinaryPrecision, BinaryRecall\n",
    "from collections import defaultdict\n",
    "\n",
    "# Get predictions\n",
    "pred = tree_model.predict(valid_data[features].values)\n",
    "# Get prediction scores for later use\n",
    "yhat_tree = tree_model.predict_proba(valid_data[features].values)[:,1]\n",
    "ytrue_tree = valid_data[\"is_fraud\"].values\n",
    "\n",
    "metrics = defaultdict(list)\n",
    "m = Accuracy()\n",
    "m.update(pred, ytrue_tree)\n",
    "metrics[\"acc_tree_base\"].append(m.value)\n",
    "\n",
    "m = BinaryPrecision()\n",
    "m.update(pred, ytrue_tree)\n",
    "metrics[\"prec_tree_base\"].append(m.value)\n",
    "\n",
    "m = BinaryRecall()\n",
    "m.update(pred, ytrue_tree)\n",
    "metrics[\"rec_tree_base\"].append(m.value)\n",
    "\n",
    "print(\"Accuracy {:.4f}, Precision {:.4f}, Recall {:.4f}\".format(\n",
    "    metrics[\"acc_tree_base\"][-1], metrics[\"prec_tree_base\"][-1], metrics[\"rec_tree_base\"][-1]))"
   ]
  },
  {
   "cell_type": "markdown",
   "id": "a191f817-3fd0-4b22-8b43-d1cc2789bcf4",
   "metadata": {},
   "source": [
    "### Train xgboost model - Graph feature\n",
    "Next, let's create a XGBoost model that is trained with the inclusion of graph features. The \"features\" list includes attributes such as in-degree, out-degree, send_amount, send_min, recv_amount, recv_min, **pagerank (graph feature)**, and **betweenness(graph feature)**. These graph-specific features provide valuable information about the relationships and behaviors of vertices within the graph. The XGBoost classifier, denoted as \"tree_model,\" is then fitted using the training data with the specified graph features and the corresponding \"is_fraud\" labels. By incorporating the graph features into the model, it gains additional context and insight from the graph structure, potentially leading to improved performance in detecting fraudulent instances. The trained model can now be evaluated on validation data to assess its effectiveness in distinguishing between fraudulent and non-fraudulent cases."
   ]
  },
  {
   "cell_type": "code",
   "execution_count": 23,
   "id": "1d921d2c-af32-40ac-9a5c-3d6d1a83ad53",
   "metadata": {},
   "outputs": [
    {
     "data": {
      "text/html": [
       "<style>#sk-container-id-2 {color: black;background-color: white;}#sk-container-id-2 pre{padding: 0;}#sk-container-id-2 div.sk-toggleable {background-color: white;}#sk-container-id-2 label.sk-toggleable__label {cursor: pointer;display: block;width: 100%;margin-bottom: 0;padding: 0.3em;box-sizing: border-box;text-align: center;}#sk-container-id-2 label.sk-toggleable__label-arrow:before {content: \"▸\";float: left;margin-right: 0.25em;color: #696969;}#sk-container-id-2 label.sk-toggleable__label-arrow:hover:before {color: black;}#sk-container-id-2 div.sk-estimator:hover label.sk-toggleable__label-arrow:before {color: black;}#sk-container-id-2 div.sk-toggleable__content {max-height: 0;max-width: 0;overflow: hidden;text-align: left;background-color: #f0f8ff;}#sk-container-id-2 div.sk-toggleable__content pre {margin: 0.2em;color: black;border-radius: 0.25em;background-color: #f0f8ff;}#sk-container-id-2 input.sk-toggleable__control:checked~div.sk-toggleable__content {max-height: 200px;max-width: 100%;overflow: auto;}#sk-container-id-2 input.sk-toggleable__control:checked~label.sk-toggleable__label-arrow:before {content: \"▾\";}#sk-container-id-2 div.sk-estimator input.sk-toggleable__control:checked~label.sk-toggleable__label {background-color: #d4ebff;}#sk-container-id-2 div.sk-label input.sk-toggleable__control:checked~label.sk-toggleable__label {background-color: #d4ebff;}#sk-container-id-2 input.sk-hidden--visually {border: 0;clip: rect(1px 1px 1px 1px);clip: rect(1px, 1px, 1px, 1px);height: 1px;margin: -1px;overflow: hidden;padding: 0;position: absolute;width: 1px;}#sk-container-id-2 div.sk-estimator {font-family: monospace;background-color: #f0f8ff;border: 1px dotted black;border-radius: 0.25em;box-sizing: border-box;margin-bottom: 0.5em;}#sk-container-id-2 div.sk-estimator:hover {background-color: #d4ebff;}#sk-container-id-2 div.sk-parallel-item::after {content: \"\";width: 100%;border-bottom: 1px solid gray;flex-grow: 1;}#sk-container-id-2 div.sk-label:hover label.sk-toggleable__label {background-color: #d4ebff;}#sk-container-id-2 div.sk-serial::before {content: \"\";position: absolute;border-left: 1px solid gray;box-sizing: border-box;top: 0;bottom: 0;left: 50%;z-index: 0;}#sk-container-id-2 div.sk-serial {display: flex;flex-direction: column;align-items: center;background-color: white;padding-right: 0.2em;padding-left: 0.2em;position: relative;}#sk-container-id-2 div.sk-item {position: relative;z-index: 1;}#sk-container-id-2 div.sk-parallel {display: flex;align-items: stretch;justify-content: center;background-color: white;position: relative;}#sk-container-id-2 div.sk-item::before, #sk-container-id-2 div.sk-parallel-item::before {content: \"\";position: absolute;border-left: 1px solid gray;box-sizing: border-box;top: 0;bottom: 0;left: 50%;z-index: -1;}#sk-container-id-2 div.sk-parallel-item {display: flex;flex-direction: column;z-index: 1;position: relative;background-color: white;}#sk-container-id-2 div.sk-parallel-item:first-child::after {align-self: flex-end;width: 50%;}#sk-container-id-2 div.sk-parallel-item:last-child::after {align-self: flex-start;width: 50%;}#sk-container-id-2 div.sk-parallel-item:only-child::after {width: 0;}#sk-container-id-2 div.sk-dashed-wrapped {border: 1px dashed gray;margin: 0 0.4em 0.5em 0.4em;box-sizing: border-box;padding-bottom: 0.4em;background-color: white;}#sk-container-id-2 div.sk-label label {font-family: monospace;font-weight: bold;display: inline-block;line-height: 1.2em;}#sk-container-id-2 div.sk-label-container {text-align: center;}#sk-container-id-2 div.sk-container {/* jupyter's `normalize.less` sets `[hidden] { display: none; }` but bootstrap.min.css set `[hidden] { display: none !important; }` so we also need the `!important` here to be able to override the default hidden behavior on the sphinx rendered scikit-learn.org. See: https://github.com/scikit-learn/scikit-learn/issues/21755 */display: inline-block !important;position: relative;}#sk-container-id-2 div.sk-text-repr-fallback {display: none;}</style><div id=\"sk-container-id-2\" class=\"sk-top-container\"><div class=\"sk-text-repr-fallback\"><pre>XGBClassifier(base_score=0.5, booster=&#x27;gbtree&#x27;, callbacks=None,\n",
       "              colsample_bylevel=1, colsample_bynode=1, colsample_bytree=1,\n",
       "              early_stopping_rounds=None, enable_categorical=False,\n",
       "              eval_metric=None, feature_types=None, gamma=10, gpu_id=-1,\n",
       "              grow_policy=&#x27;depthwise&#x27;, importance_type=None,\n",
       "              interaction_constraints=&#x27;&#x27;, learning_rate=0.1, max_bin=256,\n",
       "              max_cat_threshold=64, max_cat_to_onehot=4, max_delta_step=2,\n",
       "              max_depth=2, max_leaves=0, min_child_weight=80, missing=nan,\n",
       "              monotone_constraints=&#x27;()&#x27;, n_estimators=100, n_jobs=-1,\n",
       "              nthread=-1, num_parallel_tree=1, predictor=&#x27;auto&#x27;, ...)</pre><b>In a Jupyter environment, please rerun this cell to show the HTML representation or trust the notebook. <br />On GitHub, the HTML representation is unable to render, please try loading this page with nbviewer.org.</b></div><div class=\"sk-container\" hidden><div class=\"sk-item\"><div class=\"sk-estimator sk-toggleable\"><input class=\"sk-toggleable__control sk-hidden--visually\" id=\"sk-estimator-id-2\" type=\"checkbox\" checked><label for=\"sk-estimator-id-2\" class=\"sk-toggleable__label sk-toggleable__label-arrow\">XGBClassifier</label><div class=\"sk-toggleable__content\"><pre>XGBClassifier(base_score=0.5, booster=&#x27;gbtree&#x27;, callbacks=None,\n",
       "              colsample_bylevel=1, colsample_bynode=1, colsample_bytree=1,\n",
       "              early_stopping_rounds=None, enable_categorical=False,\n",
       "              eval_metric=None, feature_types=None, gamma=10, gpu_id=-1,\n",
       "              grow_policy=&#x27;depthwise&#x27;, importance_type=None,\n",
       "              interaction_constraints=&#x27;&#x27;, learning_rate=0.1, max_bin=256,\n",
       "              max_cat_threshold=64, max_cat_to_onehot=4, max_delta_step=2,\n",
       "              max_depth=2, max_leaves=0, min_child_weight=80, missing=nan,\n",
       "              monotone_constraints=&#x27;()&#x27;, n_estimators=100, n_jobs=-1,\n",
       "              nthread=-1, num_parallel_tree=1, predictor=&#x27;auto&#x27;, ...)</pre></div></div></div></div></div>"
      ],
      "text/plain": [
       "XGBClassifier(base_score=0.5, booster='gbtree', callbacks=None,\n",
       "              colsample_bylevel=1, colsample_bynode=1, colsample_bytree=1,\n",
       "              early_stopping_rounds=None, enable_categorical=False,\n",
       "              eval_metric=None, feature_types=None, gamma=10, gpu_id=-1,\n",
       "              grow_policy='depthwise', importance_type=None,\n",
       "              interaction_constraints='', learning_rate=0.1, max_bin=256,\n",
       "              max_cat_threshold=64, max_cat_to_onehot=4, max_delta_step=2,\n",
       "              max_depth=2, max_leaves=0, min_child_weight=80, missing=nan,\n",
       "              monotone_constraints='()', n_estimators=100, n_jobs=-1,\n",
       "              nthread=-1, num_parallel_tree=1, predictor='auto', ...)"
      ]
     },
     "execution_count": 23,
     "metadata": {},
     "output_type": "execute_result"
    }
   ],
   "source": [
    "features = [\"in_degree\",\"out_degree\",\"send_amount\",\"send_min\", \"wcc_size\",\n",
    "            \"recv_amount\",\"recv_min\",\"pagerank\",\"betweenness\"]\n",
    "# Train model\n",
    "tree_model.fit(train_data[features], train_data[\"is_fraud\"])"
   ]
  },
  {
   "cell_type": "markdown",
   "id": "a9b9ceec-7220-4c34-8ca1-0ce7c9af8e22",
   "metadata": {},
   "source": [
    "### Evaluate model\n",
    "Next let's evaluate the model performance of the XGBoost model that was trained using graph-specific features. It imports the required evaluation metrics, such as Accuracy, BinaryPrecision, and BinaryRecall, from the pyTigerGraph library and initializes the metrics container. The model's predictions are obtained by applying it to the selected graph features of the validation data, while prediction scores are also recorded for future reference. The code then calculates and prints the evaluation metrics, revealing an accuracy of 0.7746 **(77.46% accuracy)**, precision of 0.1435, and a high recall of 0.9959. The results indicate that the model's performance has improved compared to the previous evaluation (without graph features). The accuracy and precision have increased, and the model still shows exceptional recall in identifying true positive instances, particularly fraudulent cases. Incorporating graph features in the model has enhanced its ability to leverage the graph structure and relationships, resulting in better predictions and a more effective detection of fraudulent behavior. However, further analysis and fine-tuning may be necessary to optimize the model's precision further and ensure reliable and accurate fraud detection."
   ]
  },
  {
   "cell_type": "code",
   "execution_count": 24,
   "id": "9f4c697b-da4a-4d20-a3a4-684b8cd4bfd4",
   "metadata": {},
   "outputs": [
    {
     "name": "stdout",
     "output_type": "stream",
     "text": [
      "Accuracy 0.9145, Precision 0.2846, Recall 0.9776\n"
     ]
    },
    {
     "name": "stderr",
     "output_type": "stream",
     "text": [
      "/opt/conda/lib/python3.9/site-packages/pyTigerGraph/gds/metrics.py:247: DeprecationWarning: The `BinaryPrecision` metric is deprecated; use `Precision` metric instead.\n",
      "  warnings.warn(\n",
      "/opt/conda/lib/python3.9/site-packages/pyTigerGraph/gds/metrics.py:118: DeprecationWarning: The `BinaryRecall` metric is deprecated; use `Recall` metric instead.\n",
      "  warnings.warn(\n"
     ]
    }
   ],
   "source": [
    "from pyTigerGraph.gds.metrics import Accuracy, BinaryPrecision, BinaryRecall\n",
    "from collections import defaultdict\n",
    "\n",
    "# Get predictions\n",
    "pred = tree_model.predict(valid_data[features].values)\n",
    "# Get prediction scores for later use\n",
    "yhat_tree = tree_model.predict_proba(valid_data[features].values)[:,1]\n",
    "ytrue_tree = valid_data[\"is_fraud\"].values\n",
    "\n",
    "m = Accuracy()\n",
    "m.update(pred, ytrue_tree)\n",
    "metrics[\"acc_tree_graph\"].append(m.value)\n",
    "\n",
    "m = BinaryPrecision()\n",
    "m.update(pred, ytrue_tree)\n",
    "metrics[\"prec_tree_graph\"].append(m.value)\n",
    "\n",
    "m = BinaryRecall()\n",
    "m.update(pred, ytrue_tree)\n",
    "metrics[\"rec_tree_graph\"].append(m.value)\n",
    "\n",
    "print(\"Accuracy {:.4f}, Precision {:.4f}, Recall {:.4f}\".format(\n",
    "    metrics[\"acc_tree_graph\"][-1], metrics[\"prec_tree_graph\"][-1], metrics[\"rec_tree_graph\"][-1]))"
   ]
  },
  {
   "cell_type": "markdown",
   "id": "92ae98fc-ab8b-4f46-b464-bdd93071f98f",
   "metadata": {},
   "source": [
    "### Train xgboost model - FastRP Embeddings \n",
    "\n",
    "Next, let's create a new XGBoost model, \"emb_tree_model,\" which is trained using FastRP embeddings. FastRP is a dimensionality reduction technique that helps capture essential graph features by embedding the vertices into lower-dimensional vectors. The model is instantiated with specific hyperparameters, similar to the previous models. Additionally, the training features include not only the standard graph features, such as in-degree, out-degree, send_amount, send_min, recv_amount, recv_min, pagerank, and betweenness but also the embedded features represented as \"emb\" in the column names. This way, the model is provided with valuable graph embeddings as input to leverage the graph structure effectively. Once trained on the combined feature set, the model is expected to demonstrate improved performance in detecting fraudulent instances due to the enriched representation obtained from the FastRP embeddings. The trained \"emb_tree_model\" can now be evaluated on validation data to assess its effectiveness and compare its results with the previously trained models."
   ]
  },
  {
   "cell_type": "code",
   "execution_count": 25,
   "id": "cfa17370-c74d-4be1-9f6a-49a2469197da",
   "metadata": {},
   "outputs": [
    {
     "data": {
      "text/html": [
       "<style>#sk-container-id-3 {color: black;background-color: white;}#sk-container-id-3 pre{padding: 0;}#sk-container-id-3 div.sk-toggleable {background-color: white;}#sk-container-id-3 label.sk-toggleable__label {cursor: pointer;display: block;width: 100%;margin-bottom: 0;padding: 0.3em;box-sizing: border-box;text-align: center;}#sk-container-id-3 label.sk-toggleable__label-arrow:before {content: \"▸\";float: left;margin-right: 0.25em;color: #696969;}#sk-container-id-3 label.sk-toggleable__label-arrow:hover:before {color: black;}#sk-container-id-3 div.sk-estimator:hover label.sk-toggleable__label-arrow:before {color: black;}#sk-container-id-3 div.sk-toggleable__content {max-height: 0;max-width: 0;overflow: hidden;text-align: left;background-color: #f0f8ff;}#sk-container-id-3 div.sk-toggleable__content pre {margin: 0.2em;color: black;border-radius: 0.25em;background-color: #f0f8ff;}#sk-container-id-3 input.sk-toggleable__control:checked~div.sk-toggleable__content {max-height: 200px;max-width: 100%;overflow: auto;}#sk-container-id-3 input.sk-toggleable__control:checked~label.sk-toggleable__label-arrow:before {content: \"▾\";}#sk-container-id-3 div.sk-estimator input.sk-toggleable__control:checked~label.sk-toggleable__label {background-color: #d4ebff;}#sk-container-id-3 div.sk-label input.sk-toggleable__control:checked~label.sk-toggleable__label {background-color: #d4ebff;}#sk-container-id-3 input.sk-hidden--visually {border: 0;clip: rect(1px 1px 1px 1px);clip: rect(1px, 1px, 1px, 1px);height: 1px;margin: -1px;overflow: hidden;padding: 0;position: absolute;width: 1px;}#sk-container-id-3 div.sk-estimator {font-family: monospace;background-color: #f0f8ff;border: 1px dotted black;border-radius: 0.25em;box-sizing: border-box;margin-bottom: 0.5em;}#sk-container-id-3 div.sk-estimator:hover {background-color: #d4ebff;}#sk-container-id-3 div.sk-parallel-item::after {content: \"\";width: 100%;border-bottom: 1px solid gray;flex-grow: 1;}#sk-container-id-3 div.sk-label:hover label.sk-toggleable__label {background-color: #d4ebff;}#sk-container-id-3 div.sk-serial::before {content: \"\";position: absolute;border-left: 1px solid gray;box-sizing: border-box;top: 0;bottom: 0;left: 50%;z-index: 0;}#sk-container-id-3 div.sk-serial {display: flex;flex-direction: column;align-items: center;background-color: white;padding-right: 0.2em;padding-left: 0.2em;position: relative;}#sk-container-id-3 div.sk-item {position: relative;z-index: 1;}#sk-container-id-3 div.sk-parallel {display: flex;align-items: stretch;justify-content: center;background-color: white;position: relative;}#sk-container-id-3 div.sk-item::before, #sk-container-id-3 div.sk-parallel-item::before {content: \"\";position: absolute;border-left: 1px solid gray;box-sizing: border-box;top: 0;bottom: 0;left: 50%;z-index: -1;}#sk-container-id-3 div.sk-parallel-item {display: flex;flex-direction: column;z-index: 1;position: relative;background-color: white;}#sk-container-id-3 div.sk-parallel-item:first-child::after {align-self: flex-end;width: 50%;}#sk-container-id-3 div.sk-parallel-item:last-child::after {align-self: flex-start;width: 50%;}#sk-container-id-3 div.sk-parallel-item:only-child::after {width: 0;}#sk-container-id-3 div.sk-dashed-wrapped {border: 1px dashed gray;margin: 0 0.4em 0.5em 0.4em;box-sizing: border-box;padding-bottom: 0.4em;background-color: white;}#sk-container-id-3 div.sk-label label {font-family: monospace;font-weight: bold;display: inline-block;line-height: 1.2em;}#sk-container-id-3 div.sk-label-container {text-align: center;}#sk-container-id-3 div.sk-container {/* jupyter's `normalize.less` sets `[hidden] { display: none; }` but bootstrap.min.css set `[hidden] { display: none !important; }` so we also need the `!important` here to be able to override the default hidden behavior on the sphinx rendered scikit-learn.org. See: https://github.com/scikit-learn/scikit-learn/issues/21755 */display: inline-block !important;position: relative;}#sk-container-id-3 div.sk-text-repr-fallback {display: none;}</style><div id=\"sk-container-id-3\" class=\"sk-top-container\"><div class=\"sk-text-repr-fallback\"><pre>XGBClassifier(base_score=0.5, booster=&#x27;gbtree&#x27;, callbacks=None,\n",
       "              colsample_bylevel=1, colsample_bynode=1, colsample_bytree=1,\n",
       "              early_stopping_rounds=None, enable_categorical=False,\n",
       "              eval_metric=None, feature_types=None, gamma=10, gpu_id=-1,\n",
       "              grow_policy=&#x27;depthwise&#x27;, importance_type=None,\n",
       "              interaction_constraints=&#x27;&#x27;, learning_rate=0.1, max_bin=256,\n",
       "              max_cat_threshold=64, max_cat_to_onehot=4, max_delta_step=2,\n",
       "              max_depth=2, max_leaves=0, min_child_weight=80, missing=nan,\n",
       "              monotone_constraints=&#x27;()&#x27;, n_estimators=100, n_jobs=-1,\n",
       "              nthread=-1, num_parallel_tree=1, predictor=&#x27;auto&#x27;, ...)</pre><b>In a Jupyter environment, please rerun this cell to show the HTML representation or trust the notebook. <br />On GitHub, the HTML representation is unable to render, please try loading this page with nbviewer.org.</b></div><div class=\"sk-container\" hidden><div class=\"sk-item\"><div class=\"sk-estimator sk-toggleable\"><input class=\"sk-toggleable__control sk-hidden--visually\" id=\"sk-estimator-id-3\" type=\"checkbox\" checked><label for=\"sk-estimator-id-3\" class=\"sk-toggleable__label sk-toggleable__label-arrow\">XGBClassifier</label><div class=\"sk-toggleable__content\"><pre>XGBClassifier(base_score=0.5, booster=&#x27;gbtree&#x27;, callbacks=None,\n",
       "              colsample_bylevel=1, colsample_bynode=1, colsample_bytree=1,\n",
       "              early_stopping_rounds=None, enable_categorical=False,\n",
       "              eval_metric=None, feature_types=None, gamma=10, gpu_id=-1,\n",
       "              grow_policy=&#x27;depthwise&#x27;, importance_type=None,\n",
       "              interaction_constraints=&#x27;&#x27;, learning_rate=0.1, max_bin=256,\n",
       "              max_cat_threshold=64, max_cat_to_onehot=4, max_delta_step=2,\n",
       "              max_depth=2, max_leaves=0, min_child_weight=80, missing=nan,\n",
       "              monotone_constraints=&#x27;()&#x27;, n_estimators=100, n_jobs=-1,\n",
       "              nthread=-1, num_parallel_tree=1, predictor=&#x27;auto&#x27;, ...)</pre></div></div></div></div></div>"
      ],
      "text/plain": [
       "XGBClassifier(base_score=0.5, booster='gbtree', callbacks=None,\n",
       "              colsample_bylevel=1, colsample_bynode=1, colsample_bytree=1,\n",
       "              early_stopping_rounds=None, enable_categorical=False,\n",
       "              eval_metric=None, feature_types=None, gamma=10, gpu_id=-1,\n",
       "              grow_policy='depthwise', importance_type=None,\n",
       "              interaction_constraints='', learning_rate=0.1, max_bin=256,\n",
       "              max_cat_threshold=64, max_cat_to_onehot=4, max_delta_step=2,\n",
       "              max_depth=2, max_leaves=0, min_child_weight=80, missing=nan,\n",
       "              monotone_constraints='()', n_estimators=100, n_jobs=-1,\n",
       "              nthread=-1, num_parallel_tree=1, predictor='auto', ...)"
      ]
     },
     "execution_count": 25,
     "metadata": {},
     "output_type": "execute_result"
    }
   ],
   "source": [
    "emb_tree_model = XGBClassifier(\n",
    "    nthread=-1, n_estimators=100, learning_rate=0.1, \n",
    "    objective='binary:logistic', max_depth=2, scale_pos_weight=400, \n",
    "    min_child_weight=80, gamma = 10, max_delta_step=2) \n",
    "\n",
    "features = [\"in_degree\",\"out_degree\",\"send_amount\",\"send_min\", \"wcc_size\",\n",
    "            \"recv_amount\",\"recv_min\",\"pagerank\",\"betweenness\"] + [x for x in train_data.columns if \"emb\" in x]\n",
    "# Train model\n",
    "emb_tree_model.fit(train_data[features], train_data[\"is_fraud\"])"
   ]
  },
  {
   "cell_type": "markdown",
   "id": "850a1644",
   "metadata": {},
   "source": [
    "### Evaluate Model\n",
    "Next, let's evaluate the performance of the XGBoost model trained using FastRP embeddings. To accomplish this, the code imports the necessary evaluation metrics, such as Accuracy, BinaryPrecision, and BinaryRecall, and initializes a metrics container. The model's predictions are obtained by applying it to the selected features, which include both traditional graph features (in-degree, out-degree, send_amount, send_min, recv_amount, recv_min, pagerank, and betweenness) and graph embeddings generated using FastRP. The code calculates and records the evaluation metrics for the model's predictions against the true \"is_fraud\" labels of the validation data. The results reveal an accuracy of 0.8956 **(89.56% accuracy)**, a precision of 0.2647, and a high recall of 0.9876. Compared to the previous models, this model demonstrates significant improvement in accuracy, precision, and recall. Incorporating FastRP embeddings has enabled the model to better leverage the graph structure and relationships, leading to a more accurate and effective detection of fraudulent instances. The high recall indicates the model's proficiency in correctly identifying true positive cases, while the relatively low precision suggests there might still be room for optimization to reduce false positives. Nevertheless, the results demonstrate the effectiveness of FastRP embeddings in enhancing the model's performance and detecting fraudulent behavior more reliably."
   ]
  },
  {
   "cell_type": "code",
   "execution_count": 26,
   "id": "d226f65b-29a0-448b-b283-abf06ceb8d84",
   "metadata": {},
   "outputs": [
    {
     "name": "stdout",
     "output_type": "stream",
     "text": [
      "Accuracy 0.9426, Precision 0.3737, Recall 0.9821\n"
     ]
    },
    {
     "name": "stderr",
     "output_type": "stream",
     "text": [
      "/opt/conda/lib/python3.9/site-packages/pyTigerGraph/gds/metrics.py:247: DeprecationWarning: The `BinaryPrecision` metric is deprecated; use `Precision` metric instead.\n",
      "  warnings.warn(\n",
      "/opt/conda/lib/python3.9/site-packages/pyTigerGraph/gds/metrics.py:118: DeprecationWarning: The `BinaryRecall` metric is deprecated; use `Recall` metric instead.\n",
      "  warnings.warn(\n"
     ]
    }
   ],
   "source": [
    "from pyTigerGraph.gds.metrics import Accuracy, BinaryPrecision, BinaryRecall\n",
    "from collections import defaultdict\n",
    "\n",
    "# Get predictions\n",
    "pred = emb_tree_model.predict(valid_data[features].values)\n",
    "# Get prediction scores for later use\n",
    "yhat_tree = emb_tree_model.predict_proba(valid_data[features].values)[:,1]\n",
    "ytrue_tree = valid_data[\"is_fraud\"].values\n",
    "\n",
    "m = Accuracy()\n",
    "m.update(pred, ytrue_tree)\n",
    "metrics[\"acc_fastrp_tree\"].append(m.value)\n",
    "\n",
    "m = BinaryPrecision()\n",
    "m.update(pred, ytrue_tree)\n",
    "metrics[\"prec_fastrp_tree\"].append(m.value)\n",
    "\n",
    "m = BinaryRecall()\n",
    "m.update(pred, ytrue_tree)\n",
    "metrics[\"rec_fastrp_tree\"].append(m.value)\n",
    "\n",
    "print(\"Accuracy {:.4f}, Precision {:.4f}, Recall {:.4f}\".format(\n",
    "    metrics[\"acc_fastrp_tree\"][-1], metrics[\"prec_fastrp_tree\"][-1], metrics[\"rec_fastrp_tree\"][-1]))"
   ]
  },
  {
   "cell_type": "markdown",
   "id": "36a39d08-3b14-409d-91c7-440d950a6426",
   "metadata": {},
   "source": [
    "### Explain models\n",
    "In this analysis, we will examine the feature importance values of both XGBoost models. For the model trained with FastRP embeddings, we combined all dimensions of the embeddings into a single feature importance score. It is evident that the embeddings play a significant role in influencing the model's performance, as indicated by their high feature importance scores."
   ]
  },
  {
   "cell_type": "code",
   "execution_count": 27,
   "id": "de1d3541-5fa1-479f-9234-b68b265d427d",
   "metadata": {},
   "outputs": [
    {
     "data": {
      "text/plain": [
       "Text(0.5, 0, 'feature importance score')"
      ]
     },
     "execution_count": 27,
     "metadata": {},
     "output_type": "execute_result"
    },
    {
     "data": {
      "image/png": "[encoded data removed]",
      "text/plain": [
       "<Figure size 640x480 with 1 Axes>"
      ]
     },
     "metadata": {},
     "output_type": "display_data"
    }
   ],
   "source": [
    "import matplotlib.pyplot as plt\n",
    "\n",
    "feature_importance = tree_model.get_booster().get_fscore()\n",
    "plt.barh(range(len(feature_importance)), feature_importance.values())\n",
    "plt.yticks(range(len(feature_importance)), feature_importance.keys())\n",
    "plt.xlabel(\"feature importance score\")"
   ]
  },
  {
   "cell_type": "markdown",
   "id": "c7e33b07",
   "metadata": {},
   "source": [
    "Next, we will be looking at the feature importance scores of the \"emb_tree_model\" XGBoost model trained with FastRP embeddings. It condenses the importance scores by combining all embedding dimensions into a single score labeled \"embedding.\" The resulting scores are plotted as a horizontal bar chart, providing insights into the model's decision-making process and emphasizing the significance of individual features and embeddings on the model's performance."
   ]
  },
  {
   "cell_type": "code",
   "execution_count": 28,
   "id": "d4604309-3ea3-407c-b7cd-b1f2546545c4",
   "metadata": {},
   "outputs": [
    {
     "data": {
      "image/png": "[encoded data removed]",
      "text/plain": [
       "<Figure size 640x480 with 1 Axes>"
      ]
     },
     "metadata": {},
     "output_type": "display_data"
    }
   ],
   "source": [
    "import matplotlib.pyplot as plt\n",
    "\n",
    "feature_importance = emb_tree_model.get_booster().get_fscore()\n",
    "\n",
    "condensed_feat_imp = {\"embedding\": 0}\n",
    "for feat in feature_importance.keys():\n",
    "    if \"emb\" in feat:\n",
    "        condensed_feat_imp[\"embedding\"] += feature_importance[feat]\n",
    "    else:\n",
    "        condensed_feat_imp[feat] = feature_importance[feat]\n",
    "\n",
    "plt.barh(range(len(condensed_feat_imp)), condensed_feat_imp.values());\n",
    "plt.yticks(range(len(condensed_feat_imp)), condensed_feat_imp.keys());\n",
    "plt.xlabel(\"feature importance score\");"
   ]
  },
  {
   "cell_type": "markdown",
   "id": "22727e65-2956-4df8-afcc-b4f221121a01",
   "metadata": {},
   "source": [
    "## Graph Neural Network\n",
    "\n",
    "Moving on let's define the hyperparameters for a Graph Neural Network (GNN) model and its corresponding training environment. The hyperparameters include a batch size of 1024, the number of neighbors to consider (num_neighbors) during message passing, the number of hops (num_hops) for message propagation in the graph, a hidden dimension of 256 for the GNN layers, two GNN layers (num_layers), and a dropout rate of 0.25 for regularization. These hyperparameters play a crucial role in shaping the GNN's architecture and controlling its training process. Properly tuning these hyperparameters can significantly impact the model's performance on graph-related tasks, such as node classification or link prediction."
   ]
  },
  {
   "cell_type": "code",
   "execution_count": 29,
   "id": "690b9e45-726a-4d20-b79b-a84961145d50",
   "metadata": {},
   "outputs": [],
   "source": [
    "hp = {\n",
    "    \"batch_size\": 1024, \n",
    "    \"num_neighbors\": 200, \n",
    "    \"num_hops\": 2, \n",
    "    \"hidden_dim\": 256, \n",
    "    \"num_layers\": 2, \n",
    "    \"dropout\": 0.25\n",
    "}"
   ]
  },
  {
   "cell_type": "markdown",
   "id": "e5193703-e0e1-421d-bb2b-4d79f5eaee07",
   "metadata": {},
   "source": [
    "### Create Neighbor Loaders\n",
    "\n",
    "Next, let's create the Neighbor Loaders used for training and validation in the context of a Graph Neural Network (GNN) model. The neighbor loaders are an essential component in graph-based machine learning tasks as they handle the efficient retrieval of neighboring node information for each target node during training and validation. The `conn.gds.neighborLoader` function is used to create these loaders, specifying various parameters. The \"v_in_feats\" parameter lists the input features of the target nodes, such as in-degree, out-degree, send_amount, send_min, recv_amount, recv_min, pagerank, and betweenness. The \"v_out_labels\" parameter designates the output labels for the target nodes, specifically \"is_fraud\" in this case. The \"v_extra_feats\" parameter includes additional features related to the target nodes, namely \"is_training\" and \"is_validation\" labels. The \"output_format\" is set to \"PyG\" to align the data format with the popular PyTorch Geometric (PyG) library. Other parameters, such as batch size, number of neighbors, number of hops, filtering, shuffling, and timeout, are specified to control the data loading process. By creating these Neighbor Loaders, the GNN model can efficiently access and utilize neighboring node information during its training and validation phases, significantly enhancing its performance in graph-related tasks."
   ]
  },
  {
   "cell_type": "code",
   "execution_count": 30,
   "id": "17c31955-8824-40a1-9c62-966d99fe60e6",
   "metadata": {},
   "outputs": [
    {
     "name": "stdout",
     "output_type": "stream",
     "text": [
      "Installing and optimizing queries. It might take a minute or two.\n",
      "Query installation finished.\n"
     ]
    }
   ],
   "source": [
    "train_loader, valid_loader = conn.gds.neighborLoader(\n",
    "    v_in_feats=[\"in_degree\",\"out_degree\",\"send_amount\",\"send_min\",\"recv_amount\",\"recv_min\",\"pagerank\",\"betweenness\"],\n",
    "    v_out_labels=[\"is_fraud\"],\n",
    "    v_extra_feats=[\"is_training\", \"is_validation\"],\n",
    "    output_format=\"PyG\",\n",
    "    batch_size=hp[\"batch_size\"],\n",
    "    num_neighbors=hp[\"num_neighbors\"],\n",
    "    num_hops=hp[\"num_hops\"],\n",
    "    filter_by = [\"is_training\", \"is_validation\"],\n",
    "    shuffle=True,\n",
    "    timeout=600000\n",
    ")"
   ]
  },
  {
   "cell_type": "markdown",
   "id": "6c5e0368-0902-4d95-b60c-1a217b9fd0bc",
   "metadata": {},
   "source": [
    "### Create Graph Attention Network\n",
    "\n",
    "Next, a Graph Attention Network (GAN) is created for vertex classification using the GraphSAGE model. The GAN is designed to perform vertex classification, where each vertex in the graph is assigned to one of two classes. The code imports the required GraphSAGE module from the pyTigerGraph library and initializes the GAN with specific hyperparameters. The \"num_layers\" parameter controls the number of layers in the GAN, while the \"out_dim\" parameter sets the output dimension of the GAN's classification layer, which is two in this case, representing the two classes. The \"hidden_dim\" parameter determines the dimension of the hidden layers in the model. The \"dropout\" parameter introduces dropout regularization to prevent overfitting during training. Additionally, the \"class_weights\" parameter is used to address class imbalance, setting a higher weight for the minority class (class 1) with a weight ratio of 1:15. By creating this Graph Attention Network, the model can effectively learn to classify vertices in the graph, particularly in tasks with imbalanced class distributions."
   ]
  },
  {
   "cell_type": "code",
   "execution_count": 31,
   "id": "4f6d90e9-9c40-4758-b19d-dd883817d7da",
   "metadata": {},
   "outputs": [],
   "source": [
    "from pyTigerGraph.gds.models.GraphSAGE import GraphSAGEForVertexClassification\n",
    "import torch\n",
    "\n",
    "gs = GraphSAGEForVertexClassification(num_layers = hp[\"num_layers\"],\n",
    "                                      out_dim = 2,\n",
    "                                      hidden_dim = hp[\"hidden_dim\"],\n",
    "                                      dropout = hp[\"dropout\"],\n",
    "                                      class_weights = torch.FloatTensor([1, 15]))"
   ]
  },
  {
   "cell_type": "markdown",
   "id": "f6a76a1a-719d-49ef-bb08-5f2b3052142b",
   "metadata": {},
   "source": [
    "### Train Model\n",
    "Now we will train the previously defined Graph Attention Network (GAN) using the \"gs.fit\" method. The GAN is being trained on the provided \"train_loader\" and validated using the \"valid_loader\" for a total of 10 epochs. This process involves optimizing the model's parameters and learning the best representation to classify vertices in the graph accurately."
   ]
  },
  {
   "cell_type": "code",
   "execution_count": 32,
   "id": "fea32d40-93a7-418f-ab53-966197106f3c",
   "metadata": {},
   "outputs": [
    {
     "name": "stderr",
     "output_type": "stream",
     "text": [
      "Epochs:   0%|          | 0/10 [00:00<?, ?it/s]\n",
      "Training Batches:   0%|          | 0/26 [00:00<?, ?it/s]\u001b[A\n",
      "Training Batches:   4%|▍         | 1/26 [00:02<01:01,  2.45s/it]\u001b[A\n",
      "Training Batches:   8%|▊         | 2/26 [00:02<00:28,  1.17s/it]\u001b[A\n",
      "Training Batches:  12%|█▏        | 3/26 [00:02<00:17,  1.34it/s]\u001b[A\n",
      "Training Batches:  15%|█▌        | 4/26 [00:03<00:11,  1.95it/s]\u001b[A\n",
      "Training Batches:  19%|█▉        | 5/26 [00:03<00:07,  2.63it/s]\u001b[A\n",
      "Training Batches:  23%|██▎       | 6/26 [00:03<00:06,  3.17it/s]\u001b[A\n",
      "Training Batches:  27%|██▋       | 7/26 [00:03<00:04,  3.86it/s]\u001b[A\n",
      "Training Batches:  31%|███       | 8/26 [00:03<00:03,  4.52it/s]\u001b[A\n",
      "Training Batches:  35%|███▍      | 9/26 [00:03<00:03,  5.09it/s]\u001b[A\n",
      "Training Batches:  38%|███▊      | 10/26 [00:04<00:02,  5.54it/s]\u001b[A\n",
      "Training Batches:  42%|████▏     | 11/26 [00:04<00:02,  5.09it/s]\u001b[A\n",
      "Training Batches:  46%|████▌     | 12/26 [00:04<00:02,  5.54it/s]\u001b[A\n",
      "Training Batches:  50%|█████     | 13/26 [00:04<00:02,  5.96it/s]\u001b[A\n",
      "Training Batches:  54%|█████▍    | 14/26 [00:04<00:01,  6.27it/s]\u001b[A\n",
      "Training Batches:  58%|█████▊    | 15/26 [00:04<00:01,  6.61it/s]\u001b[A\n",
      "Training Batches:  62%|██████▏   | 16/26 [00:04<00:01,  6.75it/s]\u001b[A\n",
      "Training Batches:  65%|██████▌   | 17/26 [00:05<00:01,  6.59it/s]\u001b[A\n",
      "Training Batches:  69%|██████▉   | 18/26 [00:05<00:01,  6.64it/s]\u001b[A\n",
      "Training Batches:  73%|███████▎  | 19/26 [00:05<00:01,  6.19it/s]\u001b[A\n",
      "Training Batches:  77%|███████▋  | 20/26 [00:05<00:00,  6.42it/s]\u001b[A\n",
      "Training Batches: 100%|██████████| 26/26 [00:05<00:00,  4.50it/s]\u001b[A\n",
      "\n",
      "Eval Batches:   0%|          | 0/7 [00:00<?, ?it/s]\u001b[A\n",
      "Eval Batches:  14%|█▍        | 1/7 [00:00<00:05,  1.12it/s]\u001b[A\n",
      "Eval Batches:  29%|██▊       | 2/7 [00:01<00:02,  2.20it/s]\u001b[A\n",
      "Eval Batches:  43%|████▎     | 3/7 [00:01<00:01,  3.28it/s]\u001b[A\n",
      "Eval Batches:  57%|█████▋    | 4/7 [00:01<00:00,  3.63it/s]\u001b[A\n",
      "Eval Batches: 100%|██████████| 7/7 [00:01<00:00,  4.50it/s]\u001b[A\n",
      "\n",
      "Training Batches:   0%|          | 0/26 [00:00<?, ?it/s]\u001b[A\n",
      "Training Batches:   4%|▍         | 1/26 [00:02<00:58,  2.34s/it]\u001b[A\n",
      "Training Batches:   8%|▊         | 2/26 [00:02<00:25,  1.05s/it]\u001b[A\n",
      "Training Batches:  12%|█▏        | 3/26 [00:02<00:15,  1.47it/s]\u001b[A\n",
      "Training Batches:  15%|█▌        | 4/26 [00:02<00:10,  2.14it/s]\u001b[A\n",
      "Training Batches:  19%|█▉        | 5/26 [00:03<00:08,  2.58it/s]\u001b[A\n",
      "Training Batches:  23%|██▎       | 6/26 [00:03<00:06,  3.32it/s]\u001b[A\n",
      "Training Batches:  27%|██▋       | 7/26 [00:03<00:05,  3.69it/s]\u001b[A\n",
      "Training Batches:  31%|███       | 8/26 [00:03<00:04,  3.85it/s]\u001b[A\n",
      "Training Batches:  35%|███▍      | 9/26 [00:03<00:03,  4.35it/s]\u001b[A\n",
      "Training Batches:  38%|███▊      | 10/26 [00:04<00:03,  4.94it/s]\u001b[A\n",
      "Training Batches:  42%|████▏     | 11/26 [00:04<00:02,  5.33it/s]\u001b[A\n",
      "Training Batches:  46%|████▌     | 12/26 [00:04<00:02,  5.84it/s]\u001b[A\n",
      "Training Batches:  50%|█████     | 13/26 [00:04<00:02,  6.08it/s]\u001b[A\n",
      "Training Batches:  54%|█████▍    | 14/26 [00:04<00:01,  6.43it/s]\u001b[A\n",
      "Training Batches:  58%|█████▊    | 15/26 [00:04<00:01,  6.60it/s]\u001b[A\n",
      "Training Batches:  62%|██████▏   | 16/26 [00:04<00:01,  6.72it/s]\u001b[A\n",
      "Training Batches:  65%|██████▌   | 17/26 [00:04<00:01,  6.86it/s]\u001b[A\n",
      "Training Batches:  69%|██████▉   | 18/26 [00:05<00:01,  6.86it/s]\u001b[A\n",
      "Training Batches:  73%|███████▎  | 19/26 [00:05<00:01,  6.89it/s]\u001b[A\n",
      "Training Batches:  77%|███████▋  | 20/26 [00:05<00:00,  6.99it/s]\u001b[A\n",
      "Training Batches: 100%|██████████| 26/26 [00:05<00:00,  4.65it/s]\u001b[A\n",
      "\n",
      "Eval Batches:   0%|          | 0/7 [00:00<?, ?it/s]\u001b[A\n",
      "Eval Batches:  14%|█▍        | 1/7 [00:00<00:05,  1.10it/s]\u001b[A\n",
      "Eval Batches:  29%|██▊       | 2/7 [00:01<00:02,  2.12it/s]\u001b[A\n",
      "Eval Batches:  43%|████▎     | 3/7 [00:01<00:01,  3.22it/s]\u001b[A\n",
      "Eval Batches:  57%|█████▋    | 4/7 [00:01<00:00,  4.24it/s]\u001b[A\n",
      "Eval Batches: 100%|██████████| 7/7 [00:01<00:00,  4.72it/s]\u001b[A\n",
      "\n",
      "Training Batches:   0%|          | 0/26 [00:00<?, ?it/s]\u001b[A\n",
      "Training Batches:   4%|▍         | 1/26 [00:02<00:57,  2.30s/it]\u001b[A\n",
      "Training Batches:   8%|▊         | 2/26 [00:02<00:24,  1.03s/it]\u001b[A\n",
      "Training Batches:  12%|█▏        | 3/26 [00:02<00:15,  1.48it/s]\u001b[A\n",
      "Training Batches:  15%|█▌        | 4/26 [00:02<00:11,  1.98it/s]\u001b[A\n",
      "Training Batches:  19%|█▉        | 5/26 [00:03<00:08,  2.55it/s]\u001b[A\n",
      "Training Batches:  23%|██▎       | 6/26 [00:03<00:06,  2.95it/s]\u001b[A\n",
      "Training Batches:  27%|██▋       | 7/26 [00:03<00:05,  3.65it/s]\u001b[A\n",
      "Training Batches:  31%|███       | 8/26 [00:03<00:04,  4.28it/s]\u001b[A\n",
      "Training Batches:  35%|███▍      | 9/26 [00:03<00:03,  4.94it/s]\u001b[A\n",
      "Training Batches:  38%|███▊      | 10/26 [00:03<00:02,  5.41it/s]\u001b[A\n",
      "Training Batches:  42%|████▏     | 11/26 [00:04<00:02,  5.79it/s]\u001b[A\n",
      "Training Batches:  46%|████▌     | 12/26 [00:04<00:02,  5.76it/s]\u001b[A\n",
      "Training Batches:  50%|█████     | 13/26 [00:04<00:02,  6.12it/s]\u001b[A\n",
      "Training Batches:  54%|█████▍    | 14/26 [00:04<00:01,  6.40it/s]\u001b[A\n",
      "Training Batches:  58%|█████▊    | 15/26 [00:04<00:01,  6.47it/s]\u001b[A\n",
      "Training Batches:  62%|██████▏   | 16/26 [00:04<00:01,  6.61it/s]\u001b[A\n",
      "Training Batches:  65%|██████▌   | 17/26 [00:04<00:01,  6.50it/s]\u001b[A\n",
      "Training Batches:  69%|██████▉   | 18/26 [00:05<00:01,  6.55it/s]\u001b[A\n",
      "Training Batches:  73%|███████▎  | 19/26 [00:05<00:01,  6.82it/s]\u001b[A\n",
      "Training Batches:  77%|███████▋  | 20/26 [00:05<00:00,  6.92it/s]\u001b[A\n",
      "Training Batches: 100%|██████████| 26/26 [00:05<00:00,  4.65it/s]\u001b[A\n",
      "\n",
      "Eval Batches:   0%|          | 0/7 [00:00<?, ?it/s]\u001b[A\n",
      "Eval Batches:  14%|█▍        | 1/7 [00:00<00:05,  1.08it/s]\u001b[A\n",
      "Eval Batches:  29%|██▊       | 2/7 [00:01<00:02,  2.09it/s]\u001b[A\n",
      "Eval Batches:  43%|████▎     | 3/7 [00:01<00:01,  3.11it/s]\u001b[A\n",
      "Eval Batches:  57%|█████▋    | 4/7 [00:01<00:00,  4.07it/s]\u001b[A\n",
      "Eval Batches: 100%|██████████| 7/7 [00:01<00:00,  4.61it/s]\u001b[A\n",
      "\n",
      "Training Batches:   0%|          | 0/26 [00:00<?, ?it/s]\u001b[A\n",
      "Training Batches:   4%|▍         | 1/26 [00:02<00:58,  2.33s/it]\u001b[A\n",
      "Training Batches:   8%|▊         | 2/26 [00:02<00:26,  1.12s/it]\u001b[A\n",
      "Training Batches:  12%|█▏        | 3/26 [00:02<00:17,  1.30it/s]\u001b[A\n",
      "Training Batches:  15%|█▌        | 4/26 [00:03<00:11,  1.85it/s]\u001b[A\n",
      "Training Batches:  19%|█▉        | 5/26 [00:03<00:08,  2.52it/s]\u001b[A\n",
      "Training Batches:  23%|██▎       | 6/26 [00:03<00:06,  3.22it/s]\u001b[A\n",
      "Training Batches:  27%|██▋       | 7/26 [00:03<00:04,  3.95it/s]\u001b[A\n",
      "Training Batches:  31%|███       | 8/26 [00:03<00:03,  4.53it/s]\u001b[A\n",
      "Training Batches:  35%|███▍      | 9/26 [00:03<00:03,  5.05it/s]\u001b[A\n",
      "Training Batches:  38%|███▊      | 10/26 [00:04<00:02,  5.55it/s]\u001b[A\n",
      "Training Batches:  42%|████▏     | 11/26 [00:04<00:02,  6.07it/s]\u001b[A\n",
      "Training Batches:  50%|█████     | 13/26 [00:04<00:01,  7.83it/s]\u001b[A\n",
      "Training Batches:  54%|█████▍    | 14/26 [00:04<00:01,  6.37it/s]\u001b[A\n",
      "Training Batches:  58%|█████▊    | 15/26 [00:04<00:01,  6.61it/s]\u001b[A\n",
      "Training Batches:  62%|██████▏   | 16/26 [00:04<00:01,  6.75it/s]\u001b[A\n",
      "Training Batches:  65%|██████▌   | 17/26 [00:05<00:01,  5.70it/s]\u001b[A\n",
      "Training Batches:  69%|██████▉   | 18/26 [00:05<00:01,  6.15it/s]\u001b[A\n",
      "Training Batches:  73%|███████▎  | 19/26 [00:05<00:01,  6.49it/s]\u001b[A\n",
      "Training Batches:  77%|███████▋  | 20/26 [00:05<00:00,  6.70it/s]\u001b[A\n",
      "Training Batches: 100%|██████████| 26/26 [00:05<00:00,  4.60it/s]\u001b[A\n",
      "\n",
      "Eval Batches:   0%|          | 0/7 [00:00<?, ?it/s]\u001b[A\n",
      "Eval Batches:  14%|█▍        | 1/7 [00:00<00:05,  1.16it/s]\u001b[A\n",
      "Eval Batches:  29%|██▊       | 2/7 [00:01<00:02,  2.28it/s]\u001b[A\n",
      "Eval Batches:  57%|█████▋    | 4/7 [00:01<00:00,  4.19it/s]\u001b[A\n",
      "Eval Batches: 100%|██████████| 7/7 [00:01<00:00,  4.85it/s]\u001b[A\n",
      "\n",
      "Training Batches:   0%|          | 0/26 [00:00<?, ?it/s]\u001b[A\n",
      "Training Batches:   4%|▍         | 1/26 [00:02<00:55,  2.23s/it]\u001b[A\n",
      "Training Batches:   8%|▊         | 2/26 [00:02<00:25,  1.07s/it]\u001b[A\n",
      "Training Batches:  12%|█▏        | 3/26 [00:02<00:17,  1.34it/s]\u001b[A\n",
      "Training Batches:  15%|█▌        | 4/26 [00:03<00:12,  1.80it/s]\u001b[A\n",
      "Training Batches:  19%|█▉        | 5/26 [00:03<00:08,  2.46it/s]\u001b[A\n",
      "Training Batches:  23%|██▎       | 6/26 [00:03<00:06,  3.01it/s]\u001b[A\n",
      "Training Batches:  27%|██▋       | 7/26 [00:03<00:05,  3.71it/s]\u001b[A\n",
      "Training Batches:  31%|███       | 8/26 [00:03<00:04,  4.41it/s]\u001b[A\n",
      "Training Batches:  35%|███▍      | 9/26 [00:03<00:03,  4.95it/s]\u001b[A\n",
      "Training Batches:  38%|███▊      | 10/26 [00:04<00:02,  5.50it/s]\u001b[A\n",
      "Training Batches:  42%|████▏     | 11/26 [00:04<00:02,  5.99it/s]\u001b[A\n",
      "Training Batches:  46%|████▌     | 12/26 [00:04<00:02,  6.33it/s]\u001b[A\n",
      "Training Batches:  50%|█████     | 13/26 [00:04<00:02,  6.25it/s]\u001b[A\n",
      "Training Batches:  54%|█████▍    | 14/26 [00:04<00:01,  6.46it/s]\u001b[A\n",
      "Training Batches:  58%|█████▊    | 15/26 [00:04<00:01,  6.57it/s]\u001b[A\n",
      "Training Batches:  62%|██████▏   | 16/26 [00:04<00:01,  6.80it/s]\u001b[A\n",
      "Training Batches:  65%|██████▌   | 17/26 [00:05<00:01,  5.64it/s]\u001b[A\n",
      "Training Batches:  69%|██████▉   | 18/26 [00:05<00:01,  6.14it/s]\u001b[A\n",
      "Training Batches:  73%|███████▎  | 19/26 [00:05<00:01,  6.45it/s]\u001b[A\n",
      "Training Batches:  77%|███████▋  | 20/26 [00:05<00:00,  6.66it/s]\u001b[A\n",
      "Training Batches: 100%|██████████| 26/26 [00:05<00:00,  4.58it/s]\u001b[A\n",
      "\n",
      "Eval Batches:   0%|          | 0/7 [00:00<?, ?it/s]\u001b[A\n",
      "Eval Batches:  14%|█▍        | 1/7 [00:00<00:04,  1.22it/s]\u001b[A\n",
      "Eval Batches:  29%|██▊       | 2/7 [00:00<00:02,  2.28it/s]\u001b[A\n",
      "Eval Batches:  43%|████▎     | 3/7 [00:01<00:01,  3.36it/s]\u001b[A\n",
      "Eval Batches:  57%|█████▋    | 4/7 [00:01<00:00,  4.33it/s]\u001b[A\n",
      "Eval Batches: 100%|██████████| 7/7 [00:01<00:00,  4.94it/s]\u001b[A\n",
      "\n",
      "Training Batches:   0%|          | 0/26 [00:00<?, ?it/s]\u001b[A\n",
      "Training Batches:   4%|▍         | 1/26 [00:02<00:58,  2.34s/it]\u001b[A\n",
      "Training Batches:   8%|▊         | 2/26 [00:02<00:27,  1.16s/it]\u001b[A\n",
      "Training Batches:  12%|█▏        | 3/26 [00:02<00:17,  1.34it/s]\u001b[A\n",
      "Training Batches:  15%|█▌        | 4/26 [00:03<00:12,  1.82it/s]\u001b[A\n",
      "Training Batches:  19%|█▉        | 5/26 [00:03<00:08,  2.49it/s]\u001b[A\n",
      "Training Batches:  23%|██▎       | 6/26 [00:03<00:06,  3.01it/s]\u001b[A\n",
      "Training Batches:  27%|██▋       | 7/26 [00:03<00:05,  3.62it/s]\u001b[A\n",
      "Training Batches:  31%|███       | 8/26 [00:03<00:04,  4.31it/s]\u001b[A\n",
      "Training Batches:  35%|███▍      | 9/26 [00:03<00:03,  4.95it/s]\u001b[A\n",
      "Training Batches:  38%|███▊      | 10/26 [00:04<00:02,  5.42it/s]\u001b[A\n",
      "Training Batches:  42%|████▏     | 11/26 [00:04<00:02,  5.87it/s]\u001b[A\n",
      "Training Batches:  46%|████▌     | 12/26 [00:04<00:02,  6.29it/s]\u001b[A\n",
      "Training Batches:  50%|█████     | 13/26 [00:04<00:01,  6.64it/s]\u001b[A\n",
      "Training Batches:  54%|█████▍    | 14/26 [00:04<00:02,  5.58it/s]\u001b[A\n",
      "Training Batches:  58%|█████▊    | 15/26 [00:04<00:01,  5.98it/s]\u001b[A\n",
      "Training Batches:  62%|██████▏   | 16/26 [00:05<00:01,  6.32it/s]\u001b[A\n",
      "Training Batches:  65%|██████▌   | 17/26 [00:05<00:01,  6.79it/s]\u001b[A\n",
      "Training Batches:  69%|██████▉   | 18/26 [00:05<00:01,  6.81it/s]\u001b[A\n",
      "Training Batches:  73%|███████▎  | 19/26 [00:05<00:01,  6.78it/s]\u001b[A\n",
      "Training Batches:  77%|███████▋  | 20/26 [00:05<00:00,  6.97it/s]\u001b[A\n",
      "Training Batches: 100%|██████████| 26/26 [00:05<00:00,  4.54it/s]\u001b[A\n",
      "\n",
      "Eval Batches:   0%|          | 0/7 [00:00<?, ?it/s]\u001b[A\n",
      "Eval Batches:  14%|█▍        | 1/7 [00:00<00:05,  1.11it/s]\u001b[A\n",
      "Eval Batches:  29%|██▊       | 2/7 [00:01<00:02,  2.25it/s]\u001b[A\n",
      "Eval Batches:  43%|████▎     | 3/7 [00:01<00:01,  3.36it/s]\u001b[A\n",
      "Eval Batches:  57%|█████▋    | 4/7 [00:01<00:00,  4.14it/s]\u001b[A\n",
      "Eval Batches: 100%|██████████| 7/7 [00:01<00:00,  4.76it/s]\u001b[A\n",
      "\n",
      "Training Batches:   0%|          | 0/26 [00:00<?, ?it/s]\u001b[A\n",
      "Training Batches:   4%|▍         | 1/26 [00:02<01:01,  2.45s/it]\u001b[A\n",
      "Training Batches:   8%|▊         | 2/26 [00:02<00:27,  1.16s/it]\u001b[A\n",
      "Training Batches:  12%|█▏        | 3/26 [00:02<00:15,  1.45it/s]\u001b[A\n",
      "Training Batches:  15%|█▌        | 4/26 [00:03<00:10,  2.10it/s]\u001b[A\n",
      "Training Batches:  19%|█▉        | 5/26 [00:03<00:08,  2.57it/s]\u001b[A\n",
      "Training Batches:  23%|██▎       | 6/26 [00:03<00:06,  3.07it/s]\u001b[A\n",
      "Training Batches:  27%|██▋       | 7/26 [00:03<00:05,  3.79it/s]\u001b[A\n",
      "Training Batches:  31%|███       | 8/26 [00:03<00:03,  4.56it/s]\u001b[A\n",
      "Training Batches:  35%|███▍      | 9/26 [00:03<00:03,  5.18it/s]\u001b[A\n",
      "Training Batches:  38%|███▊      | 10/26 [00:03<00:02,  5.58it/s]\u001b[A\n",
      "Training Batches:  42%|████▏     | 11/26 [00:04<00:02,  5.96it/s]\u001b[A\n",
      "Training Batches:  46%|████▌     | 12/26 [00:04<00:02,  5.35it/s]\u001b[A\n",
      "Training Batches:  50%|█████     | 13/26 [00:04<00:02,  5.88it/s]\u001b[A\n",
      "Training Batches:  54%|█████▍    | 14/26 [00:04<00:01,  6.04it/s]\u001b[A\n",
      "Training Batches:  58%|█████▊    | 15/26 [00:04<00:01,  6.38it/s]\u001b[A\n",
      "Training Batches:  62%|██████▏   | 16/26 [00:04<00:01,  6.76it/s]\u001b[A\n",
      "Training Batches:  65%|██████▌   | 17/26 [00:05<00:01,  6.55it/s]\u001b[A\n",
      "Training Batches:  69%|██████▉   | 18/26 [00:05<00:01,  6.55it/s]\u001b[A\n",
      "Training Batches:  73%|███████▎  | 19/26 [00:05<00:01,  6.66it/s]\u001b[A\n",
      "Training Batches:  77%|███████▋  | 20/26 [00:05<00:00,  6.84it/s]\u001b[A\n",
      "Training Batches: 100%|██████████| 26/26 [00:05<00:00,  4.61it/s]\u001b[A\n",
      "\n",
      "Eval Batches:   0%|          | 0/7 [00:00<?, ?it/s]\u001b[A\n",
      "Eval Batches:  14%|█▍        | 1/7 [00:00<00:05,  1.18it/s]\u001b[A\n",
      "Eval Batches:  29%|██▊       | 2/7 [00:01<00:02,  2.25it/s]\u001b[A\n",
      "Eval Batches:  57%|█████▋    | 4/7 [00:01<00:00,  3.74it/s]\u001b[A\n",
      "Eval Batches: 100%|██████████| 7/7 [00:01<00:00,  4.60it/s]\u001b[A\n",
      "\n",
      "Training Batches:   0%|          | 0/26 [00:00<?, ?it/s]\u001b[A\n",
      "Training Batches:   4%|▍         | 1/26 [00:02<00:55,  2.23s/it]\u001b[A\n",
      "Training Batches:   8%|▊         | 2/26 [00:02<00:25,  1.08s/it]\u001b[A\n",
      "Training Batches:  12%|█▏        | 3/26 [00:02<00:16,  1.42it/s]\u001b[A\n",
      "Training Batches:  15%|█▌        | 4/26 [00:03<00:11,  1.89it/s]\u001b[A\n",
      "Training Batches:  19%|█▉        | 5/26 [00:03<00:08,  2.47it/s]\u001b[A\n",
      "Training Batches:  23%|██▎       | 6/26 [00:03<00:06,  3.19it/s]\u001b[A\n",
      "Training Batches:  27%|██▋       | 7/26 [00:03<00:04,  3.86it/s]\u001b[A\n",
      "Training Batches:  31%|███       | 8/26 [00:03<00:03,  4.54it/s]\u001b[A\n",
      "Training Batches:  35%|███▍      | 9/26 [00:03<00:03,  4.40it/s]\u001b[A\n",
      "Training Batches:  38%|███▊      | 10/26 [00:04<00:03,  5.04it/s]\u001b[A\n",
      "Training Batches:  42%|████▏     | 11/26 [00:04<00:02,  5.52it/s]\u001b[A\n",
      "Training Batches:  46%|████▌     | 12/26 [00:04<00:02,  5.92it/s]\u001b[A\n",
      "Training Batches:  50%|█████     | 13/26 [00:04<00:02,  6.25it/s]\u001b[A\n",
      "Training Batches:  54%|█████▍    | 14/26 [00:04<00:01,  6.32it/s]\u001b[A\n",
      "Training Batches:  58%|█████▊    | 15/26 [00:04<00:01,  6.56it/s]\u001b[A\n",
      "Training Batches:  62%|██████▏   | 16/26 [00:04<00:01,  6.81it/s]\u001b[A\n",
      "Training Batches:  65%|██████▌   | 17/26 [00:04<00:01,  6.94it/s]\u001b[A\n",
      "Training Batches:  69%|██████▉   | 18/26 [00:05<00:01,  7.02it/s]\u001b[A\n",
      "Training Batches:  73%|███████▎  | 19/26 [00:05<00:00,  7.07it/s]\u001b[A\n",
      "Training Batches:  77%|███████▋  | 20/26 [00:05<00:00,  7.06it/s]\u001b[A\n",
      "Training Batches: 100%|██████████| 26/26 [00:05<00:00,  4.65it/s]\u001b[A\n",
      "\n",
      "Eval Batches:   0%|          | 0/7 [00:00<?, ?it/s]\u001b[A\n",
      "Eval Batches:  14%|█▍        | 1/7 [00:00<00:05,  1.07it/s]\u001b[A\n",
      "Eval Batches:  29%|██▊       | 2/7 [00:01<00:02,  2.10it/s]\u001b[A\n",
      "Eval Batches:  57%|█████▋    | 4/7 [00:01<00:00,  4.53it/s]\u001b[A\n",
      "Eval Batches: 100%|██████████| 7/7 [00:01<00:00,  4.66it/s]\u001b[A\n",
      "\n",
      "Training Batches:   0%|          | 0/26 [00:00<?, ?it/s]\u001b[A\n",
      "Training Batches:   4%|▍         | 1/26 [00:02<00:55,  2.21s/it]\u001b[A\n",
      "Training Batches:   8%|▊         | 2/26 [00:02<00:25,  1.05s/it]\u001b[A\n",
      "Training Batches:  12%|█▏        | 3/26 [00:02<00:14,  1.56it/s]\u001b[A\n",
      "Training Batches:  15%|█▌        | 4/26 [00:02<00:10,  2.07it/s]\u001b[A\n",
      "Training Batches:  19%|█▉        | 5/26 [00:03<00:08,  2.57it/s]\u001b[A\n",
      "Training Batches:  23%|██▎       | 6/26 [00:03<00:07,  2.82it/s]\u001b[A\n",
      "Training Batches:  27%|██▋       | 7/26 [00:03<00:05,  3.33it/s]\u001b[A\n",
      "Training Batches:  31%|███       | 8/26 [00:03<00:04,  4.03it/s]\u001b[A\n",
      "Training Batches:  35%|███▍      | 9/26 [00:03<00:03,  4.76it/s]\u001b[A\n",
      "Training Batches:  38%|███▊      | 10/26 [00:03<00:03,  5.29it/s]\u001b[A\n",
      "Training Batches:  42%|████▏     | 11/26 [00:04<00:02,  5.83it/s]\u001b[A\n",
      "Training Batches:  46%|████▌     | 12/26 [00:04<00:02,  6.04it/s]\u001b[A\n",
      "Training Batches:  50%|█████     | 13/26 [00:04<00:02,  6.38it/s]\u001b[A\n",
      "Training Batches:  54%|█████▍    | 14/26 [00:04<00:01,  6.72it/s]\u001b[A\n",
      "Training Batches:  58%|█████▊    | 15/26 [00:04<00:01,  6.61it/s]\u001b[A\n",
      "Training Batches:  62%|██████▏   | 16/26 [00:04<00:01,  6.74it/s]\u001b[A\n",
      "Training Batches:  65%|██████▌   | 17/26 [00:04<00:01,  6.74it/s]\u001b[A\n",
      "Training Batches:  69%|██████▉   | 18/26 [00:05<00:01,  6.85it/s]\u001b[A\n",
      "Training Batches:  73%|███████▎  | 19/26 [00:05<00:01,  5.81it/s]\u001b[A\n",
      "Training Batches:  77%|███████▋  | 20/26 [00:05<00:00,  6.18it/s]\u001b[A\n",
      "Training Batches: 100%|██████████| 26/26 [00:05<00:00,  4.61it/s]\u001b[A\n",
      "\n",
      "Eval Batches:   0%|          | 0/7 [00:00<?, ?it/s]\u001b[A\n",
      "Eval Batches:  14%|█▍        | 1/7 [00:00<00:05,  1.15it/s]\u001b[A\n",
      "Eval Batches:  29%|██▊       | 2/7 [00:00<00:02,  2.32it/s]\u001b[A\n",
      "Eval Batches:  43%|████▎     | 3/7 [00:01<00:01,  3.36it/s]\u001b[A\n",
      "Eval Batches:  57%|█████▋    | 4/7 [00:01<00:00,  4.52it/s]\u001b[A\n",
      "Eval Batches: 100%|██████████| 7/7 [00:01<00:00,  4.89it/s]\u001b[A\n",
      "\n",
      "Training Batches:   0%|          | 0/26 [00:00<?, ?it/s]\u001b[A\n",
      "Training Batches:   4%|▍         | 1/26 [00:02<00:57,  2.31s/it]\u001b[A\n",
      "Training Batches:   8%|▊         | 2/26 [00:02<00:27,  1.16s/it]\u001b[A\n",
      "Training Batches:  12%|█▏        | 3/26 [00:02<00:16,  1.43it/s]\u001b[A\n",
      "Training Batches:  15%|█▌        | 4/26 [00:03<00:11,  1.91it/s]\u001b[A\n",
      "Training Batches:  19%|█▉        | 5/26 [00:03<00:08,  2.37it/s]\u001b[A\n",
      "Training Batches:  23%|██▎       | 6/26 [00:03<00:06,  3.06it/s]\u001b[A\n",
      "Training Batches:  27%|██▋       | 7/26 [00:03<00:05,  3.52it/s]\u001b[A\n",
      "Training Batches:  31%|███       | 8/26 [00:03<00:04,  4.14it/s]\u001b[A\n",
      "Training Batches:  35%|███▍      | 9/26 [00:03<00:03,  4.70it/s]\u001b[A\n",
      "Training Batches:  38%|███▊      | 10/26 [00:04<00:03,  5.26it/s]\u001b[A\n",
      "Training Batches:  42%|████▏     | 11/26 [00:04<00:03,  4.80it/s]\u001b[A\n",
      "Training Batches:  54%|█████▍    | 14/26 [00:04<00:01,  7.46it/s]\u001b[A\n",
      "Training Batches:  58%|█████▊    | 15/26 [00:04<00:01,  6.34it/s]\u001b[A\n",
      "Training Batches:  62%|██████▏   | 16/26 [00:05<00:01,  5.92it/s]\u001b[A\n",
      "Training Batches:  65%|██████▌   | 17/26 [00:05<00:01,  6.17it/s]\u001b[A\n",
      "Training Batches:  69%|██████▉   | 18/26 [00:05<00:01,  6.32it/s]\u001b[A\n",
      "Training Batches:  73%|███████▎  | 19/26 [00:05<00:01,  6.51it/s]\u001b[A\n",
      "Training Batches:  77%|███████▋  | 20/26 [00:05<00:00,  6.75it/s]\u001b[A\n",
      "Training Batches: 100%|██████████| 26/26 [00:05<00:00,  4.52it/s]\u001b[A\n",
      "\n",
      "Eval Batches:   0%|          | 0/7 [00:00<?, ?it/s]\u001b[A\n",
      "Eval Batches:  14%|█▍        | 1/7 [00:00<00:04,  1.27it/s]\u001b[A\n",
      "Eval Batches:  29%|██▊       | 2/7 [00:00<00:02,  2.38it/s]\u001b[A\n",
      "Eval Batches:  43%|████▎     | 3/7 [00:01<00:01,  2.95it/s]\u001b[A\n",
      "Eval Batches:  57%|█████▋    | 4/7 [00:01<00:00,  3.96it/s]\u001b[A\n",
      "Eval Batches: 100%|██████████| 7/7 [00:01<00:00,  4.66it/s]\u001b[A\n"
     ]
    }
   ],
   "source": [
    "gs.fit(train_loader, valid_loader, number_epochs=10)"
   ]
  },
  {
   "cell_type": "code",
   "execution_count": 33,
   "id": "94690a70",
   "metadata": {},
   "outputs": [],
   "source": [
    "final_metrics = gs.trainer.get_eval_metrics()"
   ]
  },
  {
   "cell_type": "markdown",
   "id": "61b65881",
   "metadata": {},
   "source": [
    "### Model Evaluation\n",
    "The final evaluation metrics of the trained Graph Attention Network (GAN) are obtained and presented as a dictionary. The evaluation results include an **accuracy of 96.62%**, precision of 54.68%, and recall of 63.07%. Additionally, the confusion matrix showcases the number of true positive (152), false positive (126), true negative (5996), and false negative (89) instances. The calculated loss for the GAN is 26.59. These metrics provide insights into the GAN's performance in accurately classifying vertices in the graph and highlight the effectiveness of the model in handling imbalanced class distributions."
   ]
  },
  {
   "cell_type": "code",
   "execution_count": 34,
   "id": "9934ab2e",
   "metadata": {},
   "outputs": [
    {
     "data": {
      "text/plain": [
       "{'accuracy': 0.965815931941222,\n",
       " 'precision': 0.5034965034965035,\n",
       " 'recall': 0.6457399103139013,\n",
       " 'confusion_matrix':          predicted_0  predicted_1\n",
       " label_0       6100.0        142.0\n",
       " label_1         79.0        144.0,\n",
       " 'loss': 86.12905139582497}"
      ]
     },
     "execution_count": 34,
     "metadata": {},
     "output_type": "execute_result"
    }
   ],
   "source": [
    "final_metrics"
   ]
  },
  {
   "cell_type": "markdown",
   "id": "5ed9e841",
   "metadata": {},
   "source": [
    "Let's print the final evaluation metrics (accuracy, precision, and recall) for the Graph Attention Network (GNN) model, providing a clear and concise summary of its performance in vertex classification."
   ]
  },
  {
   "cell_type": "code",
   "execution_count": 35,
   "id": "da6f3e12",
   "metadata": {},
   "outputs": [
    {
     "name": "stdout",
     "output_type": "stream",
     "text": [
      "Accuracy 0.9658, Precision 0.5035, Recall 0.6457\n"
     ]
    }
   ],
   "source": [
    "# Print the final performance metric for the GNN model\n",
    "print(\"Accuracy {:.4f}, Precision {:.4f}, Recall {:.4f}\".format(\n",
    "    final_metrics[\"accuracy\"], final_metrics[\"precision\"], final_metrics[\"recall\"]))"
   ]
  },
  {
   "cell_type": "markdown",
   "id": "c6627357",
   "metadata": {},
   "source": [
    "### Visualize Results with Confusion Matrix\n",
    "\n",
    "We will create visual representation of the confusion matrix based on the evaluation metrics. The confusion matrix is displayed as a heatmap using the \"matshow\" function from Matplotlib, where different colors represent the number of true positive, false positive, true negative, and false negative instances. The values within the heatmap are annotated using \"text\" to show the exact counts of each class prediction. The plot is accompanied by labeled axes, and the title \"Confusion Matrix\" is added to provide a clear understanding of the model's performance in distinguishing between actual and predicted classes. The visualization of the confusion matrix aids in assessing the model's classification accuracy and identifying any potential misclassifications."
   ]
  },
  {
   "cell_type": "code",
   "execution_count": 36,
   "id": "eb808e12-3b6b-438a-9979-9edff9604f74",
   "metadata": {},
   "outputs": [
    {
     "data": {
      "image/png": "[encoded data removed]",
      "text/plain": [
       "<Figure size 750x750 with 1 Axes>"
      ]
     },
     "metadata": {},
     "output_type": "display_data"
    }
   ],
   "source": [
    "import matplotlib.pyplot as plt\n",
    "\n",
    "fig, ax = plt.subplots(figsize=(7.5, 7.5))\n",
    "ax.matshow(final_metrics[\"confusion_matrix\"], cmap=plt.cm.Blues, alpha=0.8)\n",
    "\n",
    "for i in range(final_metrics[\"confusion_matrix\"].shape[0]):\n",
    "    for j in range(final_metrics[\"confusion_matrix\"].shape[1]):\n",
    "        ax.text(x=j, y=i,s=final_metrics[\"confusion_matrix\"].values[i, j], va='center', ha='center', size='xx-large')\n",
    " \n",
    "plt.xlabel('Predictions', fontsize=18)\n",
    "plt.ylabel('Actuals', fontsize=18)\n",
    "plt.title('Confusion Matrix', fontsize=18)\n",
    "plt.show()"
   ]
  },
  {
   "cell_type": "markdown",
   "id": "ca51b8a6-d9d9-42a3-a0ca-e2d768106ef0",
   "metadata": {},
   "source": [
    "### Explain Model"
   ]
  },
  {
   "cell_type": "markdown",
   "id": "50c74381-2354-4521-8c62-2ac212c7806d",
   "metadata": {},
   "source": [
    "Let's sample a random vertex that the model predicts to be fraudulent and retrieve the data representing the subgraph surrounding that vertex. The data is fetched from the \"train_loader\" using the \"fetch\" method with specific attributes, such as the vertex type \"Account\" and the primary ID \"0x5093c4029acab3aff80140023099f5ec6ca7d52f.\" This process allows for a closer examination of the subgraph and gaining insights into the model's predictions and the underlying patterns associated with fraudulent vertices."
   ]
  },
  {
   "cell_type": "code",
   "execution_count": 37,
   "id": "f30d0260",
   "metadata": {},
   "outputs": [],
   "source": [
    "from torch_geometric.explain import Explainer, GNNExplainer\n",
    "\n",
    "data = train_loader.fetch([{\"type\": \"Account\", \"primary_id\": \"0x5093c4029acab3aff80140023099f5ec6ca7d52f\"}])\n",
    "\n",
    "explainer = Explainer(\n",
    "    model=gs.model,\n",
    "    algorithm=GNNExplainer(epochs=200),\n",
    "    explanation_type='model',\n",
    "    node_mask_type='attributes',\n",
    "    edge_mask_type='object',\n",
    "    model_config=dict(\n",
    "        mode='binary_classification',\n",
    "        task_level='node',\n",
    "        return_type='raw',  # Model returns log probabilities.\n",
    "    ),\n",
    ")"
   ]
  },
  {
   "cell_type": "code",
   "execution_count": 38,
   "id": "c5d43b55",
   "metadata": {},
   "outputs": [
    {
     "data": {
      "text/plain": [
       "Data(edge_index=[2, 16], x=[17, 8], y=[17], is_training=[17], is_validation=[17], is_seed=[17], primary_id=[17])"
      ]
     },
     "execution_count": 38,
     "metadata": {},
     "output_type": "execute_result"
    }
   ],
   "source": [
    "data"
   ]
  },
  {
   "cell_type": "markdown",
   "id": "6a4454f0",
   "metadata": {},
   "source": [
    "Next let's us an \"explainer\" object to generate explanations for a Graph Attention Network (GAN) model's predictions in vertex classification. It visualizes the feature importance scores of the input features and creates a graphical representation of the subgraph around a sampled vertex to gain insights into the model's decision-making process. The explanations help in understanding critical features and validating the model's performance."
   ]
  },
  {
   "cell_type": "code",
   "execution_count": 39,
   "id": "ca99a6f0",
   "metadata": {},
   "outputs": [
    {
     "data": {
      "image/png": "[encoded data removed]",
      "text/plain": [
       "<Figure size 1000x700 with 1 Axes>"
      ]
     },
     "metadata": {},
     "output_type": "display_data"
    },
    {
     "data": {
      "image/png": "[encoded data removed]",
      "text/plain": [
       "<Figure size 640x480 with 1 Axes>"
      ]
     },
     "metadata": {},
     "output_type": "display_data"
    }
   ],
   "source": [
    "explanation = explainer(data.x.float(), data.edge_index)\n",
    "\n",
    "explanation.visualize_feature_importance(top_k=len(train_loader.v_in_feats), feat_labels=train_loader.v_in_feats)\n",
    "\n",
    "explanation.visualize_graph()"
   ]
  },
  {
   "cell_type": "markdown",
   "id": "7d8427d8-2d10-427c-aaea-fc8c602d54a5",
   "metadata": {},
   "source": [
    "## Conclusion"
   ]
  },
  {
   "cell_type": "markdown",
   "id": "2066e580-428f-4f80-a7ef-cd06f5c226b5",
   "metadata": {},
   "source": [
    "* Graph features significantly enhance the performance of traditional ML models, as observed in the XGBoost example, where PageRank and the size of the connected components emerge as important features for classification.\n",
    "* The Graph Attention Network (GAT) outperforms XGBoost in terms of accuracy and precision, demonstrating its superiority in vertex classification tasks.\n",
    "* Although GAT achieves slightly lower recall compared to XGBoost, it still maintains a good level of performance, making it a promising choice for various graph-related applications, particularly in scenarios with imbalanced class distributions.\n",
    "\n",
    "### Accuracy Improvement\n",
    "The machine learning model performance shows significant improvements when incorporating graph features and advanced techniques. Comparing the different models, the XGBoost model with graph features demonstrates a notable accuracy increase from 0.7737 **(77.37% accuracy)** to 0.9145 **(91.45% accuracy)**, while the addition of FastRP embeddings further boosts the accuracy to 0.9426 **(94.26% accuracy)**. However, the Graph Neural Network (GNN) model with GraphSAGE surpasses all XGBoost variations, achieving an impressive accuracy of 0.9658 **(96.58% accuracy)**. Although the GNN model shows slightly lower recall compared to some XGBoost variants, its overall performance, especially in accuracy and precision, makes it a superior choice for vertex classification tasks involving complex graph data. The results underscore the benefits of leveraging graph features and GNNs to achieve more accurate and sophisticated predictions in graph-based machine learning tasks."
   ]
  },
  {
   "cell_type": "code",
   "execution_count": 40,
   "id": "f799aeb3-5799-432d-a9b8-e19ccaddc42f",
   "metadata": {},
   "outputs": [
    {
     "data": {
      "text/plain": [
       "Text(0.5, 0, 'Metric value')"
      ]
     },
     "execution_count": 40,
     "metadata": {},
     "output_type": "execute_result"
    },
    {
     "data": {
      "image/png": "[encoded data removed]",
      "text/plain": [
       "<Figure size 640x480 with 1 Axes>"
      ]
     },
     "metadata": {},
     "output_type": "display_data"
    }
   ],
   "source": [
    "tick_labels = [\"Accuracy\", \"Precision\", \"Recall\"]\n",
    "x_tree_base = [metrics['acc_tree_base'][-1], metrics['prec_tree_base'][-1], metrics['rec_tree_base'][-1]]\n",
    "x_tree_graph = [metrics['acc_tree_graph'][-1], metrics['prec_tree_graph'][-1], metrics['rec_tree_graph'][-1]]\n",
    "x_gat = [final_metrics['accuracy'], final_metrics['precision'], final_metrics['recall']]\n",
    "x_fastrp_tree = [metrics['acc_fastrp_tree'][-1], metrics['prec_fastrp_tree'][-1], metrics['rec_fastrp_tree'][-1]]\n",
    "y = np.arange(len(tick_labels))\n",
    "bar_width = 0.2\n",
    "plt.barh(y-bar_width*1.5, x_tree_base, bar_width, label=\"Baseline\")\n",
    "plt.barh(y-bar_width/2, x_tree_graph, bar_width, label=\"+Graph features\")\n",
    "plt.barh(y+bar_width/2, x_fastrp_tree, bar_width, label=\"+FastRP\")\n",
    "plt.barh(y+bar_width*1.5, x_gat, bar_width, label=\"GAT\")\n",
    "plt.yticks(y, tick_labels)\n",
    "plt.legend()\n",
    "plt.gca().invert_yaxis()\n",
    "plt.xlabel(\"Metric value\")"
   ]
  },
  {
   "cell_type": "code",
   "execution_count": null,
   "id": "077cd5d6-e8e8-4b21-997c-9afc82db096f",
   "metadata": {},
   "outputs": [],
   "source": []
  }
 ],
 "metadata": {
  "kernelspec": {
   "display_name": "PyTorch",
   "language": "python",
   "name": "python3"
  },
  "language_info": {
   "codemirror_mode": {
    "name": "ipython",
    "version": 3
   },
   "file_extension": ".py",
   "mimetype": "text/x-python",
   "name": "python",
   "nbconvert_exporter": "python",
   "pygments_lexer": "ipython3",
   "version": "3.9.16"
  },
  "vscode": {
   "interpreter": {
    "hash": "1c3872f25492526ae0a7ed66aa11b82cc2d33aacfd3b6e5e18da7e09a4c57038"
   }
  }
 },
 "nbformat": 4,
 "nbformat_minor": 5
}
