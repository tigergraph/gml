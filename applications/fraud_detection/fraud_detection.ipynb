{
 "cells": [
  {
   "cell_type": "markdown",
   "id": "4cbb8325-7d5b-4e6d-aaf9-040961c7fa4b",
   "metadata": {
    "tags": []
   },
   "source": [
    "# Fraud Detection with Ethereum Data"
   ]
  },
  {
   "cell_type": "markdown",
   "id": "2cdc9404-be58-401a-be8a-3dca48822d65",
   "metadata": {},
   "source": [
    "This tutorial demonstrates how to predict fraudulent accounts on a transaction network between the accounts. It uses the `featurizer` in [pyTigerGraph](https://docs.tigergraph.com/pytigergraph/current/intro/) to engineer graph features from the transaction graph, the data loaders in pyTigerGraph to pull data from the TigerGraph database, [xgboost](https://xgboost.readthedocs.io/en/stable/) to build a gradient boost tree model, and [PyTorch Geometric](https://pytorch-geometric.readthedocs.io/en/latest/) to build GNN models.\n",
    "\n",
    "The data used here are transactions on the Ethereum platform, which comprise a transaction graph of Ether, the second largest cryptocurrency.  Vertices in the graph are wallets (i.e., accounts) on the platform, and edges are transactiosn between the accounts. See below for the schema of this graph. There are 32,168 vertices and 84,088 edges. The dataset is derived from the public Ethereum dataset from [XBlock](https://xblock.pro/ethereum#/dataset/13)."
   ]
  },
  {
   "attachments": {
    "9c0f76a9-4487-440f-98f6-4939b74c072a.png": {
     "image/png": "[encoded data removed]"
    }
   },
   "cell_type": "markdown",
   "id": "5cc7ea94-f530-41db-aa99-3f90cc753305",
   "metadata": {},
   "source": [
    "![image.png](attachment:9c0f76a9-4487-440f-98f6-4939b74c072a.png)"
   ]
  },
  {
   "cell_type": "markdown",
   "id": "04540b95-974e-430c-9198-4ade723999c2",
   "metadata": {},
   "source": [
    "Conclusion\n",
    "1. Graph features boost traditional ML model performance. PageRank has the high feature importance score in the xgboost example above.\n",
    "1. GAT achieves higher accuracy and precision than xgboost.  \n",
    "2. GAT achieves slightly lower but still good recall compared to xgboost."
   ]
  },
  {
   "cell_type": "markdown",
   "id": "ba321ab4-50db-4e5d-a177-44714142b6f5",
   "metadata": {},
   "source": [
    "## Database Preparation\n",
    "\n",
    "The `TigerGraphConnection` class represents a connection to the TigerGraph database. Under the hood, it stores the necessary information to communicate with the database. It is able to perform quite a few database tasks. Please see its [documentation](https://docs.tigergraph.com/pytigergraph/current/intro/) for details.\n",
    "\n",
    "To connect your database, modify the `config.json` file accompanying this notebook. Set the value of `getToken` based on whether token auth is enabled for your database. Token auth is always enabled for tgcloud databases."
   ]
  },
  {
   "cell_type": "code",
   "execution_count": 2,
   "id": "21d25e93-beaa-4b28-aa49-1e96f3f9a667",
   "metadata": {},
   "outputs": [],
   "source": [
    "from pyTigerGraph import TigerGraphConnection\n",
    "import json\n",
    "\n",
    "# Read in DB configs\n",
    "with open('../../config.json', \"r\") as config_file:\n",
    "    config = json.load(config_file)\n",
    "    \n",
    "conn = TigerGraphConnection(\n",
    "    host=config[\"host\"],\n",
    "    username=config[\"username\"],\n",
    "    password=config[\"password\"]\n",
    ")"
   ]
  },
  {
   "cell_type": "markdown",
   "id": "d84e1c1d",
   "metadata": {},
   "source": [
    "Download Ethereum dataset and ingest it to the database."
   ]
  },
  {
   "cell_type": "code",
   "execution_count": 3,
   "id": "abb4d783",
   "metadata": {},
   "outputs": [
    {
     "name": "stdout",
     "output_type": "stream",
     "text": [
      "A folder with name Ethereum already exists in ./tmp. Skip downloading.\n",
      "---- Checking database ----\n",
      "A graph with name Ethereum already exists in the database. Skip ingestion.\n",
      "Graph name is set to Ethereum for this connection.\n"
     ]
    }
   ],
   "source": [
    "from pyTigerGraph.datasets import Datasets\n",
    "\n",
    "dataset = Datasets(\"Ethereum\")\n",
    "\n",
    "conn.ingestDataset(dataset, getToken=config[\"getToken\"])"
   ]
  },
  {
   "cell_type": "markdown",
   "id": "925034ad-9181-45d6-a7fd-4c5b04fbe633",
   "metadata": {},
   "source": [
    "Visualize schema"
   ]
  },
  {
   "cell_type": "code",
   "execution_count": 4,
   "id": "35b90386-358d-44e2-988f-9b78d0fd9bbe",
   "metadata": {},
   "outputs": [
    {
     "data": {
      "application/vnd.jupyter.widget-view+json": {
       "model_id": "ad73e54483554a5f9559976876091246",
       "version_major": 2,
       "version_minor": 0
      },
      "text/plain": [
       "CytoscapeWidget(cytoscape_layout={'name': 'circle', 'animate': True, 'padding': 1}, cytoscape_style=[{'selecto…"
      ]
     },
     "execution_count": 4,
     "metadata": {},
     "output_type": "execute_result"
    }
   ],
   "source": [
    "from pyTigerGraph.visualization import drawSchema\n",
    "\n",
    "drawSchema(conn.getSchema(force=True))"
   ]
  },
  {
   "cell_type": "markdown",
   "id": "af206419-7b1b-4ca6-bb16-b5fbe8d589a1",
   "metadata": {},
   "source": [
    "## Graph Feature Engineering"
   ]
  },
  {
   "cell_type": "markdown",
   "id": "c69ad849-cb1c-47fc-a9fe-51590a006c45",
   "metadata": {},
   "source": [
    "The [featurizer](https://docs.tigergraph.com/pytigergraph/current/gds/featurizer) in pyTigerGraph contains 30+ graph algorithms for calculating graph features. You can also use your own graph queries with it. Here we use the built-in pagerank and FastRP algorithms as well as write our own queries for customized features."
   ]
  },
  {
   "cell_type": "code",
   "execution_count": 5,
   "id": "f5d8a995-6d20-4bdc-a985-b68730abc2d7",
   "metadata": {},
   "outputs": [],
   "source": [
    "f = conn.gds.featurizer()"
   ]
  },
  {
   "cell_type": "markdown",
   "id": "bed10d38-a617-419d-994f-6d98c7d43258",
   "metadata": {},
   "source": [
    "### PageRank"
   ]
  },
  {
   "cell_type": "code",
   "execution_count": 6,
   "id": "b2fc73a9-fc10-494f-9c75-59b0dcc80474",
   "metadata": {},
   "outputs": [
    {
     "data": {
      "text/html": [
       "<div>\n",
       "<style scoped>\n",
       "    .dataframe tbody tr th:only-of-type {\n",
       "        vertical-align: middle;\n",
       "    }\n",
       "\n",
       "    .dataframe tbody tr th {\n",
       "        vertical-align: top;\n",
       "    }\n",
       "\n",
       "    .dataframe thead th {\n",
       "        text-align: right;\n",
       "    }\n",
       "</style>\n",
       "<table border=\"1\" class=\"dataframe\">\n",
       "  <thead>\n",
       "    <tr style=\"text-align: right;\">\n",
       "      <th></th>\n",
       "      <th>Vertex_ID</th>\n",
       "      <th>score</th>\n",
       "    </tr>\n",
       "  </thead>\n",
       "  <tbody>\n",
       "    <tr>\n",
       "      <th>0</th>\n",
       "      <td>0x903bb9cd3a276d8f18fa6efed49b9bc52ccf06e5</td>\n",
       "      <td>741.66101</td>\n",
       "    </tr>\n",
       "    <tr>\n",
       "      <th>1</th>\n",
       "      <td>0x47779ea9849c7eec04197b21f9554931b8fcd5f4</td>\n",
       "      <td>607.41815</td>\n",
       "    </tr>\n",
       "    <tr>\n",
       "      <th>2</th>\n",
       "      <td>0xbfa82fbe0e66d8e2b7dcc16328db9ecd70533d13</td>\n",
       "      <td>212.12238</td>\n",
       "    </tr>\n",
       "    <tr>\n",
       "      <th>3</th>\n",
       "      <td>0x3cbd2e6143f057bd49ffb4c7058217a5900c35d3</td>\n",
       "      <td>179.57887</td>\n",
       "    </tr>\n",
       "    <tr>\n",
       "      <th>4</th>\n",
       "      <td>0x5df65e16d6ec1a8090ffa11c8185ad372a8786cd</td>\n",
       "      <td>173.81029</td>\n",
       "    </tr>\n",
       "  </tbody>\n",
       "</table>\n",
       "</div>"
      ],
      "text/plain": [
       "                                    Vertex_ID      score\n",
       "0  0x903bb9cd3a276d8f18fa6efed49b9bc52ccf06e5  741.66101\n",
       "1  0x47779ea9849c7eec04197b21f9554931b8fcd5f4  607.41815\n",
       "2  0xbfa82fbe0e66d8e2b7dcc16328db9ecd70533d13  212.12238\n",
       "3  0x3cbd2e6143f057bd49ffb4c7058217a5900c35d3  179.57887\n",
       "4  0x5df65e16d6ec1a8090ffa11c8185ad372a8786cd  173.81029"
      ]
     },
     "execution_count": 6,
     "metadata": {},
     "output_type": "execute_result"
    }
   ],
   "source": [
    "import pandas as pd\n",
    "\n",
    "tg_pagerank_params = {\n",
    "  \"v_type\": \"Account\",\n",
    "  \"e_type\": \"Transaction\",\n",
    "  \"result_attribute\": \"pagerank\",\n",
    "  \"top_k\":5  \n",
    "}\n",
    "results = f.runAlgorithm(\"tg_pagerank\", tg_pagerank_params)\n",
    "\n",
    "pd.json_normalize(results[0]['@@top_scores_heap'])"
   ]
  },
  {
   "cell_type": "markdown",
   "id": "5fb9766e-3304-4d85-b8fa-a9a5327309ce",
   "metadata": {},
   "source": [
    "### Degree Features"
   ]
  },
  {
   "cell_type": "code",
   "execution_count": 7,
   "id": "8faf664a-2d7a-4246-b67e-aaf9ff213727",
   "metadata": {},
   "outputs": [
    {
     "data": {
      "text/plain": [
       "[{'Status': 'Degrees computed Successfully'}]"
      ]
     },
     "execution_count": 7,
     "metadata": {},
     "output_type": "execute_result"
    }
   ],
   "source": [
    "f.installAlgorithm(\"degrees\", query_path=\"./gsql/degrees.gsql\")\n",
    "\n",
    "f.runAlgorithm(\"degrees\", custom_query=True)"
   ]
  },
  {
   "cell_type": "markdown",
   "id": "661ee45d-9ac8-47c5-89da-011da456ec58",
   "metadata": {},
   "source": [
    "### Amount Features"
   ]
  },
  {
   "cell_type": "code",
   "execution_count": 8,
   "id": "f0cb6260-6b61-46fe-85de-86e6597fc35f",
   "metadata": {},
   "outputs": [
    {
     "data": {
      "text/plain": [
       "[{'Status': 'Amounts computed successfully'}]"
      ]
     },
     "execution_count": 8,
     "metadata": {},
     "output_type": "execute_result"
    }
   ],
   "source": [
    "f.installAlgorithm(\"amounts\", query_path=\"./gsql/amounts.gsql\")\n",
    "\n",
    "f.runAlgorithm(\"amounts\", custom_query=True)"
   ]
  },
  {
   "cell_type": "markdown",
   "id": "8e972b4f",
   "metadata": {},
   "source": [
    "### FastRP Embeddings"
   ]
  },
  {
   "cell_type": "code",
   "execution_count": 9,
   "id": "12299281-6a94-48f7-a33d-67f88d16c83b",
   "metadata": {},
   "outputs": [
    {
     "data": {
      "text/plain": [
       "[{'@@embedding_dim_map': {'default': {'min_dim': 0,\n",
       "    'max_dim': 128,\n",
       "    'weight': 1}}},\n",
       " {'sample_verts': []}]"
      ]
     },
     "execution_count": 9,
     "metadata": {},
     "output_type": "execute_result"
    }
   ],
   "source": [
    "params={\"v_type\": [\"Account\"],\n",
    "        \"e_type\": [\"Transaction\", \"reverse_Transaction\"],\n",
    "        \"output_v_type\": [\"Account\"],\n",
    "        \"iteration_weights\": \"1,2,4\",\n",
    "        \"beta\": -0.1,\n",
    "        \"embedding_dimension\": 128,\n",
    "        \"embedding_dim_map\": [],\n",
    "        \"default_length\": 128,\n",
    "        \"sampling_constant\": 3,\n",
    "        \"random_seed\": 42,\n",
    "        \"component_attribute\": \"\",\n",
    "        \"result_attribute\": \"embedding\",\n",
    "        \"choose_k\": 0}\n",
    "\n",
    "f.runAlgorithm(\"tg_fastRP\", params=params)"
   ]
  },
  {
   "cell_type": "markdown",
   "id": "41029516-5e7b-41cf-925c-a1034319c118",
   "metadata": {},
   "source": [
    "### Check Labels"
   ]
  },
  {
   "cell_type": "code",
   "execution_count": 10,
   "id": "f95353ec-a52b-43f1-b916-4750f544429a",
   "metadata": {},
   "outputs": [
    {
     "name": "stdout",
     "output_type": "stream",
     "text": [
      "Fraud accounts: 1165 (3.62%%)\n",
      "Normal accounts: 31003 (96.38%%)\n"
     ]
    }
   ],
   "source": [
    "frauds = conn.getVertexCount(\"Account\", \"is_fraud = 1\") \n",
    "nonfrauds = conn.getVertexCount(\"Account\", \"is_fraud = 0\") \n",
    "print(\"Fraud accounts: {} ({:.2f}%%)\".format(frauds, frauds/(frauds+nonfrauds)*100))\n",
    "print(\"Normal accounts: {} ({:.2f}%%)\".format(nonfrauds, nonfrauds/(frauds+nonfrauds)*100))"
   ]
  },
  {
   "cell_type": "markdown",
   "id": "1e614112-f187-43b9-a4ce-bf7b0853ea51",
   "metadata": {},
   "source": [
    "## Traditional ML with Graph Features"
   ]
  },
  {
   "cell_type": "markdown",
   "id": "6c65c3b5-ceb4-431d-891b-b479419c6e62",
   "metadata": {},
   "source": [
    "### Train/Test Split"
   ]
  },
  {
   "cell_type": "code",
   "execution_count": 11,
   "id": "b7fad407-8ce1-4b0d-b5a2-448d0f861e34",
   "metadata": {},
   "outputs": [],
   "source": [
    "split = conn.gds.vertexSplitter(is_training=0.8, is_validation=0.2)"
   ]
  },
  {
   "cell_type": "code",
   "execution_count": 12,
   "id": "aded6448-a0e4-432c-9366-6e11d7210a18",
   "metadata": {},
   "outputs": [
    {
     "name": "stdout",
     "output_type": "stream",
     "text": [
      "Splitting vertices...\n",
      "Vertex split finished successfully.\n"
     ]
    }
   ],
   "source": [
    "split.run()"
   ]
  },
  {
   "cell_type": "markdown",
   "id": "4661b7e8-479f-48dd-b299-e93cbcb8c68f",
   "metadata": {},
   "source": [
    "### Load data"
   ]
  },
  {
   "cell_type": "markdown",
   "id": "34961d9d-1e92-43c4-b318-f49ae649c8b3",
   "metadata": {},
   "source": [
    "Create Vertex Loaders"
   ]
  },
  {
   "cell_type": "code",
   "execution_count": 1,
   "id": "b8cf8c49-17c6-414a-905d-c76a8b6e9fdd",
   "metadata": {},
   "outputs": [],
   "source": [
    "import numpy as np\n",
    "\n",
    "def process_embedding(df):\n",
    "    def helper(x):\n",
    "        try:  # some unconnected vertices will not have a valid embedding, fill with 0s if that is the case.\n",
    "            return np.array(x[\"embedding\"].split(\" \")[:-1], dtype=np.float64)\n",
    "        except:\n",
    "            return np.zeros(128)\n",
    "    df[\"embedding\"] = df.apply(lambda x: helper(x), axis=1)\n",
    "    emb_df = pd.DataFrame(df[\"embedding\"].tolist()).add_prefix(\"emb\")\n",
    "    df.drop(columns=[\"embedding\"], inplace=True)\n",
    "    df = df.join(emb_df)\n",
    "    return df"
   ]
  },
  {
   "cell_type": "code",
   "execution_count": 14,
   "id": "e0b6895e-78eb-40e3-9e41-8774cf5c58df",
   "metadata": {},
   "outputs": [],
   "source": [
    "train_loader = conn.gds.vertexLoader(\n",
    "    attributes=[\"in_degree\",\"out_degree\",\"send_amount\",\"send_min\",\n",
    "                \"recv_amount\",\"recv_min\",\"pagerank\", \"is_fraud\", \"embedding\"],\n",
    "    num_batches=1,\n",
    "    filter_by=\"is_training\",\n",
    "    callback_fn = lambda x: process_embedding(x)\n",
    ")"
   ]
  },
  {
   "cell_type": "code",
   "execution_count": 15,
   "id": "41299632-b660-49e6-98a5-f6536733757c",
   "metadata": {},
   "outputs": [],
   "source": [
    "valid_loader = conn.gds.vertexLoader(\n",
    "    attributes=[\"in_degree\",\"out_degree\",\"send_amount\",\"send_min\",\n",
    "                \"recv_amount\",\"recv_min\",\"pagerank\", \"is_fraud\", \"embedding\"],\n",
    "    num_batches=1,\n",
    "    filter_by=\"is_validation\",\n",
    "    callback_fn = lambda x: process_embedding(x)\n",
    ")"
   ]
  },
  {
   "cell_type": "markdown",
   "id": "8484d20a-e7bf-44bd-bce6-e063d14b7d75",
   "metadata": {},
   "source": [
    "Get train/valid data"
   ]
  },
  {
   "cell_type": "code",
   "execution_count": 16,
   "id": "20da4479-e3bd-42af-bff6-77bb14ed9fe3",
   "metadata": {},
   "outputs": [
    {
     "data": {
      "text/html": [
       "<div>\n",
       "<style scoped>\n",
       "    .dataframe tbody tr th:only-of-type {\n",
       "        vertical-align: middle;\n",
       "    }\n",
       "\n",
       "    .dataframe tbody tr th {\n",
       "        vertical-align: top;\n",
       "    }\n",
       "\n",
       "    .dataframe thead th {\n",
       "        text-align: right;\n",
       "    }\n",
       "</style>\n",
       "<table border=\"1\" class=\"dataframe\">\n",
       "  <thead>\n",
       "    <tr style=\"text-align: right;\">\n",
       "      <th></th>\n",
       "      <th>vid</th>\n",
       "      <th>in_degree</th>\n",
       "      <th>out_degree</th>\n",
       "      <th>send_amount</th>\n",
       "      <th>send_min</th>\n",
       "      <th>recv_amount</th>\n",
       "      <th>recv_min</th>\n",
       "      <th>pagerank</th>\n",
       "      <th>is_fraud</th>\n",
       "      <th>emb0</th>\n",
       "      <th>...</th>\n",
       "      <th>emb118</th>\n",
       "      <th>emb119</th>\n",
       "      <th>emb120</th>\n",
       "      <th>emb121</th>\n",
       "      <th>emb122</th>\n",
       "      <th>emb123</th>\n",
       "      <th>emb124</th>\n",
       "      <th>emb125</th>\n",
       "      <th>emb126</th>\n",
       "      <th>emb127</th>\n",
       "    </tr>\n",
       "  </thead>\n",
       "  <tbody>\n",
       "    <tr>\n",
       "      <th>0</th>\n",
       "      <td>234881025</td>\n",
       "      <td>8</td>\n",
       "      <td>1</td>\n",
       "      <td>0.19912</td>\n",
       "      <td>0.19912</td>\n",
       "      <td>0.71332</td>\n",
       "      <td>0.00426</td>\n",
       "      <td>1.051000</td>\n",
       "      <td>1</td>\n",
       "      <td>-0.047130</td>\n",
       "      <td>...</td>\n",
       "      <td>0.045751</td>\n",
       "      <td>0.009796</td>\n",
       "      <td>0.246114</td>\n",
       "      <td>0.135275</td>\n",
       "      <td>0.188289</td>\n",
       "      <td>0.145758</td>\n",
       "      <td>0.163340</td>\n",
       "      <td>-0.540732</td>\n",
       "      <td>-0.009876</td>\n",
       "      <td>0.114094</td>\n",
       "    </tr>\n",
       "    <tr>\n",
       "      <th>1</th>\n",
       "      <td>234881026</td>\n",
       "      <td>5</td>\n",
       "      <td>2</td>\n",
       "      <td>10.69120</td>\n",
       "      <td>3.69118</td>\n",
       "      <td>9.99248</td>\n",
       "      <td>0.50000</td>\n",
       "      <td>0.667945</td>\n",
       "      <td>1</td>\n",
       "      <td>-0.056560</td>\n",
       "      <td>...</td>\n",
       "      <td>-0.335258</td>\n",
       "      <td>-0.067109</td>\n",
       "      <td>-0.294415</td>\n",
       "      <td>-0.028373</td>\n",
       "      <td>-0.181596</td>\n",
       "      <td>-0.340700</td>\n",
       "      <td>0.238586</td>\n",
       "      <td>-0.199453</td>\n",
       "      <td>-0.000079</td>\n",
       "      <td>0.008715</td>\n",
       "    </tr>\n",
       "    <tr>\n",
       "      <th>2</th>\n",
       "      <td>234881027</td>\n",
       "      <td>9</td>\n",
       "      <td>2</td>\n",
       "      <td>10.77360</td>\n",
       "      <td>3.77460</td>\n",
       "      <td>10.67570</td>\n",
       "      <td>0.04306</td>\n",
       "      <td>0.985464</td>\n",
       "      <td>1</td>\n",
       "      <td>0.174347</td>\n",
       "      <td>...</td>\n",
       "      <td>-0.112702</td>\n",
       "      <td>-0.049264</td>\n",
       "      <td>0.064580</td>\n",
       "      <td>0.165827</td>\n",
       "      <td>-0.235902</td>\n",
       "      <td>-0.225494</td>\n",
       "      <td>-0.329536</td>\n",
       "      <td>-0.065534</td>\n",
       "      <td>-0.223186</td>\n",
       "      <td>0.042215</td>\n",
       "    </tr>\n",
       "    <tr>\n",
       "      <th>3</th>\n",
       "      <td>234881028</td>\n",
       "      <td>10</td>\n",
       "      <td>9</td>\n",
       "      <td>441.30000</td>\n",
       "      <td>0.05000</td>\n",
       "      <td>188.48900</td>\n",
       "      <td>0.37828</td>\n",
       "      <td>0.867988</td>\n",
       "      <td>1</td>\n",
       "      <td>0.170441</td>\n",
       "      <td>...</td>\n",
       "      <td>0.166607</td>\n",
       "      <td>-0.230478</td>\n",
       "      <td>0.456073</td>\n",
       "      <td>0.023082</td>\n",
       "      <td>0.065435</td>\n",
       "      <td>0.134760</td>\n",
       "      <td>-0.182918</td>\n",
       "      <td>0.130709</td>\n",
       "      <td>0.204439</td>\n",
       "      <td>0.003432</td>\n",
       "    </tr>\n",
       "    <tr>\n",
       "      <th>4</th>\n",
       "      <td>234881029</td>\n",
       "      <td>1</td>\n",
       "      <td>1</td>\n",
       "      <td>6.99000</td>\n",
       "      <td>6.99000</td>\n",
       "      <td>7.00000</td>\n",
       "      <td>7.00000</td>\n",
       "      <td>0.277500</td>\n",
       "      <td>1</td>\n",
       "      <td>0.000000</td>\n",
       "      <td>...</td>\n",
       "      <td>0.190411</td>\n",
       "      <td>0.190411</td>\n",
       "      <td>0.060774</td>\n",
       "      <td>0.000000</td>\n",
       "      <td>0.060774</td>\n",
       "      <td>0.000000</td>\n",
       "      <td>-0.190411</td>\n",
       "      <td>0.251185</td>\n",
       "      <td>0.000000</td>\n",
       "      <td>-0.251185</td>\n",
       "    </tr>\n",
       "  </tbody>\n",
       "</table>\n",
       "<p>5 rows × 137 columns</p>\n",
       "</div>"
      ],
      "text/plain": [
       "         vid  in_degree  out_degree  send_amount  send_min  recv_amount  \\\n",
       "0  234881025          8           1      0.19912   0.19912      0.71332   \n",
       "1  234881026          5           2     10.69120   3.69118      9.99248   \n",
       "2  234881027          9           2     10.77360   3.77460     10.67570   \n",
       "3  234881028         10           9    441.30000   0.05000    188.48900   \n",
       "4  234881029          1           1      6.99000   6.99000      7.00000   \n",
       "\n",
       "   recv_min  pagerank  is_fraud      emb0  ...    emb118    emb119    emb120  \\\n",
       "0   0.00426  1.051000         1 -0.047130  ...  0.045751  0.009796  0.246114   \n",
       "1   0.50000  0.667945         1 -0.056560  ... -0.335258 -0.067109 -0.294415   \n",
       "2   0.04306  0.985464         1  0.174347  ... -0.112702 -0.049264  0.064580   \n",
       "3   0.37828  0.867988         1  0.170441  ...  0.166607 -0.230478  0.456073   \n",
       "4   7.00000  0.277500         1  0.000000  ...  0.190411  0.190411  0.060774   \n",
       "\n",
       "     emb121    emb122    emb123    emb124    emb125    emb126    emb127  \n",
       "0  0.135275  0.188289  0.145758  0.163340 -0.540732 -0.009876  0.114094  \n",
       "1 -0.028373 -0.181596 -0.340700  0.238586 -0.199453 -0.000079  0.008715  \n",
       "2  0.165827 -0.235902 -0.225494 -0.329536 -0.065534 -0.223186  0.042215  \n",
       "3  0.023082  0.065435  0.134760 -0.182918  0.130709  0.204439  0.003432  \n",
       "4  0.000000  0.060774  0.000000 -0.190411  0.251185  0.000000 -0.251185  \n",
       "\n",
       "[5 rows x 137 columns]"
      ]
     },
     "execution_count": 16,
     "metadata": {},
     "output_type": "execute_result"
    }
   ],
   "source": [
    "train_data = train_loader.data\n",
    "train_data.head()"
   ]
  },
  {
   "cell_type": "code",
   "execution_count": 17,
   "id": "cb619e88-3c61-4d51-9da8-21e223dbb8ba",
   "metadata": {},
   "outputs": [
    {
     "data": {
      "text/html": [
       "<div>\n",
       "<style scoped>\n",
       "    .dataframe tbody tr th:only-of-type {\n",
       "        vertical-align: middle;\n",
       "    }\n",
       "\n",
       "    .dataframe tbody tr th {\n",
       "        vertical-align: top;\n",
       "    }\n",
       "\n",
       "    .dataframe thead th {\n",
       "        text-align: right;\n",
       "    }\n",
       "</style>\n",
       "<table border=\"1\" class=\"dataframe\">\n",
       "  <thead>\n",
       "    <tr style=\"text-align: right;\">\n",
       "      <th></th>\n",
       "      <th>vid</th>\n",
       "      <th>in_degree</th>\n",
       "      <th>out_degree</th>\n",
       "      <th>send_amount</th>\n",
       "      <th>send_min</th>\n",
       "      <th>recv_amount</th>\n",
       "      <th>recv_min</th>\n",
       "      <th>pagerank</th>\n",
       "      <th>is_fraud</th>\n",
       "      <th>emb0</th>\n",
       "      <th>...</th>\n",
       "      <th>emb118</th>\n",
       "      <th>emb119</th>\n",
       "      <th>emb120</th>\n",
       "      <th>emb121</th>\n",
       "      <th>emb122</th>\n",
       "      <th>emb123</th>\n",
       "      <th>emb124</th>\n",
       "      <th>emb125</th>\n",
       "      <th>emb126</th>\n",
       "      <th>emb127</th>\n",
       "    </tr>\n",
       "  </thead>\n",
       "  <tbody>\n",
       "    <tr>\n",
       "      <th>0</th>\n",
       "      <td>234881024</td>\n",
       "      <td>1</td>\n",
       "      <td>1</td>\n",
       "      <td>0.51914</td>\n",
       "      <td>0.51914</td>\n",
       "      <td>0.52000</td>\n",
       "      <td>0.52000</td>\n",
       "      <td>0.155100</td>\n",
       "      <td>1</td>\n",
       "      <td>-0.107753</td>\n",
       "      <td>...</td>\n",
       "      <td>-0.374269</td>\n",
       "      <td>-0.144818</td>\n",
       "      <td>-0.134207</td>\n",
       "      <td>-0.160478</td>\n",
       "      <td>-0.024463</td>\n",
       "      <td>0.171150</td>\n",
       "      <td>0.311766</td>\n",
       "      <td>0.307944</td>\n",
       "      <td>-0.247571</td>\n",
       "      <td>0.189567</td>\n",
       "    </tr>\n",
       "    <tr>\n",
       "      <th>1</th>\n",
       "      <td>234881033</td>\n",
       "      <td>9</td>\n",
       "      <td>6</td>\n",
       "      <td>31.68790</td>\n",
       "      <td>0.07000</td>\n",
       "      <td>24.90020</td>\n",
       "      <td>0.07000</td>\n",
       "      <td>1.371310</td>\n",
       "      <td>1</td>\n",
       "      <td>-0.125151</td>\n",
       "      <td>...</td>\n",
       "      <td>-0.090309</td>\n",
       "      <td>0.323673</td>\n",
       "      <td>0.096190</td>\n",
       "      <td>-0.175554</td>\n",
       "      <td>-0.273964</td>\n",
       "      <td>0.237006</td>\n",
       "      <td>-0.245389</td>\n",
       "      <td>-0.067310</td>\n",
       "      <td>-0.088549</td>\n",
       "      <td>0.056987</td>\n",
       "    </tr>\n",
       "    <tr>\n",
       "      <th>2</th>\n",
       "      <td>234881039</td>\n",
       "      <td>8</td>\n",
       "      <td>1</td>\n",
       "      <td>39.30500</td>\n",
       "      <td>39.30500</td>\n",
       "      <td>39.30540</td>\n",
       "      <td>0.08309</td>\n",
       "      <td>1.170000</td>\n",
       "      <td>1</td>\n",
       "      <td>-0.281923</td>\n",
       "      <td>...</td>\n",
       "      <td>0.000000</td>\n",
       "      <td>-0.281923</td>\n",
       "      <td>-0.501023</td>\n",
       "      <td>-0.219100</td>\n",
       "      <td>-0.375897</td>\n",
       "      <td>-0.313074</td>\n",
       "      <td>-0.187948</td>\n",
       "      <td>0.093974</td>\n",
       "      <td>0.093974</td>\n",
       "      <td>-0.281923</td>\n",
       "    </tr>\n",
       "    <tr>\n",
       "      <th>3</th>\n",
       "      <td>234881041</td>\n",
       "      <td>4</td>\n",
       "      <td>1</td>\n",
       "      <td>7.68433</td>\n",
       "      <td>7.68433</td>\n",
       "      <td>7.68519</td>\n",
       "      <td>0.50000</td>\n",
       "      <td>0.445214</td>\n",
       "      <td>1</td>\n",
       "      <td>0.174309</td>\n",
       "      <td>...</td>\n",
       "      <td>-0.046449</td>\n",
       "      <td>-0.021162</td>\n",
       "      <td>0.058503</td>\n",
       "      <td>-0.172840</td>\n",
       "      <td>-0.238037</td>\n",
       "      <td>0.183829</td>\n",
       "      <td>-0.292503</td>\n",
       "      <td>-0.119214</td>\n",
       "      <td>0.102231</td>\n",
       "      <td>0.217926</td>\n",
       "    </tr>\n",
       "    <tr>\n",
       "      <th>4</th>\n",
       "      <td>234881043</td>\n",
       "      <td>2</td>\n",
       "      <td>0</td>\n",
       "      <td>0.00000</td>\n",
       "      <td>0.00000</td>\n",
       "      <td>0.00000</td>\n",
       "      <td>0.00000</td>\n",
       "      <td>1.000000</td>\n",
       "      <td>1</td>\n",
       "      <td>0.014363</td>\n",
       "      <td>...</td>\n",
       "      <td>0.448090</td>\n",
       "      <td>0.179457</td>\n",
       "      <td>0.054849</td>\n",
       "      <td>0.184936</td>\n",
       "      <td>0.061575</td>\n",
       "      <td>-0.015394</td>\n",
       "      <td>0.154578</td>\n",
       "      <td>0.014534</td>\n",
       "      <td>-0.151962</td>\n",
       "      <td>0.154064</td>\n",
       "    </tr>\n",
       "  </tbody>\n",
       "</table>\n",
       "<p>5 rows × 137 columns</p>\n",
       "</div>"
      ],
      "text/plain": [
       "         vid  in_degree  out_degree  send_amount  send_min  recv_amount  \\\n",
       "0  234881024          1           1      0.51914   0.51914      0.52000   \n",
       "1  234881033          9           6     31.68790   0.07000     24.90020   \n",
       "2  234881039          8           1     39.30500  39.30500     39.30540   \n",
       "3  234881041          4           1      7.68433   7.68433      7.68519   \n",
       "4  234881043          2           0      0.00000   0.00000      0.00000   \n",
       "\n",
       "   recv_min  pagerank  is_fraud      emb0  ...    emb118    emb119    emb120  \\\n",
       "0   0.52000  0.155100         1 -0.107753  ... -0.374269 -0.144818 -0.134207   \n",
       "1   0.07000  1.371310         1 -0.125151  ... -0.090309  0.323673  0.096190   \n",
       "2   0.08309  1.170000         1 -0.281923  ...  0.000000 -0.281923 -0.501023   \n",
       "3   0.50000  0.445214         1  0.174309  ... -0.046449 -0.021162  0.058503   \n",
       "4   0.00000  1.000000         1  0.014363  ...  0.448090  0.179457  0.054849   \n",
       "\n",
       "     emb121    emb122    emb123    emb124    emb125    emb126    emb127  \n",
       "0 -0.160478 -0.024463  0.171150  0.311766  0.307944 -0.247571  0.189567  \n",
       "1 -0.175554 -0.273964  0.237006 -0.245389 -0.067310 -0.088549  0.056987  \n",
       "2 -0.219100 -0.375897 -0.313074 -0.187948  0.093974  0.093974 -0.281923  \n",
       "3 -0.172840 -0.238037  0.183829 -0.292503 -0.119214  0.102231  0.217926  \n",
       "4  0.184936  0.061575 -0.015394  0.154578  0.014534 -0.151962  0.154064  \n",
       "\n",
       "[5 rows x 137 columns]"
      ]
     },
     "execution_count": 17,
     "metadata": {},
     "output_type": "execute_result"
    }
   ],
   "source": [
    "valid_data = valid_loader.data\n",
    "valid_data.head()"
   ]
  },
  {
   "cell_type": "markdown",
   "id": "6f951935-6d3c-4c51-9756-d17797c26f8b",
   "metadata": {},
   "source": [
    "### Create xgboost model"
   ]
  },
  {
   "cell_type": "code",
   "execution_count": 18,
   "id": "62e65f88-fd43-4206-b38e-386a075e107a",
   "metadata": {},
   "outputs": [],
   "source": [
    "from xgboost import XGBClassifier\n",
    "\n",
    "tree_model = XGBClassifier(\n",
    "    nthread=-1, n_estimators=100, learning_rate=0.1, \n",
    "    objective='binary:logistic', max_depth=2, scale_pos_weight=400, \n",
    "    min_child_weight=80, gamma = 10, max_delta_step=2) "
   ]
  },
  {
   "cell_type": "markdown",
   "id": "a191f817-3fd0-4b22-8b43-d1cc2789bcf4",
   "metadata": {},
   "source": [
    "### Train xgboost model - No Embeddings"
   ]
  },
  {
   "cell_type": "code",
   "execution_count": 19,
   "id": "1d921d2c-af32-40ac-9a5c-3d6d1a83ad53",
   "metadata": {},
   "outputs": [
    {
     "data": {
      "text/html": [
       "<style>#sk-container-id-1 {color: black;background-color: white;}#sk-container-id-1 pre{padding: 0;}#sk-container-id-1 div.sk-toggleable {background-color: white;}#sk-container-id-1 label.sk-toggleable__label {cursor: pointer;display: block;width: 100%;margin-bottom: 0;padding: 0.3em;box-sizing: border-box;text-align: center;}#sk-container-id-1 label.sk-toggleable__label-arrow:before {content: \"▸\";float: left;margin-right: 0.25em;color: #696969;}#sk-container-id-1 label.sk-toggleable__label-arrow:hover:before {color: black;}#sk-container-id-1 div.sk-estimator:hover label.sk-toggleable__label-arrow:before {color: black;}#sk-container-id-1 div.sk-toggleable__content {max-height: 0;max-width: 0;overflow: hidden;text-align: left;background-color: #f0f8ff;}#sk-container-id-1 div.sk-toggleable__content pre {margin: 0.2em;color: black;border-radius: 0.25em;background-color: #f0f8ff;}#sk-container-id-1 input.sk-toggleable__control:checked~div.sk-toggleable__content {max-height: 200px;max-width: 100%;overflow: auto;}#sk-container-id-1 input.sk-toggleable__control:checked~label.sk-toggleable__label-arrow:before {content: \"▾\";}#sk-container-id-1 div.sk-estimator input.sk-toggleable__control:checked~label.sk-toggleable__label {background-color: #d4ebff;}#sk-container-id-1 div.sk-label input.sk-toggleable__control:checked~label.sk-toggleable__label {background-color: #d4ebff;}#sk-container-id-1 input.sk-hidden--visually {border: 0;clip: rect(1px 1px 1px 1px);clip: rect(1px, 1px, 1px, 1px);height: 1px;margin: -1px;overflow: hidden;padding: 0;position: absolute;width: 1px;}#sk-container-id-1 div.sk-estimator {font-family: monospace;background-color: #f0f8ff;border: 1px dotted black;border-radius: 0.25em;box-sizing: border-box;margin-bottom: 0.5em;}#sk-container-id-1 div.sk-estimator:hover {background-color: #d4ebff;}#sk-container-id-1 div.sk-parallel-item::after {content: \"\";width: 100%;border-bottom: 1px solid gray;flex-grow: 1;}#sk-container-id-1 div.sk-label:hover label.sk-toggleable__label {background-color: #d4ebff;}#sk-container-id-1 div.sk-serial::before {content: \"\";position: absolute;border-left: 1px solid gray;box-sizing: border-box;top: 0;bottom: 0;left: 50%;z-index: 0;}#sk-container-id-1 div.sk-serial {display: flex;flex-direction: column;align-items: center;background-color: white;padding-right: 0.2em;padding-left: 0.2em;position: relative;}#sk-container-id-1 div.sk-item {position: relative;z-index: 1;}#sk-container-id-1 div.sk-parallel {display: flex;align-items: stretch;justify-content: center;background-color: white;position: relative;}#sk-container-id-1 div.sk-item::before, #sk-container-id-1 div.sk-parallel-item::before {content: \"\";position: absolute;border-left: 1px solid gray;box-sizing: border-box;top: 0;bottom: 0;left: 50%;z-index: -1;}#sk-container-id-1 div.sk-parallel-item {display: flex;flex-direction: column;z-index: 1;position: relative;background-color: white;}#sk-container-id-1 div.sk-parallel-item:first-child::after {align-self: flex-end;width: 50%;}#sk-container-id-1 div.sk-parallel-item:last-child::after {align-self: flex-start;width: 50%;}#sk-container-id-1 div.sk-parallel-item:only-child::after {width: 0;}#sk-container-id-1 div.sk-dashed-wrapped {border: 1px dashed gray;margin: 0 0.4em 0.5em 0.4em;box-sizing: border-box;padding-bottom: 0.4em;background-color: white;}#sk-container-id-1 div.sk-label label {font-family: monospace;font-weight: bold;display: inline-block;line-height: 1.2em;}#sk-container-id-1 div.sk-label-container {text-align: center;}#sk-container-id-1 div.sk-container {/* jupyter's `normalize.less` sets `[hidden] { display: none; }` but bootstrap.min.css set `[hidden] { display: none !important; }` so we also need the `!important` here to be able to override the default hidden behavior on the sphinx rendered scikit-learn.org. See: https://github.com/scikit-learn/scikit-learn/issues/21755 */display: inline-block !important;position: relative;}#sk-container-id-1 div.sk-text-repr-fallback {display: none;}</style><div id=\"sk-container-id-1\" class=\"sk-top-container\"><div class=\"sk-text-repr-fallback\"><pre>XGBClassifier(base_score=0.5, booster=&#x27;gbtree&#x27;, callbacks=None,\n",
       "              colsample_bylevel=1, colsample_bynode=1, colsample_bytree=1,\n",
       "              early_stopping_rounds=None, enable_categorical=False,\n",
       "              eval_metric=None, feature_types=None, gamma=10, gpu_id=-1,\n",
       "              grow_policy=&#x27;depthwise&#x27;, importance_type=None,\n",
       "              interaction_constraints=&#x27;&#x27;, learning_rate=0.1, max_bin=256,\n",
       "              max_cat_threshold=64, max_cat_to_onehot=4, max_delta_step=2,\n",
       "              max_depth=2, max_leaves=0, min_child_weight=80, missing=nan,\n",
       "              monotone_constraints=&#x27;()&#x27;, n_estimators=100, n_jobs=-1,\n",
       "              nthread=-1, num_parallel_tree=1, predictor=&#x27;auto&#x27;, ...)</pre><b>In a Jupyter environment, please rerun this cell to show the HTML representation or trust the notebook. <br />On GitHub, the HTML representation is unable to render, please try loading this page with nbviewer.org.</b></div><div class=\"sk-container\" hidden><div class=\"sk-item\"><div class=\"sk-estimator sk-toggleable\"><input class=\"sk-toggleable__control sk-hidden--visually\" id=\"sk-estimator-id-1\" type=\"checkbox\" checked><label for=\"sk-estimator-id-1\" class=\"sk-toggleable__label sk-toggleable__label-arrow\">XGBClassifier</label><div class=\"sk-toggleable__content\"><pre>XGBClassifier(base_score=0.5, booster=&#x27;gbtree&#x27;, callbacks=None,\n",
       "              colsample_bylevel=1, colsample_bynode=1, colsample_bytree=1,\n",
       "              early_stopping_rounds=None, enable_categorical=False,\n",
       "              eval_metric=None, feature_types=None, gamma=10, gpu_id=-1,\n",
       "              grow_policy=&#x27;depthwise&#x27;, importance_type=None,\n",
       "              interaction_constraints=&#x27;&#x27;, learning_rate=0.1, max_bin=256,\n",
       "              max_cat_threshold=64, max_cat_to_onehot=4, max_delta_step=2,\n",
       "              max_depth=2, max_leaves=0, min_child_weight=80, missing=nan,\n",
       "              monotone_constraints=&#x27;()&#x27;, n_estimators=100, n_jobs=-1,\n",
       "              nthread=-1, num_parallel_tree=1, predictor=&#x27;auto&#x27;, ...)</pre></div></div></div></div></div>"
      ],
      "text/plain": [
       "XGBClassifier(base_score=0.5, booster='gbtree', callbacks=None,\n",
       "              colsample_bylevel=1, colsample_bynode=1, colsample_bytree=1,\n",
       "              early_stopping_rounds=None, enable_categorical=False,\n",
       "              eval_metric=None, feature_types=None, gamma=10, gpu_id=-1,\n",
       "              grow_policy='depthwise', importance_type=None,\n",
       "              interaction_constraints='', learning_rate=0.1, max_bin=256,\n",
       "              max_cat_threshold=64, max_cat_to_onehot=4, max_delta_step=2,\n",
       "              max_depth=2, max_leaves=0, min_child_weight=80, missing=nan,\n",
       "              monotone_constraints='()', n_estimators=100, n_jobs=-1,\n",
       "              nthread=-1, num_parallel_tree=1, predictor='auto', ...)"
      ]
     },
     "execution_count": 19,
     "metadata": {},
     "output_type": "execute_result"
    }
   ],
   "source": [
    "features = [\"in_degree\",\"out_degree\",\"send_amount\",\"send_min\",\n",
    "            \"recv_amount\",\"recv_min\",\"pagerank\"]\n",
    "# Train model\n",
    "tree_model.fit(train_data[features], train_data[\"is_fraud\"])\n"
   ]
  },
  {
   "cell_type": "markdown",
   "id": "a9b9ceec-7220-4c34-8ca1-0ce7c9af8e22",
   "metadata": {},
   "source": [
    "### Evaluate model"
   ]
  },
  {
   "cell_type": "code",
   "execution_count": 20,
   "id": "9f4c697b-da4a-4d20-a3a4-684b8cd4bfd4",
   "metadata": {},
   "outputs": [
    {
     "name": "stdout",
     "output_type": "stream",
     "text": [
      "Accuracy 0.7567, Precision 0.1271, Recall 1.0000\n"
     ]
    }
   ],
   "source": [
    "from pyTigerGraph.gds.metrics import Accuracy, BinaryPrecision, BinaryRecall\n",
    "from collections import defaultdict\n",
    "\n",
    "# Get predictions\n",
    "pred = tree_model.predict(valid_data[features].values)\n",
    "# Get prediction scores for later use\n",
    "yhat_tree = tree_model.predict_proba(valid_data[features].values)[:,1]\n",
    "ytrue_tree = valid_data[\"is_fraud\"].values\n",
    "\n",
    "metrics = defaultdict(list)\n",
    "m = Accuracy()\n",
    "m.update(pred, ytrue_tree)\n",
    "metrics[\"acc_tree\"].append(m.value)\n",
    "\n",
    "m = BinaryPrecision()\n",
    "m.update(pred, ytrue_tree)\n",
    "metrics[\"prec_tree\"].append(m.value)\n",
    "\n",
    "m = BinaryRecall()\n",
    "m.update(pred, ytrue_tree)\n",
    "metrics[\"rec_tree\"].append(m.value)\n",
    "\n",
    "print(\"Accuracy {:.4f}, Precision {:.4f}, Recall {:.4f}\".format(\n",
    "    metrics[\"acc_tree\"][-1], metrics[\"prec_tree\"][-1], metrics[\"rec_tree\"][-1]))"
   ]
  },
  {
   "cell_type": "markdown",
   "id": "92ae98fc-ab8b-4f46-b464-bdd93071f98f",
   "metadata": {},
   "source": [
    "### Add FastRP Embeddings to XGBoost Model"
   ]
  },
  {
   "cell_type": "code",
   "execution_count": 21,
   "id": "cfa17370-c74d-4be1-9f6a-49a2469197da",
   "metadata": {},
   "outputs": [
    {
     "data": {
      "text/html": [
       "<style>#sk-container-id-2 {color: black;background-color: white;}#sk-container-id-2 pre{padding: 0;}#sk-container-id-2 div.sk-toggleable {background-color: white;}#sk-container-id-2 label.sk-toggleable__label {cursor: pointer;display: block;width: 100%;margin-bottom: 0;padding: 0.3em;box-sizing: border-box;text-align: center;}#sk-container-id-2 label.sk-toggleable__label-arrow:before {content: \"▸\";float: left;margin-right: 0.25em;color: #696969;}#sk-container-id-2 label.sk-toggleable__label-arrow:hover:before {color: black;}#sk-container-id-2 div.sk-estimator:hover label.sk-toggleable__label-arrow:before {color: black;}#sk-container-id-2 div.sk-toggleable__content {max-height: 0;max-width: 0;overflow: hidden;text-align: left;background-color: #f0f8ff;}#sk-container-id-2 div.sk-toggleable__content pre {margin: 0.2em;color: black;border-radius: 0.25em;background-color: #f0f8ff;}#sk-container-id-2 input.sk-toggleable__control:checked~div.sk-toggleable__content {max-height: 200px;max-width: 100%;overflow: auto;}#sk-container-id-2 input.sk-toggleable__control:checked~label.sk-toggleable__label-arrow:before {content: \"▾\";}#sk-container-id-2 div.sk-estimator input.sk-toggleable__control:checked~label.sk-toggleable__label {background-color: #d4ebff;}#sk-container-id-2 div.sk-label input.sk-toggleable__control:checked~label.sk-toggleable__label {background-color: #d4ebff;}#sk-container-id-2 input.sk-hidden--visually {border: 0;clip: rect(1px 1px 1px 1px);clip: rect(1px, 1px, 1px, 1px);height: 1px;margin: -1px;overflow: hidden;padding: 0;position: absolute;width: 1px;}#sk-container-id-2 div.sk-estimator {font-family: monospace;background-color: #f0f8ff;border: 1px dotted black;border-radius: 0.25em;box-sizing: border-box;margin-bottom: 0.5em;}#sk-container-id-2 div.sk-estimator:hover {background-color: #d4ebff;}#sk-container-id-2 div.sk-parallel-item::after {content: \"\";width: 100%;border-bottom: 1px solid gray;flex-grow: 1;}#sk-container-id-2 div.sk-label:hover label.sk-toggleable__label {background-color: #d4ebff;}#sk-container-id-2 div.sk-serial::before {content: \"\";position: absolute;border-left: 1px solid gray;box-sizing: border-box;top: 0;bottom: 0;left: 50%;z-index: 0;}#sk-container-id-2 div.sk-serial {display: flex;flex-direction: column;align-items: center;background-color: white;padding-right: 0.2em;padding-left: 0.2em;position: relative;}#sk-container-id-2 div.sk-item {position: relative;z-index: 1;}#sk-container-id-2 div.sk-parallel {display: flex;align-items: stretch;justify-content: center;background-color: white;position: relative;}#sk-container-id-2 div.sk-item::before, #sk-container-id-2 div.sk-parallel-item::before {content: \"\";position: absolute;border-left: 1px solid gray;box-sizing: border-box;top: 0;bottom: 0;left: 50%;z-index: -1;}#sk-container-id-2 div.sk-parallel-item {display: flex;flex-direction: column;z-index: 1;position: relative;background-color: white;}#sk-container-id-2 div.sk-parallel-item:first-child::after {align-self: flex-end;width: 50%;}#sk-container-id-2 div.sk-parallel-item:last-child::after {align-self: flex-start;width: 50%;}#sk-container-id-2 div.sk-parallel-item:only-child::after {width: 0;}#sk-container-id-2 div.sk-dashed-wrapped {border: 1px dashed gray;margin: 0 0.4em 0.5em 0.4em;box-sizing: border-box;padding-bottom: 0.4em;background-color: white;}#sk-container-id-2 div.sk-label label {font-family: monospace;font-weight: bold;display: inline-block;line-height: 1.2em;}#sk-container-id-2 div.sk-label-container {text-align: center;}#sk-container-id-2 div.sk-container {/* jupyter's `normalize.less` sets `[hidden] { display: none; }` but bootstrap.min.css set `[hidden] { display: none !important; }` so we also need the `!important` here to be able to override the default hidden behavior on the sphinx rendered scikit-learn.org. See: https://github.com/scikit-learn/scikit-learn/issues/21755 */display: inline-block !important;position: relative;}#sk-container-id-2 div.sk-text-repr-fallback {display: none;}</style><div id=\"sk-container-id-2\" class=\"sk-top-container\"><div class=\"sk-text-repr-fallback\"><pre>XGBClassifier(base_score=0.5, booster=&#x27;gbtree&#x27;, callbacks=None,\n",
       "              colsample_bylevel=1, colsample_bynode=1, colsample_bytree=1,\n",
       "              early_stopping_rounds=None, enable_categorical=False,\n",
       "              eval_metric=None, feature_types=None, gamma=10, gpu_id=-1,\n",
       "              grow_policy=&#x27;depthwise&#x27;, importance_type=None,\n",
       "              interaction_constraints=&#x27;&#x27;, learning_rate=0.1, max_bin=256,\n",
       "              max_cat_threshold=64, max_cat_to_onehot=4, max_delta_step=2,\n",
       "              max_depth=2, max_leaves=0, min_child_weight=80, missing=nan,\n",
       "              monotone_constraints=&#x27;()&#x27;, n_estimators=100, n_jobs=-1,\n",
       "              nthread=-1, num_parallel_tree=1, predictor=&#x27;auto&#x27;, ...)</pre><b>In a Jupyter environment, please rerun this cell to show the HTML representation or trust the notebook. <br />On GitHub, the HTML representation is unable to render, please try loading this page with nbviewer.org.</b></div><div class=\"sk-container\" hidden><div class=\"sk-item\"><div class=\"sk-estimator sk-toggleable\"><input class=\"sk-toggleable__control sk-hidden--visually\" id=\"sk-estimator-id-2\" type=\"checkbox\" checked><label for=\"sk-estimator-id-2\" class=\"sk-toggleable__label sk-toggleable__label-arrow\">XGBClassifier</label><div class=\"sk-toggleable__content\"><pre>XGBClassifier(base_score=0.5, booster=&#x27;gbtree&#x27;, callbacks=None,\n",
       "              colsample_bylevel=1, colsample_bynode=1, colsample_bytree=1,\n",
       "              early_stopping_rounds=None, enable_categorical=False,\n",
       "              eval_metric=None, feature_types=None, gamma=10, gpu_id=-1,\n",
       "              grow_policy=&#x27;depthwise&#x27;, importance_type=None,\n",
       "              interaction_constraints=&#x27;&#x27;, learning_rate=0.1, max_bin=256,\n",
       "              max_cat_threshold=64, max_cat_to_onehot=4, max_delta_step=2,\n",
       "              max_depth=2, max_leaves=0, min_child_weight=80, missing=nan,\n",
       "              monotone_constraints=&#x27;()&#x27;, n_estimators=100, n_jobs=-1,\n",
       "              nthread=-1, num_parallel_tree=1, predictor=&#x27;auto&#x27;, ...)</pre></div></div></div></div></div>"
      ],
      "text/plain": [
       "XGBClassifier(base_score=0.5, booster='gbtree', callbacks=None,\n",
       "              colsample_bylevel=1, colsample_bynode=1, colsample_bytree=1,\n",
       "              early_stopping_rounds=None, enable_categorical=False,\n",
       "              eval_metric=None, feature_types=None, gamma=10, gpu_id=-1,\n",
       "              grow_policy='depthwise', importance_type=None,\n",
       "              interaction_constraints='', learning_rate=0.1, max_bin=256,\n",
       "              max_cat_threshold=64, max_cat_to_onehot=4, max_delta_step=2,\n",
       "              max_depth=2, max_leaves=0, min_child_weight=80, missing=nan,\n",
       "              monotone_constraints='()', n_estimators=100, n_jobs=-1,\n",
       "              nthread=-1, num_parallel_tree=1, predictor='auto', ...)"
      ]
     },
     "execution_count": 21,
     "metadata": {},
     "output_type": "execute_result"
    }
   ],
   "source": [
    "emb_tree_model = XGBClassifier(\n",
    "    nthread=-1, n_estimators=100, learning_rate=0.1, \n",
    "    objective='binary:logistic', max_depth=2, scale_pos_weight=400, \n",
    "    min_child_weight=80, gamma = 10, max_delta_step=2) \n",
    "\n",
    "features = [\"in_degree\",\"out_degree\",\"send_amount\",\"send_min\",\n",
    "            \"recv_amount\",\"recv_min\",\"pagerank\"] + [x for x in train_data.columns if \"emb\" in x]\n",
    "# Train model\n",
    "emb_tree_model.fit(train_data[features], train_data[\"is_fraud\"])\n"
   ]
  },
  {
   "cell_type": "code",
   "execution_count": 22,
   "id": "d226f65b-29a0-448b-b283-abf06ceb8d84",
   "metadata": {},
   "outputs": [
    {
     "name": "stdout",
     "output_type": "stream",
     "text": [
      "Accuracy 0.8900, Precision 0.2425, Recall 0.9912\n"
     ]
    }
   ],
   "source": [
    "from pyTigerGraph.gds.metrics import Accuracy, BinaryPrecision, BinaryRecall\n",
    "from collections import defaultdict\n",
    "\n",
    "# Get predictions\n",
    "pred = emb_tree_model.predict(valid_data[features].values)\n",
    "# Get prediction scores for later use\n",
    "yhat_tree = emb_tree_model.predict_proba(valid_data[features].values)[:,1]\n",
    "ytrue_tree = valid_data[\"is_fraud\"].values\n",
    "\n",
    "m = Accuracy()\n",
    "m.update(pred, ytrue_tree)\n",
    "metrics[\"acc_fastrp_tree\"].append(m.value)\n",
    "\n",
    "m = BinaryPrecision()\n",
    "m.update(pred, ytrue_tree)\n",
    "metrics[\"prec_fastrp_tree\"].append(m.value)\n",
    "\n",
    "m = BinaryRecall()\n",
    "m.update(pred, ytrue_tree)\n",
    "metrics[\"rec_fastrp_tree\"].append(m.value)\n",
    "\n",
    "print(\"Accuracy {:.4f}, Precision {:.4f}, Recall {:.4f}\".format(\n",
    "    metrics[\"acc_fastrp_tree\"][-1], metrics[\"prec_fastrp_tree\"][-1], metrics[\"rec_fastrp_tree\"][-1]))"
   ]
  },
  {
   "cell_type": "markdown",
   "id": "36a39d08-3b14-409d-91c7-440d950a6426",
   "metadata": {},
   "source": [
    "### Explain models\n",
    "Here, we are going to look at the feature importance values of both of the XGBoost models. For the model trained on the FastRP embeddings, we summed all dimensions of the embedding into one feature importance score. One can see that the embedding contributes heavily to the model's performance."
   ]
  },
  {
   "cell_type": "code",
   "execution_count": 23,
   "id": "de1d3541-5fa1-479f-9234-b68b265d427d",
   "metadata": {},
   "outputs": [
    {
     "data": {
      "image/png": "[encoded data removed]",
      "text/plain": [
       "<Figure size 640x480 with 1 Axes>"
      ]
     },
     "metadata": {},
     "output_type": "display_data"
    }
   ],
   "source": [
    "import matplotlib.pyplot as plt\n",
    "\n",
    "feature_importance = tree_model.get_booster().get_fscore()\n",
    "\n",
    "plt.barh(range(len(feature_importance)), feature_importance.values());\n",
    "plt.yticks(range(len(feature_importance)), feature_importance.keys());\n",
    "plt.xlabel(\"feature importance score\");"
   ]
  },
  {
   "cell_type": "code",
   "execution_count": 24,
   "id": "d4604309-3ea3-407c-b7cd-b1f2546545c4",
   "metadata": {},
   "outputs": [
    {
     "data": {
      "image/png": "[encoded data removed]",
      "text/plain": [
       "<Figure size 640x480 with 1 Axes>"
      ]
     },
     "metadata": {},
     "output_type": "display_data"
    }
   ],
   "source": [
    "import matplotlib.pyplot as plt\n",
    "\n",
    "feature_importance = emb_tree_model.get_booster().get_fscore()\n",
    "\n",
    "condensed_feat_imp = {\"embedding\": 0}\n",
    "for feat in feature_importance.keys():\n",
    "    if \"emb\" in feat:\n",
    "        condensed_feat_imp[\"embedding\"] += feature_importance[feat]\n",
    "    else:\n",
    "        condensed_feat_imp[feat] = feature_importance[feat]\n",
    "\n",
    "plt.barh(range(len(condensed_feat_imp)), condensed_feat_imp.values());\n",
    "plt.yticks(range(len(condensed_feat_imp)), condensed_feat_imp.keys());\n",
    "plt.xlabel(\"feature importance score\");"
   ]
  },
  {
   "cell_type": "markdown",
   "id": "22727e65-2956-4df8-afcc-b4f221121a01",
   "metadata": {},
   "source": [
    "## Graph Neural Network"
   ]
  },
  {
   "cell_type": "markdown",
   "id": "485acdd3-f5b4-4432-b337-dd5923349bc1",
   "metadata": {},
   "source": [
    "Hyperparameters for the model and training environment"
   ]
  },
  {
   "cell_type": "code",
   "execution_count": 25,
   "id": "690b9e45-726a-4d20-b79b-a84961145d50",
   "metadata": {},
   "outputs": [],
   "source": [
    "hp = {\n",
    "    \"batch_size\": 1024, \n",
    "    \"num_neighbors\": 200, \n",
    "    \"num_hops\": 3, \n",
    "    \"hidden_dim\": 256, \n",
    "    \"num_layers\": 2, \n",
    "    \"dropout\": 0.05, \n",
    "    \"lr\": 0.0075, \n",
    "    \"l2_penalty\": 5e-5\n",
    "}"
   ]
  },
  {
   "cell_type": "markdown",
   "id": "e5193703-e0e1-421d-bb2b-4d79f5eaee07",
   "metadata": {},
   "source": [
    "### Create Neighbor Loaders"
   ]
  },
  {
   "cell_type": "markdown",
   "id": "c82114fc-fb70-4603-b4d3-cd59c446dd7e",
   "metadata": {},
   "source": [
    "Neighbor loaders for training and validation."
   ]
  },
  {
   "cell_type": "code",
   "execution_count": 26,
   "id": "17c31955-8824-40a1-9c62-966d99fe60e6",
   "metadata": {},
   "outputs": [],
   "source": [
    "train_loader = conn.gds.neighborLoader(\n",
    "    v_in_feats=[\"in_degree\",\"out_degree\",\"send_amount\",\"send_min\",\"recv_amount\",\"recv_min\",\"pagerank\"],\n",
    "    v_out_labels=[\"is_fraud\"],\n",
    "    v_extra_feats=[\"is_training\", \"is_validation\"],\n",
    "    output_format=\"PyG\",\n",
    "    batch_size=hp[\"batch_size\"],\n",
    "    num_neighbors=hp[\"num_neighbors\"],\n",
    "    num_hops=hp[\"num_hops\"],\n",
    "    filter_by = \"is_training\",\n",
    "    shuffle=True,\n",
    "    timeout=600000\n",
    ")"
   ]
  },
  {
   "cell_type": "code",
   "execution_count": 27,
   "id": "3d5869ff-4a56-4979-a09e-1b49999cf902",
   "metadata": {},
   "outputs": [],
   "source": [
    "valid_loader = conn.gds.neighborLoader(\n",
    "    v_in_feats=[\"in_degree\",\"out_degree\",\"send_amount\",\"send_min\",\"recv_amount\",\"recv_min\",\"pagerank\"],\n",
    "    v_out_labels=[\"is_fraud\"],\n",
    "    v_extra_feats=[\"is_training\", \"is_validation\"],\n",
    "    output_format=\"PyG\",\n",
    "    batch_size=hp[\"batch_size\"],\n",
    "    num_neighbors=hp[\"num_neighbors\"],\n",
    "    num_hops=hp[\"num_hops\"],\n",
    "    filter_by = \"is_validation\",\n",
    "    shuffle=False,\n",
    "    timeout=600000\n",
    ")"
   ]
  },
  {
   "cell_type": "markdown",
   "id": "6c5e0368-0902-4d95-b60c-1a217b9fd0bc",
   "metadata": {},
   "source": [
    "### Create Graph Attention Network"
   ]
  },
  {
   "cell_type": "code",
   "execution_count": 28,
   "id": "4f6d90e9-9c40-4758-b19d-dd883817d7da",
   "metadata": {},
   "outputs": [],
   "source": [
    "import torch\n",
    "from torch_geometric.nn import GAT\n",
    "\n",
    "device = torch.device(\"cuda\" if torch.cuda.is_available() else \"cpu\")\n",
    "\n",
    "model = GAT(\n",
    "    in_channels=7,\n",
    "    hidden_channels=hp[\"hidden_dim\"],\n",
    "    num_layers=hp[\"num_layers\"],\n",
    "    out_channels=2,\n",
    "    heads=8,\n",
    "    dropout=hp[\"dropout\"],\n",
    ").to(device)\n",
    "\n",
    "optimizer = torch.optim.Adam(\n",
    "    model.parameters(), lr=hp[\"lr\"], weight_decay=hp[\"l2_penalty\"]\n",
    ")"
   ]
  },
  {
   "cell_type": "markdown",
   "id": "f6a76a1a-719d-49ef-bb08-5f2b3052142b",
   "metadata": {},
   "source": [
    "### Train Model"
   ]
  },
  {
   "cell_type": "code",
   "execution_count": 29,
   "id": "fea32d40-93a7-418f-ab53-966197106f3c",
   "metadata": {},
   "outputs": [
    {
     "data": {
      "application/vnd.jupyter.widget-view+json": {
       "model_id": "19174a23ff9e472fa6d7ad94a5a2ba96",
       "version_major": 2,
       "version_minor": 0
      },
      "text/plain": [
       "Epoch 0/10 |          | [00:00,?epoch/s]"
      ]
     },
     "metadata": {},
     "output_type": "display_data"
    },
    {
     "data": {
      "application/vnd.jupyter.widget-view+json": {
       "model_id": "",
       "version_major": 2,
       "version_minor": 0
      },
      "text/plain": [
       "Train Batch 0/26 |          | [00:00,?batch/s]"
      ]
     },
     "metadata": {},
     "output_type": "display_data"
    },
    {
     "data": {
      "application/vnd.jupyter.widget-view+json": {
       "model_id": "",
       "version_major": 2,
       "version_minor": 0
      },
      "text/plain": [
       "Valid 0/7 |          | [00:00,?batch/s]"
      ]
     },
     "metadata": {},
     "output_type": "display_data"
    },
    {
     "data": {
      "application/vnd.jupyter.widget-view+json": {
       "model_id": "",
       "version_major": 2,
       "version_minor": 0
      },
      "text/plain": [
       "Train Batch 0/26 |          | [00:00,?batch/s]"
      ]
     },
     "metadata": {},
     "output_type": "display_data"
    },
    {
     "data": {
      "application/vnd.jupyter.widget-view+json": {
       "model_id": "",
       "version_major": 2,
       "version_minor": 0
      },
      "text/plain": [
       "Valid 0/7 |          | [00:00,?batch/s]"
      ]
     },
     "metadata": {},
     "output_type": "display_data"
    },
    {
     "data": {
      "application/vnd.jupyter.widget-view+json": {
       "model_id": "",
       "version_major": 2,
       "version_minor": 0
      },
      "text/plain": [
       "Train Batch 0/26 |          | [00:00,?batch/s]"
      ]
     },
     "metadata": {},
     "output_type": "display_data"
    },
    {
     "data": {
      "application/vnd.jupyter.widget-view+json": {
       "model_id": "",
       "version_major": 2,
       "version_minor": 0
      },
      "text/plain": [
       "Valid 0/7 |          | [00:00,?batch/s]"
      ]
     },
     "metadata": {},
     "output_type": "display_data"
    },
    {
     "data": {
      "application/vnd.jupyter.widget-view+json": {
       "model_id": "",
       "version_major": 2,
       "version_minor": 0
      },
      "text/plain": [
       "Train Batch 0/26 |          | [00:00,?batch/s]"
      ]
     },
     "metadata": {},
     "output_type": "display_data"
    },
    {
     "data": {
      "application/vnd.jupyter.widget-view+json": {
       "model_id": "",
       "version_major": 2,
       "version_minor": 0
      },
      "text/plain": [
       "Valid 0/7 |          | [00:00,?batch/s]"
      ]
     },
     "metadata": {},
     "output_type": "display_data"
    },
    {
     "data": {
      "application/vnd.jupyter.widget-view+json": {
       "model_id": "",
       "version_major": 2,
       "version_minor": 0
      },
      "text/plain": [
       "Train Batch 0/26 |          | [00:00,?batch/s]"
      ]
     },
     "metadata": {},
     "output_type": "display_data"
    },
    {
     "data": {
      "application/vnd.jupyter.widget-view+json": {
       "model_id": "",
       "version_major": 2,
       "version_minor": 0
      },
      "text/plain": [
       "Valid 0/7 |          | [00:00,?batch/s]"
      ]
     },
     "metadata": {},
     "output_type": "display_data"
    },
    {
     "data": {
      "application/vnd.jupyter.widget-view+json": {
       "model_id": "",
       "version_major": 2,
       "version_minor": 0
      },
      "text/plain": [
       "Train Batch 0/26 |          | [00:00,?batch/s]"
      ]
     },
     "metadata": {},
     "output_type": "display_data"
    },
    {
     "data": {
      "application/vnd.jupyter.widget-view+json": {
       "model_id": "",
       "version_major": 2,
       "version_minor": 0
      },
      "text/plain": [
       "Valid 0/7 |          | [00:00,?batch/s]"
      ]
     },
     "metadata": {},
     "output_type": "display_data"
    },
    {
     "data": {
      "application/vnd.jupyter.widget-view+json": {
       "model_id": "",
       "version_major": 2,
       "version_minor": 0
      },
      "text/plain": [
       "Train Batch 0/26 |          | [00:00,?batch/s]"
      ]
     },
     "metadata": {},
     "output_type": "display_data"
    },
    {
     "data": {
      "application/vnd.jupyter.widget-view+json": {
       "model_id": "",
       "version_major": 2,
       "version_minor": 0
      },
      "text/plain": [
       "Valid 0/7 |          | [00:00,?batch/s]"
      ]
     },
     "metadata": {},
     "output_type": "display_data"
    },
    {
     "data": {
      "application/vnd.jupyter.widget-view+json": {
       "model_id": "",
       "version_major": 2,
       "version_minor": 0
      },
      "text/plain": [
       "Train Batch 0/26 |          | [00:00,?batch/s]"
      ]
     },
     "metadata": {},
     "output_type": "display_data"
    },
    {
     "data": {
      "application/vnd.jupyter.widget-view+json": {
       "model_id": "",
       "version_major": 2,
       "version_minor": 0
      },
      "text/plain": [
       "Valid 0/7 |          | [00:00,?batch/s]"
      ]
     },
     "metadata": {},
     "output_type": "display_data"
    },
    {
     "data": {
      "application/vnd.jupyter.widget-view+json": {
       "model_id": "",
       "version_major": 2,
       "version_minor": 0
      },
      "text/plain": [
       "Train Batch 0/26 |          | [00:00,?batch/s]"
      ]
     },
     "metadata": {},
     "output_type": "display_data"
    },
    {
     "data": {
      "application/vnd.jupyter.widget-view+json": {
       "model_id": "",
       "version_major": 2,
       "version_minor": 0
      },
      "text/plain": [
       "Valid 0/7 |          | [00:00,?batch/s]"
      ]
     },
     "metadata": {},
     "output_type": "display_data"
    },
    {
     "data": {
      "application/vnd.jupyter.widget-view+json": {
       "model_id": "",
       "version_major": 2,
       "version_minor": 0
      },
      "text/plain": [
       "Train Batch 0/26 |          | [00:00,?batch/s]"
      ]
     },
     "metadata": {},
     "output_type": "display_data"
    },
    {
     "data": {
      "application/vnd.jupyter.widget-view+json": {
       "model_id": "",
       "version_major": 2,
       "version_minor": 0
      },
      "text/plain": [
       "Valid 0/7 |          | [00:00,?batch/s]"
      ]
     },
     "metadata": {},
     "output_type": "display_data"
    }
   ],
   "source": [
    "import torch_geometric.transforms as T\n",
    "import torch.nn.functional as F\n",
    "from pyTigerGraph.gds.metrics import Accumulator\n",
    "from tqdm.notebook import trange, tqdm\n",
    "\n",
    "metrics[\"loss_gnn_train\"]=[] \n",
    "metrics[\"acc_gnn_train\"]=[] \n",
    "metrics[\"prec_gnn_train\"]=[] \n",
    "metrics[\"rec_gnn_train\"]=[]\n",
    "metrics[\"loss_gnn_val\"]=[]\n",
    "metrics[\"acc_gnn_val\"]=[]\n",
    "metrics[\"prec_gnn_val\"]=[]\n",
    "metrics[\"rec_gnn_val\"]=[]\n",
    "epoch_bar = trange(10, unit=\"epoch\", bar_format = \"Epoch {n_fmt}/{total_fmt} |{bar}| [{elapsed},{rate_fmt}]{postfix}\")\n",
    "for epoch in epoch_bar:\n",
    "    # print(\"Epoch {}\".format(epoch), flush=True)\n",
    "    # Train\n",
    "    model.train()\n",
    "    epoch_train_loss = Accumulator()\n",
    "    epoch_train_acc = Accuracy()\n",
    "    epoch_train_prec = BinaryPrecision()\n",
    "    epoch_train_rec = BinaryRecall()\n",
    "    \n",
    "    # Iterate through the loader to get a stream of subgraphs instead of the whole graph\n",
    "    batch_bar = tqdm(train_loader, total=train_loader.num_batches, unit=\"batch\", leave=False,\n",
    "                     bar_format = \"Train Batch {n_fmt}/{total_fmt} |{bar}| [{elapsed},{rate_fmt}]{postfix}\")\n",
    "    for batch in batch_bar:\n",
    "        batchsize = int(batch.is_seed.sum())\n",
    "        norm = T.NormalizeFeatures()\n",
    "        batch = norm(batch).to(device)\n",
    "       \n",
    "        # Forward pass\n",
    "        out = model(batch.x.float(), batch.edge_index, batch.edge_weight)\n",
    "        # Calculate loss\n",
    "        class_weight = torch.FloatTensor([1.0, 15.0])\n",
    "        loss = F.cross_entropy(out[batch.is_seed], batch.y[batch.is_seed].long(), class_weight)\n",
    "        # Backward pass\n",
    "        optimizer.zero_grad()\n",
    "        loss.backward()\n",
    "        optimizer.step()\n",
    "        epoch_train_loss.update(loss.item() * batchsize, batchsize)\n",
    "        # Predict on training data\n",
    "        with torch.no_grad():\n",
    "            pred = out.argmax(dim=1)\n",
    "            epoch_train_acc.update(pred[batch.is_seed], batch.y[batch.is_seed])\n",
    "            epoch_train_prec.update(pred[batch.is_seed], batch.y[batch.is_seed])\n",
    "            epoch_train_rec.update(pred[batch.is_seed], batch.y[batch.is_seed])            \n",
    "        # Log training status after each batch\n",
    "        metrics[\"loss_gnn_train\"].append(epoch_train_loss.mean)\n",
    "        metrics[\"acc_gnn_train\"].append(float(epoch_train_acc.value))\n",
    "        metrics[\"prec_gnn_train\"].append(float(epoch_train_prec.value) if epoch_train_prec.value else 0)\n",
    "        metrics[\"rec_gnn_train\"].append(float(epoch_train_rec.value) if epoch_train_rec.value else 0)\n",
    "        # print(\n",
    "        #     \"  Train batch {}, loss {:.4f}, accuracy {:.4f}, precision {:.4f}, recall {:.4f}\".format(\n",
    "        #         bid, metrics[\"loss_gnn_train\"][-1], \n",
    "        #         metrics[\"acc_gnn_train\"][-1], \n",
    "        #         metrics[\"prec_gnn_train\"][-1], \n",
    "        #         metrics[\"rec_gnn_train\"][-1]\n",
    "        #     )\n",
    "        # )\n",
    "    batch_bar.close()\n",
    "    # Evaluate\n",
    "    model.eval()\n",
    "    epoch_val_loss = Accumulator()\n",
    "    epoch_val_prec = BinaryPrecision()\n",
    "    epoch_val_rec = BinaryRecall()\n",
    "    epoch_val_acc = Accuracy()\n",
    "    yhat_gat = []\n",
    "    ytrue_gat = []\n",
    "    \n",
    "    batch_bar = tqdm(valid_loader, total=valid_loader.num_batches, unit=\"batch\", leave=False,\n",
    "                     bar_format = \"Valid {n_fmt}/{total_fmt} |{bar}| [{elapsed},{rate_fmt}]{postfix}\")\n",
    "    for batch in batch_bar:\n",
    "        batchsize = int(batch.is_seed.sum())\n",
    "        norm = T.NormalizeFeatures()\n",
    "        batch = norm(batch).to(device)\n",
    "        with torch.no_grad():\n",
    "            # Forward pass\n",
    "            out = model(batch.x.float(), batch.edge_index)   \n",
    "            # Calculate loss\n",
    "            class_weight = torch.FloatTensor([1.0, 20.0])\n",
    "            valid_loss = F.cross_entropy(out[batch.is_seed], batch.y[batch.is_seed].long(), class_weight)\n",
    "            epoch_val_loss.update(valid_loss.item() * batchsize, batchsize)\n",
    "            # Prediction\n",
    "            pred = out.argmax(dim=1)\n",
    "            epoch_val_acc.update(pred[batch.is_seed], batch.y[batch.is_seed])\n",
    "            epoch_val_prec.update(pred[batch.is_seed], batch.y[batch.is_seed])\n",
    "            epoch_val_rec.update(pred[batch.is_seed], batch.y[batch.is_seed])\n",
    "            yhat_gat.extend(F.softmax(out[batch.is_seed], dim=1)[:,1].tolist())\n",
    "            ytrue_gat.extend(batch.y[batch.is_seed].tolist())\n",
    "    batch_bar.close()\n",
    "\n",
    "    # Log testing result after each epoch\n",
    "    metrics[\"loss_gnn_val\"].append(epoch_val_loss.mean)\n",
    "    metrics[\"acc_gnn_val\"].append(float(epoch_val_acc.value))\n",
    "    metrics[\"prec_gnn_val\"].append(float(epoch_val_prec.value) if epoch_val_prec.value else 0)\n",
    "    metrics[\"rec_gnn_val\"].append(float(epoch_val_rec.value) if epoch_val_rec.value else 0)\n",
    "    epoch_bar.set_postfix(Loss=metrics[\"loss_gnn_val\"][-1],\n",
    "                          Accuracy=metrics[\"acc_gnn_val\"][-1],\n",
    "                          Precision=metrics[\"prec_gnn_val\"][-1],\n",
    "                          Recall=metrics[\"rec_gnn_val\"][-1])\n",
    "epoch_bar.close()"
   ]
  },
  {
   "cell_type": "code",
   "execution_count": null,
   "id": "da6f3e12",
   "metadata": {},
   "outputs": [],
   "source": [
    "# Print the final performance metric for the GNN model\n",
    "print(\"Accuracy {:.4f}, Precision {:.4f}, Recall {:.4f}\".format(\n",
    "    metrics[\"acc_gnn_val\"][-1], metrics[\"prec_gnn_val\"][-1], metrics[\"rec_gnn_val\"][-1]))"
   ]
  },
  {
   "cell_type": "code",
   "execution_count": 30,
   "id": "eb808e12-3b6b-438a-9979-9edff9604f74",
   "metadata": {},
   "outputs": [
    {
     "data": {
      "image/png": "[encoded data removed]",
      "text/plain": [
       "<Figure size 1000x1200 with 4 Axes>"
      ]
     },
     "metadata": {},
     "output_type": "display_data"
    }
   ],
   "source": [
    "fix,ax = plt.subplots(4,1, figsize=(10,12))\n",
    "step = int(len(metrics[\"loss_gnn_train\"])/len(metrics[\"loss_gnn_val\"]))\n",
    "x = range(step-1, len(metrics[\"loss_gnn_train\"]), step)\n",
    "ax[0].plot(metrics[\"loss_gnn_train\"], label=\"Train\");\n",
    "ax[0].plot(x, metrics[\"loss_gnn_val\"], label=\"Valid\");\n",
    "ax[0].set_ylabel(\"Loss\", fontsize=12)\n",
    "ax[0].legend()\n",
    "ax[1].plot(metrics[\"acc_gnn_train\"], label=\"Train\");\n",
    "ax[1].plot(x, metrics[\"acc_gnn_val\"], label=\"Valid\");\n",
    "ax[1].set_ylabel(\"Accuracy\", fontsize=12)\n",
    "ax[1].legend()\n",
    "ax[2].plot(metrics[\"prec_gnn_train\"], label=\"Train\");\n",
    "ax[2].plot(x, metrics[\"prec_gnn_val\"], label=\"Valid\");\n",
    "ax[2].set_ylabel(\"Precision\", fontsize=12);\n",
    "ax[2].legend()\n",
    "ax[3].plot(metrics[\"rec_gnn_train\"], label=\"Train\");\n",
    "ax[3].plot(x, metrics[\"rec_gnn_val\"], label=\"Valid\");\n",
    "ax[3].legend()\n",
    "ax[3].set_ylabel(\"Recall\", fontsize=12);\n",
    "ax[3].set_xlabel(\"Step\", fontsize=12);"
   ]
  },
  {
   "cell_type": "markdown",
   "id": "ca51b8a6-d9d9-42a3-a0ca-e2d768106ef0",
   "metadata": {},
   "source": [
    "### Explain Model"
   ]
  },
  {
   "cell_type": "markdown",
   "id": "50c74381-2354-4521-8c62-2ac212c7806d",
   "metadata": {},
   "source": [
    "Sample a random vertex that is predicted to be fraudulent and visualize\n",
    "the subgraph around it."
   ]
  },
  {
   "cell_type": "code",
   "execution_count": 38,
   "id": "665606bd-ebb6-4d67-87cb-21275025840c",
   "metadata": {},
   "outputs": [
    {
     "name": "stderr",
     "output_type": "stream",
     "text": [
      "Explain node 53: 100%|██████████| 100/100 [00:00<00:00, 285.03it/s]\n"
     ]
    },
    {
     "data": {
      "image/png": "[encoded data removed]",
      "text/plain": [
       "<Figure size 640x480 with 1 Axes>"
      ]
     },
     "metadata": {},
     "output_type": "display_data"
    }
   ],
   "source": [
    "import numpy as np\n",
    "from torch_geometric.nn import GNNExplainer\n",
    "\n",
    "node_idx = int(np.random.choice((pred*batch.is_seed).numpy().nonzero()[0]))\n",
    "x, edge_index = batch.x.float(), batch.edge_index\n",
    "explainer = GNNExplainer(model, epochs=100)\n",
    "node_feat_mask, edge_mask = explainer.explain_node(\n",
    "    node_idx, x, edge_index)\n",
    "ax, G = explainer.visualize_subgraph(\n",
    "    node_idx, edge_index, edge_mask, y = batch.y)"
   ]
  },
  {
   "cell_type": "markdown",
   "id": "dfe86175-0eb6-4556-acfd-b3f5b6dda05b",
   "metadata": {},
   "source": [
    "Using the sampled vertex from above, view the features that contribut most to the prediction."
   ]
  },
  {
   "cell_type": "code",
   "execution_count": 32,
   "id": "160adf41-29d0-423e-901a-f995027f79b7",
   "metadata": {},
   "outputs": [
    {
     "data": {
      "image/png": "[encoded data removed]",
      "text/plain": [
       "<Figure size 640x480 with 1 Axes>"
      ]
     },
     "metadata": {},
     "output_type": "display_data"
    }
   ],
   "source": [
    "feature_names = ['in_degree', 'out_degree', 'send_amount', 'send_min', \n",
    "                 'recv_amount', 'recv_min', 'pagerank']\n",
    "plt.barh(feature_names, node_feat_mask);\n",
    "plt.xlabel(\"feature importance score\");"
   ]
  },
  {
   "cell_type": "markdown",
   "id": "7d8427d8-2d10-427c-aaea-fc8c602d54a5",
   "metadata": {},
   "source": [
    "## Conclusion"
   ]
  },
  {
   "cell_type": "markdown",
   "id": "2066e580-428f-4f80-a7ef-cd06f5c226b5",
   "metadata": {},
   "source": [
    "1. Graph features boost traditional ML model performance. PageRank has the high feature importance score in the xgboost example above.\n",
    "1. GAT achieves higher accuracy and precision than xgboost.  \n",
    "2. GAT achieves slightly lower but still good recall compared to xgboost."
   ]
  },
  {
   "cell_type": "code",
   "execution_count": 33,
   "id": "f799aeb3-5799-432d-a9b8-e19ccaddc42f",
   "metadata": {},
   "outputs": [
    {
     "data": {
      "image/png": "[encoded data removed]",
      "text/plain": [
       "<Figure size 640x480 with 1 Axes>"
      ]
     },
     "metadata": {},
     "output_type": "display_data"
    }
   ],
   "source": [
    "tick_labels = [\"Accuracy\", \"Precision\", \"Recall\"]\n",
    "x_tree = [metrics['acc_tree'][-1], metrics['prec_tree'][-1], metrics['rec_tree'][-1]]\n",
    "x_gat = [metrics['acc_gnn_val'][-1], metrics['prec_gnn_val'][-1], metrics['rec_gnn_val'][-1]]\n",
    "x_fastrp_tree = [metrics['acc_fastrp_tree'][-1], metrics['prec_fastrp_tree'][-1], metrics['rec_fastrp_tree'][-1]]\n",
    "y = np.arange(len(tick_labels))\n",
    "bar_width = 0.30\n",
    "plt.barh(y-bar_width/3, x_tree, 0.2, label=\"XGBoost\")\n",
    "plt.barh(y+bar_width/3, x_fastrp_tree, 0.2, label=\"XGBoost + FastRP\")\n",
    "plt.barh(y+bar_width, x_gat, 0.2, label=\"GAT\")\n",
    "plt.yticks(y, tick_labels);\n",
    "plt.legend();\n",
    "plt.gca().invert_yaxis();\n",
    "plt.xlabel(\"Metric value\");"
   ]
  },
  {
   "cell_type": "code",
   "execution_count": null,
   "id": "3f252618-be01-40d7-b96d-9ba7c93a04fd",
   "metadata": {},
   "outputs": [],
   "source": []
  }
 ],
 "metadata": {
  "kernelspec": {
   "display_name": "Python 3.9.12 ('pytg_dev')",
   "language": "python",
   "name": "python3"
  },
  "language_info": {
   "codemirror_mode": {
    "name": "ipython",
    "version": 3
   },
   "file_extension": ".py",
   "mimetype": "text/x-python",
   "name": "python",
   "nbconvert_exporter": "python",
   "pygments_lexer": "ipython3",
   "version": "3.9.12"
  },
  "vscode": {
   "interpreter": {
    "hash": "1c3872f25492526ae0a7ed66aa11b82cc2d33aacfd3b6e5e18da7e09a4c57038"
   }
  }
 },
 "nbformat": 4,
 "nbformat_minor": 5
}
