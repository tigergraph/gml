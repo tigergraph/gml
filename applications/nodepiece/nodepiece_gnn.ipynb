{
 "cells": [
  {
   "cell_type": "code",
   "execution_count": 1,
   "id": "d883ff1e-fa69-44f7-9746-4ada262fa0ec",
   "metadata": {},
   "outputs": [
    {
     "name": "stdout",
     "output_type": "stream",
     "text": [
      "\u001b[33mWARNING: Skipping pyTigerGraph as it is not installed.\u001b[0m\u001b[33m\n",
      "\u001b[0mCollecting git+https://github.com/tigergraph/pyTigerGraph.git\n",
      "  Cloning https://github.com/tigergraph/pyTigerGraph.git to /tmp/pip-req-build-ajzr_fe6\n",
      "  Running command git clone --filter=blob:none --quiet https://github.com/tigergraph/pyTigerGraph.git /tmp/pip-req-build-ajzr_fe6\n",
      "  Resolved https://github.com/tigergraph/pyTigerGraph.git to commit 886de415393d16d7ffab8f90824d2a7e34b8b16a\n",
      "  Installing build dependencies ... \u001b[?25ldone\n",
      "\u001b[?25h  Getting requirements to build wheel ... \u001b[?25ldone\n",
      "\u001b[?25h  Preparing metadata (pyproject.toml) ... \u001b[?25ldone\n",
      "\u001b[?25hRequirement already satisfied: requests in /opt/conda/lib/python3.9/site-packages (from pyTigerGraph==1.2.6) (2.28.1)\n",
      "Requirement already satisfied: pyTigerDriver in /opt/conda/lib/python3.9/site-packages (from pyTigerGraph==1.2.6) (1.0.15)\n",
      "Requirement already satisfied: validators in /opt/conda/lib/python3.9/site-packages (from pyTigerGraph==1.2.6) (0.20.0)\n",
      "Requirement already satisfied: idna<4,>=2.5 in /opt/conda/lib/python3.9/site-packages (from requests->pyTigerGraph==1.2.6) (3.4)\n",
      "Requirement already satisfied: charset-normalizer<3,>=2 in /opt/conda/lib/python3.9/site-packages (from requests->pyTigerGraph==1.2.6) (2.1.1)\n",
      "Requirement already satisfied: urllib3<1.27,>=1.21.1 in /opt/conda/lib/python3.9/site-packages (from requests->pyTigerGraph==1.2.6) (1.26.11)\n",
      "Requirement already satisfied: certifi>=2017.4.17 in /opt/conda/lib/python3.9/site-packages (from requests->pyTigerGraph==1.2.6) (2022.9.24)\n",
      "Requirement already satisfied: decorator>=3.4.0 in /opt/conda/lib/python3.9/site-packages (from validators->pyTigerGraph==1.2.6) (5.1.1)\n",
      "Building wheels for collected packages: pyTigerGraph\n",
      "  Building wheel for pyTigerGraph (pyproject.toml) ... \u001b[?25ldone\n",
      "\u001b[?25h  Created wheel for pyTigerGraph: filename=pyTigerGraph-1.2.6-py3-none-any.whl size=135918 sha256=db81300282c8d54d176edd70ac08244cd05d243356d526f3d1cc2d88402f19e6\n",
      "  Stored in directory: /tmp/pip-ephem-wheel-cache-cm1os_8o/wheels/cc/41/7a/6b8eee74c439c99b3cdb01357d4b426b9a18e51e9571b28b18\n",
      "Successfully built pyTigerGraph\n",
      "Installing collected packages: pyTigerGraph\n",
      "Successfully installed pyTigerGraph-1.2.6\n"
     ]
    }
   ],
   "source": [
    "!pip uninstall pyTigerGraph -y\n",
    "!pip install git+https://github.com/tigergraph/pyTigerGraph.git --no-cache"
   ]
  },
  {
   "cell_type": "code",
   "execution_count": 2,
   "id": "abb1a8bb-8d0b-4a3a-b3f0-58c9b1280087",
   "metadata": {},
   "outputs": [],
   "source": [
    "from pyTigerGraph import TigerGraphConnection\n",
    "import json\n",
    "\n",
    "# Read in DB configs\n",
    "with open('../config.json', \"r\") as config_file:\n",
    "    config = json.load(config_file)\n",
    "    \n",
    "conn = TigerGraphConnection(\n",
    "    host=config[\"host\"],\n",
    "    username=config[\"username\"],\n",
    "    password=config[\"password\"]\n",
    ")"
   ]
  },
  {
   "cell_type": "code",
   "execution_count": 3,
   "id": "f58e7087-dd9c-443f-b3e7-f0c9a4f87452",
   "metadata": {},
   "outputs": [
    {
     "name": "stdout",
     "output_type": "stream",
     "text": [
      "A folder with name imdb already exists in ./tmp. Skip downloading.\n",
      "---- Checking database ----\n",
      "A graph with name imdb already exists in the database. Skip ingestion.\n",
      "Graph name is set to imdb for this connection.\n"
     ]
    }
   ],
   "source": [
    "from pyTigerGraph.datasets import Datasets\n",
    "\n",
    "dataset = Datasets(\"imdb\")\n",
    "\n",
    "conn.ingestDataset(dataset, getToken=config[\"getToken\"])"
   ]
  },
  {
   "cell_type": "code",
   "execution_count": 4,
   "id": "f6fefd34-5fe6-4b97-9f2d-e9fc07d2ff07",
   "metadata": {},
   "outputs": [
    {
     "data": {
      "application/vnd.jupyter.widget-view+json": {
       "model_id": "9b01a496e3dc4d4bafd3c13ecaa01685",
       "version_major": 2,
       "version_minor": 0
      },
      "text/plain": [
       "CytoscapeWidget(cytoscape_layout={'name': 'circle', 'animate': True, 'padding': 1}, cytoscape_style=[{'selecto…"
      ]
     },
     "execution_count": 4,
     "metadata": {},
     "output_type": "execute_result"
    }
   ],
   "source": [
    "from pyTigerGraph.visualization import drawSchema\n",
    "\n",
    "drawSchema(conn.getSchema(force=True))"
   ]
  },
  {
   "cell_type": "code",
   "execution_count": 5,
   "id": "ff399450-8de7-4d55-b8fd-471a6e563121",
   "metadata": {},
   "outputs": [],
   "source": [
    "import torch\n",
    "import torch.nn as nn\n",
    "import torch.nn.functional as F\n",
    "import pandas as pd"
   ]
  },
  {
   "cell_type": "code",
   "execution_count": 6,
   "id": "bc3908cc-9203-4b10-beaf-07ad3c02d298",
   "metadata": {},
   "outputs": [
    {
     "name": "stdout",
     "output_type": "stream",
     "text": [
      "Number of Anchors: 1223\n"
     ]
    }
   ],
   "source": [
    "np_loader = conn.gds.nodepieceLoader(batch_size = 64,\n",
    "                                     compute_anchors = True,\n",
    "                                     anchor_percentage = 0.1,\n",
    "                                     v_feats = {\"Movie\": [], \"Actor\": [], \"Director\": []}, \n",
    "                                     target_vertex_types=[\"Movie\", \"Actor\", \"Director\"], \n",
    "                                     max_anchors=5,\n",
    "                                     max_relational_context=5,\n",
    "                                     clear_cache=True,\n",
    "                                     use_cache=True,\n",
    "                                     e_types=conn.getEdgeTypes(),\n",
    "                                     timeout=204_800_000)\n",
    "np_loader.precompute()"
   ]
  },
  {
   "cell_type": "code",
   "execution_count": 7,
   "id": "32e6109c-fdfa-4330-96c0-33dc42e858f3",
   "metadata": {
    "tags": []
   },
   "outputs": [],
   "source": [
    "def process_anchors(batch):\n",
    "    for v_type in batch.metadata()[0]:\n",
    "        batch_ancs = []\n",
    "        batch_dists = []\n",
    "        for v in batch[v_type][\"anchors\"]:\n",
    "            anchors = [np_loader.idToIdx[x] for x in v.keys()]\n",
    "            dists = [np_loader.idToIdx[\"dist_\"+v[str(y)]] for y in v.keys()]\n",
    "            dists = dists + [np_loader.idToIdx[\"PAD\"] for z in range(len(dists), np_loader._payload[\"max_anchors\"])]\n",
    "            anchors = anchors + [np_loader.idToIdx[\"PAD\"] for z in range(len(anchors), np_loader._payload[\"max_anchors\"])]\n",
    "            batch_ancs.append(torch.tensor(anchors, dtype=torch.long))\n",
    "            batch_dists.append(torch.tensor(dists, dtype=torch.long))\n",
    "        batch[v_type][\"anchors\"] = torch.stack(batch_ancs)\n",
    "        batch[v_type][\"distance\"] = torch.stack(batch_dists)\n",
    "    return batch"
   ]
  },
  {
   "cell_type": "code",
   "execution_count": 8,
   "id": "fb90f0d4-76bf-4a4f-af6c-8bfaed58f9ac",
   "metadata": {},
   "outputs": [],
   "source": [
    "# Hyperparameters\n",
    "hp = {\n",
    "    \"hidden_dim\": 128,\n",
    "    \"num_layers\": 2,\n",
    "    \"dropout\": 0.5,\n",
    "    \"lr\": 0.0005,\n",
    "    \"l2_penalty\": 0.01,\n",
    "    \"batch_size\": 128, \n",
    "    \"num_neighbors\": 10, \n",
    "    \"num_hops\": 2\n",
    "}"
   ]
  },
  {
   "cell_type": "code",
   "execution_count": 9,
   "id": "b880e1a0-b6c3-4081-9116-9c2c367dd278",
   "metadata": {},
   "outputs": [],
   "source": [
    "train_loader = conn.gds.neighborLoader(\n",
    "    v_in_feats={\"Movie\": [\"x\"], \"Actor\": [\"x\"], \"Director\": [\"x\"]}, \n",
    "    v_out_labels={\"Movie\": [\"y\"]},\n",
    "    v_extra_feats={\"Movie\": [\"train_mask\", \"val_mask\", \"test_mask\", \"anchors\"], \"Actor\": [\"anchors\"], \"Director\": [\"anchors\"]},\n",
    "    output_format=\"PyG\",\n",
    "    batch_size=hp[\"batch_size\"],\n",
    "    num_neighbors=hp[\"num_neighbors\"],\n",
    "    num_hops=hp[\"num_hops\"],\n",
    "    shuffle=True,\n",
    "    filter_by={\"Movie\":\"train_mask\"},\n",
    "    callback_fn = lambda x: process_anchors(x))"
   ]
  },
  {
   "cell_type": "code",
   "execution_count": 10,
   "id": "4231b2e8-0797-40fa-b63c-2c865e800be4",
   "metadata": {},
   "outputs": [],
   "source": [
    "valid_loader = conn.gds.neighborLoader(\n",
    "    v_in_feats={\"Movie\": [\"x\"], \"Actor\": [\"x\"], \"Director\": [\"x\"]}, \n",
    "    v_out_labels={\"Movie\": [\"y\"]},\n",
    "    v_extra_feats={\"Movie\": [\"train_mask\", \"val_mask\", \"test_mask\", \"anchors\"], \"Actor\": [\"anchors\"], \"Director\": [\"anchors\"]},\n",
    "    output_format=\"PyG\",\n",
    "    batch_size=hp[\"batch_size\"],\n",
    "    num_neighbors=hp[\"num_neighbors\"],\n",
    "    num_hops=hp[\"num_hops\"],\n",
    "    shuffle=True,\n",
    "    filter_by={\"Movie\":\"val_mask\"},\n",
    "    callback_fn = lambda x: process_anchors(x))"
   ]
  },
  {
   "cell_type": "code",
   "execution_count": 11,
   "id": "d4234330-4417-4230-8039-96c23c093759",
   "metadata": {},
   "outputs": [
    {
     "name": "stdout",
     "output_type": "stream",
     "text": [
      "HeteroData(\n",
      "  \u001b[1mMovie\u001b[0m={\n",
      "    x=[1085, 3066],\n",
      "    y=[1085],\n",
      "    train_mask=[1085],\n",
      "    val_mask=[1085],\n",
      "    test_mask=[1085],\n",
      "    anchors=[1085, 5],\n",
      "    is_seed=[1085],\n",
      "    distance=[1085, 5]\n",
      "  },\n",
      "  \u001b[1mActor\u001b[0m={\n",
      "    x=[260, 3066],\n",
      "    anchors=[260, 5],\n",
      "    is_seed=[260],\n",
      "    distance=[260, 5]\n",
      "  },\n",
      "  \u001b[1mDirector\u001b[0m={\n",
      "    x=[89, 3066],\n",
      "    anchors=[89, 5],\n",
      "    is_seed=[89],\n",
      "    distance=[89, 5]\n",
      "  },\n",
      "  \u001b[1m(Movie, movie_actor, Actor)\u001b[0m={ edge_index=[2, 279] },\n",
      "  \u001b[1m(Movie, movie_director, Director)\u001b[0m={ edge_index=[2, 93] },\n",
      "  \u001b[1m(Actor, actor_movie, Movie)\u001b[0m={ edge_index=[2, 1174] },\n",
      "  \u001b[1m(Director, director_movie, Movie)\u001b[0m={ edge_index=[2, 321] }\n",
      ")\n"
     ]
    }
   ],
   "source": [
    "for batch in train_loader:\n",
    "    print(batch)\n",
    "    break"
   ]
  },
  {
   "cell_type": "code",
   "execution_count": 12,
   "id": "f96fe01c-0a26-45e5-9257-352146fcf57b",
   "metadata": {},
   "outputs": [],
   "source": [
    "class BaseNodePiece(nn.Module):\n",
    "    def __init__(self, \n",
    "                 vocab_size:int,\n",
    "                 sequence_length:int,\n",
    "                 embedding_dim:int=128):\n",
    "        super().__init__()\n",
    "        self.embedding_dim = embedding_dim\n",
    "        self.sequence_length = sequence_length\n",
    "        self.embedding = nn.Embedding(vocab_size, embedding_dim)\n",
    "        torch.nn.init.xavier_uniform_(self.embedding.weight)\n",
    "\n",
    "    def forward(self, anchors, distances):\n",
    "        anc_emb = self.embedding(anchors)\n",
    "        anc_emb += self.embedding(distances)\n",
    "        return anc_emb"
   ]
  },
  {
   "cell_type": "code",
   "execution_count": 13,
   "id": "3f0a82ba-8b8f-4174-9b52-616ed5bdba2d",
   "metadata": {},
   "outputs": [],
   "source": [
    "import torch\n",
    "import torch.nn.functional as F\n",
    "from torch_geometric.nn import SAGEConv, to_hetero"
   ]
  },
  {
   "cell_type": "code",
   "execution_count": 14,
   "id": "0ec83899-79b4-4ae7-a06d-f2c08a13e5d5",
   "metadata": {},
   "outputs": [],
   "source": [
    "emb_model = BaseNodePiece(np_loader.num_tokens, np_loader._payload[\"max_rel_context\"] + np_loader._payload[\"max_anchors\"])"
   ]
  },
  {
   "cell_type": "code",
   "execution_count": 15,
   "id": "0863da44-a56b-41c7-a2fb-bb07ee72cc7a",
   "metadata": {},
   "outputs": [
    {
     "name": "stderr",
     "output_type": "stream",
     "text": [
      "/opt/conda/lib/python3.9/site-packages/torch_geometric/nn/to_hetero_transformer.py:295: UserWarning: 'embedding' will be duplicated, but its parameters cannot be reset. To suppress this warning, add a 'reset_parameters()' method to 'embedding'\n",
      "  warnings.warn(\n"
     ]
    }
   ],
   "source": [
    "device = torch.device(\"cuda\" if torch.cuda.is_available() else \"cpu\")\n",
    "\n",
    "# Create a normal (homogeneous) GAT model\n",
    "class GraphSAGE(torch.nn.Module):\n",
    "    def __init__(\n",
    "        self, num_features, num_layers, out_dim, dropout, hidden_dim\n",
    "    ):\n",
    "        super().__init__()\n",
    "        self.dropout = dropout\n",
    "        self.embedding = emb_model\n",
    "        self.layers = torch.nn.ModuleList()\n",
    "        for i in range(num_layers):\n",
    "            in_units = num_features if i == 0 else hidden_dim\n",
    "            out_units = out_dim if i == (num_layers - 1) else hidden_dim\n",
    "            self.layers.append(\n",
    "                SAGEConv(in_units, out_units)\n",
    "            )\n",
    "\n",
    "    def reset_parameters(self):\n",
    "        for layer in self.layers:\n",
    "            layer.reset_parameters()\n",
    "            \n",
    "    def get_embedding(self, x, edge_index, anchors, distances):\n",
    "        emb = self.embedding(anchors, distances)\n",
    "        x = x.float()\n",
    "        x = torch.concat([x, torch.flatten(emb, start_dim=1)], dim=1)\n",
    "        #x = torch.flatten(emb, start_dim=1)\n",
    "        for layer in self.layers[:-1]:\n",
    "            x = layer(x, edge_index)\n",
    "            x = F.elu(x)\n",
    "            x = F.dropout(x, p=self.dropout, training=self.training)\n",
    "        return x\n",
    "\n",
    "    def forward(self, x, edge_index, anchors, distances):\n",
    "        emb = self.embedding(anchors, distances)\n",
    "        x = x.float()\n",
    "        x = torch.concat([x, torch.flatten(emb, start_dim=1)], dim=1)\n",
    "        #x = torch.flatten(emb, start_dim=1)\n",
    "        for layer in self.layers[:-1]:\n",
    "            x = layer(x, edge_index)\n",
    "            x = F.elu(x)\n",
    "            x = F.dropout(x, p=self.dropout, training=self.training)\n",
    "        x = self.layers[-1](x, edge_index)\n",
    "        return x\n",
    "    \n",
    "model = GraphSAGE(\n",
    "    num_features=3066+(128*5),\n",
    "    num_layers=hp[\"num_layers\"],\n",
    "    out_dim=3,\n",
    "    dropout=hp[\"dropout\"],\n",
    "    hidden_dim=hp[\"hidden_dim\"],\n",
    ")\n",
    "\n",
    "# Convert it to a heterogeneous model. See https://pytorch-geometric.readthedocs.io/en/latest/modules/nn.html#torch_geometric.nn.to_hetero_transformer.to_hetero for details.\n",
    "metadata = (['Actor', 'Movie', 'Director'], \n",
    "            [('Actor', 'actor_movie', 'Movie'), \n",
    "             ('Movie', 'movie_actor', 'Actor'), \n",
    "             ('Movie', 'movie_director', 'Director'), \n",
    "             ('Director', 'director_movie', 'Movie')])\n",
    "model = to_hetero(model, metadata, aggr='sum').to(device)\n",
    "\n",
    "optimizer = torch.optim.Adam(\n",
    "    model.parameters(), lr=hp[\"lr\"], weight_decay=hp[\"l2_penalty\"]\n",
    ")"
   ]
  },
  {
   "cell_type": "code",
   "execution_count": 16,
   "id": "6f3e3ebe-de3c-486c-9a6e-136f4683d756",
   "metadata": {},
   "outputs": [
    {
     "data": {
      "text/plain": [
       "GraphModule(\n",
       "  (embedding): ModuleDict(\n",
       "    (Actor): BaseNodePiece(\n",
       "      (embedding): Embedding(1237, 128)\n",
       "    )\n",
       "    (Movie): BaseNodePiece(\n",
       "      (embedding): Embedding(1237, 128)\n",
       "    )\n",
       "    (Director): BaseNodePiece(\n",
       "      (embedding): Embedding(1237, 128)\n",
       "    )\n",
       "  )\n",
       "  (layers): ModuleList(\n",
       "    (0): ModuleDict(\n",
       "      (Actor__actor_movie__Movie): SAGEConv(3706, 128)\n",
       "      (Movie__movie_actor__Actor): SAGEConv(3706, 128)\n",
       "      (Movie__movie_director__Director): SAGEConv(3706, 128)\n",
       "      (Director__director_movie__Movie): SAGEConv(3706, 128)\n",
       "    )\n",
       "    (1): ModuleDict(\n",
       "      (Actor__actor_movie__Movie): SAGEConv(128, 3)\n",
       "      (Movie__movie_actor__Actor): SAGEConv(128, 3)\n",
       "      (Movie__movie_director__Director): SAGEConv(128, 3)\n",
       "      (Director__director_movie__Movie): SAGEConv(128, 3)\n",
       "    )\n",
       "  )\n",
       ")"
      ]
     },
     "execution_count": 16,
     "metadata": {},
     "output_type": "execute_result"
    }
   ],
   "source": [
    "model"
   ]
  },
  {
   "cell_type": "code",
   "execution_count": 17,
   "id": "cb1a964d-e5a9-41e8-9d34-ecf0ac091417",
   "metadata": {},
   "outputs": [
    {
     "name": "stderr",
     "output_type": "stream",
     "text": [
      "/opt/conda/lib/python3.9/site-packages/torch/utils/tensorboard/__init__.py:4: DeprecationWarning: distutils Version classes are deprecated. Use packaging.version instead.\n",
      "  if not hasattr(tensorboard, \"__version__\") or LooseVersion(\n"
     ]
    }
   ],
   "source": [
    "from datetime import datetime\n",
    "\n",
    "from pyTigerGraph.gds.metrics import Accumulator, Accuracy\n",
    "from torch.utils.tensorboard import SummaryWriter"
   ]
  },
  {
   "cell_type": "code",
   "execution_count": 18,
   "id": "cfbb89e3-32dd-4be0-8d3c-7043b08b8cfd",
   "metadata": {},
   "outputs": [
    {
     "name": "stdout",
     "output_type": "stream",
     "text": [
      "Epoch 0, Train Batch 0, Loss 1.1079, Accuracy 0.3333\n",
      "Epoch 0, Train Batch 1, Loss 1.1028, Accuracy 0.3420\n",
      "Epoch 0, Train Batch 2, Loss 1.0927, Accuracy 0.3527\n",
      "Epoch 0, Train Batch 3, Loss 1.0809, Accuracy 0.3650\n",
      "Epoch 0, Valid Loss 1.0732, Valid Accuracy 0.3975\n",
      "Epoch 1, Train Batch 0, Loss 1.0278, Accuracy 0.4298\n",
      "Epoch 1, Train Batch 1, Loss 0.9860, Accuracy 0.4862\n",
      "Epoch 1, Train Batch 2, Loss 0.9707, Accuracy 0.4904\n",
      "Epoch 1, Train Batch 3, Loss 0.9623, Accuracy 0.5075\n",
      "Epoch 1, Valid Loss 1.0524, Valid Accuracy 0.4225\n",
      "Epoch 2, Train Batch 0, Loss 0.9170, Accuracy 0.5922\n",
      "Epoch 2, Train Batch 1, Loss 0.9019, Accuracy 0.5949\n",
      "Epoch 2, Train Batch 2, Loss 0.8805, Accuracy 0.6589\n",
      "Epoch 2, Train Batch 3, Loss 0.8704, Accuracy 0.6925\n",
      "Epoch 2, Valid Loss 1.0490, Valid Accuracy 0.4600\n",
      "Epoch 3, Train Batch 0, Loss 0.7794, Accuracy 0.8636\n",
      "Epoch 3, Train Batch 1, Loss 0.8013, Accuracy 0.8009\n",
      "Epoch 3, Train Batch 2, Loss 0.7928, Accuracy 0.7966\n",
      "Epoch 3, Train Batch 3, Loss 0.7745, Accuracy 0.8025\n",
      "Epoch 3, Valid Loss 1.0315, Valid Accuracy 0.4425\n",
      "Epoch 4, Train Batch 0, Loss 0.7003, Accuracy 0.8246\n",
      "Epoch 4, Train Batch 1, Loss 0.6980, Accuracy 0.8169\n",
      "Epoch 4, Train Batch 2, Loss 0.6902, Accuracy 0.8133\n",
      "Epoch 4, Train Batch 3, Loss 0.6981, Accuracy 0.7975\n",
      "Epoch 4, Valid Loss 1.0246, Valid Accuracy 0.4550\n",
      "Epoch 5, Train Batch 0, Loss 0.6619, Accuracy 0.8140\n",
      "Epoch 5, Train Batch 1, Loss 0.6315, Accuracy 0.8689\n",
      "Epoch 5, Train Batch 2, Loss 0.6174, Accuracy 0.8770\n",
      "Epoch 5, Train Batch 3, Loss 0.6160, Accuracy 0.8900\n",
      "Epoch 5, Valid Loss 1.0083, Valid Accuracy 0.4750\n",
      "Epoch 6, Train Batch 0, Loss 0.5752, Accuracy 0.9099\n",
      "Epoch 6, Train Batch 1, Loss 0.5475, Accuracy 0.9420\n",
      "Epoch 6, Train Batch 2, Loss 0.5407, Accuracy 0.9579\n",
      "Epoch 6, Train Batch 3, Loss 0.5454, Accuracy 0.9500\n",
      "Epoch 6, Valid Loss 1.0078, Valid Accuracy 0.5075\n",
      "Epoch 7, Train Batch 0, Loss 0.5167, Accuracy 0.9358\n",
      "Epoch 7, Train Batch 1, Loss 0.5141, Accuracy 0.9481\n",
      "Epoch 7, Train Batch 2, Loss 0.4805, Accuracy 0.9590\n",
      "Epoch 7, Train Batch 3, Loss 0.4779, Accuracy 0.9675\n",
      "Epoch 7, Valid Loss 1.0063, Valid Accuracy 0.4750\n",
      "Epoch 8, Train Batch 0, Loss 0.4572, Accuracy 1.0000\n",
      "Epoch 8, Train Batch 1, Loss 0.4276, Accuracy 0.9899\n",
      "Epoch 8, Train Batch 2, Loss 0.4177, Accuracy 0.9828\n",
      "Epoch 8, Train Batch 3, Loss 0.4186, Accuracy 0.9750\n",
      "Epoch 8, Valid Loss 0.9978, Valid Accuracy 0.4775\n",
      "Epoch 9, Train Batch 0, Loss 0.3715, Accuracy 0.9789\n",
      "Epoch 9, Train Batch 1, Loss 0.3625, Accuracy 0.9781\n",
      "Epoch 9, Train Batch 2, Loss 0.3761, Accuracy 0.9762\n",
      "Epoch 9, Train Batch 3, Loss 0.3661, Accuracy 0.9825\n",
      "Epoch 9, Valid Loss 1.0043, Valid Accuracy 0.4825\n"
     ]
    }
   ],
   "source": [
    "log_dir = \"logs/imdb/hgat/subgraph/\" + datetime.now().strftime(\"%Y%m%d-%H%M%S\")\n",
    "train_log = SummaryWriter(log_dir+\"/train\")\n",
    "valid_log = SummaryWriter(log_dir+\"/valid\")\n",
    "global_steps = 0\n",
    "logs = {}\n",
    "for epoch in range(10):\n",
    "    # Train\n",
    "    model.train()\n",
    "    epoch_train_loss = Accumulator()\n",
    "    epoch_train_acc = Accuracy()\n",
    "    # Iterate through the loader to get a stream of subgraphs instead of the whole graph\n",
    "    for bid, batch in enumerate(train_loader):\n",
    "        batchsize = batch[\"Movie\"].x.shape[0]\n",
    "        batch.to(device)\n",
    "        # Forward pass\n",
    "        out = model(batch.x_dict, batch.edge_index_dict, batch.anchors_dict, batch.distance_dict)\n",
    "        # Calculate loss\n",
    "        mask = batch[\"Movie\"].is_seed\n",
    "        loss = F.cross_entropy(out[\"Movie\"][mask], batch[\"Movie\"].y[mask])\n",
    "        # Backward pass\n",
    "        optimizer.zero_grad()\n",
    "        loss.backward()\n",
    "        optimizer.step()\n",
    "        epoch_train_loss.update(loss.item() * batchsize, batchsize)\n",
    "        # Predict on training data\n",
    "        with torch.no_grad():\n",
    "            pred = out[\"Movie\"].argmax(dim=1)\n",
    "            epoch_train_acc.update(pred[mask], batch[\"Movie\"].y[mask])\n",
    "        # Log training status after each batch\n",
    "        logs[\"loss\"] = epoch_train_loss.mean\n",
    "        logs[\"acc\"] = epoch_train_acc.value\n",
    "        print(\n",
    "            \"Epoch {}, Train Batch {}, Loss {:.4f}, Accuracy {:.4f}\".format(\n",
    "                epoch, bid, logs[\"loss\"], logs[\"acc\"]\n",
    "            )\n",
    "        )\n",
    "        train_log.add_scalar(\"Loss\", logs[\"loss\"], global_steps)\n",
    "        train_log.add_scalar(\"Accuracy\", logs[\"acc\"], global_steps)\n",
    "        train_log.flush()\n",
    "        global_steps += 1\n",
    "    # Evaluate\n",
    "    model.eval()\n",
    "    epoch_val_loss = Accumulator()\n",
    "    epoch_val_acc = Accuracy()\n",
    "    for batch in valid_loader:\n",
    "        batchsize = batch[\"Movie\"].x.shape[0]\n",
    "        batch.to(device)\n",
    "        with torch.no_grad():\n",
    "            # Forward pass\n",
    "            out = model(batch.x_dict, batch.edge_index_dict, batch.anchors_dict, batch.distance_dict)\n",
    "            # Calculate loss\n",
    "            mask = batch[\"Movie\"].is_seed\n",
    "            valid_loss = F.cross_entropy(out[\"Movie\"][mask], batch[\"Movie\"].y[mask])\n",
    "            epoch_val_loss.update(valid_loss.item() * batchsize, batchsize)\n",
    "            # Prediction\n",
    "            pred = out[\"Movie\"].argmax(dim=1)\n",
    "            epoch_val_acc.update(pred[mask], batch[\"Movie\"].y[mask])\n",
    "    # Log testing result after each epoch\n",
    "    logs[\"val_loss\"] = epoch_val_loss.mean\n",
    "    logs[\"val_acc\"] = epoch_val_acc.value\n",
    "    print(\n",
    "        \"Epoch {}, Valid Loss {:.4f}, Valid Accuracy {:.4f}\".format(\n",
    "            epoch, logs[\"val_loss\"], logs[\"val_acc\"]\n",
    "        )\n",
    "    )\n",
    "    valid_log.add_scalar(\"Loss\", logs[\"val_loss\"], global_steps)\n",
    "    valid_log.add_scalar(\"Accuracy\", logs[\"val_acc\"], global_steps)\n",
    "    valid_log.flush()"
   ]
  },
  {
   "cell_type": "code",
   "execution_count": 19,
   "id": "02cceb89-6cee-460f-ac77-e610d23f5322",
   "metadata": {},
   "outputs": [],
   "source": [
    "test_loader = conn.gds.neighborLoader(\n",
    "    v_in_feats={\"Movie\": [\"x\"], \"Actor\": [\"x\"], \"Director\": [\"x\"]}, \n",
    "    v_out_labels={\"Movie\": [\"y\"]},\n",
    "    v_extra_feats={\"Movie\": [\"train_mask\", \"val_mask\", \"test_mask\", \"anchors\"], \"Actor\": [\"anchors\"], \"Director\": [\"anchors\"]},\n",
    "    output_format=\"PyG\",\n",
    "    batch_size=hp[\"batch_size\"],\n",
    "    num_neighbors=hp[\"num_neighbors\"],\n",
    "    num_hops=hp[\"num_hops\"],\n",
    "    shuffle=True,\n",
    "    filter_by={\"Movie\":\"test_mask\"},\n",
    "    callback_fn = lambda x: process_anchors(x))"
   ]
  },
  {
   "cell_type": "code",
   "execution_count": 20,
   "id": "27b64562-d9aa-4ff0-9f43-233bb58b342c",
   "metadata": {},
   "outputs": [
    {
     "name": "stdout",
     "output_type": "stream",
     "text": [
      "Accuracy: 0.4882\n"
     ]
    }
   ],
   "source": [
    "model.eval()\n",
    "acc = Accuracy()\n",
    "for batch in test_loader:\n",
    "    batch.to(device)\n",
    "    with torch.no_grad():\n",
    "        pred = model(batch.x_dict, batch.edge_index_dict, batch.anchors_dict, batch.distance_dict)[\"Movie\"].argmax(dim=1)\n",
    "        mask = batch[\"Movie\"].is_seed\n",
    "        acc.update(pred[mask], batch[\"Movie\"].y[mask])\n",
    "print(\"Accuracy: {:.4f}\".format(acc.value))"
   ]
  },
  {
   "cell_type": "code",
   "execution_count": 21,
   "id": "e77eb4ba-bf26-41a0-9e28-0717e377726b",
   "metadata": {},
   "outputs": [],
   "source": [
    "infer_loader = conn.gds.neighborLoader(\n",
    "    v_in_feats={\"Movie\": [\"x\"], \"Actor\": [\"x\"], \"Director\": [\"x\"]}, \n",
    "    v_out_labels={\"Movie\": [\"y\"]},\n",
    "    v_extra_feats={\"Movie\": [\"train_mask\", \"val_mask\", \"test_mask\", \"anchors\"], \"Actor\": [\"anchors\"], \"Director\": [\"anchors\"]},\n",
    "    output_format=\"PyG\",\n",
    "    batch_size=hp[\"batch_size\"],\n",
    "    num_neighbors=hp[\"num_neighbors\"],\n",
    "    num_hops=hp[\"num_hops\"],\n",
    "    shuffle=False,\n",
    "    filter_by={\"Movie\":\"test_mask\"},\n",
    "    callback_fn = lambda x: process_anchors(x))"
   ]
  },
  {
   "cell_type": "code",
   "execution_count": 22,
   "id": "4dcdd55d-f9f7-447b-abd0-4917ca050f0c",
   "metadata": {},
   "outputs": [],
   "source": [
    "# Fetch specific nodes by their IDs and do prediction. \n",
    "# Each node is represented by a dict with two mandatory keys: primary_id and type.\n",
    "input_nodes = [{\"primary_id\": 7, \"type\": \"Movie\"}, \n",
    "               {\"primary_id\": 55, \"type\": \"Movie\"}]\n",
    "data = infer_loader.fetch(input_nodes)"
   ]
  },
  {
   "cell_type": "code",
   "execution_count": 23,
   "id": "4fadc6e0-3aed-42e0-bf99-990c49453189",
   "metadata": {},
   "outputs": [
    {
     "data": {
      "text/plain": [
       "HeteroData(\n",
       "  \u001b[1mMovie\u001b[0m={\n",
       "    x=[54, 3066],\n",
       "    y=[54],\n",
       "    train_mask=[54],\n",
       "    val_mask=[54],\n",
       "    test_mask=[54],\n",
       "    anchors=[54, 5],\n",
       "    is_seed=[54],\n",
       "    primary_id=[54],\n",
       "    distance=[54, 5]\n",
       "  },\n",
       "  \u001b[1mActor\u001b[0m={\n",
       "    x=[6, 3066],\n",
       "    anchors=[6, 5],\n",
       "    is_seed=[6],\n",
       "    primary_id=[6],\n",
       "    distance=[6, 5]\n",
       "  },\n",
       "  \u001b[1mDirector\u001b[0m={\n",
       "    x=[2, 3066],\n",
       "    anchors=[2, 5],\n",
       "    is_seed=[2],\n",
       "    primary_id=[2],\n",
       "    distance=[2, 5]\n",
       "  },\n",
       "  \u001b[1m(Movie, movie_actor, Actor)\u001b[0m={ edge_index=[2, 6] },\n",
       "  \u001b[1m(Movie, movie_director, Director)\u001b[0m={ edge_index=[2, 2] },\n",
       "  \u001b[1m(Actor, actor_movie, Movie)\u001b[0m={ edge_index=[2, 54] },\n",
       "  \u001b[1m(Director, director_movie, Movie)\u001b[0m={ edge_index=[2, 11] }\n",
       ")"
      ]
     },
     "execution_count": 23,
     "metadata": {},
     "output_type": "execute_result"
    }
   ],
   "source": [
    "data"
   ]
  },
  {
   "cell_type": "code",
   "execution_count": 24,
   "id": "0041c079-96ad-4e60-bd04-f57e776204c9",
   "metadata": {},
   "outputs": [
    {
     "name": "stdout",
     "output_type": "stream",
     "text": [
      "ID: Label\n",
      "55:0\n",
      "7:0\n",
      "4157:1\n",
      "326:0\n",
      "1239:1\n",
      "3597:2\n",
      "1346:1\n",
      "89:0\n",
      "464:0\n",
      "2263:1\n",
      "1863:0\n",
      "111:0\n",
      "3718:1\n",
      "3242:2\n",
      "553:1\n",
      "387:0\n",
      "1074:0\n",
      "9:0\n",
      "1940:2\n",
      "1901:0\n",
      "1206:0\n",
      "2382:2\n",
      "1858:1\n",
      "1543:2\n",
      "178:0\n",
      "211:2\n",
      "963:2\n",
      "3983:2\n",
      "633:0\n",
      "69:0\n",
      "3150:1\n",
      "2429:0\n",
      "70:0\n",
      "588:1\n",
      "520:2\n",
      "1116:0\n",
      "1452:0\n",
      "712:0\n",
      "15:0\n",
      "3124:0\n",
      "2789:1\n",
      "3137:2\n",
      "1433:1\n",
      "2077:2\n",
      "138:1\n",
      "22:0\n",
      "40:0\n",
      "3454:2\n",
      "3174:0\n",
      "1673:0\n",
      "2897:2\n",
      "109:0\n",
      "768:1\n",
      "2184:1\n"
     ]
    }
   ],
   "source": [
    "# Predict. Predictions for both the input nodes and others in their \n",
    "# neighborhoods are generated.\n",
    "model.eval()\n",
    "pred = model(data.x_dict, data.edge_index_dict, data.anchors_dict, data.distance_dict)[\"Movie\"].argmax(dim=1)\n",
    "print(\"ID: Label\")\n",
    "for i,j in zip(data[\"Movie\"].primary_id, pred):\n",
    "    print(\"{}:{}\".format(i, j.item()))"
   ]
  },
  {
   "cell_type": "code",
   "execution_count": 25,
   "id": "a9841d7c-dcc0-4223-a93a-328b91c2669b",
   "metadata": {},
   "outputs": [],
   "source": [
    "df = conn.getVertexDataFrame(\"Movie\", limit=1_000)"
   ]
  },
  {
   "cell_type": "code",
   "execution_count": 26,
   "id": "0ccde7b0-6ffd-4cf8-8a54-145790ce4404",
   "metadata": {},
   "outputs": [],
   "source": [
    "sample = [{\"primary_id\": x, \"type\": \"Movie\"} for x in df[\"v_id\"]]"
   ]
  },
  {
   "cell_type": "code",
   "execution_count": 27,
   "id": "36c1760c-a591-494f-bb72-bf0ca2464f2a",
   "metadata": {},
   "outputs": [],
   "source": [
    "batch = infer_loader.fetch(sample)"
   ]
  },
  {
   "cell_type": "code",
   "execution_count": 28,
   "id": "dd7dd987-b7fd-4642-a3f8-dd2a6efe5411",
   "metadata": {},
   "outputs": [],
   "source": [
    "embeddings = model.embedding[\"Movie\"](batch.anchors_dict[\"Movie\"], batch.distance_dict[\"Movie\"]).flatten(start_dim=1)[batch[\"Movie\"].is_seed]"
   ]
  },
  {
   "cell_type": "code",
   "execution_count": 29,
   "id": "af84ffc7-5014-4159-a4fc-a7dcc45e42b4",
   "metadata": {},
   "outputs": [
    {
     "data": {
      "text/plain": [
       "torch.Size([1000, 640])"
      ]
     },
     "execution_count": 29,
     "metadata": {},
     "output_type": "execute_result"
    }
   ],
   "source": [
    "embeddings.shape"
   ]
  },
  {
   "cell_type": "code",
   "execution_count": 30,
   "id": "004ff3ab-e2b0-41b7-8e39-b2b401ec429e",
   "metadata": {},
   "outputs": [],
   "source": [
    "import umap.umap_ as umap\n",
    "\n",
    "embd_x = umap.UMAP().fit_transform(embeddings.detach().numpy())"
   ]
  },
  {
   "cell_type": "code",
   "execution_count": 31,
   "id": "5ecd3577-b5f4-4e4e-baa6-cc5e885f434f",
   "metadata": {},
   "outputs": [
    {
     "data": {
      "image/png": "[encoded data removed]",
      "text/plain": [
       "<Figure size 800x800 with 1 Axes>"
      ]
     },
     "metadata": {},
     "output_type": "display_data"
    }
   ],
   "source": [
    "import matplotlib.pyplot as plt\n",
    "import seaborn as sns\n",
    "fig, axs = plt.subplots(nrows=1, ncols=1, figsize=(8,8))\n",
    "sns.set(font_scale=1)\n",
    "\n",
    "palette = {}\n",
    "for n, i in enumerate(set([0, 1, 2])):\n",
    "    palette[i] = f'C{n}'\n",
    "    \n",
    "sns.scatterplot(ax=axs, x=embd_x.T[0], y=embd_x.T[1], hue=df[\"y\"], palette=palette)\n",
    "axs.get_legend().remove()\n",
    "plt.title(\"NodePiece Embeddings Colored by Classification\", fontsize=18)\n",
    "\n",
    "plt.show()"
   ]
  },
  {
   "cell_type": "code",
   "execution_count": null,
   "id": "628c1314-d86b-4190-9799-5abcde5bf8d8",
   "metadata": {},
   "outputs": [],
   "source": []
  }
 ],
 "metadata": {
  "kernelspec": {
   "display_name": "PyTorch",
   "language": "python",
   "name": "python3"
  },
  "language_info": {
   "codemirror_mode": {
    "name": "ipython",
    "version": 3
   },
   "file_extension": ".py",
   "mimetype": "text/x-python",
   "name": "python",
   "nbconvert_exporter": "python",
   "pygments_lexer": "ipython3",
   "version": "3.9.13"
  }
 },
 "nbformat": 4,
 "nbformat_minor": 5
}
