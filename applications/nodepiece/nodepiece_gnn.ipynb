{
 "cells": [
  {
   "cell_type": "code",
   "execution_count": 1,
   "id": "d883ff1e-fa69-44f7-9746-4ada262fa0ec",
   "metadata": {},
   "outputs": [
    {
     "name": "stdout",
     "output_type": "stream",
     "text": [
      "Found existing installation: pyTigerGraph 1.2.6\n",
      "Uninstalling pyTigerGraph-1.2.6:\n",
      "  Successfully uninstalled pyTigerGraph-1.2.6\n",
      "Collecting git+https://github.com/tigergraph/pyTigerGraph.git\n",
      "  Cloning https://github.com/tigergraph/pyTigerGraph.git to /tmp/pip-req-build-jd_wqmo6\n",
      "  Running command git clone --filter=blob:none --quiet https://github.com/tigergraph/pyTigerGraph.git /tmp/pip-req-build-jd_wqmo6\n",
      "  Resolved https://github.com/tigergraph/pyTigerGraph.git to commit 886de415393d16d7ffab8f90824d2a7e34b8b16a\n",
      "  Installing build dependencies ... \u001b[?25ldone\n",
      "\u001b[?25h  Getting requirements to build wheel ... \u001b[?25ldone\n",
      "\u001b[?25h  Preparing metadata (pyproject.toml) ... \u001b[?25ldone\n",
      "\u001b[?25hRequirement already satisfied: requests in /opt/conda/lib/python3.9/site-packages (from pyTigerGraph==1.2.6) (2.28.1)\n",
      "Requirement already satisfied: pyTigerDriver in /opt/conda/lib/python3.9/site-packages (from pyTigerGraph==1.2.6) (1.0.15)\n",
      "Requirement already satisfied: validators in /opt/conda/lib/python3.9/site-packages (from pyTigerGraph==1.2.6) (0.20.0)\n",
      "Requirement already satisfied: idna<4,>=2.5 in /opt/conda/lib/python3.9/site-packages (from requests->pyTigerGraph==1.2.6) (3.4)\n",
      "Requirement already satisfied: urllib3<1.27,>=1.21.1 in /opt/conda/lib/python3.9/site-packages (from requests->pyTigerGraph==1.2.6) (1.26.11)\n",
      "Requirement already satisfied: certifi>=2017.4.17 in /opt/conda/lib/python3.9/site-packages (from requests->pyTigerGraph==1.2.6) (2022.9.24)\n",
      "Requirement already satisfied: charset-normalizer<3,>=2 in /opt/conda/lib/python3.9/site-packages (from requests->pyTigerGraph==1.2.6) (2.1.1)\n",
      "Requirement already satisfied: decorator>=3.4.0 in /opt/conda/lib/python3.9/site-packages (from validators->pyTigerGraph==1.2.6) (5.1.1)\n",
      "Building wheels for collected packages: pyTigerGraph\n",
      "  Building wheel for pyTigerGraph (pyproject.toml) ... \u001b[?25ldone\n",
      "\u001b[?25h  Created wheel for pyTigerGraph: filename=pyTigerGraph-1.2.6-py3-none-any.whl size=135918 sha256=e55deb6cea85cded360af16caa5886e2275b8e570a4799732fb69abf7b5eb6ad\n",
      "  Stored in directory: /tmp/pip-ephem-wheel-cache-7606alh1/wheels/cc/41/7a/6b8eee74c439c99b3cdb01357d4b426b9a18e51e9571b28b18\n",
      "Successfully built pyTigerGraph\n",
      "Installing collected packages: pyTigerGraph\n",
      "Successfully installed pyTigerGraph-1.2.6\n"
     ]
    }
   ],
   "source": [
    "!pip uninstall pyTigerGraph -y\n",
    "!pip install git+https://github.com/tigergraph/pyTigerGraph.git --no-cache"
   ]
  },
  {
   "cell_type": "markdown",
   "id": "2f5a010e",
   "metadata": {},
   "source": [
    "# NodePiece - Heterogenous GraphSAGE\n",
    "This notebook demonstrates the training of a Heterogenous GraphSAGE model with trainable embeddings using the NodePiece algorithm.  We train the model on the IMDB dataset from [PyG datasets](https://pytorch-geometric.readthedocs.io/en/latest/modules/datasets.html#torch_geometric.datasets.IMDB) with TigerGraph as the data store. The dataset contains 3 types of vertices: 4278 movies, 5257 actors, and 2081 directors; and 4 types of edges: 12828 actor to movie edges, 12828 movie to actor edges, 4278 director to movie edges, and 4278 movie to director edges. Each vertex is described by a 0/1-valued word vector indicating the absence/presence of the corresponding keywords from the plot (for movie) or from movies they participated (for actors and directors). Each movie is classified into one of three classes, action, comedy, and drama according to their genre. The goal is to predict the class of each movie in the graph."
   ]
  },
  {
   "cell_type": "markdown",
   "id": "3ba2dee4",
   "metadata": {},
   "source": [
    "## Table of Contents\n",
    "* [Data Processing](#data_processing)  \n",
    "* [NodePiece Algorithm](#nodepiece_algorithm)\n",
    "* [Train on neighborhood subgraphs](#train_subgraph)  \n",
    "* [Inference](#inference)\n",
    "* [Embedding Visualization](#viz)"
   ]
  },
  {
   "cell_type": "markdown",
   "id": "db2cb7d8",
   "metadata": {},
   "source": [
    "## Data Processing <a name=\"data_processing\"></a>"
   ]
  },
  {
   "cell_type": "markdown",
   "id": "3fd18792",
   "metadata": {},
   "source": [
    "### Connect to TigerGraph\n",
    "\n",
    "The `TigerGraphConnection` class represents a connection to the TigerGraph database. Under the hood, it stores the necessary information to communicate with the database. It is able to perform quite a few database tasks. Please see its [documentation](https://docs.tigergraph.com/pytigergraph/current/intro/) for details.\n",
    "\n",
    "To connect your database, modify the `config.json` file accompanying this notebook. Set the value of `getToken` based on whether token auth is enabled for your database. Token auth is always enabled for tgcloud databases. "
   ]
  },
  {
   "cell_type": "code",
   "execution_count": 2,
   "id": "abb1a8bb-8d0b-4a3a-b3f0-58c9b1280087",
   "metadata": {},
   "outputs": [],
   "source": [
    "from pyTigerGraph import TigerGraphConnection\n",
    "import json\n",
    "\n",
    "# Read in DB configs\n",
    "with open('../config.json', \"r\") as config_file:\n",
    "    config = json.load(config_file)\n",
    "    \n",
    "conn = TigerGraphConnection(\n",
    "    host=config[\"host\"],\n",
    "    username=config[\"username\"],\n",
    "    password=config[\"password\"]\n",
    ")"
   ]
  },
  {
   "cell_type": "markdown",
   "id": "798ff2cc",
   "metadata": {},
   "source": [
    "### Ingest Data"
   ]
  },
  {
   "cell_type": "code",
   "execution_count": 3,
   "id": "f58e7087-dd9c-443f-b3e7-f0c9a4f87452",
   "metadata": {},
   "outputs": [
    {
     "name": "stdout",
     "output_type": "stream",
     "text": [
      "A folder with name imdb already exists in ./tmp. Skip downloading.\n",
      "---- Checking database ----\n",
      "A graph with name imdb already exists in the database. Skip ingestion.\n",
      "Graph name is set to imdb for this connection.\n"
     ]
    }
   ],
   "source": [
    "from pyTigerGraph.datasets import Datasets\n",
    "\n",
    "dataset = Datasets(\"imdb\")\n",
    "\n",
    "conn.ingestDataset(dataset, getToken=config[\"getToken\"])"
   ]
  },
  {
   "cell_type": "markdown",
   "id": "b821dc06",
   "metadata": {},
   "source": [
    "### Visualize Schema"
   ]
  },
  {
   "cell_type": "code",
   "execution_count": 4,
   "id": "f6fefd34-5fe6-4b97-9f2d-e9fc07d2ff07",
   "metadata": {},
   "outputs": [
    {
     "data": {
      "application/vnd.jupyter.widget-view+json": {
       "model_id": "081ddb3b31d24fa4909e87c31cc8b058",
       "version_major": 2,
       "version_minor": 0
      },
      "text/plain": [
       "CytoscapeWidget(cytoscape_layout={'name': 'circle', 'animate': True, 'padding': 1}, cytoscape_style=[{'selecto…"
      ]
     },
     "execution_count": 4,
     "metadata": {},
     "output_type": "execute_result"
    }
   ],
   "source": [
    "from pyTigerGraph.visualization import drawSchema\n",
    "\n",
    "drawSchema(conn.getSchema(force=True))"
   ]
  },
  {
   "cell_type": "markdown",
   "id": "c695e9c3",
   "metadata": {},
   "source": [
    "## NodePiece Algorithm <a name=\"nodepiece_algorithm\"></a>"
   ]
  },
  {
   "cell_type": "markdown",
   "id": "6d676fb9",
   "metadata": {},
   "source": [
    "The [NodePiece algorithm](https://arxiv.org/abs/2106.12144) was introduced as a way to both conserve the memory cost of vertex embeddings, as well as be able to generalize to unseen vertices during the testing process. This makes NodePiece a much more scalable approach for large, real-world graphs compared to other transductive techniques such as FastRP or Node2Vec. For more information about the algorithm, check out the author's [Medium post](https://towardsdatascience.com/nodepiece-tokenizing-knowledge-graphs-6dd2b91847aa).\n",
    "\n",
    "We implement the NodePiece dataloader, and take advantage of its `precompute()` method. This stores the closest anchor vertices to each vertex as an attribute on each vertex. This attribute will then be consumed later in our Neighbor Sampler."
   ]
  },
  {
   "cell_type": "code",
   "execution_count": 5,
   "id": "ff399450-8de7-4d55-b8fd-471a6e563121",
   "metadata": {},
   "outputs": [],
   "source": [
    "import torch\n",
    "import torch.nn as nn\n",
    "import torch.nn.functional as F\n",
    "import pandas as pd"
   ]
  },
  {
   "cell_type": "code",
   "execution_count": 6,
   "id": "bc3908cc-9203-4b10-beaf-07ad3c02d298",
   "metadata": {},
   "outputs": [
    {
     "name": "stdout",
     "output_type": "stream",
     "text": [
      "Number of Anchors: 1161\n"
     ]
    }
   ],
   "source": [
    "np_loader = conn.gds.nodepieceLoader(batch_size = 64,\n",
    "                                     compute_anchors = True,\n",
    "                                     anchor_percentage = 0.1,\n",
    "                                     v_feats = {\"Movie\": [], \"Actor\": [], \"Director\": []}, \n",
    "                                     target_vertex_types=[\"Movie\", \"Actor\", \"Director\"], \n",
    "                                     max_anchors=5,\n",
    "                                     max_relational_context=5,\n",
    "                                     clear_cache=True,\n",
    "                                     use_cache=True,\n",
    "                                     e_types=conn.getEdgeTypes(),\n",
    "                                     timeout=204_800_000)\n",
    "np_loader.precompute()"
   ]
  },
  {
   "cell_type": "code",
   "execution_count": 7,
   "id": "32e6109c-fdfa-4330-96c0-33dc42e858f3",
   "metadata": {
    "tags": []
   },
   "outputs": [],
   "source": [
    "def process_anchors(batch):\n",
    "    for v_type in batch.metadata()[0]:\n",
    "        batch_ancs = []\n",
    "        batch_dists = []\n",
    "        for v in batch[v_type][\"anchors\"]:\n",
    "            anchors = [np_loader.idToIdx[x] for x in v.keys()]\n",
    "            dists = [np_loader.idToIdx[\"dist_\"+v[str(y)]] for y in v.keys()]\n",
    "            dists = dists + [np_loader.idToIdx[\"PAD\"] for z in range(len(dists), np_loader._payload[\"max_anchors\"])]\n",
    "            anchors = anchors + [np_loader.idToIdx[\"PAD\"] for z in range(len(anchors), np_loader._payload[\"max_anchors\"])]\n",
    "            batch_ancs.append(torch.tensor(anchors, dtype=torch.long))\n",
    "            batch_dists.append(torch.tensor(dists, dtype=torch.long))\n",
    "        batch[v_type][\"anchors\"] = torch.stack(batch_ancs)\n",
    "        batch[v_type][\"distance\"] = torch.stack(batch_dists)\n",
    "    return batch"
   ]
  },
  {
   "cell_type": "code",
   "execution_count": 8,
   "id": "fb90f0d4-76bf-4a4f-af6c-8bfaed58f9ac",
   "metadata": {},
   "outputs": [],
   "source": [
    "# Hyperparameters\n",
    "hp = {\n",
    "    \"hidden_dim\": 128,\n",
    "    \"num_layers\": 2,\n",
    "    \"dropout\": 0.5,\n",
    "    \"lr\": 0.0005,\n",
    "    \"l2_penalty\": 0.01,\n",
    "    \"batch_size\": 128, \n",
    "    \"num_neighbors\": 10, \n",
    "    \"num_hops\": 2\n",
    "}"
   ]
  },
  {
   "cell_type": "markdown",
   "id": "9d3965a5",
   "metadata": {},
   "source": [
    "## Train on Neighborhood Subgraphs <a name=\"train_subgraph\"></a>\n",
    "We train the model on the neighborhood subgraphs. Each subgraph contains the 2 hop neighborhood of certain seed vertices. This method will allow us to train the model on graphs that are way larger than the IMDB dataset because we don't load the whole graph into memory all at once. We get both the feature vectors for each vertex (`x`), as well as their closest anchors in the `v_extra_feats` parameter. We then utilize the dataloader's callback functionality to process the anchor dictionary before the batch is passed into the training loop.\n"
   ]
  },
  {
   "cell_type": "code",
   "execution_count": 9,
   "id": "b880e1a0-b6c3-4081-9116-9c2c367dd278",
   "metadata": {},
   "outputs": [],
   "source": [
    "train_loader = conn.gds.neighborLoader(\n",
    "    v_in_feats={\"Movie\": [\"x\"], \"Actor\": [\"x\"], \"Director\": [\"x\"]}, \n",
    "    v_out_labels={\"Movie\": [\"y\"]},\n",
    "    v_extra_feats={\"Movie\": [\"train_mask\", \"val_mask\", \"test_mask\", \"anchors\"], \"Actor\": [\"anchors\"], \"Director\": [\"anchors\"]},\n",
    "    output_format=\"PyG\",\n",
    "    batch_size=hp[\"batch_size\"],\n",
    "    num_neighbors=hp[\"num_neighbors\"],\n",
    "    num_hops=hp[\"num_hops\"],\n",
    "    shuffle=True,\n",
    "    filter_by={\"Movie\":\"train_mask\"},\n",
    "    callback_fn = lambda x: process_anchors(x))"
   ]
  },
  {
   "cell_type": "code",
   "execution_count": 10,
   "id": "4231b2e8-0797-40fa-b63c-2c865e800be4",
   "metadata": {},
   "outputs": [],
   "source": [
    "valid_loader = conn.gds.neighborLoader(\n",
    "    v_in_feats={\"Movie\": [\"x\"], \"Actor\": [\"x\"], \"Director\": [\"x\"]}, \n",
    "    v_out_labels={\"Movie\": [\"y\"]},\n",
    "    v_extra_feats={\"Movie\": [\"train_mask\", \"val_mask\", \"test_mask\", \"anchors\"], \"Actor\": [\"anchors\"], \"Director\": [\"anchors\"]},\n",
    "    output_format=\"PyG\",\n",
    "    batch_size=hp[\"batch_size\"],\n",
    "    num_neighbors=hp[\"num_neighbors\"],\n",
    "    num_hops=hp[\"num_hops\"],\n",
    "    shuffle=True,\n",
    "    filter_by={\"Movie\":\"val_mask\"},\n",
    "    callback_fn = lambda x: process_anchors(x))"
   ]
  },
  {
   "cell_type": "code",
   "execution_count": 11,
   "id": "d4234330-4417-4230-8039-96c23c093759",
   "metadata": {},
   "outputs": [
    {
     "name": "stdout",
     "output_type": "stream",
     "text": [
      "HeteroData(\n",
      "  \u001b[1mMovie\u001b[0m={\n",
      "    x=[1001, 3066],\n",
      "    y=[1001],\n",
      "    train_mask=[1001],\n",
      "    val_mask=[1001],\n",
      "    test_mask=[1001],\n",
      "    anchors=[1001, 5],\n",
      "    is_seed=[1001],\n",
      "    distance=[1001, 5]\n",
      "  },\n",
      "  \u001b[1mActor\u001b[0m={\n",
      "    x=[242, 3066],\n",
      "    anchors=[242, 5],\n",
      "    is_seed=[242],\n",
      "    distance=[242, 5]\n",
      "  },\n",
      "  \u001b[1mDirector\u001b[0m={\n",
      "    x=[81, 3066],\n",
      "    anchors=[81, 5],\n",
      "    is_seed=[81],\n",
      "    distance=[81, 5]\n",
      "  },\n",
      "  \u001b[1m(Movie, movie_actor, Actor)\u001b[0m={ edge_index=[2, 252] },\n",
      "  \u001b[1m(Movie, movie_director, Director)\u001b[0m={ edge_index=[2, 84] },\n",
      "  \u001b[1m(Actor, actor_movie, Movie)\u001b[0m={ edge_index=[2, 1083] },\n",
      "  \u001b[1m(Director, director_movie, Movie)\u001b[0m={ edge_index=[2, 276] }\n",
      ")\n"
     ]
    }
   ],
   "source": [
    "for batch in train_loader:\n",
    "    print(batch)\n",
    "    break"
   ]
  },
  {
   "cell_type": "markdown",
   "id": "cfdc17a4",
   "metadata": {},
   "source": [
    "### Construct model and optimizer"
   ]
  },
  {
   "cell_type": "code",
   "execution_count": 12,
   "id": "f96fe01c-0a26-45e5-9257-352146fcf57b",
   "metadata": {},
   "outputs": [],
   "source": [
    "class BaseNodePiece(nn.Module):\n",
    "    def __init__(self, \n",
    "                 vocab_size:int,\n",
    "                 sequence_length:int,\n",
    "                 embedding_dim:int=128):\n",
    "        super().__init__()\n",
    "        self.embedding_dim = embedding_dim\n",
    "        self.sequence_length = sequence_length\n",
    "        self.embedding = nn.Embedding(vocab_size, embedding_dim)\n",
    "        torch.nn.init.xavier_uniform_(self.embedding.weight)\n",
    "\n",
    "    def forward(self, anchors, distances):\n",
    "        anc_emb = self.embedding(anchors)\n",
    "        anc_emb += self.embedding(distances)\n",
    "        return anc_emb"
   ]
  },
  {
   "cell_type": "code",
   "execution_count": 13,
   "id": "3f0a82ba-8b8f-4174-9b52-616ed5bdba2d",
   "metadata": {},
   "outputs": [],
   "source": [
    "import torch\n",
    "import torch.nn.functional as F\n",
    "from torch_geometric.nn import SAGEConv, to_hetero"
   ]
  },
  {
   "cell_type": "code",
   "execution_count": 14,
   "id": "0ec83899-79b4-4ae7-a06d-f2c08a13e5d5",
   "metadata": {},
   "outputs": [],
   "source": [
    "emb_model = BaseNodePiece(np_loader.num_tokens, np_loader._payload[\"max_rel_context\"] + np_loader._payload[\"max_anchors\"])"
   ]
  },
  {
   "cell_type": "code",
   "execution_count": 15,
   "id": "0863da44-a56b-41c7-a2fb-bb07ee72cc7a",
   "metadata": {},
   "outputs": [],
   "source": [
    "device = torch.device(\"cuda\" if torch.cuda.is_available() else \"cpu\")\n",
    "\n",
    "# Create a normal (homogeneous) GAT model\n",
    "class GraphSAGE(torch.nn.Module):\n",
    "    def __init__(\n",
    "        self, num_features, num_layers, out_dim, dropout, hidden_dim\n",
    "    ):\n",
    "        super().__init__()\n",
    "        self.dropout = dropout\n",
    "        self.layers = torch.nn.ModuleList()\n",
    "        for i in range(num_layers):\n",
    "            in_units = num_features if i == 0 else hidden_dim\n",
    "            out_units = out_dim if i == (num_layers - 1) else hidden_dim\n",
    "            self.layers.append(\n",
    "                SAGEConv(in_units, out_units)\n",
    "            )\n",
    "\n",
    "    def reset_parameters(self):\n",
    "        for layer in self.layers:\n",
    "            layer.reset_parameters()\n",
    "\n",
    "    def forward(self, x, edge_index, emb):\n",
    "        x = x.float()\n",
    "        x = torch.concat([x, torch.flatten(emb, start_dim=1)], dim=1)\n",
    "        #x = torch.flatten(emb, start_dim=1)\n",
    "        for layer in self.layers[:-1]:\n",
    "            x = layer(x, edge_index)\n",
    "            x = F.elu(x)\n",
    "            x = F.dropout(x, p=self.dropout, training=self.training)\n",
    "        x = self.layers[-1](x, edge_index)\n",
    "        return x\n",
    "    \n",
    "GNN = GraphSAGE(\n",
    "    num_features=3066+(128*5),\n",
    "    num_layers=hp[\"num_layers\"],\n",
    "    out_dim=3,\n",
    "    dropout=hp[\"dropout\"],\n",
    "    hidden_dim=hp[\"hidden_dim\"],\n",
    ")\n",
    "\n",
    "# Convert it to a heterogeneous model. See https://pytorch-geometric.readthedocs.io/en/latest/modules/nn.html#torch_geometric.nn.to_hetero_transformer.to_hetero for details.\n",
    "metadata = (['Actor', 'Movie', 'Director'], \n",
    "            [('Actor', 'actor_movie', 'Movie'), \n",
    "             ('Movie', 'movie_actor', 'Actor'), \n",
    "             ('Movie', 'movie_director', 'Director'), \n",
    "             ('Director', 'director_movie', 'Movie')])\n",
    "hetero_gnn = to_hetero(GNN, metadata, aggr='sum').to(device)"
   ]
  },
  {
   "cell_type": "code",
   "execution_count": 16,
   "id": "d5531881-366f-4061-8ec8-db4040a8e8fe",
   "metadata": {},
   "outputs": [
    {
     "data": {
      "text/plain": [
       "GraphModule(\n",
       "  (layers): ModuleList(\n",
       "    (0): ModuleDict(\n",
       "      (Actor__actor_movie__Movie): SAGEConv(3706, 128)\n",
       "      (Movie__movie_actor__Actor): SAGEConv(3706, 128)\n",
       "      (Movie__movie_director__Director): SAGEConv(3706, 128)\n",
       "      (Director__director_movie__Movie): SAGEConv(3706, 128)\n",
       "    )\n",
       "    (1): ModuleDict(\n",
       "      (Actor__actor_movie__Movie): SAGEConv(128, 3)\n",
       "      (Movie__movie_actor__Actor): SAGEConv(128, 3)\n",
       "      (Movie__movie_director__Director): SAGEConv(128, 3)\n",
       "      (Director__director_movie__Movie): SAGEConv(128, 3)\n",
       "    )\n",
       "  )\n",
       ")"
      ]
     },
     "execution_count": 16,
     "metadata": {},
     "output_type": "execute_result"
    }
   ],
   "source": [
    "hetero_gnn"
   ]
  },
  {
   "cell_type": "code",
   "execution_count": 17,
   "id": "6f3e3ebe-de3c-486c-9a6e-136f4683d756",
   "metadata": {},
   "outputs": [],
   "source": [
    "class NodePieceGNN(nn.Module):\n",
    "    def __init__(self, embedding_model, gnn_model):\n",
    "        super().__init__()\n",
    "        self.emb_model = embedding_model\n",
    "        self.gnn_model = gnn_model\n",
    "        \n",
    "    def forward(self, x_dict, edge_index_dict, anchors_dict, distances_dict):\n",
    "        emb_dict = {}\n",
    "        for key in anchors_dict.keys():\n",
    "            emb_dict[key] = self.emb_model(anchors_dict[key], distances_dict[key])\n",
    "        return self.gnn_model(x_dict, edge_index_dict, emb_dict) "
   ]
  },
  {
   "cell_type": "code",
   "execution_count": 18,
   "id": "2f731c85-ff88-4168-971b-8b9acbf8a6c5",
   "metadata": {},
   "outputs": [],
   "source": [
    "model = NodePieceGNN(emb_model, hetero_gnn)"
   ]
  },
  {
   "cell_type": "code",
   "execution_count": 19,
   "id": "a3b4dbaa-1683-4c3d-8fb4-4127a06455b4",
   "metadata": {},
   "outputs": [
    {
     "data": {
      "text/plain": [
       "NodePieceGNN(\n",
       "  (emb_model): BaseNodePiece(\n",
       "    (embedding): Embedding(1175, 128)\n",
       "  )\n",
       "  (gnn_model): GraphModule(\n",
       "    (layers): ModuleList(\n",
       "      (0): ModuleDict(\n",
       "        (Actor__actor_movie__Movie): SAGEConv(3706, 128)\n",
       "        (Movie__movie_actor__Actor): SAGEConv(3706, 128)\n",
       "        (Movie__movie_director__Director): SAGEConv(3706, 128)\n",
       "        (Director__director_movie__Movie): SAGEConv(3706, 128)\n",
       "      )\n",
       "      (1): ModuleDict(\n",
       "        (Actor__actor_movie__Movie): SAGEConv(128, 3)\n",
       "        (Movie__movie_actor__Actor): SAGEConv(128, 3)\n",
       "        (Movie__movie_director__Director): SAGEConv(128, 3)\n",
       "        (Director__director_movie__Movie): SAGEConv(128, 3)\n",
       "      )\n",
       "    )\n",
       "  )\n",
       ")"
      ]
     },
     "execution_count": 19,
     "metadata": {},
     "output_type": "execute_result"
    }
   ],
   "source": [
    "model"
   ]
  },
  {
   "cell_type": "code",
   "execution_count": 20,
   "id": "9d90ad46-c582-4a41-99f7-95dd99994a99",
   "metadata": {},
   "outputs": [],
   "source": [
    "loss = nn.CrossEntropyLoss()\n",
    "optimizer = torch.optim.Adam(model.parameters(), lr=5e-3, weight_decay=5e-5)"
   ]
  },
  {
   "cell_type": "markdown",
   "id": "9d99c311",
   "metadata": {},
   "source": [
    "### Train the model"
   ]
  },
  {
   "cell_type": "code",
   "execution_count": 21,
   "id": "cb1a964d-e5a9-41e8-9d34-ecf0ac091417",
   "metadata": {},
   "outputs": [
    {
     "name": "stderr",
     "output_type": "stream",
     "text": [
      "/opt/conda/lib/python3.9/site-packages/torch/utils/tensorboard/__init__.py:4: DeprecationWarning: distutils Version classes are deprecated. Use packaging.version instead.\n",
      "  if not hasattr(tensorboard, \"__version__\") or LooseVersion(\n"
     ]
    }
   ],
   "source": [
    "from datetime import datetime\n",
    "\n",
    "from pyTigerGraph.gds.metrics import Accumulator, Accuracy\n",
    "from torch.utils.tensorboard import SummaryWriter"
   ]
  },
  {
   "cell_type": "code",
   "execution_count": 22,
   "id": "cfbb89e3-32dd-4be0-8d3c-7043b08b8cfd",
   "metadata": {},
   "outputs": [
    {
     "name": "stdout",
     "output_type": "stream",
     "text": [
      "Epoch 0, Train Batch 0, Loss 1.0988, Accuracy 0.3011\n",
      "Epoch 0, Train Batch 1, Loss 1.3776, Accuracy 0.3518\n",
      "Epoch 0, Train Batch 2, Loss 1.5310, Accuracy 0.3559\n",
      "Epoch 0, Train Batch 3, Loss 1.4577, Accuracy 0.3750\n",
      "Epoch 0, Valid Loss 1.4446, Valid Accuracy 0.2875\n",
      "Epoch 1, Train Batch 0, Loss 0.9156, Accuracy 0.4583\n",
      "Epoch 1, Train Batch 1, Loss 0.8088, Accuracy 0.5950\n",
      "Epoch 1, Train Batch 2, Loss 0.7708, Accuracy 0.6442\n",
      "Epoch 1, Train Batch 3, Loss 0.6965, Accuracy 0.6750\n",
      "Epoch 1, Valid Loss 1.0890, Valid Accuracy 0.4550\n",
      "Epoch 2, Train Batch 0, Loss 0.2725, Accuracy 0.9615\n",
      "Epoch 2, Train Batch 1, Loss 0.2926, Accuracy 0.9333\n",
      "Epoch 2, Train Batch 2, Loss 0.3095, Accuracy 0.9258\n",
      "Epoch 2, Train Batch 3, Loss 0.2888, Accuracy 0.9275\n",
      "Epoch 2, Valid Loss 1.1078, Valid Accuracy 0.4850\n",
      "Epoch 3, Train Batch 0, Loss 0.1520, Accuracy 0.9610\n",
      "Epoch 3, Train Batch 1, Loss 0.1321, Accuracy 0.9674\n",
      "Epoch 3, Train Batch 2, Loss 0.1091, Accuracy 0.9797\n",
      "Epoch 3, Train Batch 3, Loss 0.0970, Accuracy 0.9850\n",
      "Epoch 3, Valid Loss 1.0602, Valid Accuracy 0.4975\n",
      "Epoch 4, Train Batch 0, Loss 0.0523, Accuracy 1.0000\n",
      "Epoch 4, Train Batch 1, Loss 0.0437, Accuracy 1.0000\n",
      "Epoch 4, Train Batch 2, Loss 0.0393, Accuracy 1.0000\n",
      "Epoch 4, Train Batch 3, Loss 0.0402, Accuracy 1.0000\n",
      "Epoch 4, Valid Loss 1.1972, Valid Accuracy 0.5125\n"
     ]
    }
   ],
   "source": [
    "log_dir = \"logs/imdb/hgat/subgraph/\" + datetime.now().strftime(\"%Y%m%d-%H%M%S\")\n",
    "train_log = SummaryWriter(log_dir+\"/train\")\n",
    "valid_log = SummaryWriter(log_dir+\"/valid\")\n",
    "global_steps = 0\n",
    "logs = {}\n",
    "for epoch in range(5):\n",
    "    # Train\n",
    "    model.train()\n",
    "    epoch_train_loss = Accumulator()\n",
    "    epoch_train_acc = Accuracy()\n",
    "    # Iterate through the loader to get a stream of subgraphs instead of the whole graph\n",
    "    for bid, batch in enumerate(train_loader):\n",
    "        batchsize = batch[\"Movie\"].x.shape[0]\n",
    "        batch.to(device)\n",
    "        # Forward pass\n",
    "        out = model(batch.x_dict, batch.edge_index_dict, batch.anchors_dict, batch.distance_dict)\n",
    "        # Calculate loss\n",
    "        mask = batch[\"Movie\"].is_seed\n",
    "        loss = F.cross_entropy(out[\"Movie\"][mask], batch[\"Movie\"].y[mask])\n",
    "        # Backward pass\n",
    "        optimizer.zero_grad()\n",
    "        loss.backward()\n",
    "        optimizer.step()\n",
    "        epoch_train_loss.update(loss.item() * batchsize, batchsize)\n",
    "        # Predict on training data\n",
    "        with torch.no_grad():\n",
    "            pred = out[\"Movie\"].argmax(dim=1)\n",
    "            epoch_train_acc.update(pred[mask], batch[\"Movie\"].y[mask])\n",
    "        # Log training status after each batch\n",
    "        logs[\"loss\"] = epoch_train_loss.mean\n",
    "        logs[\"acc\"] = epoch_train_acc.value\n",
    "        print(\n",
    "            \"Epoch {}, Train Batch {}, Loss {:.4f}, Accuracy {:.4f}\".format(\n",
    "                epoch, bid, logs[\"loss\"], logs[\"acc\"]\n",
    "            )\n",
    "        )\n",
    "        train_log.add_scalar(\"Loss\", logs[\"loss\"], global_steps)\n",
    "        train_log.add_scalar(\"Accuracy\", logs[\"acc\"], global_steps)\n",
    "        train_log.flush()\n",
    "        global_steps += 1\n",
    "    # Evaluate\n",
    "    model.eval()\n",
    "    epoch_val_loss = Accumulator()\n",
    "    epoch_val_acc = Accuracy()\n",
    "    for batch in valid_loader:\n",
    "        batchsize = batch[\"Movie\"].x.shape[0]\n",
    "        batch.to(device)\n",
    "        with torch.no_grad():\n",
    "            # Forward pass\n",
    "            out = model(batch.x_dict, batch.edge_index_dict, batch.anchors_dict, batch.distance_dict)\n",
    "            # Calculate loss\n",
    "            mask = batch[\"Movie\"].is_seed\n",
    "            valid_loss = F.cross_entropy(out[\"Movie\"][mask], batch[\"Movie\"].y[mask])\n",
    "            epoch_val_loss.update(valid_loss.item() * batchsize, batchsize)\n",
    "            # Prediction\n",
    "            pred = out[\"Movie\"].argmax(dim=1)\n",
    "            epoch_val_acc.update(pred[mask], batch[\"Movie\"].y[mask])\n",
    "    # Log testing result after each epoch\n",
    "    logs[\"val_loss\"] = epoch_val_loss.mean\n",
    "    logs[\"val_acc\"] = epoch_val_acc.value\n",
    "    print(\n",
    "        \"Epoch {}, Valid Loss {:.4f}, Valid Accuracy {:.4f}\".format(\n",
    "            epoch, logs[\"val_loss\"], logs[\"val_acc\"]\n",
    "        )\n",
    "    )\n",
    "    valid_log.add_scalar(\"Loss\", logs[\"val_loss\"], global_steps)\n",
    "    valid_log.add_scalar(\"Accuracy\", logs[\"val_acc\"], global_steps)\n",
    "    valid_log.flush()"
   ]
  },
  {
   "cell_type": "markdown",
   "id": "cef2b6b8",
   "metadata": {},
   "source": [
    "### Test the model"
   ]
  },
  {
   "cell_type": "code",
   "execution_count": 23,
   "id": "02cceb89-6cee-460f-ac77-e610d23f5322",
   "metadata": {},
   "outputs": [],
   "source": [
    "test_loader = conn.gds.neighborLoader(\n",
    "    v_in_feats={\"Movie\": [\"x\"], \"Actor\": [\"x\"], \"Director\": [\"x\"]}, \n",
    "    v_out_labels={\"Movie\": [\"y\"]},\n",
    "    v_extra_feats={\"Movie\": [\"train_mask\", \"val_mask\", \"test_mask\", \"anchors\"], \"Actor\": [\"anchors\"], \"Director\": [\"anchors\"]},\n",
    "    output_format=\"PyG\",\n",
    "    batch_size=hp[\"batch_size\"],\n",
    "    num_neighbors=hp[\"num_neighbors\"],\n",
    "    num_hops=hp[\"num_hops\"],\n",
    "    shuffle=True,\n",
    "    filter_by={\"Movie\":\"test_mask\"},\n",
    "    callback_fn = lambda x: process_anchors(x))"
   ]
  },
  {
   "cell_type": "code",
   "execution_count": 24,
   "id": "27b64562-d9aa-4ff0-9f43-233bb58b342c",
   "metadata": {},
   "outputs": [
    {
     "name": "stdout",
     "output_type": "stream",
     "text": [
      "Accuracy: 0.5178\n"
     ]
    }
   ],
   "source": [
    "model.eval()\n",
    "acc = Accuracy()\n",
    "for batch in test_loader:\n",
    "    batch.to(device)\n",
    "    with torch.no_grad():\n",
    "        pred = model(batch.x_dict, batch.edge_index_dict, batch.anchors_dict, batch.distance_dict)[\"Movie\"].argmax(dim=1)\n",
    "        mask = batch[\"Movie\"].is_seed\n",
    "        acc.update(pred[mask], batch[\"Movie\"].y[mask])\n",
    "print(\"Accuracy: {:.4f}\".format(acc.value))"
   ]
  },
  {
   "cell_type": "markdown",
   "id": "6d6aba62",
   "metadata": {},
   "source": [
    "## Inference <a name=\"inference\"></a>\n",
    "\n",
    "Finally, we use the trained model for node classification. At this stage, we typically do inference/prediction for specific nodes instead of random batches, so we will create a new data loader.  "
   ]
  },
  {
   "cell_type": "code",
   "execution_count": 25,
   "id": "e77eb4ba-bf26-41a0-9e28-0717e377726b",
   "metadata": {},
   "outputs": [],
   "source": [
    "infer_loader = conn.gds.neighborLoader(\n",
    "    v_in_feats={\"Movie\": [\"x\"], \"Actor\": [\"x\"], \"Director\": [\"x\"]}, \n",
    "    v_out_labels={\"Movie\": [\"y\"]},\n",
    "    v_extra_feats={\"Movie\": [\"train_mask\", \"val_mask\", \"test_mask\", \"anchors\"], \"Actor\": [\"anchors\"], \"Director\": [\"anchors\"]},\n",
    "    output_format=\"PyG\",\n",
    "    batch_size=hp[\"batch_size\"],\n",
    "    num_neighbors=hp[\"num_neighbors\"],\n",
    "    num_hops=hp[\"num_hops\"],\n",
    "    shuffle=False,\n",
    "    filter_by={\"Movie\":\"test_mask\"},\n",
    "    callback_fn = lambda x: process_anchors(x))"
   ]
  },
  {
   "cell_type": "code",
   "execution_count": 26,
   "id": "4dcdd55d-f9f7-447b-abd0-4917ca050f0c",
   "metadata": {},
   "outputs": [],
   "source": [
    "# Fetch specific nodes by their IDs and do prediction. \n",
    "# Each node is represented by a dict with two mandatory keys: primary_id and type.\n",
    "input_nodes = [{\"primary_id\": 7, \"type\": \"Movie\"}, \n",
    "               {\"primary_id\": 55, \"type\": \"Movie\"}]\n",
    "data = infer_loader.fetch(input_nodes)"
   ]
  },
  {
   "cell_type": "code",
   "execution_count": 27,
   "id": "4fadc6e0-3aed-42e0-bf99-990c49453189",
   "metadata": {},
   "outputs": [
    {
     "data": {
      "text/plain": [
       "HeteroData(\n",
       "  \u001b[1mMovie\u001b[0m={\n",
       "    x=[54, 3066],\n",
       "    y=[54],\n",
       "    train_mask=[54],\n",
       "    val_mask=[54],\n",
       "    test_mask=[54],\n",
       "    anchors=[54, 5],\n",
       "    is_seed=[54],\n",
       "    primary_id=[54],\n",
       "    distance=[54, 5]\n",
       "  },\n",
       "  \u001b[1mActor\u001b[0m={\n",
       "    x=[6, 3066],\n",
       "    anchors=[6, 5],\n",
       "    is_seed=[6],\n",
       "    primary_id=[6],\n",
       "    distance=[6, 5]\n",
       "  },\n",
       "  \u001b[1mDirector\u001b[0m={\n",
       "    x=[2, 3066],\n",
       "    anchors=[2, 5],\n",
       "    is_seed=[2],\n",
       "    primary_id=[2],\n",
       "    distance=[2, 5]\n",
       "  },\n",
       "  \u001b[1m(Movie, movie_actor, Actor)\u001b[0m={ edge_index=[2, 6] },\n",
       "  \u001b[1m(Movie, movie_director, Director)\u001b[0m={ edge_index=[2, 2] },\n",
       "  \u001b[1m(Actor, actor_movie, Movie)\u001b[0m={ edge_index=[2, 54] },\n",
       "  \u001b[1m(Director, director_movie, Movie)\u001b[0m={ edge_index=[2, 11] }\n",
       ")"
      ]
     },
     "execution_count": 27,
     "metadata": {},
     "output_type": "execute_result"
    }
   ],
   "source": [
    "data"
   ]
  },
  {
   "cell_type": "code",
   "execution_count": 28,
   "id": "0041c079-96ad-4e60-bd04-f57e776204c9",
   "metadata": {},
   "outputs": [
    {
     "name": "stdout",
     "output_type": "stream",
     "text": [
      "ID: Label\n",
      "55:0\n",
      "7:0\n",
      "1346:0\n",
      "89:0\n",
      "464:0\n",
      "1863:0\n",
      "1543:0\n",
      "178:0\n",
      "211:2\n",
      "963:0\n",
      "3983:2\n",
      "633:0\n",
      "3150:2\n",
      "1206:0\n",
      "2525:2\n",
      "3597:0\n",
      "1153:2\n",
      "3137:2\n",
      "326:0\n",
      "22:0\n",
      "40:0\n",
      "712:0\n",
      "4157:2\n",
      "1530:0\n",
      "2263:2\n",
      "553:0\n",
      "387:0\n",
      "2289:2\n",
      "1074:0\n",
      "111:0\n",
      "3718:2\n",
      "2642:2\n",
      "15:0\n",
      "3124:0\n",
      "2789:2\n",
      "2429:0\n",
      "588:1\n",
      "520:2\n",
      "76:0\n",
      "9:0\n",
      "1940:2\n",
      "1433:0\n",
      "2077:0\n",
      "138:2\n",
      "1239:2\n",
      "714:2\n",
      "3454:2\n",
      "3174:0\n",
      "856:2\n",
      "1077:2\n",
      "2897:2\n",
      "109:0\n",
      "768:1\n",
      "2184:2\n"
     ]
    }
   ],
   "source": [
    "# Predict. Predictions for both the input nodes and others in their \n",
    "# neighborhoods are generated.\n",
    "model.eval()\n",
    "pred = model(data.x_dict, data.edge_index_dict, data.anchors_dict, data.distance_dict)[\"Movie\"].argmax(dim=1)\n",
    "print(\"ID: Label\")\n",
    "for i,j in zip(data[\"Movie\"].primary_id, pred):\n",
    "    print(\"{}:{}\".format(i, j.item()))"
   ]
  },
  {
   "cell_type": "markdown",
   "id": "df86e849",
   "metadata": {},
   "source": [
    "## Visualize Embeddings <a name=\"viz\"></a>\n",
    "\n",
    "To view the embeddings, we sample 1000 Movie vertices from the graph and plot them in 2D using UMAP."
   ]
  },
  {
   "cell_type": "code",
   "execution_count": 29,
   "id": "a9841d7c-dcc0-4223-a93a-328b91c2669b",
   "metadata": {},
   "outputs": [],
   "source": [
    "df = conn.getVertexDataFrame(\"Movie\", limit=1_000)"
   ]
  },
  {
   "cell_type": "code",
   "execution_count": 30,
   "id": "0ccde7b0-6ffd-4cf8-8a54-145790ce4404",
   "metadata": {},
   "outputs": [],
   "source": [
    "sample = [{\"primary_id\": x, \"type\": \"Movie\"} for x in df[\"v_id\"]]"
   ]
  },
  {
   "cell_type": "code",
   "execution_count": 31,
   "id": "36c1760c-a591-494f-bb72-bf0ca2464f2a",
   "metadata": {},
   "outputs": [],
   "source": [
    "batch = infer_loader.fetch(sample)"
   ]
  },
  {
   "cell_type": "code",
   "execution_count": 32,
   "id": "dd7dd987-b7fd-4642-a3f8-dd2a6efe5411",
   "metadata": {},
   "outputs": [],
   "source": [
    "embeddings = model.emb_model(batch.anchors_dict[\"Movie\"], batch.distance_dict[\"Movie\"]).flatten(start_dim=1)[batch[\"Movie\"].is_seed]"
   ]
  },
  {
   "cell_type": "code",
   "execution_count": 33,
   "id": "af84ffc7-5014-4159-a4fc-a7dcc45e42b4",
   "metadata": {},
   "outputs": [
    {
     "data": {
      "text/plain": [
       "torch.Size([1000, 640])"
      ]
     },
     "execution_count": 33,
     "metadata": {},
     "output_type": "execute_result"
    }
   ],
   "source": [
    "embeddings.shape"
   ]
  },
  {
   "cell_type": "code",
   "execution_count": 34,
   "id": "004ff3ab-e2b0-41b7-8e39-b2b401ec429e",
   "metadata": {},
   "outputs": [],
   "source": [
    "import umap.umap_ as umap\n",
    "\n",
    "embd_x = umap.UMAP().fit_transform(embeddings.detach().numpy())"
   ]
  },
  {
   "cell_type": "code",
   "execution_count": 35,
   "id": "5ecd3577-b5f4-4e4e-baa6-cc5e885f434f",
   "metadata": {},
   "outputs": [
    {
     "data": {
      "image/png": "[encoded data removed]",
      "text/plain": [
       "<Figure size 800x800 with 1 Axes>"
      ]
     },
     "metadata": {},
     "output_type": "display_data"
    }
   ],
   "source": [
    "import matplotlib.pyplot as plt\n",
    "import seaborn as sns\n",
    "fig, axs = plt.subplots(nrows=1, ncols=1, figsize=(8,8))\n",
    "sns.set(font_scale=1)\n",
    "\n",
    "palette = {}\n",
    "for n, i in enumerate(set([0, 1, 2])):\n",
    "    palette[i] = f'C{n}'\n",
    "    \n",
    "sns.scatterplot(ax=axs, x=embd_x.T[0], y=embd_x.T[1], hue=df[\"y\"], palette=palette)\n",
    "axs.get_legend().remove()\n",
    "plt.title(\"NodePiece Embeddings Colored by Classification\", fontsize=18)\n",
    "\n",
    "plt.show()"
   ]
  },
  {
   "cell_type": "code",
   "execution_count": null,
   "id": "628c1314-d86b-4190-9799-5abcde5bf8d8",
   "metadata": {},
   "outputs": [],
   "source": []
  }
 ],
 "metadata": {
  "kernelspec": {
   "display_name": "Python 3.8.9 64-bit",
   "language": "python",
   "name": "python3"
  },
  "language_info": {
   "codemirror_mode": {
    "name": "ipython",
    "version": 3
   },
   "file_extension": ".py",
   "mimetype": "text/x-python",
   "name": "python",
   "nbconvert_exporter": "python",
   "pygments_lexer": "ipython3",
   "version": "3.8.9"
  },
  "vscode": {
   "interpreter": {
    "hash": "31f2aee4e71d21fbe5cf8b01ff0e069b9275f58929596ceb00d14d90e3e16cd6"
   }
  }
 },
 "nbformat": 4,
 "nbformat_minor": 5
}
