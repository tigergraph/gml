{
 "cells": [
  {
   "cell_type": "markdown",
   "id": "ddb81024",
   "metadata": {},
   "source": [
    "# NodePiece - Multilayer Perceptron\n",
    "This notebook demonstrates the training of a Multilayer Perceptron model with trainable embeddings using the NodePiece algorithm.  We train the model on the IMDB dataset from [PyG datasets](https://pytorch-geometric.readthedocs.io/en/latest/modules/datasets.html#torch_geometric.datasets.IMDB) with TigerGraph as the data store. The dataset contains 3 types of vertices: 4278 movies, 5257 actors, and 2081 directors; and 4 types of edges: 12828 actor to movie edges, 12828 movie to actor edges, 4278 director to movie edges, and 4278 movie to director edges. Each vertex is described by a 0/1-valued word vector indicating the absence/presence of the corresponding keywords from the plot (for movie) or from movies they participated (for actors and directors). Each movie is classified into one of three classes, action, comedy, and drama according to their genre. The goal is to predict the class of each movie in the graph."
   ]
  },
  {
   "cell_type": "markdown",
   "id": "66509bda",
   "metadata": {},
   "source": [
    "## Table of Contents\n",
    "* [Data Processing](#data_processing)  \n",
    "* [NodePiece Algorithm](#nodepiece_algorithm)\n",
    "* [Train on Vertex Samples](#train_vertex)  \n",
    "* [Inference](#inference)\n",
    "* [Embedding Visualization](#viz)"
   ]
  },
  {
   "cell_type": "markdown",
   "id": "fabe9354",
   "metadata": {},
   "source": [
    "## Data Processing <a name=\"data_processing\"></a>"
   ]
  },
  {
   "cell_type": "markdown",
   "id": "0249c028",
   "metadata": {},
   "source": [
    "### Connect to TigerGraph\n",
    "\n",
    "The `TigerGraphConnection` class represents a connection to the TigerGraph database. Under the hood, it stores the necessary information to communicate with the database. It is able to perform quite a few database tasks. Please see its [documentation](https://docs.tigergraph.com/pytigergraph/current/intro/) for details.\n",
    "\n",
    "To connect your database, modify the `config.json` file accompanying this notebook. Set the value of `getToken` based on whether token auth is enabled for your database. Token auth is always enabled for tgcloud databases. "
   ]
  },
  {
   "cell_type": "code",
   "execution_count": 2,
   "id": "7d892ae1-357d-43c1-bdca-275a5c68e818",
   "metadata": {},
   "outputs": [],
   "source": [
    "from pyTigerGraph import TigerGraphConnection\n",
    "import json\n",
    "\n",
    "# Read in DB configs\n",
    "with open('../../config.json', \"r\") as config_file:\n",
    "    config = json.load(config_file)\n",
    "    \n",
    "conn = TigerGraphConnection(\n",
    "    host=config[\"host\"],\n",
    "    username=config[\"username\"],\n",
    "    password=config[\"password\"]\n",
    ")"
   ]
  },
  {
   "cell_type": "markdown",
   "id": "b2565a60",
   "metadata": {},
   "source": [
    "### Ingest Data"
   ]
  },
  {
   "cell_type": "code",
   "execution_count": 3,
   "id": "307a1b22-8853-408b-9c62-788b4376d481",
   "metadata": {},
   "outputs": [
    {
     "name": "stdout",
     "output_type": "stream",
     "text": [
      "A folder with name imdb already exists in ./tmp. Skip downloading.\n",
      "---- Checking database ----\n",
      "A graph with name imdb already exists in the database. Skip ingestion.\n",
      "Graph name is set to imdb for this connection.\n"
     ]
    }
   ],
   "source": [
    "from pyTigerGraph.datasets import Datasets\n",
    "\n",
    "dataset = Datasets(\"imdb\")\n",
    "\n",
    "conn.ingestDataset(dataset, getToken=config[\"getToken\"])"
   ]
  },
  {
   "cell_type": "markdown",
   "id": "c9554895",
   "metadata": {},
   "source": [
    "### Visualize Schema"
   ]
  },
  {
   "cell_type": "code",
   "execution_count": 4,
   "id": "8971ad89-2740-4ba7-809a-126f6c33066c",
   "metadata": {},
   "outputs": [
    {
     "data": {
      "application/vnd.jupyter.widget-view+json": {
       "model_id": "ecaac2bea40d49378988b3c9092c00a5",
       "version_major": 2,
       "version_minor": 0
      },
      "text/plain": [
       "CytoscapeWidget(cytoscape_layout={'name': 'circle', 'animate': True, 'padding': 1}, cytoscape_style=[{'selecto…"
      ]
     },
     "execution_count": 4,
     "metadata": {},
     "output_type": "execute_result"
    }
   ],
   "source": [
    "from pyTigerGraph.visualization import drawSchema\n",
    "\n",
    "drawSchema(conn.getSchema(force=True))"
   ]
  },
  {
   "cell_type": "markdown",
   "id": "be6ee850",
   "metadata": {},
   "source": [
    "## NodePiece Algorithm <a name=\"nodepiece_algorithm\"></a>"
   ]
  },
  {
   "cell_type": "markdown",
   "id": "28632ef5",
   "metadata": {},
   "source": [
    "The [NodePiece algorithm](https://arxiv.org/abs/2106.12144) was introduced as a way to both conserve the memory cost of vertex embeddings, as well as be able to generalize to unseen vertices during the testing process. This makes NodePiece a much more scalable approach for large, real-world graphs compared to other transductive techniques such as FastRP or Node2Vec. For more information about the algorithm, check out the author's [Medium post](https://towardsdatascience.com/nodepiece-tokenizing-knowledge-graphs-6dd2b91847aa).\n",
    "\n",
    "We implement the NodePiece dataloader, which will allow us to iterate through batches of vertices. We take advantage of the callback functionality to process the batch into PyTorch tensors for less data manipulation in the training loop."
   ]
  },
  {
   "cell_type": "code",
   "execution_count": 7,
   "id": "ea2e5e8b-201e-4911-bf3a-9fe657cdb24f",
   "metadata": {},
   "outputs": [],
   "source": [
    "import torch\n",
    "import torch.nn as nn\n",
    "import torch.nn.functional as F\n",
    "import pandas as pd"
   ]
  },
  {
   "cell_type": "code",
   "execution_count": 5,
   "id": "1d97680c-9368-475d-b44b-3d75eb908fbd",
   "metadata": {},
   "outputs": [],
   "source": [
    "def process_batch(batch):\n",
    "    x = {\"relational_context\": torch.tensor(batch[\"Movie\"][\"relational_context\"], dtype=torch.long), \n",
    "         \"anchors\": torch.tensor(batch[\"Movie\"][\"anchors\"], dtype=torch.long), \n",
    "         \"distance\": torch.tensor(batch[\"Movie\"][\"anchor_distances\"], dtype=torch.long),\n",
    "         \"feats\": torch.tensor(np.stack(batch[\"Movie\"][\"x\"].apply(lambda x: np.fromstring(x, sep=\" \")).values), dtype=torch.float),\n",
    "         \"y\": torch.tensor(batch[\"Movie\"][\"y\"].astype(int))}\n",
    "    return x"
   ]
  },
  {
   "cell_type": "code",
   "execution_count": 6,
   "id": "a9ff0f1e-c474-4275-98fa-7696775ae770",
   "metadata": {},
   "outputs": [
    {
     "name": "stdout",
     "output_type": "stream",
     "text": [
      "Number of Anchors: 1161\n"
     ]
    }
   ],
   "source": [
    "np_loader = conn.gds.nodepieceLoader(filter_by = \"train_mask\",\n",
    "                                     batch_size = 128,\n",
    "                                     compute_anchors = True,\n",
    "                                     clear_cache = True,\n",
    "                                     anchor_percentage = 0.1,\n",
    "                                     v_feats = {\"Movie\": [\"y\", \"x\"], \"Actor\": [], \"Director\": []}, \n",
    "                                     target_vertex_types=[\"Movie\"], \n",
    "                                     max_anchors=5,\n",
    "                                     max_relational_context=5,\n",
    "                                     e_types=conn.getEdgeTypes(),\n",
    "                                     timeout=204_800_000,\n",
    "                                     callback_fn = lambda x: process_batch(x))"
   ]
  },
  {
   "cell_type": "markdown",
   "id": "d61fb38f",
   "metadata": {},
   "source": [
    "## Train on Vertex Samples <a name=\"train_vertex\"></a>\n",
    "We train the model on batches of vertices. We utilize both the trainable embeddings provided by NodePiece, as well as the `x` feature vector stored as an attribute on all Movie vertices."
   ]
  },
  {
   "cell_type": "markdown",
   "id": "8a955d66",
   "metadata": {},
   "source": [
    "### Construct model and optimizer"
   ]
  },
  {
   "cell_type": "code",
   "execution_count": 8,
   "id": "b77deb55-34ca-4dd8-bd85-868f8d4bb67c",
   "metadata": {},
   "outputs": [],
   "source": [
    "class BaseNodePiece(nn.Module):\n",
    "    def __init__(self, \n",
    "                 vocab_size:int,\n",
    "                 sequence_length:int,\n",
    "                 embedding_dim:int=768):\n",
    "        super().__init__()\n",
    "        self.embedding_dim = embedding_dim\n",
    "        self.sequence_length = sequence_length\n",
    "        self.embedding = nn.Embedding(vocab_size, embedding_dim)\n",
    "        torch.nn.init.xavier_uniform_(self.embedding.weight)\n",
    "\n",
    "    def forward(self, x):\n",
    "        anc_emb = self.embedding(x[\"anchors\"])\n",
    "        rel_emb = self.embedding(x[\"relational_context\"])\n",
    "        anc_emb += self.embedding(x[\"distance\"])\n",
    "        out = torch.concat([anc_emb, rel_emb], dim=1)\n",
    "        return out"
   ]
  },
  {
   "cell_type": "code",
   "execution_count": 9,
   "id": "76558ce2-9030-48c4-82dd-d2f44044ba5d",
   "metadata": {},
   "outputs": [],
   "source": [
    "class MLP(nn.Module):\n",
    "    def __init__(self,\n",
    "                 embedding_model:BaseNodePiece,\n",
    "                 out_dim:int=2,\n",
    "                 num_hidden_layers:int=2,\n",
    "                 hidden_dim:int=128):\n",
    "        super().__init__()\n",
    "        self.out_dim = out_dim\n",
    "        self.num_layers = num_hidden_layers + 2\n",
    "        self.hidden_layers = nn.ModuleList([nn.Linear(hidden_dim, hidden_dim) for _ in range(num_hidden_layers)])\n",
    "        self.out_layer = nn.Linear(hidden_dim, out_dim)\n",
    "        self.in_layer = nn.Linear((embedding_model.embedding_dim*embedding_model.sequence_length)+3066, hidden_dim)\n",
    "        self.emb_model = embedding_model\n",
    "\n",
    "    def forward(self, x):\n",
    "        feats = x[\"feats\"]\n",
    "        x = self.emb_model(x)\n",
    "        x = torch.flatten(x, start_dim=1)\n",
    "        x = torch.cat((x, feats), dim=1)\n",
    "        x = self.in_layer(x)\n",
    "        for layer in self.hidden_layers:\n",
    "            x = F.dropout(F.relu(layer(x)), p=0.6)\n",
    "        x = self.out_layer(x)\n",
    "        x = F.log_softmax(x, dim=1)\n",
    "        return x"
   ]
  },
  {
   "cell_type": "code",
   "execution_count": 10,
   "id": "ab2a4af9-1782-4717-b074-eecb1cf9d2ed",
   "metadata": {},
   "outputs": [],
   "source": [
    "emb_model = BaseNodePiece(vocab_size=np_loader.num_tokens, # add in special tokens\n",
    "                 sequence_length=np_loader._payload[\"max_rel_context\"] + np_loader._payload[\"max_anchors\"],\n",
    "                 embedding_dim=128)\n",
    "\n",
    "model = MLP(emb_model, out_dim=3, num_hidden_layers=2, hidden_dim=128)\n",
    "\n",
    "loss = nn.CrossEntropyLoss()\n",
    "optimizer = torch.optim.Adam(model.parameters(), lr=5e-3, weight_decay=5e-5)"
   ]
  },
  {
   "cell_type": "code",
   "execution_count": 11,
   "id": "6eb3eb26-4666-43f3-816a-0c1b3cb0c322",
   "metadata": {},
   "outputs": [],
   "source": [
    "np_loader.saveTokens(\"./npAncs.pkl\")"
   ]
  },
  {
   "cell_type": "code",
   "execution_count": 12,
   "id": "cb23e6cb-5aff-4087-a40e-b5780553c915",
   "metadata": {},
   "outputs": [],
   "source": [
    "valid_loader = conn.gds.nodepieceLoader(anchor_cache_attr=\"anchors\", \n",
    "                                        filter_by = \"val_mask\",\n",
    "                                        batch_size = 8192,\n",
    "                                        v_feats = {\"Movie\": [\"y\", \"x\"], \"Actor\": [], \"Director\": []}, \n",
    "                                        target_vertex_types=[\"Movie\"], \n",
    "                                        compute_anchors=False,\n",
    "                                        max_anchors=5,\n",
    "                                        max_relational_context=5,\n",
    "                                        use_cache = True,\n",
    "                                        e_types=conn.getEdgeTypes(),\n",
    "                                        timeout=204_800_000,\n",
    "                                        tokenMap=\"./npAncs.pkl\",\n",
    "                                        callback_fn = lambda x: process_batch(x))"
   ]
  },
  {
   "cell_type": "markdown",
   "id": "5347a5b8",
   "metadata": {},
   "source": [
    "### Train the model"
   ]
  },
  {
   "cell_type": "code",
   "execution_count": 13,
   "id": "b9618494-ab14-43b1-872b-eec8e6466e15",
   "metadata": {},
   "outputs": [
    {
     "name": "stdout",
     "output_type": "stream",
     "text": [
      "EPOCH 0: 1.0881156623363495 Train Accuracy: 0.3775 Time: 0.4022190570831299 Valid Loss: 1.0691777467727661 Valid Accuracy: 0.37\n",
      "EPOCH 1: 1.057876855134964 Train Accuracy: 0.4525 Time: 0.4199380874633789 Valid Loss: 1.0587773323059082 Valid Accuracy: 0.395\n",
      "EPOCH 2: 0.9416443258523941 Train Accuracy: 0.525 Time: 0.43010425567626953 Valid Loss: 1.0353225469589233 Valid Accuracy: 0.4475\n",
      "EPOCH 3: 0.616402730345726 Train Accuracy: 0.7925 Time: 0.4489316940307617 Valid Loss: 1.2440041303634644 Valid Accuracy: 0.5275\n",
      "EPOCH 4: 0.20122080855071545 Train Accuracy: 0.9525 Time: 0.4667513370513916 Valid Loss: 2.2939810752868652 Valid Accuracy: 0.53\n",
      "EPOCH 5: 0.1021158336661756 Train Accuracy: 0.97 Time: 0.49501729011535645 Valid Loss: 3.529735803604126 Valid Accuracy: 0.5225\n",
      "EPOCH 6: 0.025811166735365987 Train Accuracy: 0.995 Time: 0.4997241497039795 Valid Loss: 4.4678778648376465 Valid Accuracy: 0.475\n",
      "EPOCH 7: 0.020088251680135727 Train Accuracy: 0.9925 Time: 0.49360108375549316 Valid Loss: 6.286280632019043 Valid Accuracy: 0.4825\n",
      "EPOCH 8: 0.055298279999988154 Train Accuracy: 0.9925 Time: 0.5181808471679688 Valid Loss: 4.8935546875 Valid Accuracy: 0.5075\n",
      "EPOCH 9: 0.02419520722469315 Train Accuracy: 0.995 Time: 0.5230767726898193 Valid Loss: 3.963881731033325 Valid Accuracy: 0.54\n"
     ]
    }
   ],
   "source": [
    "import time\n",
    "import numpy as np\n",
    "from pyTigerGraph.gds.metrics import Accuracy\n",
    "\n",
    "\n",
    "for i in range(10):\n",
    "    acc = Accuracy()\n",
    "    epoch_loss = 0\n",
    "    start = time.time()\n",
    "    for batch in np_loader:\n",
    "        labels = batch[\"y\"]\n",
    "        out = model(batch)\n",
    "        loss_val = loss(out, labels)\n",
    "        acc.update(out.argmax(dim=1), labels)\n",
    "        optimizer.zero_grad()\n",
    "        loss_val.backward()\n",
    "        optimizer.step()\n",
    "        epoch_loss += loss_val.item()\n",
    "    end = time.time()\n",
    "    val_acc = Accuracy()\n",
    "    val_epoch_loss = 0\n",
    "    for val_batch in valid_loader:\n",
    "        with torch.no_grad():\n",
    "            labels = val_batch[\"y\"]\n",
    "            out = model(val_batch)\n",
    "            loss_val = loss(out, labels)\n",
    "            val_acc.update(out.argmax(dim=1), labels)\n",
    "            val_epoch_loss += loss_val.item()\n",
    "    print(\"EPOCH {}: {}\".format(i, epoch_loss/np_loader.num_batches), \n",
    "          \"Train Accuracy:\", acc.value, \n",
    "          \"Time:\", end-start, \n",
    "          \"Valid Loss: {}\".format(val_epoch_loss/valid_loader.num_batches), \n",
    "          \"Valid Accuracy:\", val_acc.value)"
   ]
  },
  {
   "cell_type": "markdown",
   "id": "87a34242",
   "metadata": {},
   "source": [
    "### Test the model"
   ]
  },
  {
   "cell_type": "code",
   "execution_count": 14,
   "id": "049f1e0a-0ed6-4f6d-a1ba-cd3f395f4525",
   "metadata": {},
   "outputs": [],
   "source": [
    "test_loader = conn.gds.nodepieceLoader(anchor_cache_attr=\"anchors\", \n",
    "                                       filter_by = \"test_mask\",\n",
    "                                       batch_size = 4096,\n",
    "                                       v_feats = {\"Movie\": [\"y\", \"x\"], \"Actor\": [], \"Director\": []},\n",
    "                                       target_vertex_types=[\"Movie\"], \n",
    "                                       compute_anchors=False,\n",
    "                                       max_anchors=5,\n",
    "                                       max_relational_context=5,\n",
    "                                       use_cache = True,\n",
    "                                       e_types=conn.getEdgeTypes(),\n",
    "                                       timeout=204_800_000,\n",
    "                                       tokenMap=\"./npAncs.pkl\",\n",
    "                                       callback_fn=lambda x: process_batch(x))"
   ]
  },
  {
   "cell_type": "code",
   "execution_count": 15,
   "id": "5b3f01f6-788b-4913-babb-8e77de3e7642",
   "metadata": {},
   "outputs": [
    {
     "name": "stdout",
     "output_type": "stream",
     "text": [
      "Loss: 4.582667350769043, Accuracy: 0.48591144335825187 Time: 2.114243984222412\n"
     ]
    }
   ],
   "source": [
    "acc = Accuracy()\n",
    "\n",
    "epoch_loss = 0\n",
    "start = time.time()\n",
    "model.eval()\n",
    "for batch in test_loader:\n",
    "    labels = batch[\"y\"]\n",
    "    out = model(batch)\n",
    "    loss_val = loss(out, labels)\n",
    "    acc.update(out.argmax(dim=1), labels)\n",
    "    epoch_loss += loss_val.item()\n",
    "end = time.time()\n",
    "print(\"Loss: {}, Accuracy: {}\".format(epoch_loss/test_loader.num_batches, acc.value), \"Time:\", end-start)"
   ]
  },
  {
   "cell_type": "markdown",
   "id": "f3a389dd",
   "metadata": {},
   "source": [
    "## Visualize Embeddings <a name=\"viz\"></a>\n",
    "\n",
    "To view the embeddings, we sample 1000 Movie vertices from the graph and plot them in 2D using UMAP."
   ]
  },
  {
   "cell_type": "code",
   "execution_count": 16,
   "id": "7baf57d6-8cc2-42b7-a1cf-e817e19ae249",
   "metadata": {},
   "outputs": [],
   "source": [
    "infer_loader = conn.gds.nodepieceLoader(anchor_cache_attr=\"anchors\", \n",
    "                                        use_cache = True,\n",
    "                                        clear_cache = False,\n",
    "                                        v_feats = {\"Movie\": [\"y\", \"x\"], \"Actor\": [], \"Director\": []},\n",
    "                                        target_vertex_types=[\"Movie\"], \n",
    "                                        max_anchors=5,\n",
    "                                        max_relational_context=5,\n",
    "                                        e_types=conn.getEdgeTypes(),\n",
    "                                        timeout=204_800_000,\n",
    "                                        tokenMap=\"./npAncs.pkl\",\n",
    "                                        callback_fn = process_batch)"
   ]
  },
  {
   "cell_type": "code",
   "execution_count": 17,
   "id": "8d550955-04ab-4c05-adf3-84740968fd89",
   "metadata": {},
   "outputs": [],
   "source": [
    "df = conn.getVertexDataFrame(\"Movie\", limit=1_000)"
   ]
  },
  {
   "cell_type": "code",
   "execution_count": 18,
   "id": "bee2371d-389f-4b3c-bfc7-26f3fc88177d",
   "metadata": {
    "tags": []
   },
   "outputs": [
    {
     "data": {
      "text/html": [
       "<div>\n",
       "<style scoped>\n",
       "    .dataframe tbody tr th:only-of-type {\n",
       "        vertical-align: middle;\n",
       "    }\n",
       "\n",
       "    .dataframe tbody tr th {\n",
       "        vertical-align: top;\n",
       "    }\n",
       "\n",
       "    .dataframe thead th {\n",
       "        text-align: right;\n",
       "    }\n",
       "</style>\n",
       "<table border=\"1\" class=\"dataframe\">\n",
       "  <thead>\n",
       "    <tr style=\"text-align: right;\">\n",
       "      <th></th>\n",
       "      <th>v_id</th>\n",
       "      <th>id</th>\n",
       "      <th>x</th>\n",
       "      <th>y</th>\n",
       "      <th>train_mask</th>\n",
       "      <th>val_mask</th>\n",
       "      <th>test_mask</th>\n",
       "      <th>is_anchor</th>\n",
       "      <th>anchors</th>\n",
       "    </tr>\n",
       "  </thead>\n",
       "  <tbody>\n",
       "    <tr>\n",
       "      <th>0</th>\n",
       "      <td>4119</td>\n",
       "      <td>4119</td>\n",
       "      <td>[0, 0, 0, 0, 0, 0, 0, 0, 0, 0, 0, 0, 0, 0, 0, ...</td>\n",
       "      <td>2</td>\n",
       "      <td>False</td>\n",
       "      <td>False</td>\n",
       "      <td>True</td>\n",
       "      <td>False</td>\n",
       "      <td>{'1088421899': 1}</td>\n",
       "    </tr>\n",
       "    <tr>\n",
       "      <th>1</th>\n",
       "      <td>4094</td>\n",
       "      <td>4094</td>\n",
       "      <td>[0, 0, 0, 0, 0, 0, 0, 0, 0, 0, 0, 0, 0, 0, 0, ...</td>\n",
       "      <td>2</td>\n",
       "      <td>False</td>\n",
       "      <td>False</td>\n",
       "      <td>True</td>\n",
       "      <td>False</td>\n",
       "      <td>{'897581108': 1}</td>\n",
       "    </tr>\n",
       "    <tr>\n",
       "      <th>2</th>\n",
       "      <td>4059</td>\n",
       "      <td>4059</td>\n",
       "      <td>[0, 0, 0, 0, 0, 0, 0, 0, 0, 0, 0, 0, 0, 0, 0, ...</td>\n",
       "      <td>2</td>\n",
       "      <td>False</td>\n",
       "      <td>False</td>\n",
       "      <td>True</td>\n",
       "      <td>False</td>\n",
       "      <td>{'933232699': 1}</td>\n",
       "    </tr>\n",
       "    <tr>\n",
       "      <th>3</th>\n",
       "      <td>4050</td>\n",
       "      <td>4050</td>\n",
       "      <td>[0, 0, 0, 0, 0, 0, 0, 0, 0, 0, 0, 0, 0, 0, 0, ...</td>\n",
       "      <td>1</td>\n",
       "      <td>False</td>\n",
       "      <td>False</td>\n",
       "      <td>True</td>\n",
       "      <td>False</td>\n",
       "      <td>{'905969675': 5, '911212569': 5, '972029958': 3}</td>\n",
       "    </tr>\n",
       "    <tr>\n",
       "      <th>4</th>\n",
       "      <td>3974</td>\n",
       "      <td>3974</td>\n",
       "      <td>[0, 0, 0, 0, 0, 0, 0, 0, 0, 0, 0, 0, 0, 0, 0, ...</td>\n",
       "      <td>1</td>\n",
       "      <td>False</td>\n",
       "      <td>False</td>\n",
       "      <td>True</td>\n",
       "      <td>False</td>\n",
       "      <td>{'988807183': 3, '922747005': 3, '909115445': ...</td>\n",
       "    </tr>\n",
       "  </tbody>\n",
       "</table>\n",
       "</div>"
      ],
      "text/plain": [
       "   v_id    id                                                  x  y  \\\n",
       "0  4119  4119  [0, 0, 0, 0, 0, 0, 0, 0, 0, 0, 0, 0, 0, 0, 0, ...  2   \n",
       "1  4094  4094  [0, 0, 0, 0, 0, 0, 0, 0, 0, 0, 0, 0, 0, 0, 0, ...  2   \n",
       "2  4059  4059  [0, 0, 0, 0, 0, 0, 0, 0, 0, 0, 0, 0, 0, 0, 0, ...  2   \n",
       "3  4050  4050  [0, 0, 0, 0, 0, 0, 0, 0, 0, 0, 0, 0, 0, 0, 0, ...  1   \n",
       "4  3974  3974  [0, 0, 0, 0, 0, 0, 0, 0, 0, 0, 0, 0, 0, 0, 0, ...  1   \n",
       "\n",
       "   train_mask  val_mask  test_mask  is_anchor  \\\n",
       "0       False     False       True      False   \n",
       "1       False     False       True      False   \n",
       "2       False     False       True      False   \n",
       "3       False     False       True      False   \n",
       "4       False     False       True      False   \n",
       "\n",
       "                                             anchors  \n",
       "0                                  {'1088421899': 1}  \n",
       "1                                   {'897581108': 1}  \n",
       "2                                   {'933232699': 1}  \n",
       "3   {'905969675': 5, '911212569': 5, '972029958': 3}  \n",
       "4  {'988807183': 3, '922747005': 3, '909115445': ...  "
      ]
     },
     "execution_count": 18,
     "metadata": {},
     "output_type": "execute_result"
    }
   ],
   "source": [
    "df.head()"
   ]
  },
  {
   "cell_type": "code",
   "execution_count": 19,
   "id": "29d96a6b-350d-47e5-bc6d-17edc82b5c77",
   "metadata": {},
   "outputs": [],
   "source": [
    "sample = [{\"primary_id\": x, \"type\": \"Movie\"} for x in df[\"v_id\"]]"
   ]
  },
  {
   "cell_type": "code",
   "execution_count": 20,
   "id": "264a65f2-ae1f-4aa0-9390-0d8b1dbf571d",
   "metadata": {},
   "outputs": [],
   "source": [
    "batch = infer_loader.fetch(sample)"
   ]
  },
  {
   "cell_type": "code",
   "execution_count": 21,
   "id": "09e216a7-9ab6-42a0-8219-99244d60f48e",
   "metadata": {
    "tags": []
   },
   "outputs": [],
   "source": [
    "embeddings = torch.flatten(emb_model(batch), start_dim=1)"
   ]
  },
  {
   "cell_type": "code",
   "execution_count": 22,
   "id": "2c311430-b713-40b5-b3a8-2664db6111c2",
   "metadata": {},
   "outputs": [
    {
     "data": {
      "text/plain": [
       "torch.Size([1000, 1280])"
      ]
     },
     "execution_count": 22,
     "metadata": {},
     "output_type": "execute_result"
    }
   ],
   "source": [
    "print(embeddings.shape)"
   ]
  },
  {
   "cell_type": "code",
   "execution_count": 23,
   "id": "c3961a4d-32e8-4b11-97d4-e92b42d0f2e2",
   "metadata": {},
   "outputs": [],
   "source": [
    "import umap.umap_ as umap\n",
    "\n",
    "embd_x = umap.UMAP().fit_transform(embeddings.detach().numpy())"
   ]
  },
  {
   "cell_type": "code",
   "execution_count": 24,
   "id": "50f4dafb-d5b7-4ba2-a9ca-9faacfef4e69",
   "metadata": {},
   "outputs": [
    {
     "data": {
      "image/png": "[encoded data removed]",
      "text/plain": [
       "<Figure size 800x800 with 1 Axes>"
      ]
     },
     "metadata": {},
     "output_type": "display_data"
    }
   ],
   "source": [
    "import matplotlib.pyplot as plt\n",
    "import seaborn as sns\n",
    "fig, axs = plt.subplots(nrows=1, ncols=1, figsize=(8,8))\n",
    "sns.set(font_scale=1)\n",
    "\n",
    "palette = {}\n",
    "for n, i in enumerate(set([0, 1, 2])):\n",
    "    palette[i] = f'C{n}'\n",
    "    \n",
    "sns.scatterplot(ax=axs, x=embd_x.T[0], y=embd_x.T[1], hue=df[\"y\"], palette=palette)\n",
    "axs.get_legend().remove()\n",
    "plt.title(\"NodePiece Embeddings Colored by Classification\", fontsize=18)\n",
    "\n",
    "plt.show()"
   ]
  },
  {
   "cell_type": "code",
   "execution_count": null,
   "id": "c69fd5d7-ac81-47dc-bfbd-07359fc5ba57",
   "metadata": {},
   "outputs": [],
   "source": []
  }
 ],
 "metadata": {
  "kernelspec": {
   "display_name": "Python 3.8.9 64-bit",
   "language": "python",
   "name": "python3"
  },
  "language_info": {
   "codemirror_mode": {
    "name": "ipython",
    "version": 3
   },
   "file_extension": ".py",
   "mimetype": "text/x-python",
   "name": "python",
   "nbconvert_exporter": "python",
   "pygments_lexer": "ipython3",
   "version": "3.8.9"
  },
  "vscode": {
   "interpreter": {
    "hash": "31f2aee4e71d21fbe5cf8b01ff0e069b9275f58929596ceb00d14d90e3e16cd6"
   }
  }
 },
 "nbformat": 4,
 "nbformat_minor": 5
}
